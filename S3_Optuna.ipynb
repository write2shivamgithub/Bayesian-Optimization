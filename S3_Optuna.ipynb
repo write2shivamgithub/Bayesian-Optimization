{
 "cells": [
  {
   "cell_type": "code",
   "execution_count": 1,
   "metadata": {},
   "outputs": [],
   "source": [
    "# pip install optuna"
   ]
  },
  {
   "cell_type": "code",
   "execution_count": 2,
   "metadata": {},
   "outputs": [
    {
     "name": "stderr",
     "output_type": "stream",
     "text": [
      "c:\\Users\\LENOVO\\AppData\\Local\\Programs\\Python\\Python311\\Lib\\site-packages\\tqdm\\auto.py:21: TqdmWarning: IProgress not found. Please update jupyter and ipywidgets. See https://ipywidgets.readthedocs.io/en/stable/user_install.html\n",
      "  from .autonotebook import tqdm as notebook_tqdm\n"
     ]
    },
    {
     "data": {
      "text/html": [
       "<div>\n",
       "<style scoped>\n",
       "    .dataframe tbody tr th:only-of-type {\n",
       "        vertical-align: middle;\n",
       "    }\n",
       "\n",
       "    .dataframe tbody tr th {\n",
       "        vertical-align: top;\n",
       "    }\n",
       "\n",
       "    .dataframe thead th {\n",
       "        text-align: right;\n",
       "    }\n",
       "</style>\n",
       "<table border=\"1\" class=\"dataframe\">\n",
       "  <thead>\n",
       "    <tr style=\"text-align: right;\">\n",
       "      <th></th>\n",
       "      <th>Pregnancies</th>\n",
       "      <th>Glucose</th>\n",
       "      <th>BloodPressure</th>\n",
       "      <th>SkinThickness</th>\n",
       "      <th>Insulin</th>\n",
       "      <th>BMI</th>\n",
       "      <th>DiabetesPedigreeFunction</th>\n",
       "      <th>Age</th>\n",
       "      <th>Outcome</th>\n",
       "    </tr>\n",
       "  </thead>\n",
       "  <tbody>\n",
       "    <tr>\n",
       "      <th>0</th>\n",
       "      <td>6</td>\n",
       "      <td>148</td>\n",
       "      <td>72</td>\n",
       "      <td>35</td>\n",
       "      <td>0</td>\n",
       "      <td>33.6</td>\n",
       "      <td>0.627</td>\n",
       "      <td>50</td>\n",
       "      <td>1</td>\n",
       "    </tr>\n",
       "    <tr>\n",
       "      <th>1</th>\n",
       "      <td>1</td>\n",
       "      <td>85</td>\n",
       "      <td>66</td>\n",
       "      <td>29</td>\n",
       "      <td>0</td>\n",
       "      <td>26.6</td>\n",
       "      <td>0.351</td>\n",
       "      <td>31</td>\n",
       "      <td>0</td>\n",
       "    </tr>\n",
       "    <tr>\n",
       "      <th>2</th>\n",
       "      <td>8</td>\n",
       "      <td>183</td>\n",
       "      <td>64</td>\n",
       "      <td>0</td>\n",
       "      <td>0</td>\n",
       "      <td>23.3</td>\n",
       "      <td>0.672</td>\n",
       "      <td>32</td>\n",
       "      <td>1</td>\n",
       "    </tr>\n",
       "    <tr>\n",
       "      <th>3</th>\n",
       "      <td>1</td>\n",
       "      <td>89</td>\n",
       "      <td>66</td>\n",
       "      <td>23</td>\n",
       "      <td>94</td>\n",
       "      <td>28.1</td>\n",
       "      <td>0.167</td>\n",
       "      <td>21</td>\n",
       "      <td>0</td>\n",
       "    </tr>\n",
       "    <tr>\n",
       "      <th>4</th>\n",
       "      <td>0</td>\n",
       "      <td>137</td>\n",
       "      <td>40</td>\n",
       "      <td>35</td>\n",
       "      <td>168</td>\n",
       "      <td>43.1</td>\n",
       "      <td>2.288</td>\n",
       "      <td>33</td>\n",
       "      <td>1</td>\n",
       "    </tr>\n",
       "  </tbody>\n",
       "</table>\n",
       "</div>"
      ],
      "text/plain": [
       "   Pregnancies  Glucose  BloodPressure  SkinThickness  Insulin   BMI  \\\n",
       "0            6      148             72             35        0  33.6   \n",
       "1            1       85             66             29        0  26.6   \n",
       "2            8      183             64              0        0  23.3   \n",
       "3            1       89             66             23       94  28.1   \n",
       "4            0      137             40             35      168  43.1   \n",
       "\n",
       "   DiabetesPedigreeFunction  Age  Outcome  \n",
       "0                     0.627   50        1  \n",
       "1                     0.351   31        0  \n",
       "2                     0.672   32        1  \n",
       "3                     0.167   21        0  \n",
       "4                     2.288   33        1  "
      ]
     },
     "execution_count": 2,
     "metadata": {},
     "output_type": "execute_result"
    }
   ],
   "source": [
    "# Import necessary libraries\n",
    "import optuna \n",
    "from sklearn.datasets import load_diabetes\n",
    "from sklearn.model_selection import train_test_split\n",
    "from sklearn.preprocessing import StandardScaler\n",
    "\n",
    "# Load the Pima Indian Diabetes dataset from sklearn\n",
    "# Note: Scikit-learn's built-in 'load_diabetes' is a regression dataset.\n",
    "# We will load the actual diabetes dataset from an external source\n",
    "import pandas as pd\n",
    "\n",
    "# Load # Load the Pima Indian Diabetes dataset (from UCI repository)\n",
    "url = \"https://raw.githubusercontent.com/jbrownlee/Datasets/master/pima-indians-diabetes.data.csv\"\n",
    "columns = ['Pregnancies', 'Glucose', 'BloodPressure', 'SkinThickness', 'Insulin', 'BMI', 'DiabetesPedigreeFunction', 'Age', 'Outcome']\n",
    "\n",
    "# Load the dataset\n",
    "df = pd.read_csv(url, names=columns)\n",
    "\n",
    "df.head()"
   ]
  },
  {
   "cell_type": "code",
   "execution_count": 3,
   "metadata": {},
   "outputs": [
    {
     "name": "stdout",
     "output_type": "stream",
     "text": [
      "Pregnancies                 0\n",
      "Glucose                     0\n",
      "BloodPressure               0\n",
      "SkinThickness               0\n",
      "Insulin                     0\n",
      "BMI                         0\n",
      "DiabetesPedigreeFunction    0\n",
      "Age                         0\n",
      "Outcome                     0\n",
      "dtype: int64\n"
     ]
    }
   ],
   "source": [
    "import numpy as np\n",
    "\n",
    "# Replace zero values with NAN in columns where zero is not valid value\n",
    "cols_with_missing_vals = ['Glucose', 'BloodPressure', 'SkinThickness', 'Insulin', 'BMI']\n",
    "df[cols_with_missing_vals] = df[cols_with_missing_vals].replace(0, np.nan)\n",
    "\n",
    "# Impute the missing values with the same the mean of the respective column\n",
    "df.fillna(df.mean(), inplace=True)\n",
    "\n",
    "# Check if there are any remaining missing values\n",
    "print(df.isnull().sum())"
   ]
  },
  {
   "cell_type": "code",
   "execution_count": 4,
   "metadata": {},
   "outputs": [
    {
     "name": "stdout",
     "output_type": "stream",
     "text": [
      "Training set shape: (537, 8)\n",
      "Test set shape: (231, 8)\n"
     ]
    }
   ],
   "source": [
    "# Split into feaures (X) and target (y)\n",
    "X = df.drop('Outcome', axis=1)\n",
    "y = df['Outcome']\n",
    "\n",
    "# Split data into training and test sets (70% train, 30% test)\n",
    "X_train, X_test, y_train, y_test = train_test_split(X, y, test_size=0.3, random_state=42)\n",
    "\n",
    "# Optional: Scale the data for better model performance\n",
    "scaler = StandardScaler()\n",
    "X_train = scaler.fit_transform(X_train)\n",
    "X_test = scaler.transform(X_test)\n",
    "\n",
    "# Check the shape of the data\n",
    "print(f'Training set shape: {X_train.shape}')\n",
    "print(f'Test set shape: {X_test.shape}')"
   ]
  },
  {
   "cell_type": "code",
   "execution_count": 5,
   "metadata": {},
   "outputs": [],
   "source": [
    "from sklearn.ensemble import RandomForestClassifier\n",
    "from sklearn.model_selection import cross_val_score\n",
    "\n",
    "#Define the objective function\n",
    "def objective(trial):\n",
    "    # suggest values for the hyperparameters\n",
    "    n_estimators = trial.suggest_int('n_estimators', 50, 200)\n",
    "    max_depth = trial.suggest_int('max_depth', 3, 20)\n",
    "    min_samples_split = trial.suggest_int('min_samples_split', 2, 10)\n",
    "\n",
    "    # Create the RandomForestClassifier with suggested hyperparameters\n",
    "    model = RandomForestClassifier(\n",
    "        n_estimators=n_estimators,\n",
    "        max_depth=max_depth,\n",
    "        min_samples_split=min_samples_split,\n",
    "        random_state=42\n",
    "    )\n",
    "\n",
    "    # Perform 3 fold cross-validation to calculate accuracy score of each trial\n",
    "    score = cross_val_score(model, X_train, y_train, cv=3, scoring='accuracy').mean()\n",
    "\n",
    "    return score # Return the accuracy score for optuna to maximize"
   ]
  },
  {
   "cell_type": "code",
   "execution_count": 6,
   "metadata": {},
   "outputs": [
    {
     "name": "stderr",
     "output_type": "stream",
     "text": [
      "[I 2024-09-24 09:17:08,940] A new study created in memory with name: no-name-494f0e3f-bc11-4654-b842-b32f40d4e4ba\n",
      "[I 2024-09-24 09:17:12,722] Trial 0 finished with value: 0.7560521415270017 and parameters: {'n_estimators': 192, 'max_depth': 4, 'min_samples_split': 6}. Best is trial 0 with value: 0.7560521415270017.\n",
      "[I 2024-09-24 09:17:14,306] Trial 1 finished with value: 0.7597765363128491 and parameters: {'n_estimators': 111, 'max_depth': 6, 'min_samples_split': 6}. Best is trial 1 with value: 0.7597765363128491.\n",
      "[I 2024-09-24 09:17:16,780] Trial 2 finished with value: 0.7579143389199254 and parameters: {'n_estimators': 151, 'max_depth': 19, 'min_samples_split': 5}. Best is trial 1 with value: 0.7597765363128491.\n",
      "[I 2024-09-24 09:17:17,706] Trial 3 finished with value: 0.7765363128491621 and parameters: {'n_estimators': 62, 'max_depth': 10, 'min_samples_split': 6}. Best is trial 3 with value: 0.7765363128491621.\n",
      "[I 2024-09-24 09:17:18,740] Trial 4 finished with value: 0.7653631284916201 and parameters: {'n_estimators': 65, 'max_depth': 8, 'min_samples_split': 4}. Best is trial 3 with value: 0.7765363128491621.\n",
      "[I 2024-09-24 09:17:21,509] Trial 5 finished with value: 0.7672253258845437 and parameters: {'n_estimators': 174, 'max_depth': 19, 'min_samples_split': 4}. Best is trial 3 with value: 0.7765363128491621.\n",
      "[I 2024-09-24 09:17:22,353] Trial 6 finished with value: 0.7653631284916201 and parameters: {'n_estimators': 61, 'max_depth': 14, 'min_samples_split': 6}. Best is trial 3 with value: 0.7765363128491621.\n",
      "[I 2024-09-24 09:17:24,021] Trial 7 finished with value: 0.7672253258845437 and parameters: {'n_estimators': 106, 'max_depth': 10, 'min_samples_split': 6}. Best is trial 3 with value: 0.7765363128491621.\n",
      "[I 2024-09-24 09:17:26,648] Trial 8 finished with value: 0.7579143389199254 and parameters: {'n_estimators': 181, 'max_depth': 12, 'min_samples_split': 9}. Best is trial 3 with value: 0.7765363128491621.\n",
      "[I 2024-09-24 09:17:28,996] Trial 9 finished with value: 0.7635009310986964 and parameters: {'n_estimators': 155, 'max_depth': 6, 'min_samples_split': 2}. Best is trial 3 with value: 0.7765363128491621.\n",
      "[I 2024-09-24 09:17:30,281] Trial 10 finished with value: 0.7653631284916201 and parameters: {'n_estimators': 85, 'max_depth': 15, 'min_samples_split': 9}. Best is trial 3 with value: 0.7765363128491621.\n",
      "[I 2024-09-24 09:17:32,817] Trial 11 finished with value: 0.7690875232774674 and parameters: {'n_estimators': 148, 'max_depth': 20, 'min_samples_split': 2}. Best is trial 3 with value: 0.7765363128491621.\n",
      "[I 2024-09-24 09:17:34,967] Trial 12 finished with value: 0.7746741154562384 and parameters: {'n_estimators': 135, 'max_depth': 16, 'min_samples_split': 2}. Best is trial 3 with value: 0.7765363128491621.\n",
      "[I 2024-09-24 09:17:36,739] Trial 13 finished with value: 0.7616387337057727 and parameters: {'n_estimators': 124, 'max_depth': 16, 'min_samples_split': 8}. Best is trial 3 with value: 0.7765363128491621.\n",
      "[I 2024-09-24 09:17:37,929] Trial 14 finished with value: 0.7579143389199254 and parameters: {'n_estimators': 87, 'max_depth': 12, 'min_samples_split': 8}. Best is trial 3 with value: 0.7765363128491621.\n",
      "[I 2024-09-24 09:17:41,130] Trial 15 finished with value: 0.7616387337057727 and parameters: {'n_estimators': 134, 'max_depth': 10, 'min_samples_split': 3}. Best is trial 3 with value: 0.7765363128491621.\n",
      "[I 2024-09-24 09:17:42,157] Trial 16 finished with value: 0.7653631284916201 and parameters: {'n_estimators': 91, 'max_depth': 17, 'min_samples_split': 10}. Best is trial 3 with value: 0.7765363128491621.\n",
      "[I 2024-09-24 09:17:42,845] Trial 17 finished with value: 0.7541899441340782 and parameters: {'n_estimators': 50, 'max_depth': 13, 'min_samples_split': 4}. Best is trial 3 with value: 0.7765363128491621.\n",
      "[I 2024-09-24 09:17:45,196] Trial 18 finished with value: 0.7597765363128491 and parameters: {'n_estimators': 130, 'max_depth': 10, 'min_samples_split': 7}. Best is trial 3 with value: 0.7765363128491621.\n",
      "[I 2024-09-24 09:17:46,621] Trial 19 finished with value: 0.7672253258845437 and parameters: {'n_estimators': 107, 'max_depth': 17, 'min_samples_split': 3}. Best is trial 3 with value: 0.7765363128491621.\n",
      "[I 2024-09-24 09:17:47,248] Trial 20 finished with value: 0.7523277467411545 and parameters: {'n_estimators': 72, 'max_depth': 8, 'min_samples_split': 5}. Best is trial 3 with value: 0.7765363128491621.\n",
      "[I 2024-09-24 09:17:48,725] Trial 21 finished with value: 0.7728119180633147 and parameters: {'n_estimators': 156, 'max_depth': 20, 'min_samples_split': 2}. Best is trial 3 with value: 0.7765363128491621.\n",
      "[I 2024-09-24 09:17:50,292] Trial 22 finished with value: 0.7690875232774674 and parameters: {'n_estimators': 165, 'max_depth': 18, 'min_samples_split': 2}. Best is trial 3 with value: 0.7765363128491621.\n",
      "[I 2024-09-24 09:17:53,289] Trial 23 finished with value: 0.7635009310986964 and parameters: {'n_estimators': 199, 'max_depth': 20, 'min_samples_split': 3}. Best is trial 3 with value: 0.7765363128491621.\n",
      "[I 2024-09-24 09:17:55,405] Trial 24 finished with value: 0.7690875232774674 and parameters: {'n_estimators': 146, 'max_depth': 15, 'min_samples_split': 3}. Best is trial 3 with value: 0.7765363128491621.\n",
      "[I 2024-09-24 09:17:56,639] Trial 25 finished with value: 0.7728119180633147 and parameters: {'n_estimators': 117, 'max_depth': 14, 'min_samples_split': 2}. Best is trial 3 with value: 0.7765363128491621.\n",
      "[I 2024-09-24 09:17:57,938] Trial 26 finished with value: 0.750465549348231 and parameters: {'n_estimators': 135, 'max_depth': 17, 'min_samples_split': 5}. Best is trial 3 with value: 0.7765363128491621.\n",
      "[I 2024-09-24 09:17:59,517] Trial 27 finished with value: 0.7672253258845437 and parameters: {'n_estimators': 165, 'max_depth': 11, 'min_samples_split': 4}. Best is trial 3 with value: 0.7765363128491621.\n",
      "[I 2024-09-24 09:18:00,508] Trial 28 finished with value: 0.7690875232774674 and parameters: {'n_estimators': 94, 'max_depth': 8, 'min_samples_split': 7}. Best is trial 3 with value: 0.7765363128491621.\n",
      "[I 2024-09-24 09:18:02,057] Trial 29 finished with value: 0.7560521415270017 and parameters: {'n_estimators': 186, 'max_depth': 4, 'min_samples_split': 7}. Best is trial 3 with value: 0.7765363128491621.\n",
      "[I 2024-09-24 09:18:03,387] Trial 30 finished with value: 0.7690875232774674 and parameters: {'n_estimators': 142, 'max_depth': 18, 'min_samples_split': 3}. Best is trial 3 with value: 0.7765363128491621.\n",
      "[I 2024-09-24 09:18:04,911] Trial 31 finished with value: 0.7709497206703911 and parameters: {'n_estimators': 161, 'max_depth': 14, 'min_samples_split': 2}. Best is trial 3 with value: 0.7765363128491621.\n",
      "[I 2024-09-24 09:18:06,041] Trial 32 finished with value: 0.7709497206703911 and parameters: {'n_estimators': 123, 'max_depth': 13, 'min_samples_split': 2}. Best is trial 3 with value: 0.7765363128491621.\n",
      "[I 2024-09-24 09:18:07,307] Trial 33 finished with value: 0.7765363128491621 and parameters: {'n_estimators': 116, 'max_depth': 15, 'min_samples_split': 2}. Best is trial 3 with value: 0.7765363128491621.\n",
      "[I 2024-09-24 09:18:08,066] Trial 34 finished with value: 0.7728119180633147 and parameters: {'n_estimators': 76, 'max_depth': 16, 'min_samples_split': 5}. Best is trial 3 with value: 0.7765363128491621.\n",
      "[I 2024-09-24 09:18:08,966] Trial 35 finished with value: 0.7616387337057727 and parameters: {'n_estimators': 99, 'max_depth': 19, 'min_samples_split': 4}. Best is trial 3 with value: 0.7765363128491621.\n",
      "[I 2024-09-24 09:18:09,964] Trial 36 finished with value: 0.7690875232774674 and parameters: {'n_estimators': 114, 'max_depth': 9, 'min_samples_split': 3}. Best is trial 3 with value: 0.7765363128491621.\n",
      "[I 2024-09-24 09:18:11,405] Trial 37 finished with value: 0.7635009310986964 and parameters: {'n_estimators': 174, 'max_depth': 6, 'min_samples_split': 2}. Best is trial 3 with value: 0.7765363128491621.\n",
      "[I 2024-09-24 09:18:12,877] Trial 38 finished with value: 0.7672253258845437 and parameters: {'n_estimators': 140, 'max_depth': 18, 'min_samples_split': 3}. Best is trial 3 with value: 0.7765363128491621.\n",
      "[I 2024-09-24 09:18:13,448] Trial 39 finished with value: 0.7616387337057727 and parameters: {'n_estimators': 50, 'max_depth': 15, 'min_samples_split': 4}. Best is trial 3 with value: 0.7765363128491621.\n",
      "[I 2024-09-24 09:18:14,732] Trial 40 finished with value: 0.7541899441340782 and parameters: {'n_estimators': 154, 'max_depth': 11, 'min_samples_split': 5}. Best is trial 3 with value: 0.7765363128491621.\n",
      "[I 2024-09-24 09:18:15,760] Trial 41 finished with value: 0.7728119180633147 and parameters: {'n_estimators': 118, 'max_depth': 14, 'min_samples_split': 2}. Best is trial 3 with value: 0.7765363128491621.\n",
      "[I 2024-09-24 09:18:16,666] Trial 42 finished with value: 0.7709497206703911 and parameters: {'n_estimators': 102, 'max_depth': 13, 'min_samples_split': 2}. Best is trial 3 with value: 0.7765363128491621.\n",
      "[I 2024-09-24 09:18:17,680] Trial 43 finished with value: 0.7783985102420856 and parameters: {'n_estimators': 116, 'max_depth': 16, 'min_samples_split': 2}. Best is trial 43 with value: 0.7783985102420856.\n",
      "[I 2024-09-24 09:18:18,389] Trial 44 finished with value: 0.7635009310986964 and parameters: {'n_estimators': 79, 'max_depth': 16, 'min_samples_split': 3}. Best is trial 43 with value: 0.7783985102420856.\n",
      "[I 2024-09-24 09:18:18,959] Trial 45 finished with value: 0.7765363128491621 and parameters: {'n_estimators': 61, 'max_depth': 19, 'min_samples_split': 2}. Best is trial 43 with value: 0.7783985102420856.\n",
      "[I 2024-09-24 09:18:19,580] Trial 46 finished with value: 0.7579143389199254 and parameters: {'n_estimators': 72, 'max_depth': 19, 'min_samples_split': 4}. Best is trial 43 with value: 0.7783985102420856.\n",
      "[I 2024-09-24 09:18:20,098] Trial 47 finished with value: 0.7672253258845437 and parameters: {'n_estimators': 61, 'max_depth': 16, 'min_samples_split': 10}. Best is trial 43 with value: 0.7783985102420856.\n",
      "[I 2024-09-24 09:18:20,605] Trial 48 finished with value: 0.7635009310986964 and parameters: {'n_estimators': 58, 'max_depth': 17, 'min_samples_split': 8}. Best is trial 43 with value: 0.7783985102420856.\n",
      "[I 2024-09-24 09:18:21,205] Trial 49 finished with value: 0.7709497206703911 and parameters: {'n_estimators': 67, 'max_depth': 15, 'min_samples_split': 2}. Best is trial 43 with value: 0.7783985102420856.\n"
     ]
    }
   ],
   "source": [
    "# Create a study object and optimise the objective function\n",
    "study = optuna.create_study(direction='maximize') # We aim to maximize accuracy\n",
    "study.optimize(objective, n_trials=50) # Run 50 trials to find the best hyperparameter"
   ]
  },
  {
   "cell_type": "code",
   "execution_count": 7,
   "metadata": {},
   "outputs": [
    {
     "name": "stdout",
     "output_type": "stream",
     "text": [
      "Best trial accuracy: 0.7783985102420856\n",
      "Best hyperparameters: {'n_estimators': 116, 'max_depth': 16, 'min_samples_split': 2}\n"
     ]
    }
   ],
   "source": [
    "# Print the beat result\n",
    "print(f'Best trial accuracy: {study.best_trial.value}')\n",
    "print(f'Best hyperparameters: {study.best_trial.params}')"
   ]
  },
  {
   "cell_type": "code",
   "execution_count": 8,
   "metadata": {},
   "outputs": [
    {
     "name": "stdout",
     "output_type": "stream",
     "text": [
      "Test accuracy with best hyperparameters: 0.74\n"
     ]
    }
   ],
   "source": [
    "from sklearn.metrics import accuracy_score\n",
    "\n",
    "#  Train a RandomForestClassifier using the best hyperparameter from optuna\n",
    "best_model = RandomForestClassifier(**study.best_trial.params, random_state=42)\n",
    "\n",
    "# Fit the model to the training data\n",
    "best_model.fit(X_train, y_train)\n",
    "\n",
    "# Make predictions on the test set\n",
    "y_pred = best_model.predict(X_test)\n",
    "\n",
    "# Calculate the accuracy on the test set\n",
    "test_accuracy = accuracy_score(y_test, y_pred)\n",
    "\n",
    "# Print the test accuracy\n",
    "print(f'Test accuracy with best hyperparameters: {test_accuracy:.2f}')"
   ]
  },
  {
   "cell_type": "markdown",
   "metadata": {},
   "source": [
    "Samplers in Optuna"
   ]
  },
  {
   "cell_type": "code",
   "execution_count": 9,
   "metadata": {},
   "outputs": [],
   "source": [
    "from sklearn.ensemble import RandomForestClassifier\n",
    "from sklearn.model_selection import cross_val_score\n",
    "\n",
    "# Define the objective function\n",
    "def objective(trial):\n",
    "    # Suggest values for the hyperparameters\n",
    "    n_estimators = trial.suggest_int('n_estimators', 50, 200)\n",
    "    max_depth = trial.suggest_int('max_depth', 3, 20)\n",
    "    min_samples_split = trial.suggest_int('min_samples_split', 2, 10)\n",
    "\n",
    "    # Create the RandomForestClassifier with suggested hyperparameteres\n",
    "    model = RandomForestClassifier(\n",
    "        n_estimators=n_estimators,\n",
    "        max_depth=max_depth,\n",
    "        min_samples_split=min_samples_split,\n",
    "        random_state=42\n",
    "    )\n",
    "    # Perform 3-fold cross-validation and calculate accuracy\n",
    "    score = cross_val_score(model, X_train, y_train, cv=3, scoring='accuracy').mean()\n",
    "\n",
    "    return score # Return the accuracy score for optuna to maximize\n",
    "    "
   ]
  },
  {
   "cell_type": "code",
   "execution_count": 10,
   "metadata": {},
   "outputs": [
    {
     "name": "stderr",
     "output_type": "stream",
     "text": [
      "[I 2024-09-24 09:18:21,755] A new study created in memory with name: no-name-edc2475e-129c-4ba0-a14b-83e8a67698ce\n",
      "[I 2024-09-24 09:18:22,773] Trial 0 finished with value: 0.7616387337057727 and parameters: {'n_estimators': 105, 'max_depth': 18, 'min_samples_split': 7}. Best is trial 0 with value: 0.7616387337057727.\n",
      "[I 2024-09-24 09:18:24,390] Trial 1 finished with value: 0.7672253258845437 and parameters: {'n_estimators': 166, 'max_depth': 11, 'min_samples_split': 6}. Best is trial 1 with value: 0.7672253258845437.\n",
      "[I 2024-09-24 09:18:25,214] Trial 2 finished with value: 0.7597765363128491 and parameters: {'n_estimators': 137, 'max_depth': 3, 'min_samples_split': 10}. Best is trial 1 with value: 0.7672253258845437.\n",
      "[I 2024-09-24 09:18:25,722] Trial 3 finished with value: 0.7728119180633147 and parameters: {'n_estimators': 64, 'max_depth': 10, 'min_samples_split': 6}. Best is trial 3 with value: 0.7728119180633147.\n",
      "[I 2024-09-24 09:18:26,923] Trial 4 finished with value: 0.7597765363128491 and parameters: {'n_estimators': 158, 'max_depth': 17, 'min_samples_split': 10}. Best is trial 3 with value: 0.7728119180633147.\n",
      "[I 2024-09-24 09:18:28,040] Trial 5 finished with value: 0.7672253258845437 and parameters: {'n_estimators': 146, 'max_depth': 7, 'min_samples_split': 8}. Best is trial 3 with value: 0.7728119180633147.\n",
      "[I 2024-09-24 09:18:28,673] Trial 6 finished with value: 0.7690875232774674 and parameters: {'n_estimators': 77, 'max_depth': 14, 'min_samples_split': 2}. Best is trial 3 with value: 0.7728119180633147.\n",
      "[I 2024-09-24 09:18:29,548] Trial 7 finished with value: 0.7635009310986964 and parameters: {'n_estimators': 131, 'max_depth': 5, 'min_samples_split': 10}. Best is trial 3 with value: 0.7728119180633147.\n",
      "[I 2024-09-24 09:18:30,048] Trial 8 finished with value: 0.7653631284916201 and parameters: {'n_estimators': 65, 'max_depth': 20, 'min_samples_split': 9}. Best is trial 3 with value: 0.7728119180633147.\n",
      "[I 2024-09-24 09:18:30,773] Trial 9 finished with value: 0.7690875232774674 and parameters: {'n_estimators': 84, 'max_depth': 13, 'min_samples_split': 7}. Best is trial 3 with value: 0.7728119180633147.\n",
      "[I 2024-09-24 09:18:32,030] Trial 10 finished with value: 0.7672253258845437 and parameters: {'n_estimators': 167, 'max_depth': 6, 'min_samples_split': 3}. Best is trial 3 with value: 0.7728119180633147.\n",
      "[I 2024-09-24 09:18:33,324] Trial 11 finished with value: 0.7616387337057727 and parameters: {'n_estimators': 150, 'max_depth': 19, 'min_samples_split': 5}. Best is trial 3 with value: 0.7728119180633147.\n",
      "[I 2024-09-24 09:18:35,689] Trial 12 finished with value: 0.7616387337057727 and parameters: {'n_estimators': 153, 'max_depth': 18, 'min_samples_split': 9}. Best is trial 3 with value: 0.7728119180633147.\n",
      "[I 2024-09-24 09:18:38,108] Trial 13 finished with value: 0.7616387337057727 and parameters: {'n_estimators': 179, 'max_depth': 9, 'min_samples_split': 6}. Best is trial 3 with value: 0.7728119180633147.\n",
      "[I 2024-09-24 09:18:38,612] Trial 14 finished with value: 0.7579143389199254 and parameters: {'n_estimators': 54, 'max_depth': 6, 'min_samples_split': 3}. Best is trial 3 with value: 0.7728119180633147.\n",
      "[I 2024-09-24 09:18:39,892] Trial 15 finished with value: 0.7635009310986964 and parameters: {'n_estimators': 132, 'max_depth': 6, 'min_samples_split': 9}. Best is trial 3 with value: 0.7728119180633147.\n",
      "[I 2024-09-24 09:18:41,164] Trial 16 finished with value: 0.7635009310986964 and parameters: {'n_estimators': 136, 'max_depth': 19, 'min_samples_split': 8}. Best is trial 3 with value: 0.7728119180633147.\n",
      "[I 2024-09-24 09:18:42,224] Trial 17 finished with value: 0.7579143389199254 and parameters: {'n_estimators': 133, 'max_depth': 4, 'min_samples_split': 4}. Best is trial 3 with value: 0.7728119180633147.\n",
      "[I 2024-09-24 09:18:43,891] Trial 18 finished with value: 0.7579143389199254 and parameters: {'n_estimators': 167, 'max_depth': 15, 'min_samples_split': 9}. Best is trial 3 with value: 0.7728119180633147.\n",
      "[I 2024-09-24 09:18:45,437] Trial 19 finished with value: 0.7597765363128491 and parameters: {'n_estimators': 170, 'max_depth': 8, 'min_samples_split': 4}. Best is trial 3 with value: 0.7728119180633147.\n",
      "[I 2024-09-24 09:18:46,074] Trial 20 finished with value: 0.7579143389199254 and parameters: {'n_estimators': 61, 'max_depth': 11, 'min_samples_split': 10}. Best is trial 3 with value: 0.7728119180633147.\n",
      "[I 2024-09-24 09:18:47,135] Trial 21 finished with value: 0.7653631284916201 and parameters: {'n_estimators': 97, 'max_depth': 13, 'min_samples_split': 4}. Best is trial 3 with value: 0.7728119180633147.\n",
      "[I 2024-09-24 09:18:47,705] Trial 22 finished with value: 0.7672253258845437 and parameters: {'n_estimators': 55, 'max_depth': 14, 'min_samples_split': 2}. Best is trial 3 with value: 0.7728119180633147.\n",
      "[I 2024-09-24 09:18:48,330] Trial 23 finished with value: 0.7709497206703911 and parameters: {'n_estimators': 56, 'max_depth': 11, 'min_samples_split': 9}. Best is trial 3 with value: 0.7728119180633147.\n",
      "[I 2024-09-24 09:18:49,907] Trial 24 finished with value: 0.7635009310986964 and parameters: {'n_estimators': 176, 'max_depth': 10, 'min_samples_split': 8}. Best is trial 3 with value: 0.7728119180633147.\n",
      "[I 2024-09-24 09:18:51,146] Trial 25 finished with value: 0.7653631284916201 and parameters: {'n_estimators': 123, 'max_depth': 10, 'min_samples_split': 4}. Best is trial 3 with value: 0.7728119180633147.\n",
      "[I 2024-09-24 09:18:51,928] Trial 26 finished with value: 0.7690875232774674 and parameters: {'n_estimators': 80, 'max_depth': 7, 'min_samples_split': 3}. Best is trial 3 with value: 0.7728119180633147.\n",
      "[I 2024-09-24 09:18:53,156] Trial 27 finished with value: 0.7709497206703911 and parameters: {'n_estimators': 123, 'max_depth': 8, 'min_samples_split': 2}. Best is trial 3 with value: 0.7728119180633147.\n",
      "[I 2024-09-24 09:18:54,439] Trial 28 finished with value: 0.7579143389199254 and parameters: {'n_estimators': 143, 'max_depth': 15, 'min_samples_split': 9}. Best is trial 3 with value: 0.7728119180633147.\n",
      "[I 2024-09-24 09:18:55,989] Trial 29 finished with value: 0.7672253258845437 and parameters: {'n_estimators': 192, 'max_depth': 7, 'min_samples_split': 10}. Best is trial 3 with value: 0.7728119180633147.\n",
      "[I 2024-09-24 09:18:57,532] Trial 30 finished with value: 0.7616387337057727 and parameters: {'n_estimators': 180, 'max_depth': 5, 'min_samples_split': 6}. Best is trial 3 with value: 0.7728119180633147.\n",
      "[I 2024-09-24 09:18:58,448] Trial 31 finished with value: 0.7616387337057727 and parameters: {'n_estimators': 100, 'max_depth': 12, 'min_samples_split': 7}. Best is trial 3 with value: 0.7728119180633147.\n",
      "[I 2024-09-24 09:18:59,839] Trial 32 finished with value: 0.7653631284916201 and parameters: {'n_estimators': 178, 'max_depth': 10, 'min_samples_split': 10}. Best is trial 3 with value: 0.7728119180633147.\n",
      "[I 2024-09-24 09:19:01,197] Trial 33 finished with value: 0.7635009310986964 and parameters: {'n_estimators': 159, 'max_depth': 16, 'min_samples_split': 3}. Best is trial 3 with value: 0.7728119180633147.\n",
      "[I 2024-09-24 09:19:02,089] Trial 34 finished with value: 0.7616387337057727 and parameters: {'n_estimators': 112, 'max_depth': 14, 'min_samples_split': 8}. Best is trial 3 with value: 0.7728119180633147.\n",
      "[I 2024-09-24 09:19:02,693] Trial 35 finished with value: 0.7746741154562384 and parameters: {'n_estimators': 56, 'max_depth': 13, 'min_samples_split': 2}. Best is trial 35 with value: 0.7746741154562384.\n",
      "[I 2024-09-24 09:19:04,188] Trial 36 finished with value: 0.7653631284916201 and parameters: {'n_estimators': 172, 'max_depth': 6, 'min_samples_split': 3}. Best is trial 35 with value: 0.7746741154562384.\n",
      "[I 2024-09-24 09:19:05,581] Trial 37 finished with value: 0.7597765363128491 and parameters: {'n_estimators': 158, 'max_depth': 16, 'min_samples_split': 10}. Best is trial 35 with value: 0.7746741154562384.\n",
      "[I 2024-09-24 09:19:06,660] Trial 38 finished with value: 0.7653631284916201 and parameters: {'n_estimators': 129, 'max_depth': 17, 'min_samples_split': 4}. Best is trial 35 with value: 0.7746741154562384.\n",
      "[I 2024-09-24 09:19:07,422] Trial 39 finished with value: 0.7597765363128491 and parameters: {'n_estimators': 88, 'max_depth': 7, 'min_samples_split': 3}. Best is trial 35 with value: 0.7746741154562384.\n",
      "[I 2024-09-24 09:19:07,923] Trial 40 finished with value: 0.7653631284916201 and parameters: {'n_estimators': 72, 'max_depth': 4, 'min_samples_split': 2}. Best is trial 35 with value: 0.7746741154562384.\n",
      "[I 2024-09-24 09:19:08,975] Trial 41 finished with value: 0.7597765363128491 and parameters: {'n_estimators': 153, 'max_depth': 4, 'min_samples_split': 3}. Best is trial 35 with value: 0.7746741154562384.\n",
      "[I 2024-09-24 09:19:10,800] Trial 42 finished with value: 0.7597765363128492 and parameters: {'n_estimators': 193, 'max_depth': 15, 'min_samples_split': 5}. Best is trial 35 with value: 0.7746741154562384.\n",
      "[I 2024-09-24 09:19:12,606] Trial 43 finished with value: 0.7579143389199254 and parameters: {'n_estimators': 155, 'max_depth': 6, 'min_samples_split': 7}. Best is trial 35 with value: 0.7746741154562384.\n",
      "[I 2024-09-24 09:19:13,527] Trial 44 finished with value: 0.7597765363128491 and parameters: {'n_estimators': 97, 'max_depth': 11, 'min_samples_split': 5}. Best is trial 35 with value: 0.7746741154562384.\n",
      "[I 2024-09-24 09:19:15,130] Trial 45 finished with value: 0.7635009310986964 and parameters: {'n_estimators': 198, 'max_depth': 5, 'min_samples_split': 4}. Best is trial 35 with value: 0.7746741154562384.\n",
      "[I 2024-09-24 09:19:16,810] Trial 46 finished with value: 0.7579143389199255 and parameters: {'n_estimators': 186, 'max_depth': 13, 'min_samples_split': 9}. Best is trial 35 with value: 0.7746741154562384.\n",
      "[I 2024-09-24 09:19:18,040] Trial 47 finished with value: 0.7653631284916201 and parameters: {'n_estimators': 144, 'max_depth': 6, 'min_samples_split': 3}. Best is trial 35 with value: 0.7746741154562384.\n",
      "[I 2024-09-24 09:19:19,723] Trial 48 finished with value: 0.7653631284916201 and parameters: {'n_estimators': 199, 'max_depth': 9, 'min_samples_split': 6}. Best is trial 35 with value: 0.7746741154562384.\n",
      "[I 2024-09-24 09:19:20,230] Trial 49 finished with value: 0.7672253258845437 and parameters: {'n_estimators': 65, 'max_depth': 5, 'min_samples_split': 10}. Best is trial 35 with value: 0.7746741154562384.\n"
     ]
    }
   ],
   "source": [
    "study = optuna.create_study(sampler=optuna.samplers.RandomSampler(), direction='maximize')\n",
    "study.optimize(objective, n_trials=50) # Run 50 trials to find the best hyperparameters"
   ]
  },
  {
   "cell_type": "code",
   "execution_count": 11,
   "metadata": {},
   "outputs": [
    {
     "name": "stdout",
     "output_type": "stream",
     "text": [
      "Best trial accuracy: 0.7746741154562384\n",
      "Best hyperparameters: {'n_estimators': 56, 'max_depth': 13, 'min_samples_split': 2}\n"
     ]
    }
   ],
   "source": [
    "# Print the best results\n",
    "print(f'Best trial accuracy: {study.best_trial.value}')\n",
    "print(f'Best hyperparameters: {study.best_trial.params}')"
   ]
  },
  {
   "cell_type": "code",
   "execution_count": 12,
   "metadata": {},
   "outputs": [
    {
     "name": "stdout",
     "output_type": "stream",
     "text": [
      "Test Accuracy with best hyperparameters: 0.75\n"
     ]
    }
   ],
   "source": [
    "from sklearn.metrics import accuracy_score\n",
    "\n",
    "# Train a RandomForestClassifier using the best hyperparameters from Optuna\n",
    "best_model = RandomForestClassifier(**study.best_trial.params, random_state=42)\n",
    "\n",
    "# Fit the model to the training data\n",
    "best_model.fit(X_train, y_train)\n",
    "\n",
    "# Make predictions on the test set\n",
    "y_pred = best_model.predict(X_test)\n",
    "\n",
    "# Calculate the accuracy on the test set\n",
    "test_accuracy = accuracy_score(y_test, y_pred)\n",
    "\n",
    "# Print the test accuracy\n",
    "print(f'Test Accuracy with best hyperparameters: {test_accuracy:.2f}')\n"
   ]
  },
  {
   "cell_type": "markdown",
   "metadata": {},
   "source": [
    "GridSearch Sampler"
   ]
  },
  {
   "cell_type": "code",
   "execution_count": 13,
   "metadata": {},
   "outputs": [],
   "source": [
    "# we define search space outside the objective function in gridsampler\n",
    "search_space = {\n",
    "    'n_estimators': [50, 100, 150, 200],\n",
    "    'max_depth': [5, 10, 15, 20],\n",
    "    'min_samples_split' : [2, 5, 10]\n",
    "}"
   ]
  },
  {
   "cell_type": "code",
   "execution_count": 14,
   "metadata": {},
   "outputs": [
    {
     "name": "stderr",
     "output_type": "stream",
     "text": [
      "[I 2024-09-24 09:19:20,722] A new study created in memory with name: no-name-34eee552-616c-42b4-9e47-2d317376113d\n",
      "[I 2024-09-24 09:19:21,681] Trial 0 finished with value: 0.7653631284916201 and parameters: {'n_estimators': 100, 'max_depth': 15, 'min_samples_split': 5}. Best is trial 0 with value: 0.7653631284916201.\n",
      "[I 2024-09-24 09:19:22,157] Trial 1 finished with value: 0.7653631284916201 and parameters: {'n_estimators': 50, 'max_depth': 5, 'min_samples_split': 5}. Best is trial 0 with value: 0.7653631284916201.\n",
      "[I 2024-09-24 09:19:23,773] Trial 2 finished with value: 0.7728119180633147 and parameters: {'n_estimators': 150, 'max_depth': 15, 'min_samples_split': 2}. Best is trial 2 with value: 0.7728119180633147.\n",
      "[I 2024-09-24 09:19:25,762] Trial 3 finished with value: 0.7616387337057727 and parameters: {'n_estimators': 150, 'max_depth': 15, 'min_samples_split': 5}. Best is trial 2 with value: 0.7728119180633147.\n",
      "[I 2024-09-24 09:19:26,287] Trial 4 finished with value: 0.7672253258845437 and parameters: {'n_estimators': 50, 'max_depth': 15, 'min_samples_split': 10}. Best is trial 2 with value: 0.7728119180633147.\n",
      "[I 2024-09-24 09:19:27,281] Trial 5 finished with value: 0.7690875232774674 and parameters: {'n_estimators': 100, 'max_depth': 20, 'min_samples_split': 2}. Best is trial 2 with value: 0.7728119180633147.\n",
      "[I 2024-09-24 09:19:28,790] Trial 6 finished with value: 0.7653631284916201 and parameters: {'n_estimators': 150, 'max_depth': 15, 'min_samples_split': 10}. Best is trial 2 with value: 0.7728119180633147.\n",
      "[I 2024-09-24 09:19:29,332] Trial 7 finished with value: 0.7709497206703911 and parameters: {'n_estimators': 50, 'max_depth': 20, 'min_samples_split': 5}. Best is trial 2 with value: 0.7728119180633147.\n",
      "[I 2024-09-24 09:19:31,033] Trial 8 finished with value: 0.7653631284916201 and parameters: {'n_estimators': 200, 'max_depth': 5, 'min_samples_split': 5}. Best is trial 2 with value: 0.7728119180633147.\n",
      "[I 2024-09-24 09:19:32,490] Trial 9 finished with value: 0.7597765363128491 and parameters: {'n_estimators': 150, 'max_depth': 5, 'min_samples_split': 10}. Best is trial 2 with value: 0.7728119180633147.\n",
      "[I 2024-09-24 09:19:34,282] Trial 10 finished with value: 0.7579143389199254 and parameters: {'n_estimators': 200, 'max_depth': 5, 'min_samples_split': 10}. Best is trial 2 with value: 0.7728119180633147.\n",
      "[I 2024-09-24 09:19:36,273] Trial 11 finished with value: 0.7597765363128492 and parameters: {'n_estimators': 200, 'max_depth': 15, 'min_samples_split': 5}. Best is trial 2 with value: 0.7728119180633147.\n",
      "[I 2024-09-24 09:19:37,123] Trial 12 finished with value: 0.7653631284916201 and parameters: {'n_estimators': 100, 'max_depth': 15, 'min_samples_split': 10}. Best is trial 2 with value: 0.7728119180633147.\n",
      "[I 2024-09-24 09:19:38,948] Trial 13 finished with value: 0.7728119180633147 and parameters: {'n_estimators': 200, 'max_depth': 15, 'min_samples_split': 2}. Best is trial 2 with value: 0.7728119180633147.\n",
      "[I 2024-09-24 09:19:40,607] Trial 14 finished with value: 0.7579143389199254 and parameters: {'n_estimators': 200, 'max_depth': 20, 'min_samples_split': 10}. Best is trial 2 with value: 0.7728119180633147.\n",
      "[I 2024-09-24 09:19:41,840] Trial 15 finished with value: 0.7653631284916201 and parameters: {'n_estimators': 150, 'max_depth': 5, 'min_samples_split': 2}. Best is trial 2 with value: 0.7728119180633147.\n",
      "[I 2024-09-24 09:19:43,110] Trial 16 finished with value: 0.7635009310986964 and parameters: {'n_estimators': 150, 'max_depth': 20, 'min_samples_split': 10}. Best is trial 2 with value: 0.7728119180633147.\n",
      "[I 2024-09-24 09:19:44,373] Trial 17 finished with value: 0.7616387337057727 and parameters: {'n_estimators': 150, 'max_depth': 10, 'min_samples_split': 5}. Best is trial 2 with value: 0.7728119180633147.\n",
      "[I 2024-09-24 09:19:46,109] Trial 18 finished with value: 0.7709497206703911 and parameters: {'n_estimators': 200, 'max_depth': 10, 'min_samples_split': 2}. Best is trial 2 with value: 0.7728119180633147.\n",
      "[I 2024-09-24 09:19:46,558] Trial 19 finished with value: 0.7690875232774674 and parameters: {'n_estimators': 50, 'max_depth': 15, 'min_samples_split': 5}. Best is trial 2 with value: 0.7728119180633147.\n",
      "[I 2024-09-24 09:19:47,748] Trial 20 finished with value: 0.7672253258845437 and parameters: {'n_estimators': 150, 'max_depth': 10, 'min_samples_split': 10}. Best is trial 2 with value: 0.7728119180633147.\n",
      "[I 2024-09-24 09:19:48,198] Trial 21 finished with value: 0.7616387337057727 and parameters: {'n_estimators': 50, 'max_depth': 10, 'min_samples_split': 5}. Best is trial 2 with value: 0.7728119180633147.\n",
      "[I 2024-09-24 09:19:49,174] Trial 22 finished with value: 0.7635009310986964 and parameters: {'n_estimators': 100, 'max_depth': 20, 'min_samples_split': 5}. Best is trial 2 with value: 0.7728119180633147.\n",
      "[I 2024-09-24 09:19:49,715] Trial 23 finished with value: 0.7709497206703911 and parameters: {'n_estimators': 50, 'max_depth': 10, 'min_samples_split': 10}. Best is trial 2 with value: 0.7728119180633147.\n",
      "[I 2024-09-24 09:19:51,055] Trial 24 finished with value: 0.7616387337057727 and parameters: {'n_estimators': 150, 'max_depth': 20, 'min_samples_split': 5}. Best is trial 2 with value: 0.7728119180633147.\n",
      "[I 2024-09-24 09:19:51,545] Trial 25 finished with value: 0.7690875232774674 and parameters: {'n_estimators': 50, 'max_depth': 5, 'min_samples_split': 10}. Best is trial 2 with value: 0.7728119180633147.\n",
      "[I 2024-09-24 09:19:52,585] Trial 26 finished with value: 0.7616387337057727 and parameters: {'n_estimators': 100, 'max_depth': 10, 'min_samples_split': 2}. Best is trial 2 with value: 0.7728119180633147.\n",
      "[I 2024-09-24 09:19:53,622] Trial 27 finished with value: 0.7653631284916201 and parameters: {'n_estimators': 100, 'max_depth': 15, 'min_samples_split': 2}. Best is trial 2 with value: 0.7728119180633147.\n",
      "[I 2024-09-24 09:19:54,616] Trial 28 finished with value: 0.7653631284916201 and parameters: {'n_estimators': 100, 'max_depth': 5, 'min_samples_split': 5}. Best is trial 2 with value: 0.7728119180633147.\n",
      "[I 2024-09-24 09:19:55,605] Trial 29 finished with value: 0.7690875232774674 and parameters: {'n_estimators': 100, 'max_depth': 10, 'min_samples_split': 5}. Best is trial 2 with value: 0.7728119180633147.\n",
      "[I 2024-09-24 09:19:57,333] Trial 30 finished with value: 0.756052141527002 and parameters: {'n_estimators': 200, 'max_depth': 15, 'min_samples_split': 10}. Best is trial 2 with value: 0.7728119180633147.\n",
      "[I 2024-09-24 09:19:58,588] Trial 31 finished with value: 0.7672253258845437 and parameters: {'n_estimators': 150, 'max_depth': 10, 'min_samples_split': 2}. Best is trial 2 with value: 0.7728119180633147.\n",
      "[I 2024-09-24 09:19:59,905] Trial 32 finished with value: 0.7728119180633147 and parameters: {'n_estimators': 150, 'max_depth': 20, 'min_samples_split': 2}. Best is trial 2 with value: 0.7728119180633147.\n",
      "[I 2024-09-24 09:20:00,666] Trial 33 finished with value: 0.7690875232774674 and parameters: {'n_estimators': 100, 'max_depth': 5, 'min_samples_split': 2}. Best is trial 2 with value: 0.7728119180633147.\n",
      "[I 2024-09-24 09:20:01,098] Trial 34 finished with value: 0.7579143389199254 and parameters: {'n_estimators': 50, 'max_depth': 10, 'min_samples_split': 2}. Best is trial 2 with value: 0.7728119180633147.\n",
      "[I 2024-09-24 09:20:02,822] Trial 35 finished with value: 0.761638733705773 and parameters: {'n_estimators': 200, 'max_depth': 20, 'min_samples_split': 5}. Best is trial 2 with value: 0.7728119180633147.\n",
      "[I 2024-09-24 09:20:03,255] Trial 36 finished with value: 0.7728119180633147 and parameters: {'n_estimators': 50, 'max_depth': 15, 'min_samples_split': 2}. Best is trial 2 with value: 0.7728119180633147.\n",
      "[I 2024-09-24 09:20:04,298] Trial 37 finished with value: 0.7635009310986964 and parameters: {'n_estimators': 150, 'max_depth': 5, 'min_samples_split': 5}. Best is trial 2 with value: 0.7728119180633147.\n",
      "[I 2024-09-24 09:20:05,942] Trial 38 finished with value: 0.7653631284916201 and parameters: {'n_estimators': 200, 'max_depth': 10, 'min_samples_split': 10}. Best is trial 2 with value: 0.7728119180633147.\n",
      "[I 2024-09-24 09:20:06,389] Trial 39 finished with value: 0.7709497206703911 and parameters: {'n_estimators': 50, 'max_depth': 20, 'min_samples_split': 2}. Best is trial 2 with value: 0.7728119180633147.\n",
      "[I 2024-09-24 09:20:07,172] Trial 40 finished with value: 0.7690875232774674 and parameters: {'n_estimators': 100, 'max_depth': 10, 'min_samples_split': 10}. Best is trial 2 with value: 0.7728119180633147.\n",
      "[I 2024-09-24 09:20:08,777] Trial 41 finished with value: 0.7672253258845437 and parameters: {'n_estimators': 200, 'max_depth': 10, 'min_samples_split': 5}. Best is trial 2 with value: 0.7728119180633147.\n",
      "[I 2024-09-24 09:20:09,489] Trial 42 finished with value: 0.7616387337057727 and parameters: {'n_estimators': 100, 'max_depth': 5, 'min_samples_split': 10}. Best is trial 2 with value: 0.7728119180633147.\n",
      "[I 2024-09-24 09:20:11,248] Trial 43 finished with value: 0.7728119180633147 and parameters: {'n_estimators': 200, 'max_depth': 20, 'min_samples_split': 2}. Best is trial 2 with value: 0.7728119180633147.\n",
      "[I 2024-09-24 09:20:12,072] Trial 44 finished with value: 0.7616387337057727 and parameters: {'n_estimators': 100, 'max_depth': 20, 'min_samples_split': 10}. Best is trial 2 with value: 0.7728119180633147.\n",
      "[I 2024-09-24 09:20:13,531] Trial 45 finished with value: 0.7690875232774674 and parameters: {'n_estimators': 200, 'max_depth': 5, 'min_samples_split': 2}. Best is trial 2 with value: 0.7728119180633147.\n",
      "[I 2024-09-24 09:20:13,939] Trial 46 finished with value: 0.7746741154562384 and parameters: {'n_estimators': 50, 'max_depth': 5, 'min_samples_split': 2}. Best is trial 46 with value: 0.7746741154562384.\n",
      "[I 2024-09-24 09:20:14,355] Trial 47 finished with value: 0.7653631284916201 and parameters: {'n_estimators': 50, 'max_depth': 20, 'min_samples_split': 10}. Best is trial 46 with value: 0.7746741154562384.\n"
     ]
    }
   ],
   "source": [
    "# create a study and optimize it using GridSampler\n",
    "study = optuna.create_study(direction=\"maximize\", sampler=optuna.samplers.GridSampler(search_space))\n",
    "study.optimize(objective)"
   ]
  },
  {
   "cell_type": "code",
   "execution_count": 15,
   "metadata": {},
   "outputs": [
    {
     "name": "stdout",
     "output_type": "stream",
     "text": [
      "Best trial accuracy: 0.7746741154562384\n",
      "Best hyperparameters: {'n_estimators': 50, 'max_depth': 5, 'min_samples_split': 2}\n"
     ]
    }
   ],
   "source": [
    "\n",
    "# Print the best result\n",
    "print(f'Best trial accuracy: {study.best_trial.value}')\n",
    "print(f'Best hyperparameters: {study.best_trial.params}')"
   ]
  },
  {
   "cell_type": "code",
   "execution_count": 16,
   "metadata": {},
   "outputs": [
    {
     "name": "stdout",
     "output_type": "stream",
     "text": [
      "Test Accuracy with best hyperparameters: 0.74\n"
     ]
    }
   ],
   "source": [
    "from sklearn.metrics import accuracy_score\n",
    "\n",
    "# Train a RandomForestClassifier using the best hyperparameters from Optuna\n",
    "best_model = RandomForestClassifier(**study.best_trial.params, random_state=42)\n",
    "\n",
    "# Fit the model to the training data\n",
    "best_model.fit(X_train, y_train)\n",
    "\n",
    "# Make predictions on the test set\n",
    "y_pred = best_model.predict(X_test)\n",
    "\n",
    "# Calculate the accuracy on the test set\n",
    "test_accuracy = accuracy_score(y_test, y_pred)\n",
    "\n",
    "# Print the test accuracy\n",
    "print(f'Test Accuracy with best hyperparameters: {test_accuracy:.2f}')\n"
   ]
  },
  {
   "cell_type": "markdown",
   "metadata": {},
   "source": [
    "cmaes Sampler"
   ]
  },
  {
   "cell_type": "code",
   "execution_count": 18,
   "metadata": {},
   "outputs": [
    {
     "name": "stderr",
     "output_type": "stream",
     "text": [
      "[I 2024-09-24 09:22:04,258] A new study created in memory with name: no-name-11196181-2d78-4238-9f0d-1f1f95bd79c3\n",
      "[I 2024-09-24 09:22:06,226] Trial 0 finished with value: 0.7616387337057727 and parameters: {'n_estimators': 186, 'max_depth': 13, 'min_samples_split': 10}. Best is trial 0 with value: 0.7616387337057727.\n",
      "[I 2024-09-24 09:22:12,742] Trial 1 finished with value: 0.7746741154562384 and parameters: {'n_estimators': 126, 'max_depth': 8, 'min_samples_split': 8}. Best is trial 1 with value: 0.7746741154562384.\n",
      "[I 2024-09-24 09:22:14,215] Trial 2 finished with value: 0.7672253258845437 and parameters: {'n_estimators': 163, 'max_depth': 14, 'min_samples_split': 7}. Best is trial 1 with value: 0.7746741154562384.\n",
      "[I 2024-09-24 09:22:15,226] Trial 3 finished with value: 0.7541899441340782 and parameters: {'n_estimators': 112, 'max_depth': 11, 'min_samples_split': 5}. Best is trial 1 with value: 0.7746741154562384.\n",
      "[I 2024-09-24 09:22:16,283] Trial 4 finished with value: 0.7690875232774674 and parameters: {'n_estimators': 102, 'max_depth': 8, 'min_samples_split': 4}. Best is trial 1 with value: 0.7746741154562384.\n",
      "[I 2024-09-24 09:22:17,612] Trial 5 finished with value: 0.7635009310986964 and parameters: {'n_estimators': 140, 'max_depth': 13, 'min_samples_split': 8}. Best is trial 1 with value: 0.7746741154562384.\n",
      "[I 2024-09-24 09:22:19,507] Trial 6 finished with value: 0.7690875232774674 and parameters: {'n_estimators': 126, 'max_depth': 15, 'min_samples_split': 7}. Best is trial 1 with value: 0.7746741154562384.\n",
      "[I 2024-09-24 09:22:20,309] Trial 7 finished with value: 0.7541899441340782 and parameters: {'n_estimators': 81, 'max_depth': 10, 'min_samples_split': 8}. Best is trial 1 with value: 0.7746741154562384.\n",
      "[I 2024-09-24 09:22:21,661] Trial 8 finished with value: 0.7616387337057727 and parameters: {'n_estimators': 139, 'max_depth': 6, 'min_samples_split': 10}. Best is trial 1 with value: 0.7746741154562384.\n",
      "[I 2024-09-24 09:22:23,739] Trial 9 finished with value: 0.7635009310986964 and parameters: {'n_estimators': 108, 'max_depth': 14, 'min_samples_split': 8}. Best is trial 1 with value: 0.7746741154562384.\n",
      "[I 2024-09-24 09:22:25,505] Trial 10 finished with value: 0.7728119180633147 and parameters: {'n_estimators': 122, 'max_depth': 16, 'min_samples_split': 7}. Best is trial 1 with value: 0.7746741154562384.\n",
      "[I 2024-09-24 09:22:26,458] Trial 11 finished with value: 0.7653631284916201 and parameters: {'n_estimators': 115, 'max_depth': 6, 'min_samples_split': 9}. Best is trial 1 with value: 0.7746741154562384.\n",
      "[I 2024-09-24 09:22:27,689] Trial 12 finished with value: 0.7635009310986964 and parameters: {'n_estimators': 131, 'max_depth': 9, 'min_samples_split': 6}. Best is trial 1 with value: 0.7746741154562384.\n",
      "[I 2024-09-24 09:22:28,657] Trial 13 finished with value: 0.7597765363128491 and parameters: {'n_estimators': 110, 'max_depth': 11, 'min_samples_split': 7}. Best is trial 1 with value: 0.7746741154562384.\n",
      "[I 2024-09-24 09:22:29,725] Trial 14 finished with value: 0.7635009310986964 and parameters: {'n_estimators': 108, 'max_depth': 14, 'min_samples_split': 8}. Best is trial 1 with value: 0.7746741154562384.\n",
      "[I 2024-09-24 09:22:30,808] Trial 15 finished with value: 0.7653631284916201 and parameters: {'n_estimators': 124, 'max_depth': 18, 'min_samples_split': 8}. Best is trial 1 with value: 0.7746741154562384.\n",
      "[I 2024-09-24 09:22:32,012] Trial 16 finished with value: 0.7672253258845437 and parameters: {'n_estimators': 112, 'max_depth': 8, 'min_samples_split': 10}. Best is trial 1 with value: 0.7746741154562384.\n",
      "[I 2024-09-24 09:22:34,684] Trial 17 finished with value: 0.7653631284916201 and parameters: {'n_estimators': 104, 'max_depth': 12, 'min_samples_split': 6}. Best is trial 1 with value: 0.7746741154562384.\n",
      "[I 2024-09-24 09:22:35,993] Trial 18 finished with value: 0.7672253258845437 and parameters: {'n_estimators': 128, 'max_depth': 13, 'min_samples_split': 9}. Best is trial 1 with value: 0.7746741154562384.\n",
      "[I 2024-09-24 09:22:37,433] Trial 19 finished with value: 0.7746741154562384 and parameters: {'n_estimators': 100, 'max_depth': 8, 'min_samples_split': 8}. Best is trial 1 with value: 0.7746741154562384.\n",
      "[I 2024-09-24 09:22:38,728] Trial 20 finished with value: 0.7709497206703911 and parameters: {'n_estimators': 109, 'max_depth': 18, 'min_samples_split': 9}. Best is trial 1 with value: 0.7746741154562384.\n",
      "[I 2024-09-24 09:22:40,023] Trial 21 finished with value: 0.7579143389199255 and parameters: {'n_estimators': 142, 'max_depth': 9, 'min_samples_split': 6}. Best is trial 1 with value: 0.7746741154562384.\n",
      "[I 2024-09-24 09:22:40,974] Trial 22 finished with value: 0.7635009310986964 and parameters: {'n_estimators': 106, 'max_depth': 11, 'min_samples_split': 7}. Best is trial 1 with value: 0.7746741154562384.\n",
      "[I 2024-09-24 09:22:41,785] Trial 23 finished with value: 0.7690875232774674 and parameters: {'n_estimators': 89, 'max_depth': 6, 'min_samples_split': 9}. Best is trial 1 with value: 0.7746741154562384.\n",
      "[I 2024-09-24 09:22:42,594] Trial 24 finished with value: 0.7616387337057727 and parameters: {'n_estimators': 91, 'max_depth': 6, 'min_samples_split': 7}. Best is trial 1 with value: 0.7746741154562384.\n",
      "[I 2024-09-24 09:22:43,181] Trial 25 finished with value: 0.7672253258845437 and parameters: {'n_estimators': 62, 'max_depth': 6, 'min_samples_split': 9}. Best is trial 1 with value: 0.7746741154562384.\n",
      "[I 2024-09-24 09:22:44,174] Trial 26 finished with value: 0.7690875232774674 and parameters: {'n_estimators': 104, 'max_depth': 13, 'min_samples_split': 8}. Best is trial 1 with value: 0.7746741154562384.\n",
      "[I 2024-09-24 09:22:44,806] Trial 27 finished with value: 0.756052141527002 and parameters: {'n_estimators': 72, 'max_depth': 9, 'min_samples_split': 9}. Best is trial 1 with value: 0.7746741154562384.\n",
      "[I 2024-09-24 09:22:45,767] Trial 28 finished with value: 0.7635009310986964 and parameters: {'n_estimators': 79, 'max_depth': 9, 'min_samples_split': 8}. Best is trial 1 with value: 0.7746741154562384.\n",
      "[I 2024-09-24 09:22:46,397] Trial 29 finished with value: 0.7653631284916201 and parameters: {'n_estimators': 75, 'max_depth': 6, 'min_samples_split': 10}. Best is trial 1 with value: 0.7746741154562384.\n",
      "[I 2024-09-24 09:22:47,174] Trial 30 finished with value: 0.7597765363128491 and parameters: {'n_estimators': 86, 'max_depth': 7, 'min_samples_split': 9}. Best is trial 1 with value: 0.7746741154562384.\n",
      "[I 2024-09-24 09:22:48,350] Trial 31 finished with value: 0.7653631284916201 and parameters: {'n_estimators': 137, 'max_depth': 7, 'min_samples_split': 8}. Best is trial 1 with value: 0.7746741154562384.\n",
      "[I 2024-09-24 09:22:49,226] Trial 32 finished with value: 0.7709497206703911 and parameters: {'n_estimators': 103, 'max_depth': 8, 'min_samples_split': 8}. Best is trial 1 with value: 0.7746741154562384.\n",
      "[I 2024-09-24 09:22:50,133] Trial 33 finished with value: 0.7616387337057727 and parameters: {'n_estimators': 70, 'max_depth': 6, 'min_samples_split': 6}. Best is trial 1 with value: 0.7746741154562384.\n",
      "[I 2024-09-24 09:22:50,993] Trial 34 finished with value: 0.7597765363128491 and parameters: {'n_estimators': 100, 'max_depth': 9, 'min_samples_split': 8}. Best is trial 1 with value: 0.7746741154562384.\n",
      "[I 2024-09-24 09:22:51,923] Trial 35 finished with value: 0.7653631284916201 and parameters: {'n_estimators': 83, 'max_depth': 9, 'min_samples_split': 8}. Best is trial 1 with value: 0.7746741154562384.\n",
      "[I 2024-09-24 09:22:52,926] Trial 36 finished with value: 0.7597765363128491 and parameters: {'n_estimators': 112, 'max_depth': 9, 'min_samples_split': 9}. Best is trial 1 with value: 0.7746741154562384.\n",
      "[I 2024-09-24 09:22:53,423] Trial 37 finished with value: 0.7728119180633147 and parameters: {'n_estimators': 59, 'max_depth': 7, 'min_samples_split': 10}. Best is trial 1 with value: 0.7746741154562384.\n",
      "[I 2024-09-24 09:22:54,573] Trial 38 finished with value: 0.7653631284916201 and parameters: {'n_estimators': 129, 'max_depth': 8, 'min_samples_split': 9}. Best is trial 1 with value: 0.7746741154562384.\n",
      "[I 2024-09-24 09:22:55,532] Trial 39 finished with value: 0.7635009310986964 and parameters: {'n_estimators': 125, 'max_depth': 3, 'min_samples_split': 7}. Best is trial 1 with value: 0.7746741154562384.\n",
      "[I 2024-09-24 09:22:56,498] Trial 40 finished with value: 0.7616387337057727 and parameters: {'n_estimators': 104, 'max_depth': 9, 'min_samples_split': 9}. Best is trial 1 with value: 0.7746741154562384.\n",
      "[I 2024-09-24 09:22:57,482] Trial 41 finished with value: 0.7635009310986964 and parameters: {'n_estimators': 97, 'max_depth': 11, 'min_samples_split': 8}. Best is trial 1 with value: 0.7746741154562384.\n",
      "[I 2024-09-24 09:22:58,366] Trial 42 finished with value: 0.7653631284916201 and parameters: {'n_estimators': 101, 'max_depth': 6, 'min_samples_split': 8}. Best is trial 1 with value: 0.7746741154562384.\n",
      "[I 2024-09-24 09:22:59,175] Trial 43 finished with value: 0.7597765363128491 and parameters: {'n_estimators': 86, 'max_depth': 8, 'min_samples_split': 10}. Best is trial 1 with value: 0.7746741154562384.\n",
      "[I 2024-09-24 09:22:59,832] Trial 44 finished with value: 0.7523277467411545 and parameters: {'n_estimators': 76, 'max_depth': 8, 'min_samples_split': 9}. Best is trial 1 with value: 0.7746741154562384.\n",
      "[I 2024-09-24 09:23:00,811] Trial 45 finished with value: 0.7616387337057727 and parameters: {'n_estimators': 120, 'max_depth': 4, 'min_samples_split': 7}. Best is trial 1 with value: 0.7746741154562384.\n",
      "[I 2024-09-24 09:23:01,435] Trial 46 finished with value: 0.7672253258845437 and parameters: {'n_estimators': 72, 'max_depth': 6, 'min_samples_split': 10}. Best is trial 1 with value: 0.7746741154562384.\n",
      "[I 2024-09-24 09:23:02,050] Trial 47 finished with value: 0.7635009310986964 and parameters: {'n_estimators': 60, 'max_depth': 9, 'min_samples_split': 10}. Best is trial 1 with value: 0.7746741154562384.\n",
      "[I 2024-09-24 09:23:02,594] Trial 48 finished with value: 0.7635009310986964 and parameters: {'n_estimators': 61, 'max_depth': 7, 'min_samples_split': 10}. Best is trial 1 with value: 0.7746741154562384.\n",
      "[I 2024-09-24 09:23:03,158] Trial 49 finished with value: 0.7616387337057727 and parameters: {'n_estimators': 62, 'max_depth': 8, 'min_samples_split': 9}. Best is trial 1 with value: 0.7746741154562384.\n"
     ]
    }
   ],
   "source": [
    "# pip install cmaes\n",
    "# Create a study and optimize it using CmaEsSampler\n",
    "\n",
    "study = optuna.create_study(direction='maximize', sampler=optuna.samplers.CmaEsSampler())\n",
    "study.optimize(objective, n_trials=50)"
   ]
  },
  {
   "cell_type": "code",
   "execution_count": 19,
   "metadata": {},
   "outputs": [
    {
     "name": "stdout",
     "output_type": "stream",
     "text": [
      "Best trial accuracy: 0.7746741154562384\n",
      "Best hyperparameters: {'n_estimators': 126, 'max_depth': 8, 'min_samples_split': 8}\n"
     ]
    }
   ],
   "source": [
    "\n",
    "# Print the best result\n",
    "print(f'Best trial accuracy: {study.best_trial.value}')\n",
    "print(f'Best hyperparameters: {study.best_trial.params}')"
   ]
  },
  {
   "cell_type": "code",
   "execution_count": 20,
   "metadata": {},
   "outputs": [
    {
     "name": "stdout",
     "output_type": "stream",
     "text": [
      "Test Accuracy with best hyperparameters: 0.76\n"
     ]
    }
   ],
   "source": [
    "from sklearn.metrics import accuracy_score\n",
    "\n",
    "# Train a RandomForestClassifier using the best hyperparameters from Optuna\n",
    "best_model = RandomForestClassifier(**study.best_trial.params, random_state=42)\n",
    "\n",
    "# Fit the model to the training data\n",
    "best_model.fit(X_train, y_train)\n",
    "\n",
    "# Make predictions on the test set\n",
    "y_pred = best_model.predict(X_test)\n",
    "\n",
    "# Calculate the accuracy on the test set\n",
    "test_accuracy = accuracy_score(y_test, y_pred)\n",
    "\n",
    "# Print the test accuracy\n",
    "print(f'Test Accuracy with best hyperparameters: {test_accuracy:.2f}')\n"
   ]
  },
  {
   "cell_type": "code",
   "execution_count": 21,
   "metadata": {},
   "outputs": [
    {
     "data": {
      "text/html": [
       "<div>\n",
       "<style scoped>\n",
       "    .dataframe tbody tr th:only-of-type {\n",
       "        vertical-align: middle;\n",
       "    }\n",
       "\n",
       "    .dataframe tbody tr th {\n",
       "        vertical-align: top;\n",
       "    }\n",
       "\n",
       "    .dataframe thead th {\n",
       "        text-align: right;\n",
       "    }\n",
       "</style>\n",
       "<table border=\"1\" class=\"dataframe\">\n",
       "  <thead>\n",
       "    <tr style=\"text-align: right;\">\n",
       "      <th></th>\n",
       "      <th>number</th>\n",
       "      <th>value</th>\n",
       "      <th>datetime_start</th>\n",
       "      <th>datetime_complete</th>\n",
       "      <th>duration</th>\n",
       "      <th>params_max_depth</th>\n",
       "      <th>params_min_samples_split</th>\n",
       "      <th>params_n_estimators</th>\n",
       "      <th>system_attrs_cma:generation</th>\n",
       "      <th>system_attrs_cma:large_n_eval</th>\n",
       "      <th>system_attrs_cma:n_restarts</th>\n",
       "      <th>system_attrs_cma:n_restarts_with_large</th>\n",
       "      <th>system_attrs_cma:optimizer:0</th>\n",
       "      <th>system_attrs_cma:optimizer:1</th>\n",
       "      <th>system_attrs_cma:popsize</th>\n",
       "      <th>system_attrs_cma:poptype</th>\n",
       "      <th>system_attrs_cma:small_n_eval</th>\n",
       "      <th>state</th>\n",
       "    </tr>\n",
       "  </thead>\n",
       "  <tbody>\n",
       "    <tr>\n",
       "      <th>0</th>\n",
       "      <td>0</td>\n",
       "      <td>0.761639</td>\n",
       "      <td>2024-09-24 09:22:04.259542</td>\n",
       "      <td>2024-09-24 09:22:06.226902</td>\n",
       "      <td>0 days 00:00:01.967360</td>\n",
       "      <td>13</td>\n",
       "      <td>10</td>\n",
       "      <td>186</td>\n",
       "      <td>NaN</td>\n",
       "      <td>NaN</td>\n",
       "      <td>NaN</td>\n",
       "      <td>NaN</td>\n",
       "      <td>NaN</td>\n",
       "      <td>NaN</td>\n",
       "      <td>NaN</td>\n",
       "      <td>NaN</td>\n",
       "      <td>NaN</td>\n",
       "      <td>COMPLETE</td>\n",
       "    </tr>\n",
       "    <tr>\n",
       "      <th>1</th>\n",
       "      <td>1</td>\n",
       "      <td>0.774674</td>\n",
       "      <td>2024-09-24 09:22:06.228917</td>\n",
       "      <td>2024-09-24 09:22:12.740250</td>\n",
       "      <td>0 days 00:00:06.511333</td>\n",
       "      <td>8</td>\n",
       "      <td>8</td>\n",
       "      <td>126</td>\n",
       "      <td>0.0</td>\n",
       "      <td>0.0</td>\n",
       "      <td>0.0</td>\n",
       "      <td>0.0</td>\n",
       "      <td>NaN</td>\n",
       "      <td>NaN</td>\n",
       "      <td>7.0</td>\n",
       "      <td>small</td>\n",
       "      <td>0.0</td>\n",
       "      <td>COMPLETE</td>\n",
       "    </tr>\n",
       "    <tr>\n",
       "      <th>2</th>\n",
       "      <td>2</td>\n",
       "      <td>0.767225</td>\n",
       "      <td>2024-09-24 09:22:12.744202</td>\n",
       "      <td>2024-09-24 09:22:14.215263</td>\n",
       "      <td>0 days 00:00:01.471061</td>\n",
       "      <td>14</td>\n",
       "      <td>7</td>\n",
       "      <td>163</td>\n",
       "      <td>0.0</td>\n",
       "      <td>0.0</td>\n",
       "      <td>0.0</td>\n",
       "      <td>0.0</td>\n",
       "      <td>NaN</td>\n",
       "      <td>NaN</td>\n",
       "      <td>7.0</td>\n",
       "      <td>small</td>\n",
       "      <td>0.0</td>\n",
       "      <td>COMPLETE</td>\n",
       "    </tr>\n",
       "    <tr>\n",
       "      <th>3</th>\n",
       "      <td>3</td>\n",
       "      <td>0.754190</td>\n",
       "      <td>2024-09-24 09:22:14.217992</td>\n",
       "      <td>2024-09-24 09:22:15.226041</td>\n",
       "      <td>0 days 00:00:01.008049</td>\n",
       "      <td>11</td>\n",
       "      <td>5</td>\n",
       "      <td>112</td>\n",
       "      <td>0.0</td>\n",
       "      <td>0.0</td>\n",
       "      <td>0.0</td>\n",
       "      <td>0.0</td>\n",
       "      <td>NaN</td>\n",
       "      <td>NaN</td>\n",
       "      <td>7.0</td>\n",
       "      <td>small</td>\n",
       "      <td>0.0</td>\n",
       "      <td>COMPLETE</td>\n",
       "    </tr>\n",
       "    <tr>\n",
       "      <th>4</th>\n",
       "      <td>4</td>\n",
       "      <td>0.769088</td>\n",
       "      <td>2024-09-24 09:22:15.231387</td>\n",
       "      <td>2024-09-24 09:22:16.283748</td>\n",
       "      <td>0 days 00:00:01.052361</td>\n",
       "      <td>8</td>\n",
       "      <td>4</td>\n",
       "      <td>102</td>\n",
       "      <td>0.0</td>\n",
       "      <td>0.0</td>\n",
       "      <td>0.0</td>\n",
       "      <td>0.0</td>\n",
       "      <td>NaN</td>\n",
       "      <td>NaN</td>\n",
       "      <td>7.0</td>\n",
       "      <td>small</td>\n",
       "      <td>0.0</td>\n",
       "      <td>COMPLETE</td>\n",
       "    </tr>\n",
       "    <tr>\n",
       "      <th>5</th>\n",
       "      <td>5</td>\n",
       "      <td>0.763501</td>\n",
       "      <td>2024-09-24 09:22:16.285747</td>\n",
       "      <td>2024-09-24 09:22:17.612178</td>\n",
       "      <td>0 days 00:00:01.326431</td>\n",
       "      <td>13</td>\n",
       "      <td>8</td>\n",
       "      <td>140</td>\n",
       "      <td>0.0</td>\n",
       "      <td>0.0</td>\n",
       "      <td>0.0</td>\n",
       "      <td>0.0</td>\n",
       "      <td>NaN</td>\n",
       "      <td>NaN</td>\n",
       "      <td>7.0</td>\n",
       "      <td>small</td>\n",
       "      <td>0.0</td>\n",
       "      <td>COMPLETE</td>\n",
       "    </tr>\n",
       "    <tr>\n",
       "      <th>6</th>\n",
       "      <td>6</td>\n",
       "      <td>0.769088</td>\n",
       "      <td>2024-09-24 09:22:17.614484</td>\n",
       "      <td>2024-09-24 09:22:19.507514</td>\n",
       "      <td>0 days 00:00:01.893030</td>\n",
       "      <td>15</td>\n",
       "      <td>7</td>\n",
       "      <td>126</td>\n",
       "      <td>0.0</td>\n",
       "      <td>0.0</td>\n",
       "      <td>0.0</td>\n",
       "      <td>0.0</td>\n",
       "      <td>NaN</td>\n",
       "      <td>NaN</td>\n",
       "      <td>7.0</td>\n",
       "      <td>small</td>\n",
       "      <td>0.0</td>\n",
       "      <td>COMPLETE</td>\n",
       "    </tr>\n",
       "    <tr>\n",
       "      <th>7</th>\n",
       "      <td>7</td>\n",
       "      <td>0.754190</td>\n",
       "      <td>2024-09-24 09:22:19.511533</td>\n",
       "      <td>2024-09-24 09:22:20.309807</td>\n",
       "      <td>0 days 00:00:00.798274</td>\n",
       "      <td>10</td>\n",
       "      <td>8</td>\n",
       "      <td>81</td>\n",
       "      <td>0.0</td>\n",
       "      <td>0.0</td>\n",
       "      <td>0.0</td>\n",
       "      <td>0.0</td>\n",
       "      <td>NaN</td>\n",
       "      <td>NaN</td>\n",
       "      <td>7.0</td>\n",
       "      <td>small</td>\n",
       "      <td>0.0</td>\n",
       "      <td>COMPLETE</td>\n",
       "    </tr>\n",
       "    <tr>\n",
       "      <th>8</th>\n",
       "      <td>8</td>\n",
       "      <td>0.761639</td>\n",
       "      <td>2024-09-24 09:22:20.317501</td>\n",
       "      <td>2024-09-24 09:22:21.661991</td>\n",
       "      <td>0 days 00:00:01.344490</td>\n",
       "      <td>6</td>\n",
       "      <td>10</td>\n",
       "      <td>139</td>\n",
       "      <td>1.0</td>\n",
       "      <td>0.0</td>\n",
       "      <td>0.0</td>\n",
       "      <td>0.0</td>\n",
       "      <td>800495f5060000000000008c0a636d6165732e5f636d61...</td>\n",
       "      <td>4284b014b034b018694681189431800000000000000000...</td>\n",
       "      <td>7.0</td>\n",
       "      <td>small</td>\n",
       "      <td>0.0</td>\n",
       "      <td>COMPLETE</td>\n",
       "    </tr>\n",
       "    <tr>\n",
       "      <th>9</th>\n",
       "      <td>9</td>\n",
       "      <td>0.763501</td>\n",
       "      <td>2024-09-24 09:22:21.665170</td>\n",
       "      <td>2024-09-24 09:22:23.739478</td>\n",
       "      <td>0 days 00:00:02.074308</td>\n",
       "      <td>14</td>\n",
       "      <td>8</td>\n",
       "      <td>108</td>\n",
       "      <td>1.0</td>\n",
       "      <td>0.0</td>\n",
       "      <td>0.0</td>\n",
       "      <td>0.0</td>\n",
       "      <td>NaN</td>\n",
       "      <td>NaN</td>\n",
       "      <td>7.0</td>\n",
       "      <td>small</td>\n",
       "      <td>0.0</td>\n",
       "      <td>COMPLETE</td>\n",
       "    </tr>\n",
       "    <tr>\n",
       "      <th>10</th>\n",
       "      <td>10</td>\n",
       "      <td>0.772812</td>\n",
       "      <td>2024-09-24 09:22:23.740477</td>\n",
       "      <td>2024-09-24 09:22:25.505901</td>\n",
       "      <td>0 days 00:00:01.765424</td>\n",
       "      <td>16</td>\n",
       "      <td>7</td>\n",
       "      <td>122</td>\n",
       "      <td>1.0</td>\n",
       "      <td>0.0</td>\n",
       "      <td>0.0</td>\n",
       "      <td>0.0</td>\n",
       "      <td>NaN</td>\n",
       "      <td>NaN</td>\n",
       "      <td>7.0</td>\n",
       "      <td>small</td>\n",
       "      <td>0.0</td>\n",
       "      <td>COMPLETE</td>\n",
       "    </tr>\n",
       "    <tr>\n",
       "      <th>11</th>\n",
       "      <td>11</td>\n",
       "      <td>0.765363</td>\n",
       "      <td>2024-09-24 09:22:25.510758</td>\n",
       "      <td>2024-09-24 09:22:26.458194</td>\n",
       "      <td>0 days 00:00:00.947436</td>\n",
       "      <td>6</td>\n",
       "      <td>9</td>\n",
       "      <td>115</td>\n",
       "      <td>1.0</td>\n",
       "      <td>0.0</td>\n",
       "      <td>0.0</td>\n",
       "      <td>0.0</td>\n",
       "      <td>NaN</td>\n",
       "      <td>NaN</td>\n",
       "      <td>7.0</td>\n",
       "      <td>small</td>\n",
       "      <td>0.0</td>\n",
       "      <td>COMPLETE</td>\n",
       "    </tr>\n",
       "    <tr>\n",
       "      <th>12</th>\n",
       "      <td>12</td>\n",
       "      <td>0.763501</td>\n",
       "      <td>2024-09-24 09:22:26.466164</td>\n",
       "      <td>2024-09-24 09:22:27.689692</td>\n",
       "      <td>0 days 00:00:01.223528</td>\n",
       "      <td>9</td>\n",
       "      <td>6</td>\n",
       "      <td>131</td>\n",
       "      <td>1.0</td>\n",
       "      <td>0.0</td>\n",
       "      <td>0.0</td>\n",
       "      <td>0.0</td>\n",
       "      <td>NaN</td>\n",
       "      <td>NaN</td>\n",
       "      <td>7.0</td>\n",
       "      <td>small</td>\n",
       "      <td>0.0</td>\n",
       "      <td>COMPLETE</td>\n",
       "    </tr>\n",
       "    <tr>\n",
       "      <th>13</th>\n",
       "      <td>13</td>\n",
       "      <td>0.759777</td>\n",
       "      <td>2024-09-24 09:22:27.690967</td>\n",
       "      <td>2024-09-24 09:22:28.657157</td>\n",
       "      <td>0 days 00:00:00.966190</td>\n",
       "      <td>11</td>\n",
       "      <td>7</td>\n",
       "      <td>110</td>\n",
       "      <td>1.0</td>\n",
       "      <td>0.0</td>\n",
       "      <td>0.0</td>\n",
       "      <td>0.0</td>\n",
       "      <td>NaN</td>\n",
       "      <td>NaN</td>\n",
       "      <td>7.0</td>\n",
       "      <td>small</td>\n",
       "      <td>0.0</td>\n",
       "      <td>COMPLETE</td>\n",
       "    </tr>\n",
       "    <tr>\n",
       "      <th>14</th>\n",
       "      <td>14</td>\n",
       "      <td>0.763501</td>\n",
       "      <td>2024-09-24 09:22:28.659139</td>\n",
       "      <td>2024-09-24 09:22:29.725417</td>\n",
       "      <td>0 days 00:00:01.066278</td>\n",
       "      <td>14</td>\n",
       "      <td>8</td>\n",
       "      <td>108</td>\n",
       "      <td>1.0</td>\n",
       "      <td>0.0</td>\n",
       "      <td>0.0</td>\n",
       "      <td>0.0</td>\n",
       "      <td>NaN</td>\n",
       "      <td>NaN</td>\n",
       "      <td>7.0</td>\n",
       "      <td>small</td>\n",
       "      <td>0.0</td>\n",
       "      <td>COMPLETE</td>\n",
       "    </tr>\n",
       "    <tr>\n",
       "      <th>15</th>\n",
       "      <td>15</td>\n",
       "      <td>0.765363</td>\n",
       "      <td>2024-09-24 09:22:29.728573</td>\n",
       "      <td>2024-09-24 09:22:30.808214</td>\n",
       "      <td>0 days 00:00:01.079641</td>\n",
       "      <td>18</td>\n",
       "      <td>8</td>\n",
       "      <td>124</td>\n",
       "      <td>2.0</td>\n",
       "      <td>0.0</td>\n",
       "      <td>0.0</td>\n",
       "      <td>0.0</td>\n",
       "      <td>80049517070000000000008c0a636d6165732e5f636d61...</td>\n",
       "      <td>4682f68314b008594683387945294284b014b094b01869...</td>\n",
       "      <td>7.0</td>\n",
       "      <td>small</td>\n",
       "      <td>0.0</td>\n",
       "      <td>COMPLETE</td>\n",
       "    </tr>\n",
       "    <tr>\n",
       "      <th>16</th>\n",
       "      <td>16</td>\n",
       "      <td>0.767225</td>\n",
       "      <td>2024-09-24 09:22:30.816023</td>\n",
       "      <td>2024-09-24 09:22:32.012231</td>\n",
       "      <td>0 days 00:00:01.196208</td>\n",
       "      <td>8</td>\n",
       "      <td>10</td>\n",
       "      <td>112</td>\n",
       "      <td>2.0</td>\n",
       "      <td>0.0</td>\n",
       "      <td>0.0</td>\n",
       "      <td>0.0</td>\n",
       "      <td>NaN</td>\n",
       "      <td>NaN</td>\n",
       "      <td>7.0</td>\n",
       "      <td>small</td>\n",
       "      <td>0.0</td>\n",
       "      <td>COMPLETE</td>\n",
       "    </tr>\n",
       "    <tr>\n",
       "      <th>17</th>\n",
       "      <td>17</td>\n",
       "      <td>0.765363</td>\n",
       "      <td>2024-09-24 09:22:32.013233</td>\n",
       "      <td>2024-09-24 09:22:34.684073</td>\n",
       "      <td>0 days 00:00:02.670840</td>\n",
       "      <td>12</td>\n",
       "      <td>6</td>\n",
       "      <td>104</td>\n",
       "      <td>2.0</td>\n",
       "      <td>0.0</td>\n",
       "      <td>0.0</td>\n",
       "      <td>0.0</td>\n",
       "      <td>NaN</td>\n",
       "      <td>NaN</td>\n",
       "      <td>7.0</td>\n",
       "      <td>small</td>\n",
       "      <td>0.0</td>\n",
       "      <td>COMPLETE</td>\n",
       "    </tr>\n",
       "    <tr>\n",
       "      <th>18</th>\n",
       "      <td>18</td>\n",
       "      <td>0.767225</td>\n",
       "      <td>2024-09-24 09:22:34.685852</td>\n",
       "      <td>2024-09-24 09:22:35.993148</td>\n",
       "      <td>0 days 00:00:01.307296</td>\n",
       "      <td>13</td>\n",
       "      <td>9</td>\n",
       "      <td>128</td>\n",
       "      <td>2.0</td>\n",
       "      <td>0.0</td>\n",
       "      <td>0.0</td>\n",
       "      <td>0.0</td>\n",
       "      <td>NaN</td>\n",
       "      <td>NaN</td>\n",
       "      <td>7.0</td>\n",
       "      <td>small</td>\n",
       "      <td>0.0</td>\n",
       "      <td>COMPLETE</td>\n",
       "    </tr>\n",
       "    <tr>\n",
       "      <th>19</th>\n",
       "      <td>19</td>\n",
       "      <td>0.774674</td>\n",
       "      <td>2024-09-24 09:22:35.998477</td>\n",
       "      <td>2024-09-24 09:22:37.431897</td>\n",
       "      <td>0 days 00:00:01.433420</td>\n",
       "      <td>8</td>\n",
       "      <td>8</td>\n",
       "      <td>100</td>\n",
       "      <td>2.0</td>\n",
       "      <td>0.0</td>\n",
       "      <td>0.0</td>\n",
       "      <td>0.0</td>\n",
       "      <td>NaN</td>\n",
       "      <td>NaN</td>\n",
       "      <td>7.0</td>\n",
       "      <td>small</td>\n",
       "      <td>0.0</td>\n",
       "      <td>COMPLETE</td>\n",
       "    </tr>\n",
       "    <tr>\n",
       "      <th>20</th>\n",
       "      <td>20</td>\n",
       "      <td>0.770950</td>\n",
       "      <td>2024-09-24 09:22:37.435437</td>\n",
       "      <td>2024-09-24 09:22:38.728145</td>\n",
       "      <td>0 days 00:00:01.292708</td>\n",
       "      <td>18</td>\n",
       "      <td>9</td>\n",
       "      <td>109</td>\n",
       "      <td>2.0</td>\n",
       "      <td>0.0</td>\n",
       "      <td>0.0</td>\n",
       "      <td>0.0</td>\n",
       "      <td>NaN</td>\n",
       "      <td>NaN</td>\n",
       "      <td>7.0</td>\n",
       "      <td>small</td>\n",
       "      <td>0.0</td>\n",
       "      <td>COMPLETE</td>\n",
       "    </tr>\n",
       "    <tr>\n",
       "      <th>21</th>\n",
       "      <td>21</td>\n",
       "      <td>0.757914</td>\n",
       "      <td>2024-09-24 09:22:38.732746</td>\n",
       "      <td>2024-09-24 09:22:40.023196</td>\n",
       "      <td>0 days 00:00:01.290450</td>\n",
       "      <td>9</td>\n",
       "      <td>6</td>\n",
       "      <td>142</td>\n",
       "      <td>2.0</td>\n",
       "      <td>0.0</td>\n",
       "      <td>0.0</td>\n",
       "      <td>0.0</td>\n",
       "      <td>NaN</td>\n",
       "      <td>NaN</td>\n",
       "      <td>7.0</td>\n",
       "      <td>small</td>\n",
       "      <td>0.0</td>\n",
       "      <td>COMPLETE</td>\n",
       "    </tr>\n",
       "    <tr>\n",
       "      <th>22</th>\n",
       "      <td>22</td>\n",
       "      <td>0.763501</td>\n",
       "      <td>2024-09-24 09:22:40.029562</td>\n",
       "      <td>2024-09-24 09:22:40.974100</td>\n",
       "      <td>0 days 00:00:00.944538</td>\n",
       "      <td>11</td>\n",
       "      <td>7</td>\n",
       "      <td>106</td>\n",
       "      <td>3.0</td>\n",
       "      <td>0.0</td>\n",
       "      <td>0.0</td>\n",
       "      <td>0.0</td>\n",
       "      <td>80049517070000000000008c0a636d6165732e5f636d61...</td>\n",
       "      <td>4682f68314b008594683387945294284b014b094b01869...</td>\n",
       "      <td>7.0</td>\n",
       "      <td>small</td>\n",
       "      <td>0.0</td>\n",
       "      <td>COMPLETE</td>\n",
       "    </tr>\n",
       "    <tr>\n",
       "      <th>23</th>\n",
       "      <td>23</td>\n",
       "      <td>0.769088</td>\n",
       "      <td>2024-09-24 09:22:40.982200</td>\n",
       "      <td>2024-09-24 09:22:41.785308</td>\n",
       "      <td>0 days 00:00:00.803108</td>\n",
       "      <td>6</td>\n",
       "      <td>9</td>\n",
       "      <td>89</td>\n",
       "      <td>3.0</td>\n",
       "      <td>0.0</td>\n",
       "      <td>0.0</td>\n",
       "      <td>0.0</td>\n",
       "      <td>NaN</td>\n",
       "      <td>NaN</td>\n",
       "      <td>7.0</td>\n",
       "      <td>small</td>\n",
       "      <td>0.0</td>\n",
       "      <td>COMPLETE</td>\n",
       "    </tr>\n",
       "    <tr>\n",
       "      <th>24</th>\n",
       "      <td>24</td>\n",
       "      <td>0.761639</td>\n",
       "      <td>2024-09-24 09:22:41.786750</td>\n",
       "      <td>2024-09-24 09:22:42.594928</td>\n",
       "      <td>0 days 00:00:00.808178</td>\n",
       "      <td>6</td>\n",
       "      <td>7</td>\n",
       "      <td>91</td>\n",
       "      <td>3.0</td>\n",
       "      <td>0.0</td>\n",
       "      <td>0.0</td>\n",
       "      <td>0.0</td>\n",
       "      <td>NaN</td>\n",
       "      <td>NaN</td>\n",
       "      <td>7.0</td>\n",
       "      <td>small</td>\n",
       "      <td>0.0</td>\n",
       "      <td>COMPLETE</td>\n",
       "    </tr>\n",
       "    <tr>\n",
       "      <th>25</th>\n",
       "      <td>25</td>\n",
       "      <td>0.767225</td>\n",
       "      <td>2024-09-24 09:22:42.601706</td>\n",
       "      <td>2024-09-24 09:22:43.181726</td>\n",
       "      <td>0 days 00:00:00.580020</td>\n",
       "      <td>6</td>\n",
       "      <td>9</td>\n",
       "      <td>62</td>\n",
       "      <td>3.0</td>\n",
       "      <td>0.0</td>\n",
       "      <td>0.0</td>\n",
       "      <td>0.0</td>\n",
       "      <td>NaN</td>\n",
       "      <td>NaN</td>\n",
       "      <td>7.0</td>\n",
       "      <td>small</td>\n",
       "      <td>0.0</td>\n",
       "      <td>COMPLETE</td>\n",
       "    </tr>\n",
       "    <tr>\n",
       "      <th>26</th>\n",
       "      <td>26</td>\n",
       "      <td>0.769088</td>\n",
       "      <td>2024-09-24 09:22:43.184009</td>\n",
       "      <td>2024-09-24 09:22:44.174168</td>\n",
       "      <td>0 days 00:00:00.990159</td>\n",
       "      <td>13</td>\n",
       "      <td>8</td>\n",
       "      <td>104</td>\n",
       "      <td>3.0</td>\n",
       "      <td>0.0</td>\n",
       "      <td>0.0</td>\n",
       "      <td>0.0</td>\n",
       "      <td>NaN</td>\n",
       "      <td>NaN</td>\n",
       "      <td>7.0</td>\n",
       "      <td>small</td>\n",
       "      <td>0.0</td>\n",
       "      <td>COMPLETE</td>\n",
       "    </tr>\n",
       "    <tr>\n",
       "      <th>27</th>\n",
       "      <td>27</td>\n",
       "      <td>0.756052</td>\n",
       "      <td>2024-09-24 09:22:44.176420</td>\n",
       "      <td>2024-09-24 09:22:44.806707</td>\n",
       "      <td>0 days 00:00:00.630287</td>\n",
       "      <td>9</td>\n",
       "      <td>9</td>\n",
       "      <td>72</td>\n",
       "      <td>3.0</td>\n",
       "      <td>0.0</td>\n",
       "      <td>0.0</td>\n",
       "      <td>0.0</td>\n",
       "      <td>NaN</td>\n",
       "      <td>NaN</td>\n",
       "      <td>7.0</td>\n",
       "      <td>small</td>\n",
       "      <td>0.0</td>\n",
       "      <td>COMPLETE</td>\n",
       "    </tr>\n",
       "    <tr>\n",
       "      <th>28</th>\n",
       "      <td>28</td>\n",
       "      <td>0.763501</td>\n",
       "      <td>2024-09-24 09:22:44.809703</td>\n",
       "      <td>2024-09-24 09:22:45.767676</td>\n",
       "      <td>0 days 00:00:00.957973</td>\n",
       "      <td>9</td>\n",
       "      <td>8</td>\n",
       "      <td>79</td>\n",
       "      <td>3.0</td>\n",
       "      <td>0.0</td>\n",
       "      <td>0.0</td>\n",
       "      <td>0.0</td>\n",
       "      <td>NaN</td>\n",
       "      <td>NaN</td>\n",
       "      <td>7.0</td>\n",
       "      <td>small</td>\n",
       "      <td>0.0</td>\n",
       "      <td>COMPLETE</td>\n",
       "    </tr>\n",
       "    <tr>\n",
       "      <th>29</th>\n",
       "      <td>29</td>\n",
       "      <td>0.765363</td>\n",
       "      <td>2024-09-24 09:22:45.772644</td>\n",
       "      <td>2024-09-24 09:22:46.397549</td>\n",
       "      <td>0 days 00:00:00.624905</td>\n",
       "      <td>6</td>\n",
       "      <td>10</td>\n",
       "      <td>75</td>\n",
       "      <td>4.0</td>\n",
       "      <td>0.0</td>\n",
       "      <td>0.0</td>\n",
       "      <td>0.0</td>\n",
       "      <td>80049517070000000000008c0a636d6165732e5f636d61...</td>\n",
       "      <td>4682f68314b008594683387945294284b014b094b01869...</td>\n",
       "      <td>7.0</td>\n",
       "      <td>small</td>\n",
       "      <td>0.0</td>\n",
       "      <td>COMPLETE</td>\n",
       "    </tr>\n",
       "    <tr>\n",
       "      <th>30</th>\n",
       "      <td>30</td>\n",
       "      <td>0.759777</td>\n",
       "      <td>2024-09-24 09:22:46.399986</td>\n",
       "      <td>2024-09-24 09:22:47.174034</td>\n",
       "      <td>0 days 00:00:00.774048</td>\n",
       "      <td>7</td>\n",
       "      <td>9</td>\n",
       "      <td>86</td>\n",
       "      <td>4.0</td>\n",
       "      <td>0.0</td>\n",
       "      <td>0.0</td>\n",
       "      <td>0.0</td>\n",
       "      <td>NaN</td>\n",
       "      <td>NaN</td>\n",
       "      <td>7.0</td>\n",
       "      <td>small</td>\n",
       "      <td>0.0</td>\n",
       "      <td>COMPLETE</td>\n",
       "    </tr>\n",
       "    <tr>\n",
       "      <th>31</th>\n",
       "      <td>31</td>\n",
       "      <td>0.765363</td>\n",
       "      <td>2024-09-24 09:22:47.175593</td>\n",
       "      <td>2024-09-24 09:22:48.350302</td>\n",
       "      <td>0 days 00:00:01.174709</td>\n",
       "      <td>7</td>\n",
       "      <td>8</td>\n",
       "      <td>137</td>\n",
       "      <td>4.0</td>\n",
       "      <td>0.0</td>\n",
       "      <td>0.0</td>\n",
       "      <td>0.0</td>\n",
       "      <td>NaN</td>\n",
       "      <td>NaN</td>\n",
       "      <td>7.0</td>\n",
       "      <td>small</td>\n",
       "      <td>0.0</td>\n",
       "      <td>COMPLETE</td>\n",
       "    </tr>\n",
       "    <tr>\n",
       "      <th>32</th>\n",
       "      <td>32</td>\n",
       "      <td>0.770950</td>\n",
       "      <td>2024-09-24 09:22:48.356216</td>\n",
       "      <td>2024-09-24 09:22:49.226646</td>\n",
       "      <td>0 days 00:00:00.870430</td>\n",
       "      <td>8</td>\n",
       "      <td>8</td>\n",
       "      <td>103</td>\n",
       "      <td>4.0</td>\n",
       "      <td>0.0</td>\n",
       "      <td>0.0</td>\n",
       "      <td>0.0</td>\n",
       "      <td>NaN</td>\n",
       "      <td>NaN</td>\n",
       "      <td>7.0</td>\n",
       "      <td>small</td>\n",
       "      <td>0.0</td>\n",
       "      <td>COMPLETE</td>\n",
       "    </tr>\n",
       "    <tr>\n",
       "      <th>33</th>\n",
       "      <td>33</td>\n",
       "      <td>0.761639</td>\n",
       "      <td>2024-09-24 09:22:49.227786</td>\n",
       "      <td>2024-09-24 09:22:50.133507</td>\n",
       "      <td>0 days 00:00:00.905721</td>\n",
       "      <td>6</td>\n",
       "      <td>6</td>\n",
       "      <td>70</td>\n",
       "      <td>4.0</td>\n",
       "      <td>0.0</td>\n",
       "      <td>0.0</td>\n",
       "      <td>0.0</td>\n",
       "      <td>NaN</td>\n",
       "      <td>NaN</td>\n",
       "      <td>7.0</td>\n",
       "      <td>small</td>\n",
       "      <td>0.0</td>\n",
       "      <td>COMPLETE</td>\n",
       "    </tr>\n",
       "    <tr>\n",
       "      <th>34</th>\n",
       "      <td>34</td>\n",
       "      <td>0.759777</td>\n",
       "      <td>2024-09-24 09:22:50.136095</td>\n",
       "      <td>2024-09-24 09:22:50.993983</td>\n",
       "      <td>0 days 00:00:00.857888</td>\n",
       "      <td>9</td>\n",
       "      <td>8</td>\n",
       "      <td>100</td>\n",
       "      <td>4.0</td>\n",
       "      <td>0.0</td>\n",
       "      <td>0.0</td>\n",
       "      <td>0.0</td>\n",
       "      <td>NaN</td>\n",
       "      <td>NaN</td>\n",
       "      <td>7.0</td>\n",
       "      <td>small</td>\n",
       "      <td>0.0</td>\n",
       "      <td>COMPLETE</td>\n",
       "    </tr>\n",
       "    <tr>\n",
       "      <th>35</th>\n",
       "      <td>35</td>\n",
       "      <td>0.765363</td>\n",
       "      <td>2024-09-24 09:22:51.001743</td>\n",
       "      <td>2024-09-24 09:22:51.923197</td>\n",
       "      <td>0 days 00:00:00.921454</td>\n",
       "      <td>9</td>\n",
       "      <td>8</td>\n",
       "      <td>83</td>\n",
       "      <td>4.0</td>\n",
       "      <td>0.0</td>\n",
       "      <td>0.0</td>\n",
       "      <td>0.0</td>\n",
       "      <td>NaN</td>\n",
       "      <td>NaN</td>\n",
       "      <td>7.0</td>\n",
       "      <td>small</td>\n",
       "      <td>0.0</td>\n",
       "      <td>COMPLETE</td>\n",
       "    </tr>\n",
       "    <tr>\n",
       "      <th>36</th>\n",
       "      <td>36</td>\n",
       "      <td>0.759777</td>\n",
       "      <td>2024-09-24 09:22:51.924468</td>\n",
       "      <td>2024-09-24 09:22:52.925455</td>\n",
       "      <td>0 days 00:00:01.000987</td>\n",
       "      <td>9</td>\n",
       "      <td>9</td>\n",
       "      <td>112</td>\n",
       "      <td>5.0</td>\n",
       "      <td>0.0</td>\n",
       "      <td>0.0</td>\n",
       "      <td>0.0</td>\n",
       "      <td>80049517070000000000008c0a636d6165732e5f636d61...</td>\n",
       "      <td>4682f68314b008594683387945294284b014b094b01869...</td>\n",
       "      <td>7.0</td>\n",
       "      <td>small</td>\n",
       "      <td>0.0</td>\n",
       "      <td>COMPLETE</td>\n",
       "    </tr>\n",
       "    <tr>\n",
       "      <th>37</th>\n",
       "      <td>37</td>\n",
       "      <td>0.772812</td>\n",
       "      <td>2024-09-24 09:22:52.926885</td>\n",
       "      <td>2024-09-24 09:22:53.423231</td>\n",
       "      <td>0 days 00:00:00.496346</td>\n",
       "      <td>7</td>\n",
       "      <td>10</td>\n",
       "      <td>59</td>\n",
       "      <td>5.0</td>\n",
       "      <td>0.0</td>\n",
       "      <td>0.0</td>\n",
       "      <td>0.0</td>\n",
       "      <td>NaN</td>\n",
       "      <td>NaN</td>\n",
       "      <td>7.0</td>\n",
       "      <td>small</td>\n",
       "      <td>0.0</td>\n",
       "      <td>COMPLETE</td>\n",
       "    </tr>\n",
       "    <tr>\n",
       "      <th>38</th>\n",
       "      <td>38</td>\n",
       "      <td>0.765363</td>\n",
       "      <td>2024-09-24 09:22:53.430666</td>\n",
       "      <td>2024-09-24 09:22:54.572397</td>\n",
       "      <td>0 days 00:00:01.141731</td>\n",
       "      <td>8</td>\n",
       "      <td>9</td>\n",
       "      <td>129</td>\n",
       "      <td>5.0</td>\n",
       "      <td>0.0</td>\n",
       "      <td>0.0</td>\n",
       "      <td>0.0</td>\n",
       "      <td>NaN</td>\n",
       "      <td>NaN</td>\n",
       "      <td>7.0</td>\n",
       "      <td>small</td>\n",
       "      <td>0.0</td>\n",
       "      <td>COMPLETE</td>\n",
       "    </tr>\n",
       "    <tr>\n",
       "      <th>39</th>\n",
       "      <td>39</td>\n",
       "      <td>0.763501</td>\n",
       "      <td>2024-09-24 09:22:54.574006</td>\n",
       "      <td>2024-09-24 09:22:55.532460</td>\n",
       "      <td>0 days 00:00:00.958454</td>\n",
       "      <td>3</td>\n",
       "      <td>7</td>\n",
       "      <td>125</td>\n",
       "      <td>5.0</td>\n",
       "      <td>0.0</td>\n",
       "      <td>0.0</td>\n",
       "      <td>0.0</td>\n",
       "      <td>NaN</td>\n",
       "      <td>NaN</td>\n",
       "      <td>7.0</td>\n",
       "      <td>small</td>\n",
       "      <td>0.0</td>\n",
       "      <td>COMPLETE</td>\n",
       "    </tr>\n",
       "    <tr>\n",
       "      <th>40</th>\n",
       "      <td>40</td>\n",
       "      <td>0.761639</td>\n",
       "      <td>2024-09-24 09:22:55.536362</td>\n",
       "      <td>2024-09-24 09:22:56.498747</td>\n",
       "      <td>0 days 00:00:00.962385</td>\n",
       "      <td>9</td>\n",
       "      <td>9</td>\n",
       "      <td>104</td>\n",
       "      <td>5.0</td>\n",
       "      <td>0.0</td>\n",
       "      <td>0.0</td>\n",
       "      <td>0.0</td>\n",
       "      <td>NaN</td>\n",
       "      <td>NaN</td>\n",
       "      <td>7.0</td>\n",
       "      <td>small</td>\n",
       "      <td>0.0</td>\n",
       "      <td>COMPLETE</td>\n",
       "    </tr>\n",
       "    <tr>\n",
       "      <th>41</th>\n",
       "      <td>41</td>\n",
       "      <td>0.763501</td>\n",
       "      <td>2024-09-24 09:22:56.506798</td>\n",
       "      <td>2024-09-24 09:22:57.482279</td>\n",
       "      <td>0 days 00:00:00.975481</td>\n",
       "      <td>11</td>\n",
       "      <td>8</td>\n",
       "      <td>97</td>\n",
       "      <td>5.0</td>\n",
       "      <td>0.0</td>\n",
       "      <td>0.0</td>\n",
       "      <td>0.0</td>\n",
       "      <td>NaN</td>\n",
       "      <td>NaN</td>\n",
       "      <td>7.0</td>\n",
       "      <td>small</td>\n",
       "      <td>0.0</td>\n",
       "      <td>COMPLETE</td>\n",
       "    </tr>\n",
       "    <tr>\n",
       "      <th>42</th>\n",
       "      <td>42</td>\n",
       "      <td>0.765363</td>\n",
       "      <td>2024-09-24 09:22:57.485139</td>\n",
       "      <td>2024-09-24 09:22:58.366629</td>\n",
       "      <td>0 days 00:00:00.881490</td>\n",
       "      <td>6</td>\n",
       "      <td>8</td>\n",
       "      <td>101</td>\n",
       "      <td>5.0</td>\n",
       "      <td>0.0</td>\n",
       "      <td>0.0</td>\n",
       "      <td>0.0</td>\n",
       "      <td>NaN</td>\n",
       "      <td>NaN</td>\n",
       "      <td>7.0</td>\n",
       "      <td>small</td>\n",
       "      <td>0.0</td>\n",
       "      <td>COMPLETE</td>\n",
       "    </tr>\n",
       "    <tr>\n",
       "      <th>43</th>\n",
       "      <td>43</td>\n",
       "      <td>0.759777</td>\n",
       "      <td>2024-09-24 09:22:58.368862</td>\n",
       "      <td>2024-09-24 09:22:59.174121</td>\n",
       "      <td>0 days 00:00:00.805259</td>\n",
       "      <td>8</td>\n",
       "      <td>10</td>\n",
       "      <td>86</td>\n",
       "      <td>6.0</td>\n",
       "      <td>0.0</td>\n",
       "      <td>0.0</td>\n",
       "      <td>0.0</td>\n",
       "      <td>80049517070000000000008c0a636d6165732e5f636d61...</td>\n",
       "      <td>4682f68314b008594683387945294284b014b094b01869...</td>\n",
       "      <td>7.0</td>\n",
       "      <td>small</td>\n",
       "      <td>0.0</td>\n",
       "      <td>COMPLETE</td>\n",
       "    </tr>\n",
       "    <tr>\n",
       "      <th>44</th>\n",
       "      <td>44</td>\n",
       "      <td>0.752328</td>\n",
       "      <td>2024-09-24 09:22:59.176253</td>\n",
       "      <td>2024-09-24 09:22:59.832021</td>\n",
       "      <td>0 days 00:00:00.655768</td>\n",
       "      <td>8</td>\n",
       "      <td>9</td>\n",
       "      <td>76</td>\n",
       "      <td>6.0</td>\n",
       "      <td>0.0</td>\n",
       "      <td>0.0</td>\n",
       "      <td>0.0</td>\n",
       "      <td>NaN</td>\n",
       "      <td>NaN</td>\n",
       "      <td>7.0</td>\n",
       "      <td>small</td>\n",
       "      <td>0.0</td>\n",
       "      <td>COMPLETE</td>\n",
       "    </tr>\n",
       "    <tr>\n",
       "      <th>45</th>\n",
       "      <td>45</td>\n",
       "      <td>0.761639</td>\n",
       "      <td>2024-09-24 09:22:59.835068</td>\n",
       "      <td>2024-09-24 09:23:00.811923</td>\n",
       "      <td>0 days 00:00:00.976855</td>\n",
       "      <td>4</td>\n",
       "      <td>7</td>\n",
       "      <td>120</td>\n",
       "      <td>6.0</td>\n",
       "      <td>0.0</td>\n",
       "      <td>0.0</td>\n",
       "      <td>0.0</td>\n",
       "      <td>NaN</td>\n",
       "      <td>NaN</td>\n",
       "      <td>7.0</td>\n",
       "      <td>small</td>\n",
       "      <td>0.0</td>\n",
       "      <td>COMPLETE</td>\n",
       "    </tr>\n",
       "    <tr>\n",
       "      <th>46</th>\n",
       "      <td>46</td>\n",
       "      <td>0.767225</td>\n",
       "      <td>2024-09-24 09:23:00.813865</td>\n",
       "      <td>2024-09-24 09:23:01.435086</td>\n",
       "      <td>0 days 00:00:00.621221</td>\n",
       "      <td>6</td>\n",
       "      <td>10</td>\n",
       "      <td>72</td>\n",
       "      <td>6.0</td>\n",
       "      <td>0.0</td>\n",
       "      <td>0.0</td>\n",
       "      <td>0.0</td>\n",
       "      <td>NaN</td>\n",
       "      <td>NaN</td>\n",
       "      <td>7.0</td>\n",
       "      <td>small</td>\n",
       "      <td>0.0</td>\n",
       "      <td>COMPLETE</td>\n",
       "    </tr>\n",
       "    <tr>\n",
       "      <th>47</th>\n",
       "      <td>47</td>\n",
       "      <td>0.763501</td>\n",
       "      <td>2024-09-24 09:23:01.438767</td>\n",
       "      <td>2024-09-24 09:23:02.050122</td>\n",
       "      <td>0 days 00:00:00.611355</td>\n",
       "      <td>9</td>\n",
       "      <td>10</td>\n",
       "      <td>60</td>\n",
       "      <td>6.0</td>\n",
       "      <td>0.0</td>\n",
       "      <td>0.0</td>\n",
       "      <td>0.0</td>\n",
       "      <td>NaN</td>\n",
       "      <td>NaN</td>\n",
       "      <td>7.0</td>\n",
       "      <td>small</td>\n",
       "      <td>0.0</td>\n",
       "      <td>COMPLETE</td>\n",
       "    </tr>\n",
       "    <tr>\n",
       "      <th>48</th>\n",
       "      <td>48</td>\n",
       "      <td>0.763501</td>\n",
       "      <td>2024-09-24 09:23:02.051066</td>\n",
       "      <td>2024-09-24 09:23:02.594931</td>\n",
       "      <td>0 days 00:00:00.543865</td>\n",
       "      <td>7</td>\n",
       "      <td>10</td>\n",
       "      <td>61</td>\n",
       "      <td>6.0</td>\n",
       "      <td>0.0</td>\n",
       "      <td>0.0</td>\n",
       "      <td>0.0</td>\n",
       "      <td>NaN</td>\n",
       "      <td>NaN</td>\n",
       "      <td>7.0</td>\n",
       "      <td>small</td>\n",
       "      <td>0.0</td>\n",
       "      <td>COMPLETE</td>\n",
       "    </tr>\n",
       "    <tr>\n",
       "      <th>49</th>\n",
       "      <td>49</td>\n",
       "      <td>0.761639</td>\n",
       "      <td>2024-09-24 09:23:02.603022</td>\n",
       "      <td>2024-09-24 09:23:03.157452</td>\n",
       "      <td>0 days 00:00:00.554430</td>\n",
       "      <td>8</td>\n",
       "      <td>9</td>\n",
       "      <td>62</td>\n",
       "      <td>6.0</td>\n",
       "      <td>0.0</td>\n",
       "      <td>0.0</td>\n",
       "      <td>0.0</td>\n",
       "      <td>NaN</td>\n",
       "      <td>NaN</td>\n",
       "      <td>7.0</td>\n",
       "      <td>small</td>\n",
       "      <td>0.0</td>\n",
       "      <td>COMPLETE</td>\n",
       "    </tr>\n",
       "  </tbody>\n",
       "</table>\n",
       "</div>"
      ],
      "text/plain": [
       "    number     value             datetime_start          datetime_complete  \\\n",
       "0        0  0.761639 2024-09-24 09:22:04.259542 2024-09-24 09:22:06.226902   \n",
       "1        1  0.774674 2024-09-24 09:22:06.228917 2024-09-24 09:22:12.740250   \n",
       "2        2  0.767225 2024-09-24 09:22:12.744202 2024-09-24 09:22:14.215263   \n",
       "3        3  0.754190 2024-09-24 09:22:14.217992 2024-09-24 09:22:15.226041   \n",
       "4        4  0.769088 2024-09-24 09:22:15.231387 2024-09-24 09:22:16.283748   \n",
       "5        5  0.763501 2024-09-24 09:22:16.285747 2024-09-24 09:22:17.612178   \n",
       "6        6  0.769088 2024-09-24 09:22:17.614484 2024-09-24 09:22:19.507514   \n",
       "7        7  0.754190 2024-09-24 09:22:19.511533 2024-09-24 09:22:20.309807   \n",
       "8        8  0.761639 2024-09-24 09:22:20.317501 2024-09-24 09:22:21.661991   \n",
       "9        9  0.763501 2024-09-24 09:22:21.665170 2024-09-24 09:22:23.739478   \n",
       "10      10  0.772812 2024-09-24 09:22:23.740477 2024-09-24 09:22:25.505901   \n",
       "11      11  0.765363 2024-09-24 09:22:25.510758 2024-09-24 09:22:26.458194   \n",
       "12      12  0.763501 2024-09-24 09:22:26.466164 2024-09-24 09:22:27.689692   \n",
       "13      13  0.759777 2024-09-24 09:22:27.690967 2024-09-24 09:22:28.657157   \n",
       "14      14  0.763501 2024-09-24 09:22:28.659139 2024-09-24 09:22:29.725417   \n",
       "15      15  0.765363 2024-09-24 09:22:29.728573 2024-09-24 09:22:30.808214   \n",
       "16      16  0.767225 2024-09-24 09:22:30.816023 2024-09-24 09:22:32.012231   \n",
       "17      17  0.765363 2024-09-24 09:22:32.013233 2024-09-24 09:22:34.684073   \n",
       "18      18  0.767225 2024-09-24 09:22:34.685852 2024-09-24 09:22:35.993148   \n",
       "19      19  0.774674 2024-09-24 09:22:35.998477 2024-09-24 09:22:37.431897   \n",
       "20      20  0.770950 2024-09-24 09:22:37.435437 2024-09-24 09:22:38.728145   \n",
       "21      21  0.757914 2024-09-24 09:22:38.732746 2024-09-24 09:22:40.023196   \n",
       "22      22  0.763501 2024-09-24 09:22:40.029562 2024-09-24 09:22:40.974100   \n",
       "23      23  0.769088 2024-09-24 09:22:40.982200 2024-09-24 09:22:41.785308   \n",
       "24      24  0.761639 2024-09-24 09:22:41.786750 2024-09-24 09:22:42.594928   \n",
       "25      25  0.767225 2024-09-24 09:22:42.601706 2024-09-24 09:22:43.181726   \n",
       "26      26  0.769088 2024-09-24 09:22:43.184009 2024-09-24 09:22:44.174168   \n",
       "27      27  0.756052 2024-09-24 09:22:44.176420 2024-09-24 09:22:44.806707   \n",
       "28      28  0.763501 2024-09-24 09:22:44.809703 2024-09-24 09:22:45.767676   \n",
       "29      29  0.765363 2024-09-24 09:22:45.772644 2024-09-24 09:22:46.397549   \n",
       "30      30  0.759777 2024-09-24 09:22:46.399986 2024-09-24 09:22:47.174034   \n",
       "31      31  0.765363 2024-09-24 09:22:47.175593 2024-09-24 09:22:48.350302   \n",
       "32      32  0.770950 2024-09-24 09:22:48.356216 2024-09-24 09:22:49.226646   \n",
       "33      33  0.761639 2024-09-24 09:22:49.227786 2024-09-24 09:22:50.133507   \n",
       "34      34  0.759777 2024-09-24 09:22:50.136095 2024-09-24 09:22:50.993983   \n",
       "35      35  0.765363 2024-09-24 09:22:51.001743 2024-09-24 09:22:51.923197   \n",
       "36      36  0.759777 2024-09-24 09:22:51.924468 2024-09-24 09:22:52.925455   \n",
       "37      37  0.772812 2024-09-24 09:22:52.926885 2024-09-24 09:22:53.423231   \n",
       "38      38  0.765363 2024-09-24 09:22:53.430666 2024-09-24 09:22:54.572397   \n",
       "39      39  0.763501 2024-09-24 09:22:54.574006 2024-09-24 09:22:55.532460   \n",
       "40      40  0.761639 2024-09-24 09:22:55.536362 2024-09-24 09:22:56.498747   \n",
       "41      41  0.763501 2024-09-24 09:22:56.506798 2024-09-24 09:22:57.482279   \n",
       "42      42  0.765363 2024-09-24 09:22:57.485139 2024-09-24 09:22:58.366629   \n",
       "43      43  0.759777 2024-09-24 09:22:58.368862 2024-09-24 09:22:59.174121   \n",
       "44      44  0.752328 2024-09-24 09:22:59.176253 2024-09-24 09:22:59.832021   \n",
       "45      45  0.761639 2024-09-24 09:22:59.835068 2024-09-24 09:23:00.811923   \n",
       "46      46  0.767225 2024-09-24 09:23:00.813865 2024-09-24 09:23:01.435086   \n",
       "47      47  0.763501 2024-09-24 09:23:01.438767 2024-09-24 09:23:02.050122   \n",
       "48      48  0.763501 2024-09-24 09:23:02.051066 2024-09-24 09:23:02.594931   \n",
       "49      49  0.761639 2024-09-24 09:23:02.603022 2024-09-24 09:23:03.157452   \n",
       "\n",
       "                 duration  params_max_depth  params_min_samples_split  \\\n",
       "0  0 days 00:00:01.967360                13                        10   \n",
       "1  0 days 00:00:06.511333                 8                         8   \n",
       "2  0 days 00:00:01.471061                14                         7   \n",
       "3  0 days 00:00:01.008049                11                         5   \n",
       "4  0 days 00:00:01.052361                 8                         4   \n",
       "5  0 days 00:00:01.326431                13                         8   \n",
       "6  0 days 00:00:01.893030                15                         7   \n",
       "7  0 days 00:00:00.798274                10                         8   \n",
       "8  0 days 00:00:01.344490                 6                        10   \n",
       "9  0 days 00:00:02.074308                14                         8   \n",
       "10 0 days 00:00:01.765424                16                         7   \n",
       "11 0 days 00:00:00.947436                 6                         9   \n",
       "12 0 days 00:00:01.223528                 9                         6   \n",
       "13 0 days 00:00:00.966190                11                         7   \n",
       "14 0 days 00:00:01.066278                14                         8   \n",
       "15 0 days 00:00:01.079641                18                         8   \n",
       "16 0 days 00:00:01.196208                 8                        10   \n",
       "17 0 days 00:00:02.670840                12                         6   \n",
       "18 0 days 00:00:01.307296                13                         9   \n",
       "19 0 days 00:00:01.433420                 8                         8   \n",
       "20 0 days 00:00:01.292708                18                         9   \n",
       "21 0 days 00:00:01.290450                 9                         6   \n",
       "22 0 days 00:00:00.944538                11                         7   \n",
       "23 0 days 00:00:00.803108                 6                         9   \n",
       "24 0 days 00:00:00.808178                 6                         7   \n",
       "25 0 days 00:00:00.580020                 6                         9   \n",
       "26 0 days 00:00:00.990159                13                         8   \n",
       "27 0 days 00:00:00.630287                 9                         9   \n",
       "28 0 days 00:00:00.957973                 9                         8   \n",
       "29 0 days 00:00:00.624905                 6                        10   \n",
       "30 0 days 00:00:00.774048                 7                         9   \n",
       "31 0 days 00:00:01.174709                 7                         8   \n",
       "32 0 days 00:00:00.870430                 8                         8   \n",
       "33 0 days 00:00:00.905721                 6                         6   \n",
       "34 0 days 00:00:00.857888                 9                         8   \n",
       "35 0 days 00:00:00.921454                 9                         8   \n",
       "36 0 days 00:00:01.000987                 9                         9   \n",
       "37 0 days 00:00:00.496346                 7                        10   \n",
       "38 0 days 00:00:01.141731                 8                         9   \n",
       "39 0 days 00:00:00.958454                 3                         7   \n",
       "40 0 days 00:00:00.962385                 9                         9   \n",
       "41 0 days 00:00:00.975481                11                         8   \n",
       "42 0 days 00:00:00.881490                 6                         8   \n",
       "43 0 days 00:00:00.805259                 8                        10   \n",
       "44 0 days 00:00:00.655768                 8                         9   \n",
       "45 0 days 00:00:00.976855                 4                         7   \n",
       "46 0 days 00:00:00.621221                 6                        10   \n",
       "47 0 days 00:00:00.611355                 9                        10   \n",
       "48 0 days 00:00:00.543865                 7                        10   \n",
       "49 0 days 00:00:00.554430                 8                         9   \n",
       "\n",
       "    params_n_estimators  system_attrs_cma:generation  \\\n",
       "0                   186                          NaN   \n",
       "1                   126                          0.0   \n",
       "2                   163                          0.0   \n",
       "3                   112                          0.0   \n",
       "4                   102                          0.0   \n",
       "5                   140                          0.0   \n",
       "6                   126                          0.0   \n",
       "7                    81                          0.0   \n",
       "8                   139                          1.0   \n",
       "9                   108                          1.0   \n",
       "10                  122                          1.0   \n",
       "11                  115                          1.0   \n",
       "12                  131                          1.0   \n",
       "13                  110                          1.0   \n",
       "14                  108                          1.0   \n",
       "15                  124                          2.0   \n",
       "16                  112                          2.0   \n",
       "17                  104                          2.0   \n",
       "18                  128                          2.0   \n",
       "19                  100                          2.0   \n",
       "20                  109                          2.0   \n",
       "21                  142                          2.0   \n",
       "22                  106                          3.0   \n",
       "23                   89                          3.0   \n",
       "24                   91                          3.0   \n",
       "25                   62                          3.0   \n",
       "26                  104                          3.0   \n",
       "27                   72                          3.0   \n",
       "28                   79                          3.0   \n",
       "29                   75                          4.0   \n",
       "30                   86                          4.0   \n",
       "31                  137                          4.0   \n",
       "32                  103                          4.0   \n",
       "33                   70                          4.0   \n",
       "34                  100                          4.0   \n",
       "35                   83                          4.0   \n",
       "36                  112                          5.0   \n",
       "37                   59                          5.0   \n",
       "38                  129                          5.0   \n",
       "39                  125                          5.0   \n",
       "40                  104                          5.0   \n",
       "41                   97                          5.0   \n",
       "42                  101                          5.0   \n",
       "43                   86                          6.0   \n",
       "44                   76                          6.0   \n",
       "45                  120                          6.0   \n",
       "46                   72                          6.0   \n",
       "47                   60                          6.0   \n",
       "48                   61                          6.0   \n",
       "49                   62                          6.0   \n",
       "\n",
       "    system_attrs_cma:large_n_eval  system_attrs_cma:n_restarts  \\\n",
       "0                             NaN                          NaN   \n",
       "1                             0.0                          0.0   \n",
       "2                             0.0                          0.0   \n",
       "3                             0.0                          0.0   \n",
       "4                             0.0                          0.0   \n",
       "5                             0.0                          0.0   \n",
       "6                             0.0                          0.0   \n",
       "7                             0.0                          0.0   \n",
       "8                             0.0                          0.0   \n",
       "9                             0.0                          0.0   \n",
       "10                            0.0                          0.0   \n",
       "11                            0.0                          0.0   \n",
       "12                            0.0                          0.0   \n",
       "13                            0.0                          0.0   \n",
       "14                            0.0                          0.0   \n",
       "15                            0.0                          0.0   \n",
       "16                            0.0                          0.0   \n",
       "17                            0.0                          0.0   \n",
       "18                            0.0                          0.0   \n",
       "19                            0.0                          0.0   \n",
       "20                            0.0                          0.0   \n",
       "21                            0.0                          0.0   \n",
       "22                            0.0                          0.0   \n",
       "23                            0.0                          0.0   \n",
       "24                            0.0                          0.0   \n",
       "25                            0.0                          0.0   \n",
       "26                            0.0                          0.0   \n",
       "27                            0.0                          0.0   \n",
       "28                            0.0                          0.0   \n",
       "29                            0.0                          0.0   \n",
       "30                            0.0                          0.0   \n",
       "31                            0.0                          0.0   \n",
       "32                            0.0                          0.0   \n",
       "33                            0.0                          0.0   \n",
       "34                            0.0                          0.0   \n",
       "35                            0.0                          0.0   \n",
       "36                            0.0                          0.0   \n",
       "37                            0.0                          0.0   \n",
       "38                            0.0                          0.0   \n",
       "39                            0.0                          0.0   \n",
       "40                            0.0                          0.0   \n",
       "41                            0.0                          0.0   \n",
       "42                            0.0                          0.0   \n",
       "43                            0.0                          0.0   \n",
       "44                            0.0                          0.0   \n",
       "45                            0.0                          0.0   \n",
       "46                            0.0                          0.0   \n",
       "47                            0.0                          0.0   \n",
       "48                            0.0                          0.0   \n",
       "49                            0.0                          0.0   \n",
       "\n",
       "    system_attrs_cma:n_restarts_with_large  \\\n",
       "0                                      NaN   \n",
       "1                                      0.0   \n",
       "2                                      0.0   \n",
       "3                                      0.0   \n",
       "4                                      0.0   \n",
       "5                                      0.0   \n",
       "6                                      0.0   \n",
       "7                                      0.0   \n",
       "8                                      0.0   \n",
       "9                                      0.0   \n",
       "10                                     0.0   \n",
       "11                                     0.0   \n",
       "12                                     0.0   \n",
       "13                                     0.0   \n",
       "14                                     0.0   \n",
       "15                                     0.0   \n",
       "16                                     0.0   \n",
       "17                                     0.0   \n",
       "18                                     0.0   \n",
       "19                                     0.0   \n",
       "20                                     0.0   \n",
       "21                                     0.0   \n",
       "22                                     0.0   \n",
       "23                                     0.0   \n",
       "24                                     0.0   \n",
       "25                                     0.0   \n",
       "26                                     0.0   \n",
       "27                                     0.0   \n",
       "28                                     0.0   \n",
       "29                                     0.0   \n",
       "30                                     0.0   \n",
       "31                                     0.0   \n",
       "32                                     0.0   \n",
       "33                                     0.0   \n",
       "34                                     0.0   \n",
       "35                                     0.0   \n",
       "36                                     0.0   \n",
       "37                                     0.0   \n",
       "38                                     0.0   \n",
       "39                                     0.0   \n",
       "40                                     0.0   \n",
       "41                                     0.0   \n",
       "42                                     0.0   \n",
       "43                                     0.0   \n",
       "44                                     0.0   \n",
       "45                                     0.0   \n",
       "46                                     0.0   \n",
       "47                                     0.0   \n",
       "48                                     0.0   \n",
       "49                                     0.0   \n",
       "\n",
       "                         system_attrs_cma:optimizer:0  \\\n",
       "0                                                 NaN   \n",
       "1                                                 NaN   \n",
       "2                                                 NaN   \n",
       "3                                                 NaN   \n",
       "4                                                 NaN   \n",
       "5                                                 NaN   \n",
       "6                                                 NaN   \n",
       "7                                                 NaN   \n",
       "8   800495f5060000000000008c0a636d6165732e5f636d61...   \n",
       "9                                                 NaN   \n",
       "10                                                NaN   \n",
       "11                                                NaN   \n",
       "12                                                NaN   \n",
       "13                                                NaN   \n",
       "14                                                NaN   \n",
       "15  80049517070000000000008c0a636d6165732e5f636d61...   \n",
       "16                                                NaN   \n",
       "17                                                NaN   \n",
       "18                                                NaN   \n",
       "19                                                NaN   \n",
       "20                                                NaN   \n",
       "21                                                NaN   \n",
       "22  80049517070000000000008c0a636d6165732e5f636d61...   \n",
       "23                                                NaN   \n",
       "24                                                NaN   \n",
       "25                                                NaN   \n",
       "26                                                NaN   \n",
       "27                                                NaN   \n",
       "28                                                NaN   \n",
       "29  80049517070000000000008c0a636d6165732e5f636d61...   \n",
       "30                                                NaN   \n",
       "31                                                NaN   \n",
       "32                                                NaN   \n",
       "33                                                NaN   \n",
       "34                                                NaN   \n",
       "35                                                NaN   \n",
       "36  80049517070000000000008c0a636d6165732e5f636d61...   \n",
       "37                                                NaN   \n",
       "38                                                NaN   \n",
       "39                                                NaN   \n",
       "40                                                NaN   \n",
       "41                                                NaN   \n",
       "42                                                NaN   \n",
       "43  80049517070000000000008c0a636d6165732e5f636d61...   \n",
       "44                                                NaN   \n",
       "45                                                NaN   \n",
       "46                                                NaN   \n",
       "47                                                NaN   \n",
       "48                                                NaN   \n",
       "49                                                NaN   \n",
       "\n",
       "                         system_attrs_cma:optimizer:1  \\\n",
       "0                                                 NaN   \n",
       "1                                                 NaN   \n",
       "2                                                 NaN   \n",
       "3                                                 NaN   \n",
       "4                                                 NaN   \n",
       "5                                                 NaN   \n",
       "6                                                 NaN   \n",
       "7                                                 NaN   \n",
       "8   4284b014b034b018694681189431800000000000000000...   \n",
       "9                                                 NaN   \n",
       "10                                                NaN   \n",
       "11                                                NaN   \n",
       "12                                                NaN   \n",
       "13                                                NaN   \n",
       "14                                                NaN   \n",
       "15  4682f68314b008594683387945294284b014b094b01869...   \n",
       "16                                                NaN   \n",
       "17                                                NaN   \n",
       "18                                                NaN   \n",
       "19                                                NaN   \n",
       "20                                                NaN   \n",
       "21                                                NaN   \n",
       "22  4682f68314b008594683387945294284b014b094b01869...   \n",
       "23                                                NaN   \n",
       "24                                                NaN   \n",
       "25                                                NaN   \n",
       "26                                                NaN   \n",
       "27                                                NaN   \n",
       "28                                                NaN   \n",
       "29  4682f68314b008594683387945294284b014b094b01869...   \n",
       "30                                                NaN   \n",
       "31                                                NaN   \n",
       "32                                                NaN   \n",
       "33                                                NaN   \n",
       "34                                                NaN   \n",
       "35                                                NaN   \n",
       "36  4682f68314b008594683387945294284b014b094b01869...   \n",
       "37                                                NaN   \n",
       "38                                                NaN   \n",
       "39                                                NaN   \n",
       "40                                                NaN   \n",
       "41                                                NaN   \n",
       "42                                                NaN   \n",
       "43  4682f68314b008594683387945294284b014b094b01869...   \n",
       "44                                                NaN   \n",
       "45                                                NaN   \n",
       "46                                                NaN   \n",
       "47                                                NaN   \n",
       "48                                                NaN   \n",
       "49                                                NaN   \n",
       "\n",
       "    system_attrs_cma:popsize system_attrs_cma:poptype  \\\n",
       "0                        NaN                      NaN   \n",
       "1                        7.0                    small   \n",
       "2                        7.0                    small   \n",
       "3                        7.0                    small   \n",
       "4                        7.0                    small   \n",
       "5                        7.0                    small   \n",
       "6                        7.0                    small   \n",
       "7                        7.0                    small   \n",
       "8                        7.0                    small   \n",
       "9                        7.0                    small   \n",
       "10                       7.0                    small   \n",
       "11                       7.0                    small   \n",
       "12                       7.0                    small   \n",
       "13                       7.0                    small   \n",
       "14                       7.0                    small   \n",
       "15                       7.0                    small   \n",
       "16                       7.0                    small   \n",
       "17                       7.0                    small   \n",
       "18                       7.0                    small   \n",
       "19                       7.0                    small   \n",
       "20                       7.0                    small   \n",
       "21                       7.0                    small   \n",
       "22                       7.0                    small   \n",
       "23                       7.0                    small   \n",
       "24                       7.0                    small   \n",
       "25                       7.0                    small   \n",
       "26                       7.0                    small   \n",
       "27                       7.0                    small   \n",
       "28                       7.0                    small   \n",
       "29                       7.0                    small   \n",
       "30                       7.0                    small   \n",
       "31                       7.0                    small   \n",
       "32                       7.0                    small   \n",
       "33                       7.0                    small   \n",
       "34                       7.0                    small   \n",
       "35                       7.0                    small   \n",
       "36                       7.0                    small   \n",
       "37                       7.0                    small   \n",
       "38                       7.0                    small   \n",
       "39                       7.0                    small   \n",
       "40                       7.0                    small   \n",
       "41                       7.0                    small   \n",
       "42                       7.0                    small   \n",
       "43                       7.0                    small   \n",
       "44                       7.0                    small   \n",
       "45                       7.0                    small   \n",
       "46                       7.0                    small   \n",
       "47                       7.0                    small   \n",
       "48                       7.0                    small   \n",
       "49                       7.0                    small   \n",
       "\n",
       "    system_attrs_cma:small_n_eval     state  \n",
       "0                             NaN  COMPLETE  \n",
       "1                             0.0  COMPLETE  \n",
       "2                             0.0  COMPLETE  \n",
       "3                             0.0  COMPLETE  \n",
       "4                             0.0  COMPLETE  \n",
       "5                             0.0  COMPLETE  \n",
       "6                             0.0  COMPLETE  \n",
       "7                             0.0  COMPLETE  \n",
       "8                             0.0  COMPLETE  \n",
       "9                             0.0  COMPLETE  \n",
       "10                            0.0  COMPLETE  \n",
       "11                            0.0  COMPLETE  \n",
       "12                            0.0  COMPLETE  \n",
       "13                            0.0  COMPLETE  \n",
       "14                            0.0  COMPLETE  \n",
       "15                            0.0  COMPLETE  \n",
       "16                            0.0  COMPLETE  \n",
       "17                            0.0  COMPLETE  \n",
       "18                            0.0  COMPLETE  \n",
       "19                            0.0  COMPLETE  \n",
       "20                            0.0  COMPLETE  \n",
       "21                            0.0  COMPLETE  \n",
       "22                            0.0  COMPLETE  \n",
       "23                            0.0  COMPLETE  \n",
       "24                            0.0  COMPLETE  \n",
       "25                            0.0  COMPLETE  \n",
       "26                            0.0  COMPLETE  \n",
       "27                            0.0  COMPLETE  \n",
       "28                            0.0  COMPLETE  \n",
       "29                            0.0  COMPLETE  \n",
       "30                            0.0  COMPLETE  \n",
       "31                            0.0  COMPLETE  \n",
       "32                            0.0  COMPLETE  \n",
       "33                            0.0  COMPLETE  \n",
       "34                            0.0  COMPLETE  \n",
       "35                            0.0  COMPLETE  \n",
       "36                            0.0  COMPLETE  \n",
       "37                            0.0  COMPLETE  \n",
       "38                            0.0  COMPLETE  \n",
       "39                            0.0  COMPLETE  \n",
       "40                            0.0  COMPLETE  \n",
       "41                            0.0  COMPLETE  \n",
       "42                            0.0  COMPLETE  \n",
       "43                            0.0  COMPLETE  \n",
       "44                            0.0  COMPLETE  \n",
       "45                            0.0  COMPLETE  \n",
       "46                            0.0  COMPLETE  \n",
       "47                            0.0  COMPLETE  \n",
       "48                            0.0  COMPLETE  \n",
       "49                            0.0  COMPLETE  "
      ]
     },
     "execution_count": 21,
     "metadata": {},
     "output_type": "execute_result"
    }
   ],
   "source": [
    "study.trials_dataframe()"
   ]
  },
  {
   "cell_type": "code",
   "execution_count": 22,
   "metadata": {},
   "outputs": [
    {
     "data": {
      "text/plain": [
       "<optuna.samplers._cmaes.CmaEsSampler at 0x20f2b4d1d90>"
      ]
     },
     "execution_count": 22,
     "metadata": {},
     "output_type": "execute_result"
    }
   ],
   "source": [
    "study.sampler"
   ]
  },
  {
   "cell_type": "code",
   "execution_count": 23,
   "metadata": {},
   "outputs": [
    {
     "data": {
      "text/plain": [
       "<optuna.pruners._median.MedianPruner at 0x20f2c08f790>"
      ]
     },
     "execution_count": 23,
     "metadata": {},
     "output_type": "execute_result"
    }
   ],
   "source": [
    "study.pruner"
   ]
  },
  {
   "cell_type": "markdown",
   "metadata": {},
   "source": [
    "### Optuna Visualizations\n"
   ]
  },
  {
   "cell_type": "code",
   "execution_count": 27,
   "metadata": {},
   "outputs": [],
   "source": [
    "# For visualizations\n",
    "from optuna.visualization import plot_optimization_history, plot_parallel_coordinate, plot_slice, plot_contour, plot_param_importances"
   ]
  },
  {
   "cell_type": "code",
   "execution_count": 28,
   "metadata": {},
   "outputs": [
    {
     "data": {
      "application/vnd.plotly.v1+json": {
       "config": {
        "plotlyServerURL": "https://plot.ly"
       },
       "data": [
        {
         "mode": "markers",
         "name": "Objective Value",
         "type": "scatter",
         "x": [
          0,
          1,
          2,
          3,
          4,
          5,
          6,
          7,
          8,
          9,
          10,
          11,
          12,
          13,
          14,
          15,
          16,
          17,
          18,
          19,
          20,
          21,
          22,
          23,
          24,
          25,
          26,
          27,
          28,
          29,
          30,
          31,
          32,
          33,
          34,
          35,
          36,
          37,
          38,
          39,
          40,
          41,
          42,
          43,
          44,
          45,
          46,
          47,
          48,
          49
         ],
         "y": [
          0.7616387337057727,
          0.7746741154562384,
          0.7672253258845437,
          0.7541899441340782,
          0.7690875232774674,
          0.7635009310986964,
          0.7690875232774674,
          0.7541899441340782,
          0.7616387337057727,
          0.7635009310986964,
          0.7728119180633147,
          0.7653631284916201,
          0.7635009310986964,
          0.7597765363128491,
          0.7635009310986964,
          0.7653631284916201,
          0.7672253258845437,
          0.7653631284916201,
          0.7672253258845437,
          0.7746741154562384,
          0.7709497206703911,
          0.7579143389199255,
          0.7635009310986964,
          0.7690875232774674,
          0.7616387337057727,
          0.7672253258845437,
          0.7690875232774674,
          0.756052141527002,
          0.7635009310986964,
          0.7653631284916201,
          0.7597765363128491,
          0.7653631284916201,
          0.7709497206703911,
          0.7616387337057727,
          0.7597765363128491,
          0.7653631284916201,
          0.7597765363128491,
          0.7728119180633147,
          0.7653631284916201,
          0.7635009310986964,
          0.7616387337057727,
          0.7635009310986964,
          0.7653631284916201,
          0.7597765363128491,
          0.7523277467411545,
          0.7616387337057727,
          0.7672253258845437,
          0.7635009310986964,
          0.7635009310986964,
          0.7616387337057727
         ]
        },
        {
         "mode": "lines",
         "name": "Best Value",
         "type": "scatter",
         "x": [
          0,
          1,
          2,
          3,
          4,
          5,
          6,
          7,
          8,
          9,
          10,
          11,
          12,
          13,
          14,
          15,
          16,
          17,
          18,
          19,
          20,
          21,
          22,
          23,
          24,
          25,
          26,
          27,
          28,
          29,
          30,
          31,
          32,
          33,
          34,
          35,
          36,
          37,
          38,
          39,
          40,
          41,
          42,
          43,
          44,
          45,
          46,
          47,
          48,
          49
         ],
         "y": [
          0.7616387337057727,
          0.7746741154562384,
          0.7746741154562384,
          0.7746741154562384,
          0.7746741154562384,
          0.7746741154562384,
          0.7746741154562384,
          0.7746741154562384,
          0.7746741154562384,
          0.7746741154562384,
          0.7746741154562384,
          0.7746741154562384,
          0.7746741154562384,
          0.7746741154562384,
          0.7746741154562384,
          0.7746741154562384,
          0.7746741154562384,
          0.7746741154562384,
          0.7746741154562384,
          0.7746741154562384,
          0.7746741154562384,
          0.7746741154562384,
          0.7746741154562384,
          0.7746741154562384,
          0.7746741154562384,
          0.7746741154562384,
          0.7746741154562384,
          0.7746741154562384,
          0.7746741154562384,
          0.7746741154562384,
          0.7746741154562384,
          0.7746741154562384,
          0.7746741154562384,
          0.7746741154562384,
          0.7746741154562384,
          0.7746741154562384,
          0.7746741154562384,
          0.7746741154562384,
          0.7746741154562384,
          0.7746741154562384,
          0.7746741154562384,
          0.7746741154562384,
          0.7746741154562384,
          0.7746741154562384,
          0.7746741154562384,
          0.7746741154562384,
          0.7746741154562384,
          0.7746741154562384,
          0.7746741154562384,
          0.7746741154562384
         ]
        },
        {
         "marker": {
          "color": "#cccccc"
         },
         "mode": "markers",
         "name": "Infeasible Trial",
         "showlegend": false,
         "type": "scatter",
         "x": [],
         "y": []
        }
       ],
       "layout": {
        "template": {
         "data": {
          "bar": [
           {
            "error_x": {
             "color": "#2a3f5f"
            },
            "error_y": {
             "color": "#2a3f5f"
            },
            "marker": {
             "line": {
              "color": "#E5ECF6",
              "width": 0.5
             },
             "pattern": {
              "fillmode": "overlay",
              "size": 10,
              "solidity": 0.2
             }
            },
            "type": "bar"
           }
          ],
          "barpolar": [
           {
            "marker": {
             "line": {
              "color": "#E5ECF6",
              "width": 0.5
             },
             "pattern": {
              "fillmode": "overlay",
              "size": 10,
              "solidity": 0.2
             }
            },
            "type": "barpolar"
           }
          ],
          "carpet": [
           {
            "aaxis": {
             "endlinecolor": "#2a3f5f",
             "gridcolor": "white",
             "linecolor": "white",
             "minorgridcolor": "white",
             "startlinecolor": "#2a3f5f"
            },
            "baxis": {
             "endlinecolor": "#2a3f5f",
             "gridcolor": "white",
             "linecolor": "white",
             "minorgridcolor": "white",
             "startlinecolor": "#2a3f5f"
            },
            "type": "carpet"
           }
          ],
          "choropleth": [
           {
            "colorbar": {
             "outlinewidth": 0,
             "ticks": ""
            },
            "type": "choropleth"
           }
          ],
          "contour": [
           {
            "colorbar": {
             "outlinewidth": 0,
             "ticks": ""
            },
            "colorscale": [
             [
              0,
              "#0d0887"
             ],
             [
              0.1111111111111111,
              "#46039f"
             ],
             [
              0.2222222222222222,
              "#7201a8"
             ],
             [
              0.3333333333333333,
              "#9c179e"
             ],
             [
              0.4444444444444444,
              "#bd3786"
             ],
             [
              0.5555555555555556,
              "#d8576b"
             ],
             [
              0.6666666666666666,
              "#ed7953"
             ],
             [
              0.7777777777777778,
              "#fb9f3a"
             ],
             [
              0.8888888888888888,
              "#fdca26"
             ],
             [
              1,
              "#f0f921"
             ]
            ],
            "type": "contour"
           }
          ],
          "contourcarpet": [
           {
            "colorbar": {
             "outlinewidth": 0,
             "ticks": ""
            },
            "type": "contourcarpet"
           }
          ],
          "heatmap": [
           {
            "colorbar": {
             "outlinewidth": 0,
             "ticks": ""
            },
            "colorscale": [
             [
              0,
              "#0d0887"
             ],
             [
              0.1111111111111111,
              "#46039f"
             ],
             [
              0.2222222222222222,
              "#7201a8"
             ],
             [
              0.3333333333333333,
              "#9c179e"
             ],
             [
              0.4444444444444444,
              "#bd3786"
             ],
             [
              0.5555555555555556,
              "#d8576b"
             ],
             [
              0.6666666666666666,
              "#ed7953"
             ],
             [
              0.7777777777777778,
              "#fb9f3a"
             ],
             [
              0.8888888888888888,
              "#fdca26"
             ],
             [
              1,
              "#f0f921"
             ]
            ],
            "type": "heatmap"
           }
          ],
          "heatmapgl": [
           {
            "colorbar": {
             "outlinewidth": 0,
             "ticks": ""
            },
            "colorscale": [
             [
              0,
              "#0d0887"
             ],
             [
              0.1111111111111111,
              "#46039f"
             ],
             [
              0.2222222222222222,
              "#7201a8"
             ],
             [
              0.3333333333333333,
              "#9c179e"
             ],
             [
              0.4444444444444444,
              "#bd3786"
             ],
             [
              0.5555555555555556,
              "#d8576b"
             ],
             [
              0.6666666666666666,
              "#ed7953"
             ],
             [
              0.7777777777777778,
              "#fb9f3a"
             ],
             [
              0.8888888888888888,
              "#fdca26"
             ],
             [
              1,
              "#f0f921"
             ]
            ],
            "type": "heatmapgl"
           }
          ],
          "histogram": [
           {
            "marker": {
             "pattern": {
              "fillmode": "overlay",
              "size": 10,
              "solidity": 0.2
             }
            },
            "type": "histogram"
           }
          ],
          "histogram2d": [
           {
            "colorbar": {
             "outlinewidth": 0,
             "ticks": ""
            },
            "colorscale": [
             [
              0,
              "#0d0887"
             ],
             [
              0.1111111111111111,
              "#46039f"
             ],
             [
              0.2222222222222222,
              "#7201a8"
             ],
             [
              0.3333333333333333,
              "#9c179e"
             ],
             [
              0.4444444444444444,
              "#bd3786"
             ],
             [
              0.5555555555555556,
              "#d8576b"
             ],
             [
              0.6666666666666666,
              "#ed7953"
             ],
             [
              0.7777777777777778,
              "#fb9f3a"
             ],
             [
              0.8888888888888888,
              "#fdca26"
             ],
             [
              1,
              "#f0f921"
             ]
            ],
            "type": "histogram2d"
           }
          ],
          "histogram2dcontour": [
           {
            "colorbar": {
             "outlinewidth": 0,
             "ticks": ""
            },
            "colorscale": [
             [
              0,
              "#0d0887"
             ],
             [
              0.1111111111111111,
              "#46039f"
             ],
             [
              0.2222222222222222,
              "#7201a8"
             ],
             [
              0.3333333333333333,
              "#9c179e"
             ],
             [
              0.4444444444444444,
              "#bd3786"
             ],
             [
              0.5555555555555556,
              "#d8576b"
             ],
             [
              0.6666666666666666,
              "#ed7953"
             ],
             [
              0.7777777777777778,
              "#fb9f3a"
             ],
             [
              0.8888888888888888,
              "#fdca26"
             ],
             [
              1,
              "#f0f921"
             ]
            ],
            "type": "histogram2dcontour"
           }
          ],
          "mesh3d": [
           {
            "colorbar": {
             "outlinewidth": 0,
             "ticks": ""
            },
            "type": "mesh3d"
           }
          ],
          "parcoords": [
           {
            "line": {
             "colorbar": {
              "outlinewidth": 0,
              "ticks": ""
             }
            },
            "type": "parcoords"
           }
          ],
          "pie": [
           {
            "automargin": true,
            "type": "pie"
           }
          ],
          "scatter": [
           {
            "fillpattern": {
             "fillmode": "overlay",
             "size": 10,
             "solidity": 0.2
            },
            "type": "scatter"
           }
          ],
          "scatter3d": [
           {
            "line": {
             "colorbar": {
              "outlinewidth": 0,
              "ticks": ""
             }
            },
            "marker": {
             "colorbar": {
              "outlinewidth": 0,
              "ticks": ""
             }
            },
            "type": "scatter3d"
           }
          ],
          "scattercarpet": [
           {
            "marker": {
             "colorbar": {
              "outlinewidth": 0,
              "ticks": ""
             }
            },
            "type": "scattercarpet"
           }
          ],
          "scattergeo": [
           {
            "marker": {
             "colorbar": {
              "outlinewidth": 0,
              "ticks": ""
             }
            },
            "type": "scattergeo"
           }
          ],
          "scattergl": [
           {
            "marker": {
             "colorbar": {
              "outlinewidth": 0,
              "ticks": ""
             }
            },
            "type": "scattergl"
           }
          ],
          "scattermapbox": [
           {
            "marker": {
             "colorbar": {
              "outlinewidth": 0,
              "ticks": ""
             }
            },
            "type": "scattermapbox"
           }
          ],
          "scatterpolar": [
           {
            "marker": {
             "colorbar": {
              "outlinewidth": 0,
              "ticks": ""
             }
            },
            "type": "scatterpolar"
           }
          ],
          "scatterpolargl": [
           {
            "marker": {
             "colorbar": {
              "outlinewidth": 0,
              "ticks": ""
             }
            },
            "type": "scatterpolargl"
           }
          ],
          "scatterternary": [
           {
            "marker": {
             "colorbar": {
              "outlinewidth": 0,
              "ticks": ""
             }
            },
            "type": "scatterternary"
           }
          ],
          "surface": [
           {
            "colorbar": {
             "outlinewidth": 0,
             "ticks": ""
            },
            "colorscale": [
             [
              0,
              "#0d0887"
             ],
             [
              0.1111111111111111,
              "#46039f"
             ],
             [
              0.2222222222222222,
              "#7201a8"
             ],
             [
              0.3333333333333333,
              "#9c179e"
             ],
             [
              0.4444444444444444,
              "#bd3786"
             ],
             [
              0.5555555555555556,
              "#d8576b"
             ],
             [
              0.6666666666666666,
              "#ed7953"
             ],
             [
              0.7777777777777778,
              "#fb9f3a"
             ],
             [
              0.8888888888888888,
              "#fdca26"
             ],
             [
              1,
              "#f0f921"
             ]
            ],
            "type": "surface"
           }
          ],
          "table": [
           {
            "cells": {
             "fill": {
              "color": "#EBF0F8"
             },
             "line": {
              "color": "white"
             }
            },
            "header": {
             "fill": {
              "color": "#C8D4E3"
             },
             "line": {
              "color": "white"
             }
            },
            "type": "table"
           }
          ]
         },
         "layout": {
          "annotationdefaults": {
           "arrowcolor": "#2a3f5f",
           "arrowhead": 0,
           "arrowwidth": 1
          },
          "autotypenumbers": "strict",
          "coloraxis": {
           "colorbar": {
            "outlinewidth": 0,
            "ticks": ""
           }
          },
          "colorscale": {
           "diverging": [
            [
             0,
             "#8e0152"
            ],
            [
             0.1,
             "#c51b7d"
            ],
            [
             0.2,
             "#de77ae"
            ],
            [
             0.3,
             "#f1b6da"
            ],
            [
             0.4,
             "#fde0ef"
            ],
            [
             0.5,
             "#f7f7f7"
            ],
            [
             0.6,
             "#e6f5d0"
            ],
            [
             0.7,
             "#b8e186"
            ],
            [
             0.8,
             "#7fbc41"
            ],
            [
             0.9,
             "#4d9221"
            ],
            [
             1,
             "#276419"
            ]
           ],
           "sequential": [
            [
             0,
             "#0d0887"
            ],
            [
             0.1111111111111111,
             "#46039f"
            ],
            [
             0.2222222222222222,
             "#7201a8"
            ],
            [
             0.3333333333333333,
             "#9c179e"
            ],
            [
             0.4444444444444444,
             "#bd3786"
            ],
            [
             0.5555555555555556,
             "#d8576b"
            ],
            [
             0.6666666666666666,
             "#ed7953"
            ],
            [
             0.7777777777777778,
             "#fb9f3a"
            ],
            [
             0.8888888888888888,
             "#fdca26"
            ],
            [
             1,
             "#f0f921"
            ]
           ],
           "sequentialminus": [
            [
             0,
             "#0d0887"
            ],
            [
             0.1111111111111111,
             "#46039f"
            ],
            [
             0.2222222222222222,
             "#7201a8"
            ],
            [
             0.3333333333333333,
             "#9c179e"
            ],
            [
             0.4444444444444444,
             "#bd3786"
            ],
            [
             0.5555555555555556,
             "#d8576b"
            ],
            [
             0.6666666666666666,
             "#ed7953"
            ],
            [
             0.7777777777777778,
             "#fb9f3a"
            ],
            [
             0.8888888888888888,
             "#fdca26"
            ],
            [
             1,
             "#f0f921"
            ]
           ]
          },
          "colorway": [
           "#636efa",
           "#EF553B",
           "#00cc96",
           "#ab63fa",
           "#FFA15A",
           "#19d3f3",
           "#FF6692",
           "#B6E880",
           "#FF97FF",
           "#FECB52"
          ],
          "font": {
           "color": "#2a3f5f"
          },
          "geo": {
           "bgcolor": "white",
           "lakecolor": "white",
           "landcolor": "#E5ECF6",
           "showlakes": true,
           "showland": true,
           "subunitcolor": "white"
          },
          "hoverlabel": {
           "align": "left"
          },
          "hovermode": "closest",
          "mapbox": {
           "style": "light"
          },
          "paper_bgcolor": "white",
          "plot_bgcolor": "#E5ECF6",
          "polar": {
           "angularaxis": {
            "gridcolor": "white",
            "linecolor": "white",
            "ticks": ""
           },
           "bgcolor": "#E5ECF6",
           "radialaxis": {
            "gridcolor": "white",
            "linecolor": "white",
            "ticks": ""
           }
          },
          "scene": {
           "xaxis": {
            "backgroundcolor": "#E5ECF6",
            "gridcolor": "white",
            "gridwidth": 2,
            "linecolor": "white",
            "showbackground": true,
            "ticks": "",
            "zerolinecolor": "white"
           },
           "yaxis": {
            "backgroundcolor": "#E5ECF6",
            "gridcolor": "white",
            "gridwidth": 2,
            "linecolor": "white",
            "showbackground": true,
            "ticks": "",
            "zerolinecolor": "white"
           },
           "zaxis": {
            "backgroundcolor": "#E5ECF6",
            "gridcolor": "white",
            "gridwidth": 2,
            "linecolor": "white",
            "showbackground": true,
            "ticks": "",
            "zerolinecolor": "white"
           }
          },
          "shapedefaults": {
           "line": {
            "color": "#2a3f5f"
           }
          },
          "ternary": {
           "aaxis": {
            "gridcolor": "white",
            "linecolor": "white",
            "ticks": ""
           },
           "baxis": {
            "gridcolor": "white",
            "linecolor": "white",
            "ticks": ""
           },
           "bgcolor": "#E5ECF6",
           "caxis": {
            "gridcolor": "white",
            "linecolor": "white",
            "ticks": ""
           }
          },
          "title": {
           "x": 0.05
          },
          "xaxis": {
           "automargin": true,
           "gridcolor": "white",
           "linecolor": "white",
           "ticks": "",
           "title": {
            "standoff": 15
           },
           "zerolinecolor": "white",
           "zerolinewidth": 2
          },
          "yaxis": {
           "automargin": true,
           "gridcolor": "white",
           "linecolor": "white",
           "ticks": "",
           "title": {
            "standoff": 15
           },
           "zerolinecolor": "white",
           "zerolinewidth": 2
          }
         }
        },
        "title": {
         "text": "Optimization History Plot"
        },
        "xaxis": {
         "title": {
          "text": "Trial"
         }
        },
        "yaxis": {
         "title": {
          "text": "Objective Value"
         }
        }
       }
      }
     },
     "metadata": {},
     "output_type": "display_data"
    }
   ],
   "source": [
    "# 1. Optimization History\n",
    "\n",
    "plot_optimization_history(study).show()"
   ]
  },
  {
   "cell_type": "code",
   "execution_count": 32,
   "metadata": {},
   "outputs": [
    {
     "data": {
      "application/vnd.plotly.v1+json": {
       "config": {
        "plotlyServerURL": "https://plot.ly"
       },
       "data": [
        {
         "dimensions": [
          {
           "label": "Objective Value",
           "range": [
            0.7523277467411545,
            0.7746741154562384
           ],
           "values": [
            0.7616387337057727,
            0.7746741154562384,
            0.7672253258845437,
            0.7541899441340782,
            0.7690875232774674,
            0.7635009310986964,
            0.7690875232774674,
            0.7541899441340782,
            0.7616387337057727,
            0.7635009310986964,
            0.7728119180633147,
            0.7653631284916201,
            0.7635009310986964,
            0.7597765363128491,
            0.7635009310986964,
            0.7653631284916201,
            0.7672253258845437,
            0.7653631284916201,
            0.7672253258845437,
            0.7746741154562384,
            0.7709497206703911,
            0.7579143389199255,
            0.7635009310986964,
            0.7690875232774674,
            0.7616387337057727,
            0.7672253258845437,
            0.7690875232774674,
            0.756052141527002,
            0.7635009310986964,
            0.7653631284916201,
            0.7597765363128491,
            0.7653631284916201,
            0.7709497206703911,
            0.7616387337057727,
            0.7597765363128491,
            0.7653631284916201,
            0.7597765363128491,
            0.7728119180633147,
            0.7653631284916201,
            0.7635009310986964,
            0.7616387337057727,
            0.7635009310986964,
            0.7653631284916201,
            0.7597765363128491,
            0.7523277467411545,
            0.7616387337057727,
            0.7672253258845437,
            0.7635009310986964,
            0.7635009310986964,
            0.7616387337057727
           ]
          },
          {
           "label": "max_depth",
           "range": [
            3,
            18
           ],
           "values": [
            13,
            8,
            14,
            11,
            8,
            13,
            15,
            10,
            6,
            14,
            16,
            6,
            9,
            11,
            14,
            18,
            8,
            12,
            13,
            8,
            18,
            9,
            11,
            6,
            6,
            6,
            13,
            9,
            9,
            6,
            7,
            7,
            8,
            6,
            9,
            9,
            9,
            7,
            8,
            3,
            9,
            11,
            6,
            8,
            8,
            4,
            6,
            9,
            7,
            8
           ]
          },
          {
           "label": "min_samples_split",
           "range": [
            4,
            10
           ],
           "values": [
            10,
            8,
            7,
            5,
            4,
            8,
            7,
            8,
            10,
            8,
            7,
            9,
            6,
            7,
            8,
            8,
            10,
            6,
            9,
            8,
            9,
            6,
            7,
            9,
            7,
            9,
            8,
            9,
            8,
            10,
            9,
            8,
            8,
            6,
            8,
            8,
            9,
            10,
            9,
            7,
            9,
            8,
            8,
            10,
            9,
            7,
            10,
            10,
            10,
            9
           ]
          },
          {
           "label": "n_estimators",
           "range": [
            59,
            186
           ],
           "values": [
            186,
            126,
            163,
            112,
            102,
            140,
            126,
            81,
            139,
            108,
            122,
            115,
            131,
            110,
            108,
            124,
            112,
            104,
            128,
            100,
            109,
            142,
            106,
            89,
            91,
            62,
            104,
            72,
            79,
            75,
            86,
            137,
            103,
            70,
            100,
            83,
            112,
            59,
            129,
            125,
            104,
            97,
            101,
            86,
            76,
            120,
            72,
            60,
            61,
            62
           ]
          }
         ],
         "labelangle": 30,
         "labelside": "bottom",
         "line": {
          "color": [
           0.7616387337057727,
           0.7746741154562384,
           0.7672253258845437,
           0.7541899441340782,
           0.7690875232774674,
           0.7635009310986964,
           0.7690875232774674,
           0.7541899441340782,
           0.7616387337057727,
           0.7635009310986964,
           0.7728119180633147,
           0.7653631284916201,
           0.7635009310986964,
           0.7597765363128491,
           0.7635009310986964,
           0.7653631284916201,
           0.7672253258845437,
           0.7653631284916201,
           0.7672253258845437,
           0.7746741154562384,
           0.7709497206703911,
           0.7579143389199255,
           0.7635009310986964,
           0.7690875232774674,
           0.7616387337057727,
           0.7672253258845437,
           0.7690875232774674,
           0.756052141527002,
           0.7635009310986964,
           0.7653631284916201,
           0.7597765363128491,
           0.7653631284916201,
           0.7709497206703911,
           0.7616387337057727,
           0.7597765363128491,
           0.7653631284916201,
           0.7597765363128491,
           0.7728119180633147,
           0.7653631284916201,
           0.7635009310986964,
           0.7616387337057727,
           0.7635009310986964,
           0.7653631284916201,
           0.7597765363128491,
           0.7523277467411545,
           0.7616387337057727,
           0.7672253258845437,
           0.7635009310986964,
           0.7635009310986964,
           0.7616387337057727
          ],
          "colorbar": {
           "title": {
            "text": "Objective Value"
           }
          },
          "colorscale": [
           [
            0,
            "rgb(247,251,255)"
           ],
           [
            0.125,
            "rgb(222,235,247)"
           ],
           [
            0.25,
            "rgb(198,219,239)"
           ],
           [
            0.375,
            "rgb(158,202,225)"
           ],
           [
            0.5,
            "rgb(107,174,214)"
           ],
           [
            0.625,
            "rgb(66,146,198)"
           ],
           [
            0.75,
            "rgb(33,113,181)"
           ],
           [
            0.875,
            "rgb(8,81,156)"
           ],
           [
            1,
            "rgb(8,48,107)"
           ]
          ],
          "reversescale": false,
          "showscale": true
         },
         "type": "parcoords"
        }
       ],
       "layout": {
        "template": {
         "data": {
          "bar": [
           {
            "error_x": {
             "color": "#2a3f5f"
            },
            "error_y": {
             "color": "#2a3f5f"
            },
            "marker": {
             "line": {
              "color": "#E5ECF6",
              "width": 0.5
             },
             "pattern": {
              "fillmode": "overlay",
              "size": 10,
              "solidity": 0.2
             }
            },
            "type": "bar"
           }
          ],
          "barpolar": [
           {
            "marker": {
             "line": {
              "color": "#E5ECF6",
              "width": 0.5
             },
             "pattern": {
              "fillmode": "overlay",
              "size": 10,
              "solidity": 0.2
             }
            },
            "type": "barpolar"
           }
          ],
          "carpet": [
           {
            "aaxis": {
             "endlinecolor": "#2a3f5f",
             "gridcolor": "white",
             "linecolor": "white",
             "minorgridcolor": "white",
             "startlinecolor": "#2a3f5f"
            },
            "baxis": {
             "endlinecolor": "#2a3f5f",
             "gridcolor": "white",
             "linecolor": "white",
             "minorgridcolor": "white",
             "startlinecolor": "#2a3f5f"
            },
            "type": "carpet"
           }
          ],
          "choropleth": [
           {
            "colorbar": {
             "outlinewidth": 0,
             "ticks": ""
            },
            "type": "choropleth"
           }
          ],
          "contour": [
           {
            "colorbar": {
             "outlinewidth": 0,
             "ticks": ""
            },
            "colorscale": [
             [
              0,
              "#0d0887"
             ],
             [
              0.1111111111111111,
              "#46039f"
             ],
             [
              0.2222222222222222,
              "#7201a8"
             ],
             [
              0.3333333333333333,
              "#9c179e"
             ],
             [
              0.4444444444444444,
              "#bd3786"
             ],
             [
              0.5555555555555556,
              "#d8576b"
             ],
             [
              0.6666666666666666,
              "#ed7953"
             ],
             [
              0.7777777777777778,
              "#fb9f3a"
             ],
             [
              0.8888888888888888,
              "#fdca26"
             ],
             [
              1,
              "#f0f921"
             ]
            ],
            "type": "contour"
           }
          ],
          "contourcarpet": [
           {
            "colorbar": {
             "outlinewidth": 0,
             "ticks": ""
            },
            "type": "contourcarpet"
           }
          ],
          "heatmap": [
           {
            "colorbar": {
             "outlinewidth": 0,
             "ticks": ""
            },
            "colorscale": [
             [
              0,
              "#0d0887"
             ],
             [
              0.1111111111111111,
              "#46039f"
             ],
             [
              0.2222222222222222,
              "#7201a8"
             ],
             [
              0.3333333333333333,
              "#9c179e"
             ],
             [
              0.4444444444444444,
              "#bd3786"
             ],
             [
              0.5555555555555556,
              "#d8576b"
             ],
             [
              0.6666666666666666,
              "#ed7953"
             ],
             [
              0.7777777777777778,
              "#fb9f3a"
             ],
             [
              0.8888888888888888,
              "#fdca26"
             ],
             [
              1,
              "#f0f921"
             ]
            ],
            "type": "heatmap"
           }
          ],
          "heatmapgl": [
           {
            "colorbar": {
             "outlinewidth": 0,
             "ticks": ""
            },
            "colorscale": [
             [
              0,
              "#0d0887"
             ],
             [
              0.1111111111111111,
              "#46039f"
             ],
             [
              0.2222222222222222,
              "#7201a8"
             ],
             [
              0.3333333333333333,
              "#9c179e"
             ],
             [
              0.4444444444444444,
              "#bd3786"
             ],
             [
              0.5555555555555556,
              "#d8576b"
             ],
             [
              0.6666666666666666,
              "#ed7953"
             ],
             [
              0.7777777777777778,
              "#fb9f3a"
             ],
             [
              0.8888888888888888,
              "#fdca26"
             ],
             [
              1,
              "#f0f921"
             ]
            ],
            "type": "heatmapgl"
           }
          ],
          "histogram": [
           {
            "marker": {
             "pattern": {
              "fillmode": "overlay",
              "size": 10,
              "solidity": 0.2
             }
            },
            "type": "histogram"
           }
          ],
          "histogram2d": [
           {
            "colorbar": {
             "outlinewidth": 0,
             "ticks": ""
            },
            "colorscale": [
             [
              0,
              "#0d0887"
             ],
             [
              0.1111111111111111,
              "#46039f"
             ],
             [
              0.2222222222222222,
              "#7201a8"
             ],
             [
              0.3333333333333333,
              "#9c179e"
             ],
             [
              0.4444444444444444,
              "#bd3786"
             ],
             [
              0.5555555555555556,
              "#d8576b"
             ],
             [
              0.6666666666666666,
              "#ed7953"
             ],
             [
              0.7777777777777778,
              "#fb9f3a"
             ],
             [
              0.8888888888888888,
              "#fdca26"
             ],
             [
              1,
              "#f0f921"
             ]
            ],
            "type": "histogram2d"
           }
          ],
          "histogram2dcontour": [
           {
            "colorbar": {
             "outlinewidth": 0,
             "ticks": ""
            },
            "colorscale": [
             [
              0,
              "#0d0887"
             ],
             [
              0.1111111111111111,
              "#46039f"
             ],
             [
              0.2222222222222222,
              "#7201a8"
             ],
             [
              0.3333333333333333,
              "#9c179e"
             ],
             [
              0.4444444444444444,
              "#bd3786"
             ],
             [
              0.5555555555555556,
              "#d8576b"
             ],
             [
              0.6666666666666666,
              "#ed7953"
             ],
             [
              0.7777777777777778,
              "#fb9f3a"
             ],
             [
              0.8888888888888888,
              "#fdca26"
             ],
             [
              1,
              "#f0f921"
             ]
            ],
            "type": "histogram2dcontour"
           }
          ],
          "mesh3d": [
           {
            "colorbar": {
             "outlinewidth": 0,
             "ticks": ""
            },
            "type": "mesh3d"
           }
          ],
          "parcoords": [
           {
            "line": {
             "colorbar": {
              "outlinewidth": 0,
              "ticks": ""
             }
            },
            "type": "parcoords"
           }
          ],
          "pie": [
           {
            "automargin": true,
            "type": "pie"
           }
          ],
          "scatter": [
           {
            "fillpattern": {
             "fillmode": "overlay",
             "size": 10,
             "solidity": 0.2
            },
            "type": "scatter"
           }
          ],
          "scatter3d": [
           {
            "line": {
             "colorbar": {
              "outlinewidth": 0,
              "ticks": ""
             }
            },
            "marker": {
             "colorbar": {
              "outlinewidth": 0,
              "ticks": ""
             }
            },
            "type": "scatter3d"
           }
          ],
          "scattercarpet": [
           {
            "marker": {
             "colorbar": {
              "outlinewidth": 0,
              "ticks": ""
             }
            },
            "type": "scattercarpet"
           }
          ],
          "scattergeo": [
           {
            "marker": {
             "colorbar": {
              "outlinewidth": 0,
              "ticks": ""
             }
            },
            "type": "scattergeo"
           }
          ],
          "scattergl": [
           {
            "marker": {
             "colorbar": {
              "outlinewidth": 0,
              "ticks": ""
             }
            },
            "type": "scattergl"
           }
          ],
          "scattermapbox": [
           {
            "marker": {
             "colorbar": {
              "outlinewidth": 0,
              "ticks": ""
             }
            },
            "type": "scattermapbox"
           }
          ],
          "scatterpolar": [
           {
            "marker": {
             "colorbar": {
              "outlinewidth": 0,
              "ticks": ""
             }
            },
            "type": "scatterpolar"
           }
          ],
          "scatterpolargl": [
           {
            "marker": {
             "colorbar": {
              "outlinewidth": 0,
              "ticks": ""
             }
            },
            "type": "scatterpolargl"
           }
          ],
          "scatterternary": [
           {
            "marker": {
             "colorbar": {
              "outlinewidth": 0,
              "ticks": ""
             }
            },
            "type": "scatterternary"
           }
          ],
          "surface": [
           {
            "colorbar": {
             "outlinewidth": 0,
             "ticks": ""
            },
            "colorscale": [
             [
              0,
              "#0d0887"
             ],
             [
              0.1111111111111111,
              "#46039f"
             ],
             [
              0.2222222222222222,
              "#7201a8"
             ],
             [
              0.3333333333333333,
              "#9c179e"
             ],
             [
              0.4444444444444444,
              "#bd3786"
             ],
             [
              0.5555555555555556,
              "#d8576b"
             ],
             [
              0.6666666666666666,
              "#ed7953"
             ],
             [
              0.7777777777777778,
              "#fb9f3a"
             ],
             [
              0.8888888888888888,
              "#fdca26"
             ],
             [
              1,
              "#f0f921"
             ]
            ],
            "type": "surface"
           }
          ],
          "table": [
           {
            "cells": {
             "fill": {
              "color": "#EBF0F8"
             },
             "line": {
              "color": "white"
             }
            },
            "header": {
             "fill": {
              "color": "#C8D4E3"
             },
             "line": {
              "color": "white"
             }
            },
            "type": "table"
           }
          ]
         },
         "layout": {
          "annotationdefaults": {
           "arrowcolor": "#2a3f5f",
           "arrowhead": 0,
           "arrowwidth": 1
          },
          "autotypenumbers": "strict",
          "coloraxis": {
           "colorbar": {
            "outlinewidth": 0,
            "ticks": ""
           }
          },
          "colorscale": {
           "diverging": [
            [
             0,
             "#8e0152"
            ],
            [
             0.1,
             "#c51b7d"
            ],
            [
             0.2,
             "#de77ae"
            ],
            [
             0.3,
             "#f1b6da"
            ],
            [
             0.4,
             "#fde0ef"
            ],
            [
             0.5,
             "#f7f7f7"
            ],
            [
             0.6,
             "#e6f5d0"
            ],
            [
             0.7,
             "#b8e186"
            ],
            [
             0.8,
             "#7fbc41"
            ],
            [
             0.9,
             "#4d9221"
            ],
            [
             1,
             "#276419"
            ]
           ],
           "sequential": [
            [
             0,
             "#0d0887"
            ],
            [
             0.1111111111111111,
             "#46039f"
            ],
            [
             0.2222222222222222,
             "#7201a8"
            ],
            [
             0.3333333333333333,
             "#9c179e"
            ],
            [
             0.4444444444444444,
             "#bd3786"
            ],
            [
             0.5555555555555556,
             "#d8576b"
            ],
            [
             0.6666666666666666,
             "#ed7953"
            ],
            [
             0.7777777777777778,
             "#fb9f3a"
            ],
            [
             0.8888888888888888,
             "#fdca26"
            ],
            [
             1,
             "#f0f921"
            ]
           ],
           "sequentialminus": [
            [
             0,
             "#0d0887"
            ],
            [
             0.1111111111111111,
             "#46039f"
            ],
            [
             0.2222222222222222,
             "#7201a8"
            ],
            [
             0.3333333333333333,
             "#9c179e"
            ],
            [
             0.4444444444444444,
             "#bd3786"
            ],
            [
             0.5555555555555556,
             "#d8576b"
            ],
            [
             0.6666666666666666,
             "#ed7953"
            ],
            [
             0.7777777777777778,
             "#fb9f3a"
            ],
            [
             0.8888888888888888,
             "#fdca26"
            ],
            [
             1,
             "#f0f921"
            ]
           ]
          },
          "colorway": [
           "#636efa",
           "#EF553B",
           "#00cc96",
           "#ab63fa",
           "#FFA15A",
           "#19d3f3",
           "#FF6692",
           "#B6E880",
           "#FF97FF",
           "#FECB52"
          ],
          "font": {
           "color": "#2a3f5f"
          },
          "geo": {
           "bgcolor": "white",
           "lakecolor": "white",
           "landcolor": "#E5ECF6",
           "showlakes": true,
           "showland": true,
           "subunitcolor": "white"
          },
          "hoverlabel": {
           "align": "left"
          },
          "hovermode": "closest",
          "mapbox": {
           "style": "light"
          },
          "paper_bgcolor": "white",
          "plot_bgcolor": "#E5ECF6",
          "polar": {
           "angularaxis": {
            "gridcolor": "white",
            "linecolor": "white",
            "ticks": ""
           },
           "bgcolor": "#E5ECF6",
           "radialaxis": {
            "gridcolor": "white",
            "linecolor": "white",
            "ticks": ""
           }
          },
          "scene": {
           "xaxis": {
            "backgroundcolor": "#E5ECF6",
            "gridcolor": "white",
            "gridwidth": 2,
            "linecolor": "white",
            "showbackground": true,
            "ticks": "",
            "zerolinecolor": "white"
           },
           "yaxis": {
            "backgroundcolor": "#E5ECF6",
            "gridcolor": "white",
            "gridwidth": 2,
            "linecolor": "white",
            "showbackground": true,
            "ticks": "",
            "zerolinecolor": "white"
           },
           "zaxis": {
            "backgroundcolor": "#E5ECF6",
            "gridcolor": "white",
            "gridwidth": 2,
            "linecolor": "white",
            "showbackground": true,
            "ticks": "",
            "zerolinecolor": "white"
           }
          },
          "shapedefaults": {
           "line": {
            "color": "#2a3f5f"
           }
          },
          "ternary": {
           "aaxis": {
            "gridcolor": "white",
            "linecolor": "white",
            "ticks": ""
           },
           "baxis": {
            "gridcolor": "white",
            "linecolor": "white",
            "ticks": ""
           },
           "bgcolor": "#E5ECF6",
           "caxis": {
            "gridcolor": "white",
            "linecolor": "white",
            "ticks": ""
           }
          },
          "title": {
           "x": 0.05
          },
          "xaxis": {
           "automargin": true,
           "gridcolor": "white",
           "linecolor": "white",
           "ticks": "",
           "title": {
            "standoff": 15
           },
           "zerolinecolor": "white",
           "zerolinewidth": 2
          },
          "yaxis": {
           "automargin": true,
           "gridcolor": "white",
           "linecolor": "white",
           "ticks": "",
           "title": {
            "standoff": 15
           },
           "zerolinecolor": "white",
           "zerolinewidth": 2
          }
         }
        },
        "title": {
         "text": "Parallel Coordinate Plot"
        }
       }
      }
     },
     "metadata": {},
     "output_type": "display_data"
    }
   ],
   "source": [
    "# 2. Parallel Coordinates Plot\n",
    "plot_parallel_coordinate(study).show()"
   ]
  },
  {
   "cell_type": "code",
   "execution_count": 33,
   "metadata": {},
   "outputs": [
    {
     "data": {
      "application/vnd.plotly.v1+json": {
       "config": {
        "plotlyServerURL": "https://plot.ly"
       },
       "data": [
        {
         "marker": {
          "color": [
           0,
           1,
           2,
           3,
           4,
           5,
           6,
           7,
           8,
           9,
           10,
           11,
           12,
           13,
           14,
           15,
           16,
           17,
           18,
           19,
           20,
           21,
           22,
           23,
           24,
           25,
           26,
           27,
           28,
           29,
           30,
           31,
           32,
           33,
           34,
           35,
           36,
           37,
           38,
           39,
           40,
           41,
           42,
           43,
           44,
           45,
           46,
           47,
           48,
           49
          ],
          "colorbar": {
           "title": {
            "text": "Trial"
           },
           "x": 1,
           "xpad": 40
          },
          "colorscale": [
           [
            0,
            "rgb(247,251,255)"
           ],
           [
            0.125,
            "rgb(222,235,247)"
           ],
           [
            0.25,
            "rgb(198,219,239)"
           ],
           [
            0.375,
            "rgb(158,202,225)"
           ],
           [
            0.5,
            "rgb(107,174,214)"
           ],
           [
            0.625,
            "rgb(66,146,198)"
           ],
           [
            0.75,
            "rgb(33,113,181)"
           ],
           [
            0.875,
            "rgb(8,81,156)"
           ],
           [
            1,
            "rgb(8,48,107)"
           ]
          ],
          "line": {
           "color": "Grey",
           "width": 0.5
          },
          "showscale": true
         },
         "mode": "markers",
         "name": "Feasible Trial",
         "showlegend": false,
         "type": "scatter",
         "x": [
          13,
          8,
          14,
          11,
          8,
          13,
          15,
          10,
          6,
          14,
          16,
          6,
          9,
          11,
          14,
          18,
          8,
          12,
          13,
          8,
          18,
          9,
          11,
          6,
          6,
          6,
          13,
          9,
          9,
          6,
          7,
          7,
          8,
          6,
          9,
          9,
          9,
          7,
          8,
          3,
          9,
          11,
          6,
          8,
          8,
          4,
          6,
          9,
          7,
          8
         ],
         "xaxis": "x",
         "y": [
          0.7616387337057727,
          0.7746741154562384,
          0.7672253258845437,
          0.7541899441340782,
          0.7690875232774674,
          0.7635009310986964,
          0.7690875232774674,
          0.7541899441340782,
          0.7616387337057727,
          0.7635009310986964,
          0.7728119180633147,
          0.7653631284916201,
          0.7635009310986964,
          0.7597765363128491,
          0.7635009310986964,
          0.7653631284916201,
          0.7672253258845437,
          0.7653631284916201,
          0.7672253258845437,
          0.7746741154562384,
          0.7709497206703911,
          0.7579143389199255,
          0.7635009310986964,
          0.7690875232774674,
          0.7616387337057727,
          0.7672253258845437,
          0.7690875232774674,
          0.756052141527002,
          0.7635009310986964,
          0.7653631284916201,
          0.7597765363128491,
          0.7653631284916201,
          0.7709497206703911,
          0.7616387337057727,
          0.7597765363128491,
          0.7653631284916201,
          0.7597765363128491,
          0.7728119180633147,
          0.7653631284916201,
          0.7635009310986964,
          0.7616387337057727,
          0.7635009310986964,
          0.7653631284916201,
          0.7597765363128491,
          0.7523277467411545,
          0.7616387337057727,
          0.7672253258845437,
          0.7635009310986964,
          0.7635009310986964,
          0.7616387337057727
         ],
         "yaxis": "y"
        },
        {
         "marker": {
          "color": [
           0,
           1,
           2,
           3,
           4,
           5,
           6,
           7,
           8,
           9,
           10,
           11,
           12,
           13,
           14,
           15,
           16,
           17,
           18,
           19,
           20,
           21,
           22,
           23,
           24,
           25,
           26,
           27,
           28,
           29,
           30,
           31,
           32,
           33,
           34,
           35,
           36,
           37,
           38,
           39,
           40,
           41,
           42,
           43,
           44,
           45,
           46,
           47,
           48,
           49
          ],
          "colorbar": {
           "title": {
            "text": "Trial"
           },
           "x": 1,
           "xpad": 40
          },
          "colorscale": [
           [
            0,
            "rgb(247,251,255)"
           ],
           [
            0.125,
            "rgb(222,235,247)"
           ],
           [
            0.25,
            "rgb(198,219,239)"
           ],
           [
            0.375,
            "rgb(158,202,225)"
           ],
           [
            0.5,
            "rgb(107,174,214)"
           ],
           [
            0.625,
            "rgb(66,146,198)"
           ],
           [
            0.75,
            "rgb(33,113,181)"
           ],
           [
            0.875,
            "rgb(8,81,156)"
           ],
           [
            1,
            "rgb(8,48,107)"
           ]
          ],
          "line": {
           "color": "Grey",
           "width": 0.5
          },
          "showscale": false
         },
         "mode": "markers",
         "name": "Feasible Trial",
         "showlegend": false,
         "type": "scatter",
         "x": [
          10,
          8,
          7,
          5,
          4,
          8,
          7,
          8,
          10,
          8,
          7,
          9,
          6,
          7,
          8,
          8,
          10,
          6,
          9,
          8,
          9,
          6,
          7,
          9,
          7,
          9,
          8,
          9,
          8,
          10,
          9,
          8,
          8,
          6,
          8,
          8,
          9,
          10,
          9,
          7,
          9,
          8,
          8,
          10,
          9,
          7,
          10,
          10,
          10,
          9
         ],
         "xaxis": "x2",
         "y": [
          0.7616387337057727,
          0.7746741154562384,
          0.7672253258845437,
          0.7541899441340782,
          0.7690875232774674,
          0.7635009310986964,
          0.7690875232774674,
          0.7541899441340782,
          0.7616387337057727,
          0.7635009310986964,
          0.7728119180633147,
          0.7653631284916201,
          0.7635009310986964,
          0.7597765363128491,
          0.7635009310986964,
          0.7653631284916201,
          0.7672253258845437,
          0.7653631284916201,
          0.7672253258845437,
          0.7746741154562384,
          0.7709497206703911,
          0.7579143389199255,
          0.7635009310986964,
          0.7690875232774674,
          0.7616387337057727,
          0.7672253258845437,
          0.7690875232774674,
          0.756052141527002,
          0.7635009310986964,
          0.7653631284916201,
          0.7597765363128491,
          0.7653631284916201,
          0.7709497206703911,
          0.7616387337057727,
          0.7597765363128491,
          0.7653631284916201,
          0.7597765363128491,
          0.7728119180633147,
          0.7653631284916201,
          0.7635009310986964,
          0.7616387337057727,
          0.7635009310986964,
          0.7653631284916201,
          0.7597765363128491,
          0.7523277467411545,
          0.7616387337057727,
          0.7672253258845437,
          0.7635009310986964,
          0.7635009310986964,
          0.7616387337057727
         ],
         "yaxis": "y2"
        },
        {
         "marker": {
          "color": [
           0,
           1,
           2,
           3,
           4,
           5,
           6,
           7,
           8,
           9,
           10,
           11,
           12,
           13,
           14,
           15,
           16,
           17,
           18,
           19,
           20,
           21,
           22,
           23,
           24,
           25,
           26,
           27,
           28,
           29,
           30,
           31,
           32,
           33,
           34,
           35,
           36,
           37,
           38,
           39,
           40,
           41,
           42,
           43,
           44,
           45,
           46,
           47,
           48,
           49
          ],
          "colorbar": {
           "title": {
            "text": "Trial"
           },
           "x": 1,
           "xpad": 40
          },
          "colorscale": [
           [
            0,
            "rgb(247,251,255)"
           ],
           [
            0.125,
            "rgb(222,235,247)"
           ],
           [
            0.25,
            "rgb(198,219,239)"
           ],
           [
            0.375,
            "rgb(158,202,225)"
           ],
           [
            0.5,
            "rgb(107,174,214)"
           ],
           [
            0.625,
            "rgb(66,146,198)"
           ],
           [
            0.75,
            "rgb(33,113,181)"
           ],
           [
            0.875,
            "rgb(8,81,156)"
           ],
           [
            1,
            "rgb(8,48,107)"
           ]
          ],
          "line": {
           "color": "Grey",
           "width": 0.5
          },
          "showscale": false
         },
         "mode": "markers",
         "name": "Feasible Trial",
         "showlegend": false,
         "type": "scatter",
         "x": [
          186,
          126,
          163,
          112,
          102,
          140,
          126,
          81,
          139,
          108,
          122,
          115,
          131,
          110,
          108,
          124,
          112,
          104,
          128,
          100,
          109,
          142,
          106,
          89,
          91,
          62,
          104,
          72,
          79,
          75,
          86,
          137,
          103,
          70,
          100,
          83,
          112,
          59,
          129,
          125,
          104,
          97,
          101,
          86,
          76,
          120,
          72,
          60,
          61,
          62
         ],
         "xaxis": "x3",
         "y": [
          0.7616387337057727,
          0.7746741154562384,
          0.7672253258845437,
          0.7541899441340782,
          0.7690875232774674,
          0.7635009310986964,
          0.7690875232774674,
          0.7541899441340782,
          0.7616387337057727,
          0.7635009310986964,
          0.7728119180633147,
          0.7653631284916201,
          0.7635009310986964,
          0.7597765363128491,
          0.7635009310986964,
          0.7653631284916201,
          0.7672253258845437,
          0.7653631284916201,
          0.7672253258845437,
          0.7746741154562384,
          0.7709497206703911,
          0.7579143389199255,
          0.7635009310986964,
          0.7690875232774674,
          0.7616387337057727,
          0.7672253258845437,
          0.7690875232774674,
          0.756052141527002,
          0.7635009310986964,
          0.7653631284916201,
          0.7597765363128491,
          0.7653631284916201,
          0.7709497206703911,
          0.7616387337057727,
          0.7597765363128491,
          0.7653631284916201,
          0.7597765363128491,
          0.7728119180633147,
          0.7653631284916201,
          0.7635009310986964,
          0.7616387337057727,
          0.7635009310986964,
          0.7653631284916201,
          0.7597765363128491,
          0.7523277467411545,
          0.7616387337057727,
          0.7672253258845437,
          0.7635009310986964,
          0.7635009310986964,
          0.7616387337057727
         ],
         "yaxis": "y3"
        }
       ],
       "layout": {
        "template": {
         "data": {
          "bar": [
           {
            "error_x": {
             "color": "#2a3f5f"
            },
            "error_y": {
             "color": "#2a3f5f"
            },
            "marker": {
             "line": {
              "color": "#E5ECF6",
              "width": 0.5
             },
             "pattern": {
              "fillmode": "overlay",
              "size": 10,
              "solidity": 0.2
             }
            },
            "type": "bar"
           }
          ],
          "barpolar": [
           {
            "marker": {
             "line": {
              "color": "#E5ECF6",
              "width": 0.5
             },
             "pattern": {
              "fillmode": "overlay",
              "size": 10,
              "solidity": 0.2
             }
            },
            "type": "barpolar"
           }
          ],
          "carpet": [
           {
            "aaxis": {
             "endlinecolor": "#2a3f5f",
             "gridcolor": "white",
             "linecolor": "white",
             "minorgridcolor": "white",
             "startlinecolor": "#2a3f5f"
            },
            "baxis": {
             "endlinecolor": "#2a3f5f",
             "gridcolor": "white",
             "linecolor": "white",
             "minorgridcolor": "white",
             "startlinecolor": "#2a3f5f"
            },
            "type": "carpet"
           }
          ],
          "choropleth": [
           {
            "colorbar": {
             "outlinewidth": 0,
             "ticks": ""
            },
            "type": "choropleth"
           }
          ],
          "contour": [
           {
            "colorbar": {
             "outlinewidth": 0,
             "ticks": ""
            },
            "colorscale": [
             [
              0,
              "#0d0887"
             ],
             [
              0.1111111111111111,
              "#46039f"
             ],
             [
              0.2222222222222222,
              "#7201a8"
             ],
             [
              0.3333333333333333,
              "#9c179e"
             ],
             [
              0.4444444444444444,
              "#bd3786"
             ],
             [
              0.5555555555555556,
              "#d8576b"
             ],
             [
              0.6666666666666666,
              "#ed7953"
             ],
             [
              0.7777777777777778,
              "#fb9f3a"
             ],
             [
              0.8888888888888888,
              "#fdca26"
             ],
             [
              1,
              "#f0f921"
             ]
            ],
            "type": "contour"
           }
          ],
          "contourcarpet": [
           {
            "colorbar": {
             "outlinewidth": 0,
             "ticks": ""
            },
            "type": "contourcarpet"
           }
          ],
          "heatmap": [
           {
            "colorbar": {
             "outlinewidth": 0,
             "ticks": ""
            },
            "colorscale": [
             [
              0,
              "#0d0887"
             ],
             [
              0.1111111111111111,
              "#46039f"
             ],
             [
              0.2222222222222222,
              "#7201a8"
             ],
             [
              0.3333333333333333,
              "#9c179e"
             ],
             [
              0.4444444444444444,
              "#bd3786"
             ],
             [
              0.5555555555555556,
              "#d8576b"
             ],
             [
              0.6666666666666666,
              "#ed7953"
             ],
             [
              0.7777777777777778,
              "#fb9f3a"
             ],
             [
              0.8888888888888888,
              "#fdca26"
             ],
             [
              1,
              "#f0f921"
             ]
            ],
            "type": "heatmap"
           }
          ],
          "heatmapgl": [
           {
            "colorbar": {
             "outlinewidth": 0,
             "ticks": ""
            },
            "colorscale": [
             [
              0,
              "#0d0887"
             ],
             [
              0.1111111111111111,
              "#46039f"
             ],
             [
              0.2222222222222222,
              "#7201a8"
             ],
             [
              0.3333333333333333,
              "#9c179e"
             ],
             [
              0.4444444444444444,
              "#bd3786"
             ],
             [
              0.5555555555555556,
              "#d8576b"
             ],
             [
              0.6666666666666666,
              "#ed7953"
             ],
             [
              0.7777777777777778,
              "#fb9f3a"
             ],
             [
              0.8888888888888888,
              "#fdca26"
             ],
             [
              1,
              "#f0f921"
             ]
            ],
            "type": "heatmapgl"
           }
          ],
          "histogram": [
           {
            "marker": {
             "pattern": {
              "fillmode": "overlay",
              "size": 10,
              "solidity": 0.2
             }
            },
            "type": "histogram"
           }
          ],
          "histogram2d": [
           {
            "colorbar": {
             "outlinewidth": 0,
             "ticks": ""
            },
            "colorscale": [
             [
              0,
              "#0d0887"
             ],
             [
              0.1111111111111111,
              "#46039f"
             ],
             [
              0.2222222222222222,
              "#7201a8"
             ],
             [
              0.3333333333333333,
              "#9c179e"
             ],
             [
              0.4444444444444444,
              "#bd3786"
             ],
             [
              0.5555555555555556,
              "#d8576b"
             ],
             [
              0.6666666666666666,
              "#ed7953"
             ],
             [
              0.7777777777777778,
              "#fb9f3a"
             ],
             [
              0.8888888888888888,
              "#fdca26"
             ],
             [
              1,
              "#f0f921"
             ]
            ],
            "type": "histogram2d"
           }
          ],
          "histogram2dcontour": [
           {
            "colorbar": {
             "outlinewidth": 0,
             "ticks": ""
            },
            "colorscale": [
             [
              0,
              "#0d0887"
             ],
             [
              0.1111111111111111,
              "#46039f"
             ],
             [
              0.2222222222222222,
              "#7201a8"
             ],
             [
              0.3333333333333333,
              "#9c179e"
             ],
             [
              0.4444444444444444,
              "#bd3786"
             ],
             [
              0.5555555555555556,
              "#d8576b"
             ],
             [
              0.6666666666666666,
              "#ed7953"
             ],
             [
              0.7777777777777778,
              "#fb9f3a"
             ],
             [
              0.8888888888888888,
              "#fdca26"
             ],
             [
              1,
              "#f0f921"
             ]
            ],
            "type": "histogram2dcontour"
           }
          ],
          "mesh3d": [
           {
            "colorbar": {
             "outlinewidth": 0,
             "ticks": ""
            },
            "type": "mesh3d"
           }
          ],
          "parcoords": [
           {
            "line": {
             "colorbar": {
              "outlinewidth": 0,
              "ticks": ""
             }
            },
            "type": "parcoords"
           }
          ],
          "pie": [
           {
            "automargin": true,
            "type": "pie"
           }
          ],
          "scatter": [
           {
            "fillpattern": {
             "fillmode": "overlay",
             "size": 10,
             "solidity": 0.2
            },
            "type": "scatter"
           }
          ],
          "scatter3d": [
           {
            "line": {
             "colorbar": {
              "outlinewidth": 0,
              "ticks": ""
             }
            },
            "marker": {
             "colorbar": {
              "outlinewidth": 0,
              "ticks": ""
             }
            },
            "type": "scatter3d"
           }
          ],
          "scattercarpet": [
           {
            "marker": {
             "colorbar": {
              "outlinewidth": 0,
              "ticks": ""
             }
            },
            "type": "scattercarpet"
           }
          ],
          "scattergeo": [
           {
            "marker": {
             "colorbar": {
              "outlinewidth": 0,
              "ticks": ""
             }
            },
            "type": "scattergeo"
           }
          ],
          "scattergl": [
           {
            "marker": {
             "colorbar": {
              "outlinewidth": 0,
              "ticks": ""
             }
            },
            "type": "scattergl"
           }
          ],
          "scattermapbox": [
           {
            "marker": {
             "colorbar": {
              "outlinewidth": 0,
              "ticks": ""
             }
            },
            "type": "scattermapbox"
           }
          ],
          "scatterpolar": [
           {
            "marker": {
             "colorbar": {
              "outlinewidth": 0,
              "ticks": ""
             }
            },
            "type": "scatterpolar"
           }
          ],
          "scatterpolargl": [
           {
            "marker": {
             "colorbar": {
              "outlinewidth": 0,
              "ticks": ""
             }
            },
            "type": "scatterpolargl"
           }
          ],
          "scatterternary": [
           {
            "marker": {
             "colorbar": {
              "outlinewidth": 0,
              "ticks": ""
             }
            },
            "type": "scatterternary"
           }
          ],
          "surface": [
           {
            "colorbar": {
             "outlinewidth": 0,
             "ticks": ""
            },
            "colorscale": [
             [
              0,
              "#0d0887"
             ],
             [
              0.1111111111111111,
              "#46039f"
             ],
             [
              0.2222222222222222,
              "#7201a8"
             ],
             [
              0.3333333333333333,
              "#9c179e"
             ],
             [
              0.4444444444444444,
              "#bd3786"
             ],
             [
              0.5555555555555556,
              "#d8576b"
             ],
             [
              0.6666666666666666,
              "#ed7953"
             ],
             [
              0.7777777777777778,
              "#fb9f3a"
             ],
             [
              0.8888888888888888,
              "#fdca26"
             ],
             [
              1,
              "#f0f921"
             ]
            ],
            "type": "surface"
           }
          ],
          "table": [
           {
            "cells": {
             "fill": {
              "color": "#EBF0F8"
             },
             "line": {
              "color": "white"
             }
            },
            "header": {
             "fill": {
              "color": "#C8D4E3"
             },
             "line": {
              "color": "white"
             }
            },
            "type": "table"
           }
          ]
         },
         "layout": {
          "annotationdefaults": {
           "arrowcolor": "#2a3f5f",
           "arrowhead": 0,
           "arrowwidth": 1
          },
          "autotypenumbers": "strict",
          "coloraxis": {
           "colorbar": {
            "outlinewidth": 0,
            "ticks": ""
           }
          },
          "colorscale": {
           "diverging": [
            [
             0,
             "#8e0152"
            ],
            [
             0.1,
             "#c51b7d"
            ],
            [
             0.2,
             "#de77ae"
            ],
            [
             0.3,
             "#f1b6da"
            ],
            [
             0.4,
             "#fde0ef"
            ],
            [
             0.5,
             "#f7f7f7"
            ],
            [
             0.6,
             "#e6f5d0"
            ],
            [
             0.7,
             "#b8e186"
            ],
            [
             0.8,
             "#7fbc41"
            ],
            [
             0.9,
             "#4d9221"
            ],
            [
             1,
             "#276419"
            ]
           ],
           "sequential": [
            [
             0,
             "#0d0887"
            ],
            [
             0.1111111111111111,
             "#46039f"
            ],
            [
             0.2222222222222222,
             "#7201a8"
            ],
            [
             0.3333333333333333,
             "#9c179e"
            ],
            [
             0.4444444444444444,
             "#bd3786"
            ],
            [
             0.5555555555555556,
             "#d8576b"
            ],
            [
             0.6666666666666666,
             "#ed7953"
            ],
            [
             0.7777777777777778,
             "#fb9f3a"
            ],
            [
             0.8888888888888888,
             "#fdca26"
            ],
            [
             1,
             "#f0f921"
            ]
           ],
           "sequentialminus": [
            [
             0,
             "#0d0887"
            ],
            [
             0.1111111111111111,
             "#46039f"
            ],
            [
             0.2222222222222222,
             "#7201a8"
            ],
            [
             0.3333333333333333,
             "#9c179e"
            ],
            [
             0.4444444444444444,
             "#bd3786"
            ],
            [
             0.5555555555555556,
             "#d8576b"
            ],
            [
             0.6666666666666666,
             "#ed7953"
            ],
            [
             0.7777777777777778,
             "#fb9f3a"
            ],
            [
             0.8888888888888888,
             "#fdca26"
            ],
            [
             1,
             "#f0f921"
            ]
           ]
          },
          "colorway": [
           "#636efa",
           "#EF553B",
           "#00cc96",
           "#ab63fa",
           "#FFA15A",
           "#19d3f3",
           "#FF6692",
           "#B6E880",
           "#FF97FF",
           "#FECB52"
          ],
          "font": {
           "color": "#2a3f5f"
          },
          "geo": {
           "bgcolor": "white",
           "lakecolor": "white",
           "landcolor": "#E5ECF6",
           "showlakes": true,
           "showland": true,
           "subunitcolor": "white"
          },
          "hoverlabel": {
           "align": "left"
          },
          "hovermode": "closest",
          "mapbox": {
           "style": "light"
          },
          "paper_bgcolor": "white",
          "plot_bgcolor": "#E5ECF6",
          "polar": {
           "angularaxis": {
            "gridcolor": "white",
            "linecolor": "white",
            "ticks": ""
           },
           "bgcolor": "#E5ECF6",
           "radialaxis": {
            "gridcolor": "white",
            "linecolor": "white",
            "ticks": ""
           }
          },
          "scene": {
           "xaxis": {
            "backgroundcolor": "#E5ECF6",
            "gridcolor": "white",
            "gridwidth": 2,
            "linecolor": "white",
            "showbackground": true,
            "ticks": "",
            "zerolinecolor": "white"
           },
           "yaxis": {
            "backgroundcolor": "#E5ECF6",
            "gridcolor": "white",
            "gridwidth": 2,
            "linecolor": "white",
            "showbackground": true,
            "ticks": "",
            "zerolinecolor": "white"
           },
           "zaxis": {
            "backgroundcolor": "#E5ECF6",
            "gridcolor": "white",
            "gridwidth": 2,
            "linecolor": "white",
            "showbackground": true,
            "ticks": "",
            "zerolinecolor": "white"
           }
          },
          "shapedefaults": {
           "line": {
            "color": "#2a3f5f"
           }
          },
          "ternary": {
           "aaxis": {
            "gridcolor": "white",
            "linecolor": "white",
            "ticks": ""
           },
           "baxis": {
            "gridcolor": "white",
            "linecolor": "white",
            "ticks": ""
           },
           "bgcolor": "#E5ECF6",
           "caxis": {
            "gridcolor": "white",
            "linecolor": "white",
            "ticks": ""
           }
          },
          "title": {
           "x": 0.05
          },
          "xaxis": {
           "automargin": true,
           "gridcolor": "white",
           "linecolor": "white",
           "ticks": "",
           "title": {
            "standoff": 15
           },
           "zerolinecolor": "white",
           "zerolinewidth": 2
          },
          "yaxis": {
           "automargin": true,
           "gridcolor": "white",
           "linecolor": "white",
           "ticks": "",
           "title": {
            "standoff": 15
           },
           "zerolinecolor": "white",
           "zerolinewidth": 2
          }
         }
        },
        "title": {
         "text": "Slice Plot"
        },
        "xaxis": {
         "anchor": "y",
         "domain": [
          0,
          0.2888888888888889
         ],
         "title": {
          "text": "max_depth"
         }
        },
        "xaxis2": {
         "anchor": "y2",
         "domain": [
          0.35555555555555557,
          0.6444444444444445
         ],
         "title": {
          "text": "min_samples_split"
         }
        },
        "xaxis3": {
         "anchor": "y3",
         "domain": [
          0.7111111111111111,
          1
         ],
         "title": {
          "text": "n_estimators"
         }
        },
        "yaxis": {
         "anchor": "x",
         "domain": [
          0,
          1
         ],
         "title": {
          "text": "Objective Value"
         }
        },
        "yaxis2": {
         "anchor": "x2",
         "domain": [
          0,
          1
         ],
         "matches": "y",
         "showticklabels": false
        },
        "yaxis3": {
         "anchor": "x3",
         "domain": [
          0,
          1
         ],
         "matches": "y",
         "showticklabels": false
        }
       }
      }
     },
     "metadata": {},
     "output_type": "display_data"
    }
   ],
   "source": [
    "# 3. Slice Plot\n",
    "plot_slice(study).show()"
   ]
  },
  {
   "cell_type": "code",
   "execution_count": 34,
   "metadata": {},
   "outputs": [
    {
     "data": {
      "application/vnd.plotly.v1+json": {
       "config": {
        "plotlyServerURL": "https://plot.ly"
       },
       "data": [
        {
         "type": "scatter",
         "xaxis": "x",
         "yaxis": "y"
        },
        {
         "colorbar": {
          "title": {
           "text": "Objective Value"
          }
         },
         "colorscale": [
          [
           0,
           "rgb(247,251,255)"
          ],
          [
           0.125,
           "rgb(222,235,247)"
          ],
          [
           0.25,
           "rgb(198,219,239)"
          ],
          [
           0.375,
           "rgb(158,202,225)"
          ],
          [
           0.5,
           "rgb(107,174,214)"
          ],
          [
           0.625,
           "rgb(66,146,198)"
          ],
          [
           0.75,
           "rgb(33,113,181)"
          ],
          [
           0.875,
           "rgb(8,81,156)"
          ],
          [
           1,
           "rgb(8,48,107)"
          ]
         ],
         "connectgaps": true,
         "contours": {
          "coloring": "heatmap"
         },
         "hoverinfo": "none",
         "line": {
          "smoothing": 1.3
         },
         "reversescale": false,
         "showscale": true,
         "type": "contour",
         "x": [
          2.25,
          3,
          4,
          6,
          7,
          8,
          9,
          10,
          11,
          12,
          13,
          14,
          15,
          16,
          18,
          18.75
         ],
         "xaxis": "x4",
         "y": [
          3.7,
          4,
          5,
          6,
          7,
          8,
          9,
          10,
          10.3
         ],
         "yaxis": "y4",
         "z": [
          [
           null,
           null,
           null,
           null,
           null,
           null,
           null,
           null,
           null,
           null,
           null,
           null,
           null,
           null,
           null,
           null
          ],
          [
           null,
           null,
           null,
           null,
           null,
           0.7690875232774674,
           null,
           null,
           null,
           null,
           null,
           null,
           null,
           null,
           null,
           null
          ],
          [
           null,
           null,
           null,
           null,
           null,
           null,
           null,
           null,
           0.7541899441340782,
           null,
           null,
           null,
           null,
           null,
           null,
           null
          ],
          [
           null,
           null,
           null,
           0.7616387337057727,
           null,
           null,
           0.7635009310986964,
           null,
           null,
           0.7653631284916201,
           null,
           null,
           null,
           null,
           null,
           null
          ],
          [
           null,
           0.7635009310986964,
           0.7616387337057727,
           0.7616387337057727,
           null,
           null,
           null,
           null,
           0.7635009310986964,
           null,
           null,
           0.7672253258845437,
           0.7690875232774674,
           0.7728119180633147,
           null,
           null
          ],
          [
           null,
           null,
           null,
           0.7653631284916201,
           0.7653631284916201,
           0.7746741154562384,
           0.7653631284916201,
           0.7541899441340782,
           0.7635009310986964,
           null,
           0.7690875232774674,
           0.7635009310986964,
           null,
           null,
           0.7653631284916201,
           null
          ],
          [
           null,
           null,
           null,
           0.7690875232774674,
           0.7597765363128491,
           0.7653631284916201,
           0.7616387337057727,
           null,
           null,
           null,
           0.7672253258845437,
           null,
           null,
           null,
           0.7709497206703911,
           null
          ],
          [
           null,
           null,
           null,
           0.7672253258845437,
           0.7728119180633147,
           0.7672253258845437,
           0.7635009310986964,
           null,
           null,
           null,
           0.7616387337057727,
           null,
           null,
           null,
           null,
           null
          ],
          [
           null,
           null,
           null,
           null,
           null,
           null,
           null,
           null,
           null,
           null,
           null,
           null,
           null,
           null,
           null,
           null
          ]
         ]
        },
        {
         "marker": {
          "color": "black",
          "line": {
           "color": "Gray",
           "width": 2
          }
         },
         "mode": "markers",
         "name": "Feasible Trial",
         "showlegend": false,
         "type": "scatter",
         "x": [
          13,
          8,
          14,
          11,
          8,
          13,
          15,
          10,
          6,
          14,
          16,
          6,
          9,
          11,
          14,
          18,
          8,
          12,
          13,
          8,
          18,
          9,
          11,
          6,
          6,
          6,
          13,
          9,
          9,
          6,
          7,
          7,
          8,
          6,
          9,
          9,
          9,
          7,
          8,
          3,
          9,
          11,
          6,
          8,
          8,
          4,
          6,
          9,
          7,
          8
         ],
         "xaxis": "x4",
         "y": [
          10,
          8,
          7,
          5,
          4,
          8,
          7,
          8,
          10,
          8,
          7,
          9,
          6,
          7,
          8,
          8,
          10,
          6,
          9,
          8,
          9,
          6,
          7,
          9,
          7,
          9,
          8,
          9,
          8,
          10,
          9,
          8,
          8,
          6,
          8,
          8,
          9,
          10,
          9,
          7,
          9,
          8,
          8,
          10,
          9,
          7,
          10,
          10,
          10,
          9
         ],
         "yaxis": "y4"
        },
        {
         "colorbar": {
          "title": {
           "text": "Objective Value"
          }
         },
         "colorscale": [
          [
           0,
           "rgb(247,251,255)"
          ],
          [
           0.125,
           "rgb(222,235,247)"
          ],
          [
           0.25,
           "rgb(198,219,239)"
          ],
          [
           0.375,
           "rgb(158,202,225)"
          ],
          [
           0.5,
           "rgb(107,174,214)"
          ],
          [
           0.625,
           "rgb(66,146,198)"
          ],
          [
           0.75,
           "rgb(33,113,181)"
          ],
          [
           0.875,
           "rgb(8,81,156)"
          ],
          [
           1,
           "rgb(8,48,107)"
          ]
         ],
         "connectgaps": true,
         "contours": {
          "coloring": "heatmap"
         },
         "hoverinfo": "none",
         "line": {
          "smoothing": 1.3
         },
         "reversescale": false,
         "showscale": false,
         "type": "contour",
         "x": [
          2.25,
          3,
          4,
          6,
          7,
          8,
          9,
          10,
          11,
          12,
          13,
          14,
          15,
          16,
          18,
          18.75
         ],
         "xaxis": "x7",
         "y": [
          52.65,
          59,
          60,
          61,
          62,
          70,
          72,
          75,
          76,
          79,
          81,
          83,
          86,
          89,
          91,
          97,
          100,
          101,
          102,
          103,
          104,
          106,
          108,
          109,
          110,
          112,
          115,
          120,
          122,
          124,
          125,
          126,
          128,
          129,
          131,
          137,
          139,
          140,
          142,
          163,
          186,
          192.35
         ],
         "yaxis": "y7",
         "z": [
          [
           null,
           null,
           null,
           null,
           null,
           null,
           null,
           null,
           null,
           null,
           null,
           null,
           null,
           null,
           null,
           null
          ],
          [
           null,
           null,
           null,
           null,
           0.7728119180633147,
           null,
           null,
           null,
           null,
           null,
           null,
           null,
           null,
           null,
           null,
           null
          ],
          [
           null,
           null,
           null,
           null,
           null,
           null,
           0.7635009310986964,
           null,
           null,
           null,
           null,
           null,
           null,
           null,
           null,
           null
          ],
          [
           null,
           null,
           null,
           null,
           0.7635009310986964,
           null,
           null,
           null,
           null,
           null,
           null,
           null,
           null,
           null,
           null,
           null
          ],
          [
           null,
           null,
           null,
           0.7672253258845437,
           null,
           0.7616387337057727,
           null,
           null,
           null,
           null,
           null,
           null,
           null,
           null,
           null,
           null
          ],
          [
           null,
           null,
           null,
           0.7616387337057727,
           null,
           null,
           null,
           null,
           null,
           null,
           null,
           null,
           null,
           null,
           null,
           null
          ],
          [
           null,
           null,
           null,
           0.7672253258845437,
           null,
           null,
           0.756052141527002,
           null,
           null,
           null,
           null,
           null,
           null,
           null,
           null,
           null
          ],
          [
           null,
           null,
           null,
           0.7653631284916201,
           null,
           null,
           null,
           null,
           null,
           null,
           null,
           null,
           null,
           null,
           null,
           null
          ],
          [
           null,
           null,
           null,
           null,
           null,
           0.7523277467411545,
           null,
           null,
           null,
           null,
           null,
           null,
           null,
           null,
           null,
           null
          ],
          [
           null,
           null,
           null,
           null,
           null,
           null,
           0.7635009310986964,
           null,
           null,
           null,
           null,
           null,
           null,
           null,
           null,
           null
          ],
          [
           null,
           null,
           null,
           null,
           null,
           null,
           null,
           0.7541899441340782,
           null,
           null,
           null,
           null,
           null,
           null,
           null,
           null
          ],
          [
           null,
           null,
           null,
           null,
           null,
           null,
           0.7653631284916201,
           null,
           null,
           null,
           null,
           null,
           null,
           null,
           null,
           null
          ],
          [
           null,
           null,
           null,
           null,
           0.7597765363128491,
           0.7597765363128491,
           null,
           null,
           null,
           null,
           null,
           null,
           null,
           null,
           null,
           null
          ],
          [
           null,
           null,
           null,
           0.7690875232774674,
           null,
           null,
           null,
           null,
           null,
           null,
           null,
           null,
           null,
           null,
           null,
           null
          ],
          [
           null,
           null,
           null,
           0.7616387337057727,
           null,
           null,
           null,
           null,
           null,
           null,
           null,
           null,
           null,
           null,
           null,
           null
          ],
          [
           null,
           null,
           null,
           null,
           null,
           null,
           null,
           null,
           0.7635009310986964,
           null,
           null,
           null,
           null,
           null,
           null,
           null
          ],
          [
           null,
           null,
           null,
           null,
           null,
           0.7746741154562384,
           0.7597765363128491,
           null,
           null,
           null,
           null,
           null,
           null,
           null,
           null,
           null
          ],
          [
           null,
           null,
           null,
           0.7653631284916201,
           null,
           null,
           null,
           null,
           null,
           null,
           null,
           null,
           null,
           null,
           null,
           null
          ],
          [
           null,
           null,
           null,
           null,
           null,
           0.7690875232774674,
           null,
           null,
           null,
           null,
           null,
           null,
           null,
           null,
           null,
           null
          ],
          [
           null,
           null,
           null,
           null,
           null,
           0.7709497206703911,
           null,
           null,
           null,
           null,
           null,
           null,
           null,
           null,
           null,
           null
          ],
          [
           null,
           null,
           null,
           null,
           null,
           null,
           0.7616387337057727,
           null,
           null,
           0.7653631284916201,
           0.7690875232774674,
           null,
           null,
           null,
           null,
           null
          ],
          [
           null,
           null,
           null,
           null,
           null,
           null,
           null,
           null,
           0.7635009310986964,
           null,
           null,
           null,
           null,
           null,
           null,
           null
          ],
          [
           null,
           null,
           null,
           null,
           null,
           null,
           null,
           null,
           null,
           null,
           null,
           0.7635009310986964,
           null,
           null,
           null,
           null
          ],
          [
           null,
           null,
           null,
           null,
           null,
           null,
           null,
           null,
           null,
           null,
           null,
           null,
           null,
           null,
           0.7709497206703911,
           null
          ],
          [
           null,
           null,
           null,
           null,
           null,
           null,
           null,
           null,
           0.7597765363128491,
           null,
           null,
           null,
           null,
           null,
           null,
           null
          ],
          [
           null,
           null,
           null,
           null,
           null,
           0.7672253258845437,
           0.7597765363128491,
           null,
           0.7541899441340782,
           null,
           null,
           null,
           null,
           null,
           null,
           null
          ],
          [
           null,
           null,
           null,
           0.7653631284916201,
           null,
           null,
           null,
           null,
           null,
           null,
           null,
           null,
           null,
           null,
           null,
           null
          ],
          [
           null,
           null,
           0.7616387337057727,
           null,
           null,
           null,
           null,
           null,
           null,
           null,
           null,
           null,
           null,
           null,
           null,
           null
          ],
          [
           null,
           null,
           null,
           null,
           null,
           null,
           null,
           null,
           null,
           null,
           null,
           null,
           null,
           0.7728119180633147,
           null,
           null
          ],
          [
           null,
           null,
           null,
           null,
           null,
           null,
           null,
           null,
           null,
           null,
           null,
           null,
           null,
           null,
           0.7653631284916201,
           null
          ],
          [
           null,
           0.7635009310986964,
           null,
           null,
           null,
           null,
           null,
           null,
           null,
           null,
           null,
           null,
           null,
           null,
           null,
           null
          ],
          [
           null,
           null,
           null,
           null,
           null,
           0.7746741154562384,
           null,
           null,
           null,
           null,
           null,
           null,
           0.7690875232774674,
           null,
           null,
           null
          ],
          [
           null,
           null,
           null,
           null,
           null,
           null,
           null,
           null,
           null,
           null,
           0.7672253258845437,
           null,
           null,
           null,
           null,
           null
          ],
          [
           null,
           null,
           null,
           null,
           null,
           0.7653631284916201,
           null,
           null,
           null,
           null,
           null,
           null,
           null,
           null,
           null,
           null
          ],
          [
           null,
           null,
           null,
           null,
           null,
           null,
           0.7635009310986964,
           null,
           null,
           null,
           null,
           null,
           null,
           null,
           null,
           null
          ],
          [
           null,
           null,
           null,
           null,
           0.7653631284916201,
           null,
           null,
           null,
           null,
           null,
           null,
           null,
           null,
           null,
           null,
           null
          ],
          [
           null,
           null,
           null,
           0.7616387337057727,
           null,
           null,
           null,
           null,
           null,
           null,
           null,
           null,
           null,
           null,
           null,
           null
          ],
          [
           null,
           null,
           null,
           null,
           null,
           null,
           null,
           null,
           null,
           null,
           0.7635009310986964,
           null,
           null,
           null,
           null,
           null
          ],
          [
           null,
           null,
           null,
           null,
           null,
           null,
           0.7579143389199255,
           null,
           null,
           null,
           null,
           null,
           null,
           null,
           null,
           null
          ],
          [
           null,
           null,
           null,
           null,
           null,
           null,
           null,
           null,
           null,
           null,
           null,
           0.7672253258845437,
           null,
           null,
           null,
           null
          ],
          [
           null,
           null,
           null,
           null,
           null,
           null,
           null,
           null,
           null,
           null,
           0.7616387337057727,
           null,
           null,
           null,
           null,
           null
          ],
          [
           null,
           null,
           null,
           null,
           null,
           null,
           null,
           null,
           null,
           null,
           null,
           null,
           null,
           null,
           null,
           null
          ]
         ]
        },
        {
         "marker": {
          "color": "black",
          "line": {
           "color": "Gray",
           "width": 2
          }
         },
         "mode": "markers",
         "name": "Feasible Trial",
         "showlegend": false,
         "type": "scatter",
         "x": [
          13,
          8,
          14,
          11,
          8,
          13,
          15,
          10,
          6,
          14,
          16,
          6,
          9,
          11,
          14,
          18,
          8,
          12,
          13,
          8,
          18,
          9,
          11,
          6,
          6,
          6,
          13,
          9,
          9,
          6,
          7,
          7,
          8,
          6,
          9,
          9,
          9,
          7,
          8,
          3,
          9,
          11,
          6,
          8,
          8,
          4,
          6,
          9,
          7,
          8
         ],
         "xaxis": "x7",
         "y": [
          186,
          126,
          163,
          112,
          102,
          140,
          126,
          81,
          139,
          108,
          122,
          115,
          131,
          110,
          108,
          124,
          112,
          104,
          128,
          100,
          109,
          142,
          106,
          89,
          91,
          62,
          104,
          72,
          79,
          75,
          86,
          137,
          103,
          70,
          100,
          83,
          112,
          59,
          129,
          125,
          104,
          97,
          101,
          86,
          76,
          120,
          72,
          60,
          61,
          62
         ],
         "yaxis": "y7"
        },
        {
         "colorbar": {
          "title": {
           "text": "Objective Value"
          }
         },
         "colorscale": [
          [
           0,
           "rgb(247,251,255)"
          ],
          [
           0.125,
           "rgb(222,235,247)"
          ],
          [
           0.25,
           "rgb(198,219,239)"
          ],
          [
           0.375,
           "rgb(158,202,225)"
          ],
          [
           0.5,
           "rgb(107,174,214)"
          ],
          [
           0.625,
           "rgb(66,146,198)"
          ],
          [
           0.75,
           "rgb(33,113,181)"
          ],
          [
           0.875,
           "rgb(8,81,156)"
          ],
          [
           1,
           "rgb(8,48,107)"
          ]
         ],
         "connectgaps": true,
         "contours": {
          "coloring": "heatmap"
         },
         "hoverinfo": "none",
         "line": {
          "smoothing": 1.3
         },
         "reversescale": false,
         "showscale": false,
         "type": "contour",
         "x": [
          3.7,
          4,
          5,
          6,
          7,
          8,
          9,
          10,
          10.3
         ],
         "xaxis": "x2",
         "y": [
          2.25,
          3,
          4,
          6,
          7,
          8,
          9,
          10,
          11,
          12,
          13,
          14,
          15,
          16,
          18,
          18.75
         ],
         "yaxis": "y2",
         "z": [
          [
           null,
           null,
           null,
           null,
           null,
           null,
           null,
           null,
           null
          ],
          [
           null,
           null,
           null,
           null,
           0.7635009310986964,
           null,
           null,
           null,
           null
          ],
          [
           null,
           null,
           null,
           null,
           0.7616387337057727,
           null,
           null,
           null,
           null
          ],
          [
           null,
           null,
           null,
           0.7616387337057727,
           0.7616387337057727,
           0.7653631284916201,
           0.7690875232774674,
           0.7672253258845437,
           null
          ],
          [
           null,
           null,
           null,
           null,
           null,
           0.7653631284916201,
           0.7597765363128491,
           0.7728119180633147,
           null
          ],
          [
           null,
           0.7690875232774674,
           null,
           null,
           null,
           0.7746741154562384,
           0.7653631284916201,
           0.7672253258845437,
           null
          ],
          [
           null,
           null,
           null,
           0.7635009310986964,
           null,
           0.7653631284916201,
           0.7616387337057727,
           0.7635009310986964,
           null
          ],
          [
           null,
           null,
           null,
           null,
           null,
           0.7541899441340782,
           null,
           null,
           null
          ],
          [
           null,
           null,
           0.7541899441340782,
           null,
           0.7635009310986964,
           0.7635009310986964,
           null,
           null,
           null
          ],
          [
           null,
           null,
           null,
           0.7653631284916201,
           null,
           null,
           null,
           null,
           null
          ],
          [
           null,
           null,
           null,
           null,
           null,
           0.7690875232774674,
           0.7672253258845437,
           0.7616387337057727,
           null
          ],
          [
           null,
           null,
           null,
           null,
           0.7672253258845437,
           0.7635009310986964,
           null,
           null,
           null
          ],
          [
           null,
           null,
           null,
           null,
           0.7690875232774674,
           null,
           null,
           null,
           null
          ],
          [
           null,
           null,
           null,
           null,
           0.7728119180633147,
           null,
           null,
           null,
           null
          ],
          [
           null,
           null,
           null,
           null,
           null,
           0.7653631284916201,
           0.7709497206703911,
           null,
           null
          ],
          [
           null,
           null,
           null,
           null,
           null,
           null,
           null,
           null,
           null
          ]
         ]
        },
        {
         "marker": {
          "color": "black",
          "line": {
           "color": "Gray",
           "width": 2
          }
         },
         "mode": "markers",
         "name": "Feasible Trial",
         "showlegend": false,
         "type": "scatter",
         "x": [
          10,
          8,
          7,
          5,
          4,
          8,
          7,
          8,
          10,
          8,
          7,
          9,
          6,
          7,
          8,
          8,
          10,
          6,
          9,
          8,
          9,
          6,
          7,
          9,
          7,
          9,
          8,
          9,
          8,
          10,
          9,
          8,
          8,
          6,
          8,
          8,
          9,
          10,
          9,
          7,
          9,
          8,
          8,
          10,
          9,
          7,
          10,
          10,
          10,
          9
         ],
         "xaxis": "x2",
         "y": [
          13,
          8,
          14,
          11,
          8,
          13,
          15,
          10,
          6,
          14,
          16,
          6,
          9,
          11,
          14,
          18,
          8,
          12,
          13,
          8,
          18,
          9,
          11,
          6,
          6,
          6,
          13,
          9,
          9,
          6,
          7,
          7,
          8,
          6,
          9,
          9,
          9,
          7,
          8,
          3,
          9,
          11,
          6,
          8,
          8,
          4,
          6,
          9,
          7,
          8
         ],
         "yaxis": "y2"
        },
        {
         "type": "scatter",
         "xaxis": "x5",
         "yaxis": "y5"
        },
        {
         "colorbar": {
          "title": {
           "text": "Objective Value"
          }
         },
         "colorscale": [
          [
           0,
           "rgb(247,251,255)"
          ],
          [
           0.125,
           "rgb(222,235,247)"
          ],
          [
           0.25,
           "rgb(198,219,239)"
          ],
          [
           0.375,
           "rgb(158,202,225)"
          ],
          [
           0.5,
           "rgb(107,174,214)"
          ],
          [
           0.625,
           "rgb(66,146,198)"
          ],
          [
           0.75,
           "rgb(33,113,181)"
          ],
          [
           0.875,
           "rgb(8,81,156)"
          ],
          [
           1,
           "rgb(8,48,107)"
          ]
         ],
         "connectgaps": true,
         "contours": {
          "coloring": "heatmap"
         },
         "hoverinfo": "none",
         "line": {
          "smoothing": 1.3
         },
         "reversescale": false,
         "showscale": false,
         "type": "contour",
         "x": [
          3.7,
          4,
          5,
          6,
          7,
          8,
          9,
          10,
          10.3
         ],
         "xaxis": "x8",
         "y": [
          52.65,
          59,
          60,
          61,
          62,
          70,
          72,
          75,
          76,
          79,
          81,
          83,
          86,
          89,
          91,
          97,
          100,
          101,
          102,
          103,
          104,
          106,
          108,
          109,
          110,
          112,
          115,
          120,
          122,
          124,
          125,
          126,
          128,
          129,
          131,
          137,
          139,
          140,
          142,
          163,
          186,
          192.35
         ],
         "yaxis": "y8",
         "z": [
          [
           null,
           null,
           null,
           null,
           null,
           null,
           null,
           null,
           null
          ],
          [
           null,
           null,
           null,
           null,
           null,
           null,
           null,
           0.7728119180633147,
           null
          ],
          [
           null,
           null,
           null,
           null,
           null,
           null,
           null,
           0.7635009310986964,
           null
          ],
          [
           null,
           null,
           null,
           null,
           null,
           null,
           null,
           0.7635009310986964,
           null
          ],
          [
           null,
           null,
           null,
           null,
           null,
           null,
           0.7672253258845437,
           null,
           null
          ],
          [
           null,
           null,
           null,
           0.7616387337057727,
           null,
           null,
           null,
           null,
           null
          ],
          [
           null,
           null,
           null,
           null,
           null,
           null,
           0.756052141527002,
           0.7672253258845437,
           null
          ],
          [
           null,
           null,
           null,
           null,
           null,
           null,
           null,
           0.7653631284916201,
           null
          ],
          [
           null,
           null,
           null,
           null,
           null,
           null,
           0.7523277467411545,
           null,
           null
          ],
          [
           null,
           null,
           null,
           null,
           null,
           0.7635009310986964,
           null,
           null,
           null
          ],
          [
           null,
           null,
           null,
           null,
           null,
           0.7541899441340782,
           null,
           null,
           null
          ],
          [
           null,
           null,
           null,
           null,
           null,
           0.7653631284916201,
           null,
           null,
           null
          ],
          [
           null,
           null,
           null,
           null,
           null,
           null,
           0.7597765363128491,
           0.7597765363128491,
           null
          ],
          [
           null,
           null,
           null,
           null,
           null,
           null,
           0.7690875232774674,
           null,
           null
          ],
          [
           null,
           null,
           null,
           null,
           0.7616387337057727,
           null,
           null,
           null,
           null
          ],
          [
           null,
           null,
           null,
           null,
           null,
           0.7635009310986964,
           null,
           null,
           null
          ],
          [
           null,
           null,
           null,
           null,
           null,
           0.7746741154562384,
           null,
           null,
           null
          ],
          [
           null,
           null,
           null,
           null,
           null,
           0.7653631284916201,
           null,
           null,
           null
          ],
          [
           null,
           0.7690875232774674,
           null,
           null,
           null,
           null,
           null,
           null,
           null
          ],
          [
           null,
           null,
           null,
           null,
           null,
           0.7709497206703911,
           null,
           null,
           null
          ],
          [
           null,
           null,
           null,
           0.7653631284916201,
           null,
           0.7690875232774674,
           0.7616387337057727,
           null,
           null
          ],
          [
           null,
           null,
           null,
           null,
           0.7635009310986964,
           null,
           null,
           null,
           null
          ],
          [
           null,
           null,
           null,
           null,
           null,
           0.7635009310986964,
           null,
           null,
           null
          ],
          [
           null,
           null,
           null,
           null,
           null,
           null,
           0.7709497206703911,
           null,
           null
          ],
          [
           null,
           null,
           null,
           null,
           0.7597765363128491,
           null,
           null,
           null,
           null
          ],
          [
           null,
           null,
           0.7541899441340782,
           null,
           null,
           null,
           0.7597765363128491,
           0.7672253258845437,
           null
          ],
          [
           null,
           null,
           null,
           null,
           null,
           null,
           0.7653631284916201,
           null,
           null
          ],
          [
           null,
           null,
           null,
           null,
           0.7616387337057727,
           null,
           null,
           null,
           null
          ],
          [
           null,
           null,
           null,
           null,
           0.7728119180633147,
           null,
           null,
           null,
           null
          ],
          [
           null,
           null,
           null,
           null,
           null,
           0.7653631284916201,
           null,
           null,
           null
          ],
          [
           null,
           null,
           null,
           null,
           0.7635009310986964,
           null,
           null,
           null,
           null
          ],
          [
           null,
           null,
           null,
           null,
           0.7690875232774674,
           0.7746741154562384,
           null,
           null,
           null
          ],
          [
           null,
           null,
           null,
           null,
           null,
           null,
           0.7672253258845437,
           null,
           null
          ],
          [
           null,
           null,
           null,
           null,
           null,
           null,
           0.7653631284916201,
           null,
           null
          ],
          [
           null,
           null,
           null,
           0.7635009310986964,
           null,
           null,
           null,
           null,
           null
          ],
          [
           null,
           null,
           null,
           null,
           null,
           0.7653631284916201,
           null,
           null,
           null
          ],
          [
           null,
           null,
           null,
           null,
           null,
           null,
           null,
           0.7616387337057727,
           null
          ],
          [
           null,
           null,
           null,
           null,
           null,
           0.7635009310986964,
           null,
           null,
           null
          ],
          [
           null,
           null,
           null,
           0.7579143389199255,
           null,
           null,
           null,
           null,
           null
          ],
          [
           null,
           null,
           null,
           null,
           0.7672253258845437,
           null,
           null,
           null,
           null
          ],
          [
           null,
           null,
           null,
           null,
           null,
           null,
           null,
           0.7616387337057727,
           null
          ],
          [
           null,
           null,
           null,
           null,
           null,
           null,
           null,
           null,
           null
          ]
         ]
        },
        {
         "marker": {
          "color": "black",
          "line": {
           "color": "Gray",
           "width": 2
          }
         },
         "mode": "markers",
         "name": "Feasible Trial",
         "showlegend": false,
         "type": "scatter",
         "x": [
          10,
          8,
          7,
          5,
          4,
          8,
          7,
          8,
          10,
          8,
          7,
          9,
          6,
          7,
          8,
          8,
          10,
          6,
          9,
          8,
          9,
          6,
          7,
          9,
          7,
          9,
          8,
          9,
          8,
          10,
          9,
          8,
          8,
          6,
          8,
          8,
          9,
          10,
          9,
          7,
          9,
          8,
          8,
          10,
          9,
          7,
          10,
          10,
          10,
          9
         ],
         "xaxis": "x8",
         "y": [
          186,
          126,
          163,
          112,
          102,
          140,
          126,
          81,
          139,
          108,
          122,
          115,
          131,
          110,
          108,
          124,
          112,
          104,
          128,
          100,
          109,
          142,
          106,
          89,
          91,
          62,
          104,
          72,
          79,
          75,
          86,
          137,
          103,
          70,
          100,
          83,
          112,
          59,
          129,
          125,
          104,
          97,
          101,
          86,
          76,
          120,
          72,
          60,
          61,
          62
         ],
         "yaxis": "y8"
        },
        {
         "colorbar": {
          "title": {
           "text": "Objective Value"
          }
         },
         "colorscale": [
          [
           0,
           "rgb(247,251,255)"
          ],
          [
           0.125,
           "rgb(222,235,247)"
          ],
          [
           0.25,
           "rgb(198,219,239)"
          ],
          [
           0.375,
           "rgb(158,202,225)"
          ],
          [
           0.5,
           "rgb(107,174,214)"
          ],
          [
           0.625,
           "rgb(66,146,198)"
          ],
          [
           0.75,
           "rgb(33,113,181)"
          ],
          [
           0.875,
           "rgb(8,81,156)"
          ],
          [
           1,
           "rgb(8,48,107)"
          ]
         ],
         "connectgaps": true,
         "contours": {
          "coloring": "heatmap"
         },
         "hoverinfo": "none",
         "line": {
          "smoothing": 1.3
         },
         "reversescale": false,
         "showscale": false,
         "type": "contour",
         "x": [
          52.65,
          59,
          60,
          61,
          62,
          70,
          72,
          75,
          76,
          79,
          81,
          83,
          86,
          89,
          91,
          97,
          100,
          101,
          102,
          103,
          104,
          106,
          108,
          109,
          110,
          112,
          115,
          120,
          122,
          124,
          125,
          126,
          128,
          129,
          131,
          137,
          139,
          140,
          142,
          163,
          186,
          192.35
         ],
         "xaxis": "x3",
         "y": [
          2.25,
          3,
          4,
          6,
          7,
          8,
          9,
          10,
          11,
          12,
          13,
          14,
          15,
          16,
          18,
          18.75
         ],
         "yaxis": "y3",
         "z": [
          [
           null,
           null,
           null,
           null,
           null,
           null,
           null,
           null,
           null,
           null,
           null,
           null,
           null,
           null,
           null,
           null,
           null,
           null,
           null,
           null,
           null,
           null,
           null,
           null,
           null,
           null,
           null,
           null,
           null,
           null,
           null,
           null,
           null,
           null,
           null,
           null,
           null,
           null,
           null,
           null,
           null,
           null
          ],
          [
           null,
           null,
           null,
           null,
           null,
           null,
           null,
           null,
           null,
           null,
           null,
           null,
           null,
           null,
           null,
           null,
           null,
           null,
           null,
           null,
           null,
           null,
           null,
           null,
           null,
           null,
           null,
           null,
           null,
           null,
           0.7635009310986964,
           null,
           null,
           null,
           null,
           null,
           null,
           null,
           null,
           null,
           null,
           null
          ],
          [
           null,
           null,
           null,
           null,
           null,
           null,
           null,
           null,
           null,
           null,
           null,
           null,
           null,
           null,
           null,
           null,
           null,
           null,
           null,
           null,
           null,
           null,
           null,
           null,
           null,
           null,
           null,
           0.7616387337057727,
           null,
           null,
           null,
           null,
           null,
           null,
           null,
           null,
           null,
           null,
           null,
           null,
           null,
           null
          ],
          [
           null,
           null,
           null,
           null,
           0.7672253258845437,
           0.7616387337057727,
           0.7672253258845437,
           0.7653631284916201,
           null,
           null,
           null,
           null,
           null,
           0.7690875232774674,
           0.7616387337057727,
           null,
           null,
           0.7653631284916201,
           null,
           null,
           null,
           null,
           null,
           null,
           null,
           null,
           0.7653631284916201,
           null,
           null,
           null,
           null,
           null,
           null,
           null,
           null,
           null,
           0.7616387337057727,
           null,
           null,
           null,
           null,
           null
          ],
          [
           null,
           0.7728119180633147,
           null,
           0.7635009310986964,
           null,
           null,
           null,
           null,
           null,
           null,
           null,
           null,
           0.7597765363128491,
           null,
           null,
           null,
           null,
           null,
           null,
           null,
           null,
           null,
           null,
           null,
           null,
           null,
           null,
           null,
           null,
           null,
           null,
           null,
           null,
           null,
           null,
           0.7653631284916201,
           null,
           null,
           null,
           null,
           null,
           null
          ],
          [
           null,
           null,
           null,
           null,
           0.7616387337057727,
           null,
           null,
           null,
           0.7523277467411545,
           null,
           null,
           null,
           0.7597765363128491,
           null,
           null,
           null,
           0.7746741154562384,
           null,
           0.7690875232774674,
           0.7709497206703911,
           null,
           null,
           null,
           null,
           null,
           0.7672253258845437,
           null,
           null,
           null,
           null,
           null,
           0.7746741154562384,
           null,
           0.7653631284916201,
           null,
           null,
           null,
           null,
           null,
           null,
           null,
           null
          ],
          [
           null,
           null,
           0.7635009310986964,
           null,
           null,
           null,
           0.756052141527002,
           null,
           null,
           0.7635009310986964,
           null,
           0.7653631284916201,
           null,
           null,
           null,
           null,
           0.7597765363128491,
           null,
           null,
           null,
           0.7616387337057727,
           null,
           null,
           null,
           null,
           0.7597765363128491,
           null,
           null,
           null,
           null,
           null,
           null,
           null,
           null,
           0.7635009310986964,
           null,
           null,
           null,
           0.7579143389199255,
           null,
           null,
           null
          ],
          [
           null,
           null,
           null,
           null,
           null,
           null,
           null,
           null,
           null,
           null,
           0.7541899441340782,
           null,
           null,
           null,
           null,
           null,
           null,
           null,
           null,
           null,
           null,
           null,
           null,
           null,
           null,
           null,
           null,
           null,
           null,
           null,
           null,
           null,
           null,
           null,
           null,
           null,
           null,
           null,
           null,
           null,
           null,
           null
          ],
          [
           null,
           null,
           null,
           null,
           null,
           null,
           null,
           null,
           null,
           null,
           null,
           null,
           null,
           null,
           null,
           0.7635009310986964,
           null,
           null,
           null,
           null,
           null,
           0.7635009310986964,
           null,
           null,
           0.7597765363128491,
           0.7541899441340782,
           null,
           null,
           null,
           null,
           null,
           null,
           null,
           null,
           null,
           null,
           null,
           null,
           null,
           null,
           null,
           null
          ],
          [
           null,
           null,
           null,
           null,
           null,
           null,
           null,
           null,
           null,
           null,
           null,
           null,
           null,
           null,
           null,
           null,
           null,
           null,
           null,
           null,
           0.7653631284916201,
           null,
           null,
           null,
           null,
           null,
           null,
           null,
           null,
           null,
           null,
           null,
           null,
           null,
           null,
           null,
           null,
           null,
           null,
           null,
           null,
           null
          ],
          [
           null,
           null,
           null,
           null,
           null,
           null,
           null,
           null,
           null,
           null,
           null,
           null,
           null,
           null,
           null,
           null,
           null,
           null,
           null,
           null,
           0.7690875232774674,
           null,
           null,
           null,
           null,
           null,
           null,
           null,
           null,
           null,
           null,
           null,
           0.7672253258845437,
           null,
           null,
           null,
           null,
           0.7635009310986964,
           null,
           null,
           0.7616387337057727,
           null
          ],
          [
           null,
           null,
           null,
           null,
           null,
           null,
           null,
           null,
           null,
           null,
           null,
           null,
           null,
           null,
           null,
           null,
           null,
           null,
           null,
           null,
           null,
           null,
           0.7635009310986964,
           null,
           null,
           null,
           null,
           null,
           null,
           null,
           null,
           null,
           null,
           null,
           null,
           null,
           null,
           null,
           null,
           0.7672253258845437,
           null,
           null
          ],
          [
           null,
           null,
           null,
           null,
           null,
           null,
           null,
           null,
           null,
           null,
           null,
           null,
           null,
           null,
           null,
           null,
           null,
           null,
           null,
           null,
           null,
           null,
           null,
           null,
           null,
           null,
           null,
           null,
           null,
           null,
           null,
           0.7690875232774674,
           null,
           null,
           null,
           null,
           null,
           null,
           null,
           null,
           null,
           null
          ],
          [
           null,
           null,
           null,
           null,
           null,
           null,
           null,
           null,
           null,
           null,
           null,
           null,
           null,
           null,
           null,
           null,
           null,
           null,
           null,
           null,
           null,
           null,
           null,
           null,
           null,
           null,
           null,
           null,
           0.7728119180633147,
           null,
           null,
           null,
           null,
           null,
           null,
           null,
           null,
           null,
           null,
           null,
           null,
           null
          ],
          [
           null,
           null,
           null,
           null,
           null,
           null,
           null,
           null,
           null,
           null,
           null,
           null,
           null,
           null,
           null,
           null,
           null,
           null,
           null,
           null,
           null,
           null,
           null,
           0.7709497206703911,
           null,
           null,
           null,
           null,
           null,
           0.7653631284916201,
           null,
           null,
           null,
           null,
           null,
           null,
           null,
           null,
           null,
           null,
           null,
           null
          ],
          [
           null,
           null,
           null,
           null,
           null,
           null,
           null,
           null,
           null,
           null,
           null,
           null,
           null,
           null,
           null,
           null,
           null,
           null,
           null,
           null,
           null,
           null,
           null,
           null,
           null,
           null,
           null,
           null,
           null,
           null,
           null,
           null,
           null,
           null,
           null,
           null,
           null,
           null,
           null,
           null,
           null,
           null
          ]
         ]
        },
        {
         "marker": {
          "color": "black",
          "line": {
           "color": "Gray",
           "width": 2
          }
         },
         "mode": "markers",
         "name": "Feasible Trial",
         "showlegend": false,
         "type": "scatter",
         "x": [
          186,
          126,
          163,
          112,
          102,
          140,
          126,
          81,
          139,
          108,
          122,
          115,
          131,
          110,
          108,
          124,
          112,
          104,
          128,
          100,
          109,
          142,
          106,
          89,
          91,
          62,
          104,
          72,
          79,
          75,
          86,
          137,
          103,
          70,
          100,
          83,
          112,
          59,
          129,
          125,
          104,
          97,
          101,
          86,
          76,
          120,
          72,
          60,
          61,
          62
         ],
         "xaxis": "x3",
         "y": [
          13,
          8,
          14,
          11,
          8,
          13,
          15,
          10,
          6,
          14,
          16,
          6,
          9,
          11,
          14,
          18,
          8,
          12,
          13,
          8,
          18,
          9,
          11,
          6,
          6,
          6,
          13,
          9,
          9,
          6,
          7,
          7,
          8,
          6,
          9,
          9,
          9,
          7,
          8,
          3,
          9,
          11,
          6,
          8,
          8,
          4,
          6,
          9,
          7,
          8
         ],
         "yaxis": "y3"
        },
        {
         "colorbar": {
          "title": {
           "text": "Objective Value"
          }
         },
         "colorscale": [
          [
           0,
           "rgb(247,251,255)"
          ],
          [
           0.125,
           "rgb(222,235,247)"
          ],
          [
           0.25,
           "rgb(198,219,239)"
          ],
          [
           0.375,
           "rgb(158,202,225)"
          ],
          [
           0.5,
           "rgb(107,174,214)"
          ],
          [
           0.625,
           "rgb(66,146,198)"
          ],
          [
           0.75,
           "rgb(33,113,181)"
          ],
          [
           0.875,
           "rgb(8,81,156)"
          ],
          [
           1,
           "rgb(8,48,107)"
          ]
         ],
         "connectgaps": true,
         "contours": {
          "coloring": "heatmap"
         },
         "hoverinfo": "none",
         "line": {
          "smoothing": 1.3
         },
         "reversescale": false,
         "showscale": false,
         "type": "contour",
         "x": [
          52.65,
          59,
          60,
          61,
          62,
          70,
          72,
          75,
          76,
          79,
          81,
          83,
          86,
          89,
          91,
          97,
          100,
          101,
          102,
          103,
          104,
          106,
          108,
          109,
          110,
          112,
          115,
          120,
          122,
          124,
          125,
          126,
          128,
          129,
          131,
          137,
          139,
          140,
          142,
          163,
          186,
          192.35
         ],
         "xaxis": "x6",
         "y": [
          3.7,
          4,
          5,
          6,
          7,
          8,
          9,
          10,
          10.3
         ],
         "yaxis": "y6",
         "z": [
          [
           null,
           null,
           null,
           null,
           null,
           null,
           null,
           null,
           null,
           null,
           null,
           null,
           null,
           null,
           null,
           null,
           null,
           null,
           null,
           null,
           null,
           null,
           null,
           null,
           null,
           null,
           null,
           null,
           null,
           null,
           null,
           null,
           null,
           null,
           null,
           null,
           null,
           null,
           null,
           null,
           null,
           null
          ],
          [
           null,
           null,
           null,
           null,
           null,
           null,
           null,
           null,
           null,
           null,
           null,
           null,
           null,
           null,
           null,
           null,
           null,
           null,
           0.7690875232774674,
           null,
           null,
           null,
           null,
           null,
           null,
           null,
           null,
           null,
           null,
           null,
           null,
           null,
           null,
           null,
           null,
           null,
           null,
           null,
           null,
           null,
           null,
           null
          ],
          [
           null,
           null,
           null,
           null,
           null,
           null,
           null,
           null,
           null,
           null,
           null,
           null,
           null,
           null,
           null,
           null,
           null,
           null,
           null,
           null,
           null,
           null,
           null,
           null,
           null,
           0.7541899441340782,
           null,
           null,
           null,
           null,
           null,
           null,
           null,
           null,
           null,
           null,
           null,
           null,
           null,
           null,
           null,
           null
          ],
          [
           null,
           null,
           null,
           null,
           null,
           0.7616387337057727,
           null,
           null,
           null,
           null,
           null,
           null,
           null,
           null,
           null,
           null,
           null,
           null,
           null,
           null,
           0.7653631284916201,
           null,
           null,
           null,
           null,
           null,
           null,
           null,
           null,
           null,
           null,
           null,
           null,
           null,
           0.7635009310986964,
           null,
           null,
           null,
           0.7579143389199255,
           null,
           null,
           null
          ],
          [
           null,
           null,
           null,
           null,
           null,
           null,
           null,
           null,
           null,
           null,
           null,
           null,
           null,
           null,
           0.7616387337057727,
           null,
           null,
           null,
           null,
           null,
           null,
           0.7635009310986964,
           null,
           null,
           0.7597765363128491,
           null,
           null,
           0.7616387337057727,
           0.7728119180633147,
           null,
           0.7635009310986964,
           0.7690875232774674,
           null,
           null,
           null,
           null,
           null,
           null,
           null,
           0.7672253258845437,
           null,
           null
          ],
          [
           null,
           null,
           null,
           null,
           null,
           null,
           null,
           null,
           null,
           0.7635009310986964,
           0.7541899441340782,
           0.7653631284916201,
           null,
           null,
           null,
           0.7635009310986964,
           0.7746741154562384,
           0.7653631284916201,
           null,
           0.7709497206703911,
           0.7690875232774674,
           null,
           0.7635009310986964,
           null,
           null,
           null,
           null,
           null,
           null,
           0.7653631284916201,
           null,
           0.7746741154562384,
           null,
           null,
           null,
           0.7653631284916201,
           null,
           0.7635009310986964,
           null,
           null,
           null,
           null
          ],
          [
           null,
           null,
           null,
           null,
           0.7672253258845437,
           null,
           0.756052141527002,
           null,
           0.7523277467411545,
           null,
           null,
           null,
           0.7597765363128491,
           0.7690875232774674,
           null,
           null,
           null,
           null,
           null,
           null,
           0.7616387337057727,
           null,
           null,
           0.7709497206703911,
           null,
           0.7597765363128491,
           0.7653631284916201,
           null,
           null,
           null,
           null,
           null,
           0.7672253258845437,
           0.7653631284916201,
           null,
           null,
           null,
           null,
           null,
           null,
           null,
           null
          ],
          [
           null,
           0.7728119180633147,
           0.7635009310986964,
           0.7635009310986964,
           null,
           null,
           0.7672253258845437,
           0.7653631284916201,
           null,
           null,
           null,
           null,
           0.7597765363128491,
           null,
           null,
           null,
           null,
           null,
           null,
           null,
           null,
           null,
           null,
           null,
           null,
           0.7672253258845437,
           null,
           null,
           null,
           null,
           null,
           null,
           null,
           null,
           null,
           null,
           0.7616387337057727,
           null,
           null,
           null,
           0.7616387337057727,
           null
          ],
          [
           null,
           null,
           null,
           null,
           null,
           null,
           null,
           null,
           null,
           null,
           null,
           null,
           null,
           null,
           null,
           null,
           null,
           null,
           null,
           null,
           null,
           null,
           null,
           null,
           null,
           null,
           null,
           null,
           null,
           null,
           null,
           null,
           null,
           null,
           null,
           null,
           null,
           null,
           null,
           null,
           null,
           null
          ]
         ]
        },
        {
         "marker": {
          "color": "black",
          "line": {
           "color": "Gray",
           "width": 2
          }
         },
         "mode": "markers",
         "name": "Feasible Trial",
         "showlegend": false,
         "type": "scatter",
         "x": [
          186,
          126,
          163,
          112,
          102,
          140,
          126,
          81,
          139,
          108,
          122,
          115,
          131,
          110,
          108,
          124,
          112,
          104,
          128,
          100,
          109,
          142,
          106,
          89,
          91,
          62,
          104,
          72,
          79,
          75,
          86,
          137,
          103,
          70,
          100,
          83,
          112,
          59,
          129,
          125,
          104,
          97,
          101,
          86,
          76,
          120,
          72,
          60,
          61,
          62
         ],
         "xaxis": "x6",
         "y": [
          10,
          8,
          7,
          5,
          4,
          8,
          7,
          8,
          10,
          8,
          7,
          9,
          6,
          7,
          8,
          8,
          10,
          6,
          9,
          8,
          9,
          6,
          7,
          9,
          7,
          9,
          8,
          9,
          8,
          10,
          9,
          8,
          8,
          6,
          8,
          8,
          9,
          10,
          9,
          7,
          9,
          8,
          8,
          10,
          9,
          7,
          10,
          10,
          10,
          9
         ],
         "yaxis": "y6"
        },
        {
         "type": "scatter",
         "xaxis": "x9",
         "yaxis": "y9"
        }
       ],
       "layout": {
        "template": {
         "data": {
          "bar": [
           {
            "error_x": {
             "color": "#2a3f5f"
            },
            "error_y": {
             "color": "#2a3f5f"
            },
            "marker": {
             "line": {
              "color": "#E5ECF6",
              "width": 0.5
             },
             "pattern": {
              "fillmode": "overlay",
              "size": 10,
              "solidity": 0.2
             }
            },
            "type": "bar"
           }
          ],
          "barpolar": [
           {
            "marker": {
             "line": {
              "color": "#E5ECF6",
              "width": 0.5
             },
             "pattern": {
              "fillmode": "overlay",
              "size": 10,
              "solidity": 0.2
             }
            },
            "type": "barpolar"
           }
          ],
          "carpet": [
           {
            "aaxis": {
             "endlinecolor": "#2a3f5f",
             "gridcolor": "white",
             "linecolor": "white",
             "minorgridcolor": "white",
             "startlinecolor": "#2a3f5f"
            },
            "baxis": {
             "endlinecolor": "#2a3f5f",
             "gridcolor": "white",
             "linecolor": "white",
             "minorgridcolor": "white",
             "startlinecolor": "#2a3f5f"
            },
            "type": "carpet"
           }
          ],
          "choropleth": [
           {
            "colorbar": {
             "outlinewidth": 0,
             "ticks": ""
            },
            "type": "choropleth"
           }
          ],
          "contour": [
           {
            "colorbar": {
             "outlinewidth": 0,
             "ticks": ""
            },
            "colorscale": [
             [
              0,
              "#0d0887"
             ],
             [
              0.1111111111111111,
              "#46039f"
             ],
             [
              0.2222222222222222,
              "#7201a8"
             ],
             [
              0.3333333333333333,
              "#9c179e"
             ],
             [
              0.4444444444444444,
              "#bd3786"
             ],
             [
              0.5555555555555556,
              "#d8576b"
             ],
             [
              0.6666666666666666,
              "#ed7953"
             ],
             [
              0.7777777777777778,
              "#fb9f3a"
             ],
             [
              0.8888888888888888,
              "#fdca26"
             ],
             [
              1,
              "#f0f921"
             ]
            ],
            "type": "contour"
           }
          ],
          "contourcarpet": [
           {
            "colorbar": {
             "outlinewidth": 0,
             "ticks": ""
            },
            "type": "contourcarpet"
           }
          ],
          "heatmap": [
           {
            "colorbar": {
             "outlinewidth": 0,
             "ticks": ""
            },
            "colorscale": [
             [
              0,
              "#0d0887"
             ],
             [
              0.1111111111111111,
              "#46039f"
             ],
             [
              0.2222222222222222,
              "#7201a8"
             ],
             [
              0.3333333333333333,
              "#9c179e"
             ],
             [
              0.4444444444444444,
              "#bd3786"
             ],
             [
              0.5555555555555556,
              "#d8576b"
             ],
             [
              0.6666666666666666,
              "#ed7953"
             ],
             [
              0.7777777777777778,
              "#fb9f3a"
             ],
             [
              0.8888888888888888,
              "#fdca26"
             ],
             [
              1,
              "#f0f921"
             ]
            ],
            "type": "heatmap"
           }
          ],
          "heatmapgl": [
           {
            "colorbar": {
             "outlinewidth": 0,
             "ticks": ""
            },
            "colorscale": [
             [
              0,
              "#0d0887"
             ],
             [
              0.1111111111111111,
              "#46039f"
             ],
             [
              0.2222222222222222,
              "#7201a8"
             ],
             [
              0.3333333333333333,
              "#9c179e"
             ],
             [
              0.4444444444444444,
              "#bd3786"
             ],
             [
              0.5555555555555556,
              "#d8576b"
             ],
             [
              0.6666666666666666,
              "#ed7953"
             ],
             [
              0.7777777777777778,
              "#fb9f3a"
             ],
             [
              0.8888888888888888,
              "#fdca26"
             ],
             [
              1,
              "#f0f921"
             ]
            ],
            "type": "heatmapgl"
           }
          ],
          "histogram": [
           {
            "marker": {
             "pattern": {
              "fillmode": "overlay",
              "size": 10,
              "solidity": 0.2
             }
            },
            "type": "histogram"
           }
          ],
          "histogram2d": [
           {
            "colorbar": {
             "outlinewidth": 0,
             "ticks": ""
            },
            "colorscale": [
             [
              0,
              "#0d0887"
             ],
             [
              0.1111111111111111,
              "#46039f"
             ],
             [
              0.2222222222222222,
              "#7201a8"
             ],
             [
              0.3333333333333333,
              "#9c179e"
             ],
             [
              0.4444444444444444,
              "#bd3786"
             ],
             [
              0.5555555555555556,
              "#d8576b"
             ],
             [
              0.6666666666666666,
              "#ed7953"
             ],
             [
              0.7777777777777778,
              "#fb9f3a"
             ],
             [
              0.8888888888888888,
              "#fdca26"
             ],
             [
              1,
              "#f0f921"
             ]
            ],
            "type": "histogram2d"
           }
          ],
          "histogram2dcontour": [
           {
            "colorbar": {
             "outlinewidth": 0,
             "ticks": ""
            },
            "colorscale": [
             [
              0,
              "#0d0887"
             ],
             [
              0.1111111111111111,
              "#46039f"
             ],
             [
              0.2222222222222222,
              "#7201a8"
             ],
             [
              0.3333333333333333,
              "#9c179e"
             ],
             [
              0.4444444444444444,
              "#bd3786"
             ],
             [
              0.5555555555555556,
              "#d8576b"
             ],
             [
              0.6666666666666666,
              "#ed7953"
             ],
             [
              0.7777777777777778,
              "#fb9f3a"
             ],
             [
              0.8888888888888888,
              "#fdca26"
             ],
             [
              1,
              "#f0f921"
             ]
            ],
            "type": "histogram2dcontour"
           }
          ],
          "mesh3d": [
           {
            "colorbar": {
             "outlinewidth": 0,
             "ticks": ""
            },
            "type": "mesh3d"
           }
          ],
          "parcoords": [
           {
            "line": {
             "colorbar": {
              "outlinewidth": 0,
              "ticks": ""
             }
            },
            "type": "parcoords"
           }
          ],
          "pie": [
           {
            "automargin": true,
            "type": "pie"
           }
          ],
          "scatter": [
           {
            "fillpattern": {
             "fillmode": "overlay",
             "size": 10,
             "solidity": 0.2
            },
            "type": "scatter"
           }
          ],
          "scatter3d": [
           {
            "line": {
             "colorbar": {
              "outlinewidth": 0,
              "ticks": ""
             }
            },
            "marker": {
             "colorbar": {
              "outlinewidth": 0,
              "ticks": ""
             }
            },
            "type": "scatter3d"
           }
          ],
          "scattercarpet": [
           {
            "marker": {
             "colorbar": {
              "outlinewidth": 0,
              "ticks": ""
             }
            },
            "type": "scattercarpet"
           }
          ],
          "scattergeo": [
           {
            "marker": {
             "colorbar": {
              "outlinewidth": 0,
              "ticks": ""
             }
            },
            "type": "scattergeo"
           }
          ],
          "scattergl": [
           {
            "marker": {
             "colorbar": {
              "outlinewidth": 0,
              "ticks": ""
             }
            },
            "type": "scattergl"
           }
          ],
          "scattermapbox": [
           {
            "marker": {
             "colorbar": {
              "outlinewidth": 0,
              "ticks": ""
             }
            },
            "type": "scattermapbox"
           }
          ],
          "scatterpolar": [
           {
            "marker": {
             "colorbar": {
              "outlinewidth": 0,
              "ticks": ""
             }
            },
            "type": "scatterpolar"
           }
          ],
          "scatterpolargl": [
           {
            "marker": {
             "colorbar": {
              "outlinewidth": 0,
              "ticks": ""
             }
            },
            "type": "scatterpolargl"
           }
          ],
          "scatterternary": [
           {
            "marker": {
             "colorbar": {
              "outlinewidth": 0,
              "ticks": ""
             }
            },
            "type": "scatterternary"
           }
          ],
          "surface": [
           {
            "colorbar": {
             "outlinewidth": 0,
             "ticks": ""
            },
            "colorscale": [
             [
              0,
              "#0d0887"
             ],
             [
              0.1111111111111111,
              "#46039f"
             ],
             [
              0.2222222222222222,
              "#7201a8"
             ],
             [
              0.3333333333333333,
              "#9c179e"
             ],
             [
              0.4444444444444444,
              "#bd3786"
             ],
             [
              0.5555555555555556,
              "#d8576b"
             ],
             [
              0.6666666666666666,
              "#ed7953"
             ],
             [
              0.7777777777777778,
              "#fb9f3a"
             ],
             [
              0.8888888888888888,
              "#fdca26"
             ],
             [
              1,
              "#f0f921"
             ]
            ],
            "type": "surface"
           }
          ],
          "table": [
           {
            "cells": {
             "fill": {
              "color": "#EBF0F8"
             },
             "line": {
              "color": "white"
             }
            },
            "header": {
             "fill": {
              "color": "#C8D4E3"
             },
             "line": {
              "color": "white"
             }
            },
            "type": "table"
           }
          ]
         },
         "layout": {
          "annotationdefaults": {
           "arrowcolor": "#2a3f5f",
           "arrowhead": 0,
           "arrowwidth": 1
          },
          "autotypenumbers": "strict",
          "coloraxis": {
           "colorbar": {
            "outlinewidth": 0,
            "ticks": ""
           }
          },
          "colorscale": {
           "diverging": [
            [
             0,
             "#8e0152"
            ],
            [
             0.1,
             "#c51b7d"
            ],
            [
             0.2,
             "#de77ae"
            ],
            [
             0.3,
             "#f1b6da"
            ],
            [
             0.4,
             "#fde0ef"
            ],
            [
             0.5,
             "#f7f7f7"
            ],
            [
             0.6,
             "#e6f5d0"
            ],
            [
             0.7,
             "#b8e186"
            ],
            [
             0.8,
             "#7fbc41"
            ],
            [
             0.9,
             "#4d9221"
            ],
            [
             1,
             "#276419"
            ]
           ],
           "sequential": [
            [
             0,
             "#0d0887"
            ],
            [
             0.1111111111111111,
             "#46039f"
            ],
            [
             0.2222222222222222,
             "#7201a8"
            ],
            [
             0.3333333333333333,
             "#9c179e"
            ],
            [
             0.4444444444444444,
             "#bd3786"
            ],
            [
             0.5555555555555556,
             "#d8576b"
            ],
            [
             0.6666666666666666,
             "#ed7953"
            ],
            [
             0.7777777777777778,
             "#fb9f3a"
            ],
            [
             0.8888888888888888,
             "#fdca26"
            ],
            [
             1,
             "#f0f921"
            ]
           ],
           "sequentialminus": [
            [
             0,
             "#0d0887"
            ],
            [
             0.1111111111111111,
             "#46039f"
            ],
            [
             0.2222222222222222,
             "#7201a8"
            ],
            [
             0.3333333333333333,
             "#9c179e"
            ],
            [
             0.4444444444444444,
             "#bd3786"
            ],
            [
             0.5555555555555556,
             "#d8576b"
            ],
            [
             0.6666666666666666,
             "#ed7953"
            ],
            [
             0.7777777777777778,
             "#fb9f3a"
            ],
            [
             0.8888888888888888,
             "#fdca26"
            ],
            [
             1,
             "#f0f921"
            ]
           ]
          },
          "colorway": [
           "#636efa",
           "#EF553B",
           "#00cc96",
           "#ab63fa",
           "#FFA15A",
           "#19d3f3",
           "#FF6692",
           "#B6E880",
           "#FF97FF",
           "#FECB52"
          ],
          "font": {
           "color": "#2a3f5f"
          },
          "geo": {
           "bgcolor": "white",
           "lakecolor": "white",
           "landcolor": "#E5ECF6",
           "showlakes": true,
           "showland": true,
           "subunitcolor": "white"
          },
          "hoverlabel": {
           "align": "left"
          },
          "hovermode": "closest",
          "mapbox": {
           "style": "light"
          },
          "paper_bgcolor": "white",
          "plot_bgcolor": "#E5ECF6",
          "polar": {
           "angularaxis": {
            "gridcolor": "white",
            "linecolor": "white",
            "ticks": ""
           },
           "bgcolor": "#E5ECF6",
           "radialaxis": {
            "gridcolor": "white",
            "linecolor": "white",
            "ticks": ""
           }
          },
          "scene": {
           "xaxis": {
            "backgroundcolor": "#E5ECF6",
            "gridcolor": "white",
            "gridwidth": 2,
            "linecolor": "white",
            "showbackground": true,
            "ticks": "",
            "zerolinecolor": "white"
           },
           "yaxis": {
            "backgroundcolor": "#E5ECF6",
            "gridcolor": "white",
            "gridwidth": 2,
            "linecolor": "white",
            "showbackground": true,
            "ticks": "",
            "zerolinecolor": "white"
           },
           "zaxis": {
            "backgroundcolor": "#E5ECF6",
            "gridcolor": "white",
            "gridwidth": 2,
            "linecolor": "white",
            "showbackground": true,
            "ticks": "",
            "zerolinecolor": "white"
           }
          },
          "shapedefaults": {
           "line": {
            "color": "#2a3f5f"
           }
          },
          "ternary": {
           "aaxis": {
            "gridcolor": "white",
            "linecolor": "white",
            "ticks": ""
           },
           "baxis": {
            "gridcolor": "white",
            "linecolor": "white",
            "ticks": ""
           },
           "bgcolor": "#E5ECF6",
           "caxis": {
            "gridcolor": "white",
            "linecolor": "white",
            "ticks": ""
           }
          },
          "title": {
           "x": 0.05
          },
          "xaxis": {
           "automargin": true,
           "gridcolor": "white",
           "linecolor": "white",
           "ticks": "",
           "title": {
            "standoff": 15
           },
           "zerolinecolor": "white",
           "zerolinewidth": 2
          },
          "yaxis": {
           "automargin": true,
           "gridcolor": "white",
           "linecolor": "white",
           "ticks": "",
           "title": {
            "standoff": 15
           },
           "zerolinecolor": "white",
           "zerolinewidth": 2
          }
         }
        },
        "title": {
         "text": "Contour Plot"
        },
        "xaxis": {
         "anchor": "y",
         "domain": [
          0,
          0.2888888888888889
         ],
         "matches": "x7",
         "range": [
          2.25,
          18.75
         ],
         "showticklabels": false
        },
        "xaxis2": {
         "anchor": "y2",
         "domain": [
          0.35555555555555557,
          0.6444444444444445
         ],
         "matches": "x8",
         "range": [
          3.7,
          10.3
         ],
         "showticklabels": false
        },
        "xaxis3": {
         "anchor": "y3",
         "domain": [
          0.7111111111111111,
          1
         ],
         "matches": "x9",
         "range": [
          52.65,
          192.35
         ],
         "showticklabels": false
        },
        "xaxis4": {
         "anchor": "y4",
         "domain": [
          0,
          0.2888888888888889
         ],
         "matches": "x7",
         "range": [
          2.25,
          18.75
         ],
         "showticklabels": false
        },
        "xaxis5": {
         "anchor": "y5",
         "domain": [
          0.35555555555555557,
          0.6444444444444445
         ],
         "matches": "x8",
         "range": [
          3.7,
          10.3
         ],
         "showticklabels": false
        },
        "xaxis6": {
         "anchor": "y6",
         "domain": [
          0.7111111111111111,
          1
         ],
         "matches": "x9",
         "range": [
          52.65,
          192.35
         ],
         "showticklabels": false
        },
        "xaxis7": {
         "anchor": "y7",
         "domain": [
          0,
          0.2888888888888889
         ],
         "range": [
          2.25,
          18.75
         ],
         "title": {
          "text": "max_depth"
         }
        },
        "xaxis8": {
         "anchor": "y8",
         "domain": [
          0.35555555555555557,
          0.6444444444444445
         ],
         "range": [
          3.7,
          10.3
         ],
         "title": {
          "text": "min_samples_split"
         }
        },
        "xaxis9": {
         "anchor": "y9",
         "domain": [
          0.7111111111111111,
          1
         ],
         "range": [
          52.65,
          192.35
         ],
         "title": {
          "text": "n_estimators"
         }
        },
        "yaxis": {
         "anchor": "x",
         "domain": [
          0.7333333333333333,
          1
         ],
         "range": [
          2.25,
          18.75
         ],
         "title": {
          "text": "max_depth"
         }
        },
        "yaxis2": {
         "anchor": "x2",
         "domain": [
          0.7333333333333333,
          1
         ],
         "matches": "y",
         "range": [
          2.25,
          18.75
         ],
         "showticklabels": false
        },
        "yaxis3": {
         "anchor": "x3",
         "domain": [
          0.7333333333333333,
          1
         ],
         "matches": "y",
         "range": [
          2.25,
          18.75
         ],
         "showticklabels": false
        },
        "yaxis4": {
         "anchor": "x4",
         "domain": [
          0.36666666666666664,
          0.6333333333333333
         ],
         "range": [
          3.7,
          10.3
         ],
         "title": {
          "text": "min_samples_split"
         }
        },
        "yaxis5": {
         "anchor": "x5",
         "domain": [
          0.36666666666666664,
          0.6333333333333333
         ],
         "matches": "y4",
         "range": [
          3.7,
          10.3
         ],
         "showticklabels": false
        },
        "yaxis6": {
         "anchor": "x6",
         "domain": [
          0.36666666666666664,
          0.6333333333333333
         ],
         "matches": "y4",
         "range": [
          3.7,
          10.3
         ],
         "showticklabels": false
        },
        "yaxis7": {
         "anchor": "x7",
         "domain": [
          0,
          0.26666666666666666
         ],
         "range": [
          52.65,
          192.35
         ],
         "title": {
          "text": "n_estimators"
         }
        },
        "yaxis8": {
         "anchor": "x8",
         "domain": [
          0,
          0.26666666666666666
         ],
         "matches": "y7",
         "range": [
          52.65,
          192.35
         ],
         "showticklabels": false
        },
        "yaxis9": {
         "anchor": "x9",
         "domain": [
          0,
          0.26666666666666666
         ],
         "matches": "y7",
         "range": [
          52.65,
          192.35
         ],
         "showticklabels": false
        }
       }
      }
     },
     "metadata": {},
     "output_type": "display_data"
    }
   ],
   "source": [
    "# 4. Contour plot\n",
    "plot_contour(study).show()"
   ]
  },
  {
   "cell_type": "code",
   "execution_count": 35,
   "metadata": {},
   "outputs": [
    {
     "data": {
      "application/vnd.plotly.v1+json": {
       "config": {
        "plotlyServerURL": "https://plot.ly"
       },
       "data": [
        {
         "cliponaxis": false,
         "hovertemplate": [
          "n_estimators (IntDistribution): 0.23905974680449776<extra></extra>",
          "min_samples_split (IntDistribution): 0.24341371582700577<extra></extra>",
          "max_depth (IntDistribution): 0.5175265373684964<extra></extra>"
         ],
         "name": "Objective Value",
         "orientation": "h",
         "text": [
          "0.24",
          "0.24",
          "0.52"
         ],
         "textposition": "outside",
         "type": "bar",
         "x": [
          0.23905974680449776,
          0.24341371582700577,
          0.5175265373684964
         ],
         "y": [
          "n_estimators",
          "min_samples_split",
          "max_depth"
         ]
        }
       ],
       "layout": {
        "template": {
         "data": {
          "bar": [
           {
            "error_x": {
             "color": "#2a3f5f"
            },
            "error_y": {
             "color": "#2a3f5f"
            },
            "marker": {
             "line": {
              "color": "#E5ECF6",
              "width": 0.5
             },
             "pattern": {
              "fillmode": "overlay",
              "size": 10,
              "solidity": 0.2
             }
            },
            "type": "bar"
           }
          ],
          "barpolar": [
           {
            "marker": {
             "line": {
              "color": "#E5ECF6",
              "width": 0.5
             },
             "pattern": {
              "fillmode": "overlay",
              "size": 10,
              "solidity": 0.2
             }
            },
            "type": "barpolar"
           }
          ],
          "carpet": [
           {
            "aaxis": {
             "endlinecolor": "#2a3f5f",
             "gridcolor": "white",
             "linecolor": "white",
             "minorgridcolor": "white",
             "startlinecolor": "#2a3f5f"
            },
            "baxis": {
             "endlinecolor": "#2a3f5f",
             "gridcolor": "white",
             "linecolor": "white",
             "minorgridcolor": "white",
             "startlinecolor": "#2a3f5f"
            },
            "type": "carpet"
           }
          ],
          "choropleth": [
           {
            "colorbar": {
             "outlinewidth": 0,
             "ticks": ""
            },
            "type": "choropleth"
           }
          ],
          "contour": [
           {
            "colorbar": {
             "outlinewidth": 0,
             "ticks": ""
            },
            "colorscale": [
             [
              0,
              "#0d0887"
             ],
             [
              0.1111111111111111,
              "#46039f"
             ],
             [
              0.2222222222222222,
              "#7201a8"
             ],
             [
              0.3333333333333333,
              "#9c179e"
             ],
             [
              0.4444444444444444,
              "#bd3786"
             ],
             [
              0.5555555555555556,
              "#d8576b"
             ],
             [
              0.6666666666666666,
              "#ed7953"
             ],
             [
              0.7777777777777778,
              "#fb9f3a"
             ],
             [
              0.8888888888888888,
              "#fdca26"
             ],
             [
              1,
              "#f0f921"
             ]
            ],
            "type": "contour"
           }
          ],
          "contourcarpet": [
           {
            "colorbar": {
             "outlinewidth": 0,
             "ticks": ""
            },
            "type": "contourcarpet"
           }
          ],
          "heatmap": [
           {
            "colorbar": {
             "outlinewidth": 0,
             "ticks": ""
            },
            "colorscale": [
             [
              0,
              "#0d0887"
             ],
             [
              0.1111111111111111,
              "#46039f"
             ],
             [
              0.2222222222222222,
              "#7201a8"
             ],
             [
              0.3333333333333333,
              "#9c179e"
             ],
             [
              0.4444444444444444,
              "#bd3786"
             ],
             [
              0.5555555555555556,
              "#d8576b"
             ],
             [
              0.6666666666666666,
              "#ed7953"
             ],
             [
              0.7777777777777778,
              "#fb9f3a"
             ],
             [
              0.8888888888888888,
              "#fdca26"
             ],
             [
              1,
              "#f0f921"
             ]
            ],
            "type": "heatmap"
           }
          ],
          "heatmapgl": [
           {
            "colorbar": {
             "outlinewidth": 0,
             "ticks": ""
            },
            "colorscale": [
             [
              0,
              "#0d0887"
             ],
             [
              0.1111111111111111,
              "#46039f"
             ],
             [
              0.2222222222222222,
              "#7201a8"
             ],
             [
              0.3333333333333333,
              "#9c179e"
             ],
             [
              0.4444444444444444,
              "#bd3786"
             ],
             [
              0.5555555555555556,
              "#d8576b"
             ],
             [
              0.6666666666666666,
              "#ed7953"
             ],
             [
              0.7777777777777778,
              "#fb9f3a"
             ],
             [
              0.8888888888888888,
              "#fdca26"
             ],
             [
              1,
              "#f0f921"
             ]
            ],
            "type": "heatmapgl"
           }
          ],
          "histogram": [
           {
            "marker": {
             "pattern": {
              "fillmode": "overlay",
              "size": 10,
              "solidity": 0.2
             }
            },
            "type": "histogram"
           }
          ],
          "histogram2d": [
           {
            "colorbar": {
             "outlinewidth": 0,
             "ticks": ""
            },
            "colorscale": [
             [
              0,
              "#0d0887"
             ],
             [
              0.1111111111111111,
              "#46039f"
             ],
             [
              0.2222222222222222,
              "#7201a8"
             ],
             [
              0.3333333333333333,
              "#9c179e"
             ],
             [
              0.4444444444444444,
              "#bd3786"
             ],
             [
              0.5555555555555556,
              "#d8576b"
             ],
             [
              0.6666666666666666,
              "#ed7953"
             ],
             [
              0.7777777777777778,
              "#fb9f3a"
             ],
             [
              0.8888888888888888,
              "#fdca26"
             ],
             [
              1,
              "#f0f921"
             ]
            ],
            "type": "histogram2d"
           }
          ],
          "histogram2dcontour": [
           {
            "colorbar": {
             "outlinewidth": 0,
             "ticks": ""
            },
            "colorscale": [
             [
              0,
              "#0d0887"
             ],
             [
              0.1111111111111111,
              "#46039f"
             ],
             [
              0.2222222222222222,
              "#7201a8"
             ],
             [
              0.3333333333333333,
              "#9c179e"
             ],
             [
              0.4444444444444444,
              "#bd3786"
             ],
             [
              0.5555555555555556,
              "#d8576b"
             ],
             [
              0.6666666666666666,
              "#ed7953"
             ],
             [
              0.7777777777777778,
              "#fb9f3a"
             ],
             [
              0.8888888888888888,
              "#fdca26"
             ],
             [
              1,
              "#f0f921"
             ]
            ],
            "type": "histogram2dcontour"
           }
          ],
          "mesh3d": [
           {
            "colorbar": {
             "outlinewidth": 0,
             "ticks": ""
            },
            "type": "mesh3d"
           }
          ],
          "parcoords": [
           {
            "line": {
             "colorbar": {
              "outlinewidth": 0,
              "ticks": ""
             }
            },
            "type": "parcoords"
           }
          ],
          "pie": [
           {
            "automargin": true,
            "type": "pie"
           }
          ],
          "scatter": [
           {
            "fillpattern": {
             "fillmode": "overlay",
             "size": 10,
             "solidity": 0.2
            },
            "type": "scatter"
           }
          ],
          "scatter3d": [
           {
            "line": {
             "colorbar": {
              "outlinewidth": 0,
              "ticks": ""
             }
            },
            "marker": {
             "colorbar": {
              "outlinewidth": 0,
              "ticks": ""
             }
            },
            "type": "scatter3d"
           }
          ],
          "scattercarpet": [
           {
            "marker": {
             "colorbar": {
              "outlinewidth": 0,
              "ticks": ""
             }
            },
            "type": "scattercarpet"
           }
          ],
          "scattergeo": [
           {
            "marker": {
             "colorbar": {
              "outlinewidth": 0,
              "ticks": ""
             }
            },
            "type": "scattergeo"
           }
          ],
          "scattergl": [
           {
            "marker": {
             "colorbar": {
              "outlinewidth": 0,
              "ticks": ""
             }
            },
            "type": "scattergl"
           }
          ],
          "scattermapbox": [
           {
            "marker": {
             "colorbar": {
              "outlinewidth": 0,
              "ticks": ""
             }
            },
            "type": "scattermapbox"
           }
          ],
          "scatterpolar": [
           {
            "marker": {
             "colorbar": {
              "outlinewidth": 0,
              "ticks": ""
             }
            },
            "type": "scatterpolar"
           }
          ],
          "scatterpolargl": [
           {
            "marker": {
             "colorbar": {
              "outlinewidth": 0,
              "ticks": ""
             }
            },
            "type": "scatterpolargl"
           }
          ],
          "scatterternary": [
           {
            "marker": {
             "colorbar": {
              "outlinewidth": 0,
              "ticks": ""
             }
            },
            "type": "scatterternary"
           }
          ],
          "surface": [
           {
            "colorbar": {
             "outlinewidth": 0,
             "ticks": ""
            },
            "colorscale": [
             [
              0,
              "#0d0887"
             ],
             [
              0.1111111111111111,
              "#46039f"
             ],
             [
              0.2222222222222222,
              "#7201a8"
             ],
             [
              0.3333333333333333,
              "#9c179e"
             ],
             [
              0.4444444444444444,
              "#bd3786"
             ],
             [
              0.5555555555555556,
              "#d8576b"
             ],
             [
              0.6666666666666666,
              "#ed7953"
             ],
             [
              0.7777777777777778,
              "#fb9f3a"
             ],
             [
              0.8888888888888888,
              "#fdca26"
             ],
             [
              1,
              "#f0f921"
             ]
            ],
            "type": "surface"
           }
          ],
          "table": [
           {
            "cells": {
             "fill": {
              "color": "#EBF0F8"
             },
             "line": {
              "color": "white"
             }
            },
            "header": {
             "fill": {
              "color": "#C8D4E3"
             },
             "line": {
              "color": "white"
             }
            },
            "type": "table"
           }
          ]
         },
         "layout": {
          "annotationdefaults": {
           "arrowcolor": "#2a3f5f",
           "arrowhead": 0,
           "arrowwidth": 1
          },
          "autotypenumbers": "strict",
          "coloraxis": {
           "colorbar": {
            "outlinewidth": 0,
            "ticks": ""
           }
          },
          "colorscale": {
           "diverging": [
            [
             0,
             "#8e0152"
            ],
            [
             0.1,
             "#c51b7d"
            ],
            [
             0.2,
             "#de77ae"
            ],
            [
             0.3,
             "#f1b6da"
            ],
            [
             0.4,
             "#fde0ef"
            ],
            [
             0.5,
             "#f7f7f7"
            ],
            [
             0.6,
             "#e6f5d0"
            ],
            [
             0.7,
             "#b8e186"
            ],
            [
             0.8,
             "#7fbc41"
            ],
            [
             0.9,
             "#4d9221"
            ],
            [
             1,
             "#276419"
            ]
           ],
           "sequential": [
            [
             0,
             "#0d0887"
            ],
            [
             0.1111111111111111,
             "#46039f"
            ],
            [
             0.2222222222222222,
             "#7201a8"
            ],
            [
             0.3333333333333333,
             "#9c179e"
            ],
            [
             0.4444444444444444,
             "#bd3786"
            ],
            [
             0.5555555555555556,
             "#d8576b"
            ],
            [
             0.6666666666666666,
             "#ed7953"
            ],
            [
             0.7777777777777778,
             "#fb9f3a"
            ],
            [
             0.8888888888888888,
             "#fdca26"
            ],
            [
             1,
             "#f0f921"
            ]
           ],
           "sequentialminus": [
            [
             0,
             "#0d0887"
            ],
            [
             0.1111111111111111,
             "#46039f"
            ],
            [
             0.2222222222222222,
             "#7201a8"
            ],
            [
             0.3333333333333333,
             "#9c179e"
            ],
            [
             0.4444444444444444,
             "#bd3786"
            ],
            [
             0.5555555555555556,
             "#d8576b"
            ],
            [
             0.6666666666666666,
             "#ed7953"
            ],
            [
             0.7777777777777778,
             "#fb9f3a"
            ],
            [
             0.8888888888888888,
             "#fdca26"
            ],
            [
             1,
             "#f0f921"
            ]
           ]
          },
          "colorway": [
           "#636efa",
           "#EF553B",
           "#00cc96",
           "#ab63fa",
           "#FFA15A",
           "#19d3f3",
           "#FF6692",
           "#B6E880",
           "#FF97FF",
           "#FECB52"
          ],
          "font": {
           "color": "#2a3f5f"
          },
          "geo": {
           "bgcolor": "white",
           "lakecolor": "white",
           "landcolor": "#E5ECF6",
           "showlakes": true,
           "showland": true,
           "subunitcolor": "white"
          },
          "hoverlabel": {
           "align": "left"
          },
          "hovermode": "closest",
          "mapbox": {
           "style": "light"
          },
          "paper_bgcolor": "white",
          "plot_bgcolor": "#E5ECF6",
          "polar": {
           "angularaxis": {
            "gridcolor": "white",
            "linecolor": "white",
            "ticks": ""
           },
           "bgcolor": "#E5ECF6",
           "radialaxis": {
            "gridcolor": "white",
            "linecolor": "white",
            "ticks": ""
           }
          },
          "scene": {
           "xaxis": {
            "backgroundcolor": "#E5ECF6",
            "gridcolor": "white",
            "gridwidth": 2,
            "linecolor": "white",
            "showbackground": true,
            "ticks": "",
            "zerolinecolor": "white"
           },
           "yaxis": {
            "backgroundcolor": "#E5ECF6",
            "gridcolor": "white",
            "gridwidth": 2,
            "linecolor": "white",
            "showbackground": true,
            "ticks": "",
            "zerolinecolor": "white"
           },
           "zaxis": {
            "backgroundcolor": "#E5ECF6",
            "gridcolor": "white",
            "gridwidth": 2,
            "linecolor": "white",
            "showbackground": true,
            "ticks": "",
            "zerolinecolor": "white"
           }
          },
          "shapedefaults": {
           "line": {
            "color": "#2a3f5f"
           }
          },
          "ternary": {
           "aaxis": {
            "gridcolor": "white",
            "linecolor": "white",
            "ticks": ""
           },
           "baxis": {
            "gridcolor": "white",
            "linecolor": "white",
            "ticks": ""
           },
           "bgcolor": "#E5ECF6",
           "caxis": {
            "gridcolor": "white",
            "linecolor": "white",
            "ticks": ""
           }
          },
          "title": {
           "x": 0.05
          },
          "xaxis": {
           "automargin": true,
           "gridcolor": "white",
           "linecolor": "white",
           "ticks": "",
           "title": {
            "standoff": 15
           },
           "zerolinecolor": "white",
           "zerolinewidth": 2
          },
          "yaxis": {
           "automargin": true,
           "gridcolor": "white",
           "linecolor": "white",
           "ticks": "",
           "title": {
            "standoff": 15
           },
           "zerolinecolor": "white",
           "zerolinewidth": 2
          }
         }
        },
        "title": {
         "text": "Hyperparameter Importances"
        },
        "xaxis": {
         "title": {
          "text": "Hyperparameter Importance"
         }
        },
        "yaxis": {
         "title": {
          "text": "Hyperparameter"
         }
        }
       }
      }
     },
     "metadata": {},
     "output_type": "display_data"
    }
   ],
   "source": [
    "# 5. Hyperparameter Importance\n",
    "plot_param_importances(study).show()"
   ]
  },
  {
   "cell_type": "markdown",
   "metadata": {},
   "source": [
    "### Optimizing Multiple ML Models "
   ]
  },
  {
   "cell_type": "code",
   "execution_count": 36,
   "metadata": {},
   "outputs": [],
   "source": [
    "# Importing the required libraries\n",
    "from sklearn.ensemble import RandomForestClassifier, GradientBoostingClassifier\n",
    "from sklearn.svm import SVC"
   ]
  },
  {
   "cell_type": "code",
   "execution_count": 48,
   "metadata": {},
   "outputs": [],
   "source": [
    "# Define the objective function for Optuna\n",
    "def objective(trial):\n",
    "    # Choose the algorithm to tune\n",
    "    classifier_name = trial.suggest_categorical('classifier', ['SVM', 'RandomForest', 'GradientBoosting'])\n",
    "\n",
    "    if classifier_name == 'SVM':\n",
    "        # SVM hyperparameters\n",
    "        c = trial.suggest_float('C', 0.1, 100, log=True)\n",
    "        kernel = trial.suggest_categorical('kernel', ['linear', 'rbf', 'poly', 'sigmoid'])\n",
    "        gamma = trial.suggest_categorical('gamma', ['scale', 'auto'])\n",
    "\n",
    "        model = SVC(C=c, kernel=kernel, gamma=gamma, random_state=42)\n",
    "\n",
    "    elif classifier_name == 'RandomForest':\n",
    "        # Random Forest hyperparameters\n",
    "        n_estimators = trial.suggest_int('n_estimators', 50, 300)\n",
    "        max_depth = trial.suggest_int('max_depth', 3, 20)\n",
    "        min_samples_split = trial.suggest_int('min_samples_split', 2, 10)\n",
    "        min_samples_leaf = trial.suggest_int('min_samples_leaf', 1, 10)\n",
    "        bootstrap = trial.suggest_categorical('bootstrap', [True, False])\n",
    "\n",
    "        model = RandomForestClassifier(\n",
    "            n_estimators=n_estimators,\n",
    "            max_depth=max_depth,\n",
    "            min_samples_split=min_samples_split,\n",
    "            min_samples_leaf=min_samples_leaf,\n",
    "            bootstrap=bootstrap,\n",
    "            random_state=42\n",
    "        )\n",
    "\n",
    "    elif classifier_name == 'GradientBoosting':\n",
    "        # Gradient Boosting hyperparameters\n",
    "        n_estimators = trial.suggest_int('n_estimators', 50, 300)\n",
    "        learning_rate = trial.suggest_float('learning_rate', 0.01, 0.3, log=True)\n",
    "        max_depth = trial.suggest_int('max_depth', 3, 20)\n",
    "        min_samples_split = trial.suggest_int('min_samples_split', 2, 10)\n",
    "        min_samples_leaf = trial.suggest_int('min_samples_leaf', 1, 10)\n",
    "\n",
    "        model = GradientBoostingClassifier(\n",
    "            n_estimators=n_estimators,\n",
    "            learning_rate=learning_rate,\n",
    "            max_depth=max_depth,\n",
    "            min_samples_split=min_samples_split,\n",
    "            min_samples_leaf=min_samples_leaf,\n",
    "            random_state=42\n",
    "        )\n",
    "\n",
    "    # Perform cross-validation and return the mean accuracy\n",
    "    score = cross_val_score(model, X_train, y_train, cv=3, scoring='accuracy').mean()\n",
    "    return score"
   ]
  },
  {
   "cell_type": "code",
   "execution_count": 49,
   "metadata": {},
   "outputs": [
    {
     "name": "stderr",
     "output_type": "stream",
     "text": [
      "[I 2024-09-24 09:56:16,515] A new study created in memory with name: no-name-e74260d7-e201-4c84-aebe-cd80edf23b78\n",
      "[I 2024-09-24 09:56:16,571] Trial 0 finished with value: 0.6983240223463687 and parameters: {'classifier': 'SVM', 'C': 27.66959281030136, 'kernel': 'sigmoid', 'gamma': 'auto'}. Best is trial 0 with value: 0.6983240223463687.\n",
      "[I 2024-09-24 09:56:17,382] Trial 1 finished with value: 0.7560521415270017 and parameters: {'classifier': 'RandomForest', 'n_estimators': 113, 'max_depth': 12, 'min_samples_split': 2, 'min_samples_leaf': 9, 'bootstrap': True}. Best is trial 1 with value: 0.7560521415270017.\n",
      "[I 2024-09-24 09:56:17,418] Trial 2 finished with value: 0.696461824953445 and parameters: {'classifier': 'SVM', 'C': 8.755902111270748, 'kernel': 'sigmoid', 'gamma': 'auto'}. Best is trial 1 with value: 0.7560521415270017.\n",
      "[I 2024-09-24 09:56:17,502] Trial 3 finished with value: 0.7616387337057727 and parameters: {'classifier': 'SVM', 'C': 0.23462158572826997, 'kernel': 'sigmoid', 'gamma': 'scale'}. Best is trial 3 with value: 0.7616387337057727.\n",
      "[I 2024-09-24 09:56:19,609] Trial 4 finished with value: 0.7597765363128491 and parameters: {'classifier': 'RandomForest', 'n_estimators': 280, 'max_depth': 6, 'min_samples_split': 3, 'min_samples_leaf': 8, 'bootstrap': True}. Best is trial 3 with value: 0.7616387337057727.\n",
      "[I 2024-09-24 09:56:25,124] Trial 5 finished with value: 0.7635009310986964 and parameters: {'classifier': 'GradientBoosting', 'n_estimators': 253, 'learning_rate': 0.1096815776834484, 'max_depth': 5, 'min_samples_split': 2, 'min_samples_leaf': 6}. Best is trial 5 with value: 0.7635009310986964.\n",
      "[I 2024-09-24 09:56:31,248] Trial 6 finished with value: 0.7374301675977654 and parameters: {'classifier': 'GradientBoosting', 'n_estimators': 255, 'learning_rate': 0.25051711236748025, 'max_depth': 18, 'min_samples_split': 2, 'min_samples_leaf': 4}. Best is trial 5 with value: 0.7635009310986964.\n",
      "[I 2024-09-24 09:56:33,648] Trial 7 finished with value: 0.7653631284916201 and parameters: {'classifier': 'RandomForest', 'n_estimators': 263, 'max_depth': 17, 'min_samples_split': 8, 'min_samples_leaf': 5, 'bootstrap': False}. Best is trial 7 with value: 0.7653631284916201.\n",
      "[I 2024-09-24 09:56:33,830] Trial 8 finished with value: 0.7392923649906891 and parameters: {'classifier': 'SVM', 'C': 0.6337296127765408, 'kernel': 'poly', 'gamma': 'scale'}. Best is trial 7 with value: 0.7653631284916201.\n",
      "[I 2024-09-24 09:56:33,869] Trial 9 finished with value: 0.7355679702048418 and parameters: {'classifier': 'SVM', 'C': 2.5441412765253673, 'kernel': 'poly', 'gamma': 'auto'}. Best is trial 7 with value: 0.7653631284916201.\n",
      "[I 2024-09-24 09:56:35,367] Trial 10 finished with value: 0.7690875232774674 and parameters: {'classifier': 'RandomForest', 'n_estimators': 171, 'max_depth': 20, 'min_samples_split': 10, 'min_samples_leaf': 1, 'bootstrap': False}. Best is trial 10 with value: 0.7690875232774674.\n",
      "[I 2024-09-24 09:56:36,787] Trial 11 finished with value: 0.7709497206703911 and parameters: {'classifier': 'RandomForest', 'n_estimators': 166, 'max_depth': 20, 'min_samples_split': 10, 'min_samples_leaf': 1, 'bootstrap': False}. Best is trial 11 with value: 0.7709497206703911.\n",
      "[I 2024-09-24 09:56:38,332] Trial 12 finished with value: 0.7690875232774674 and parameters: {'classifier': 'RandomForest', 'n_estimators': 157, 'max_depth': 20, 'min_samples_split': 10, 'min_samples_leaf': 1, 'bootstrap': False}. Best is trial 11 with value: 0.7709497206703911.\n",
      "[I 2024-09-24 09:56:40,547] Trial 13 finished with value: 0.7690875232774674 and parameters: {'classifier': 'RandomForest', 'n_estimators': 171, 'max_depth': 15, 'min_samples_split': 10, 'min_samples_leaf': 1, 'bootstrap': False}. Best is trial 11 with value: 0.7709497206703911.\n",
      "[I 2024-09-24 09:56:41,118] Trial 14 finished with value: 0.7728119180633147 and parameters: {'classifier': 'RandomForest', 'n_estimators': 61, 'max_depth': 20, 'min_samples_split': 7, 'min_samples_leaf': 3, 'bootstrap': False}. Best is trial 14 with value: 0.7728119180633147.\n",
      "[I 2024-09-24 09:56:41,674] Trial 15 finished with value: 0.756052141527002 and parameters: {'classifier': 'RandomForest', 'n_estimators': 52, 'max_depth': 13, 'min_samples_split': 6, 'min_samples_leaf': 3, 'bootstrap': False}. Best is trial 14 with value: 0.7728119180633147.\n",
      "[I 2024-09-24 09:56:42,514] Trial 16 finished with value: 0.7765363128491621 and parameters: {'classifier': 'RandomForest', 'n_estimators': 54, 'max_depth': 9, 'min_samples_split': 7, 'min_samples_leaf': 3, 'bootstrap': False}. Best is trial 16 with value: 0.7765363128491621.\n",
      "[I 2024-09-24 09:56:44,255] Trial 17 finished with value: 0.7281191806331471 and parameters: {'classifier': 'GradientBoosting', 'n_estimators': 51, 'learning_rate': 0.010068841032299965, 'max_depth': 9, 'min_samples_split': 6, 'min_samples_leaf': 3}. Best is trial 16 with value: 0.7765363128491621.\n",
      "[I 2024-09-24 09:56:45,215] Trial 18 finished with value: 0.7802607076350093 and parameters: {'classifier': 'RandomForest', 'n_estimators': 103, 'max_depth': 9, 'min_samples_split': 8, 'min_samples_leaf': 3, 'bootstrap': False}. Best is trial 18 with value: 0.7802607076350093.\n",
      "[I 2024-09-24 09:56:46,668] Trial 19 finished with value: 0.7616387337057727 and parameters: {'classifier': 'RandomForest', 'n_estimators': 113, 'max_depth': 9, 'min_samples_split': 8, 'min_samples_leaf': 6, 'bootstrap': True}. Best is trial 18 with value: 0.7802607076350093.\n",
      "[I 2024-09-24 09:56:49,658] Trial 20 finished with value: 0.7448789571694601 and parameters: {'classifier': 'GradientBoosting', 'n_estimators': 97, 'learning_rate': 0.01735305158501954, 'max_depth': 8, 'min_samples_split': 5, 'min_samples_leaf': 4}. Best is trial 18 with value: 0.7802607076350093.\n",
      "[I 2024-09-24 09:56:50,293] Trial 21 finished with value: 0.74487895716946 and parameters: {'classifier': 'RandomForest', 'n_estimators': 76, 'max_depth': 3, 'min_samples_split': 8, 'min_samples_leaf': 3, 'bootstrap': False}. Best is trial 18 with value: 0.7802607076350093.\n",
      "[I 2024-09-24 09:56:51,320] Trial 22 finished with value: 0.7821229050279329 and parameters: {'classifier': 'RandomForest', 'n_estimators': 82, 'max_depth': 10, 'min_samples_split': 7, 'min_samples_leaf': 3, 'bootstrap': False}. Best is trial 22 with value: 0.7821229050279329.\n",
      "[I 2024-09-24 09:56:52,751] Trial 23 finished with value: 0.7783985102420857 and parameters: {'classifier': 'RandomForest', 'n_estimators': 136, 'max_depth': 10, 'min_samples_split': 7, 'min_samples_leaf': 2, 'bootstrap': False}. Best is trial 22 with value: 0.7821229050279329.\n",
      "[I 2024-09-24 09:56:54,208] Trial 24 finished with value: 0.7690875232774674 and parameters: {'classifier': 'RandomForest', 'n_estimators': 129, 'max_depth': 11, 'min_samples_split': 5, 'min_samples_leaf': 2, 'bootstrap': False}. Best is trial 22 with value: 0.7821229050279329.\n",
      "[I 2024-09-24 09:56:56,017] Trial 25 finished with value: 0.7709497206703911 and parameters: {'classifier': 'RandomForest', 'n_estimators': 201, 'max_depth': 11, 'min_samples_split': 7, 'min_samples_leaf': 5, 'bootstrap': False}. Best is trial 22 with value: 0.7821229050279329.\n",
      "[I 2024-09-24 09:56:58,065] Trial 26 finished with value: 0.7765363128491621 and parameters: {'classifier': 'RandomForest', 'n_estimators': 138, 'max_depth': 7, 'min_samples_split': 9, 'min_samples_leaf': 2, 'bootstrap': False}. Best is trial 22 with value: 0.7821229050279329.\n",
      "[I 2024-09-24 09:57:01,042] Trial 27 finished with value: 0.7653631284916201 and parameters: {'classifier': 'RandomForest', 'n_estimators': 205, 'max_depth': 14, 'min_samples_split': 5, 'min_samples_leaf': 4, 'bootstrap': True}. Best is trial 22 with value: 0.7821229050279329.\n",
      "[I 2024-09-24 09:57:04,149] Trial 28 finished with value: 0.7392923649906891 and parameters: {'classifier': 'GradientBoosting', 'n_estimators': 90, 'learning_rate': 0.04283580072241744, 'max_depth': 10, 'min_samples_split': 9, 'min_samples_leaf': 2}. Best is trial 22 with value: 0.7821229050279329.\n",
      "[I 2024-09-24 09:57:05,647] Trial 29 finished with value: 0.7709497206703911 and parameters: {'classifier': 'RandomForest', 'n_estimators': 133, 'max_depth': 5, 'min_samples_split': 7, 'min_samples_leaf': 2, 'bootstrap': False}. Best is trial 22 with value: 0.7821229050279329.\n",
      "[I 2024-09-24 09:57:05,722] Trial 30 finished with value: 0.7299813780260708 and parameters: {'classifier': 'SVM', 'C': 38.159469172662334, 'kernel': 'rbf', 'gamma': 'scale'}. Best is trial 22 with value: 0.7821229050279329.\n",
      "[I 2024-09-24 09:57:06,465] Trial 31 finished with value: 0.7690875232774674 and parameters: {'classifier': 'RandomForest', 'n_estimators': 83, 'max_depth': 9, 'min_samples_split': 7, 'min_samples_leaf': 4, 'bootstrap': False}. Best is trial 22 with value: 0.7821229050279329.\n",
      "[I 2024-09-24 09:57:07,534] Trial 32 finished with value: 0.7653631284916201 and parameters: {'classifier': 'RandomForest', 'n_estimators': 102, 'max_depth': 7, 'min_samples_split': 8, 'min_samples_leaf': 3, 'bootstrap': False}. Best is trial 22 with value: 0.7821229050279329.\n",
      "[I 2024-09-24 09:57:08,559] Trial 33 finished with value: 0.7616387337057727 and parameters: {'classifier': 'RandomForest', 'n_estimators': 73, 'max_depth': 10, 'min_samples_split': 6, 'min_samples_leaf': 2, 'bootstrap': False}. Best is trial 22 with value: 0.7821229050279329.\n",
      "[I 2024-09-24 09:57:09,447] Trial 34 finished with value: 0.7690875232774674 and parameters: {'classifier': 'RandomForest', 'n_estimators': 116, 'max_depth': 12, 'min_samples_split': 9, 'min_samples_leaf': 5, 'bootstrap': False}. Best is trial 22 with value: 0.7821229050279329.\n",
      "[I 2024-09-24 09:57:10,138] Trial 35 finished with value: 0.7653631284916201 and parameters: {'classifier': 'RandomForest', 'n_estimators': 68, 'max_depth': 8, 'min_samples_split': 7, 'min_samples_leaf': 4, 'bootstrap': False}. Best is trial 22 with value: 0.7821229050279329.\n",
      "[I 2024-09-24 09:57:10,190] Trial 36 finished with value: 0.7895716945996275 and parameters: {'classifier': 'SVM', 'C': 0.11079127824222741, 'kernel': 'linear', 'gamma': 'auto'}. Best is trial 36 with value: 0.7895716945996275.\n",
      "[I 2024-09-24 09:57:10,297] Trial 37 finished with value: 0.7895716945996275 and parameters: {'classifier': 'SVM', 'C': 0.12521472603223793, 'kernel': 'linear', 'gamma': 'auto'}. Best is trial 36 with value: 0.7895716945996275.\n",
      "[I 2024-09-24 09:57:10,366] Trial 38 finished with value: 0.7858472998137803 and parameters: {'classifier': 'SVM', 'C': 0.18980420041659546, 'kernel': 'linear', 'gamma': 'auto'}. Best is trial 36 with value: 0.7895716945996275.\n",
      "[I 2024-09-24 09:57:10,431] Trial 39 finished with value: 0.7877094972067038 and parameters: {'classifier': 'SVM', 'C': 0.10239814051528667, 'kernel': 'linear', 'gamma': 'auto'}. Best is trial 36 with value: 0.7895716945996275.\n",
      "[I 2024-09-24 09:57:10,524] Trial 40 finished with value: 0.7895716945996275 and parameters: {'classifier': 'SVM', 'C': 0.11121237879087342, 'kernel': 'linear', 'gamma': 'auto'}. Best is trial 36 with value: 0.7895716945996275.\n",
      "[I 2024-09-24 09:57:10,599] Trial 41 finished with value: 0.7877094972067038 and parameters: {'classifier': 'SVM', 'C': 0.10333505036727829, 'kernel': 'linear', 'gamma': 'auto'}. Best is trial 36 with value: 0.7895716945996275.\n",
      "[I 2024-09-24 09:57:10,698] Trial 42 finished with value: 0.7895716945996275 and parameters: {'classifier': 'SVM', 'C': 0.11384013096939956, 'kernel': 'linear', 'gamma': 'auto'}. Best is trial 36 with value: 0.7895716945996275.\n",
      "[I 2024-09-24 09:57:10,840] Trial 43 finished with value: 0.7877094972067038 and parameters: {'classifier': 'SVM', 'C': 0.10826922554662943, 'kernel': 'linear', 'gamma': 'auto'}. Best is trial 36 with value: 0.7895716945996275.\n",
      "[I 2024-09-24 09:57:10,938] Trial 44 finished with value: 0.7858472998137803 and parameters: {'classifier': 'SVM', 'C': 0.3322129529770135, 'kernel': 'linear', 'gamma': 'auto'}. Best is trial 36 with value: 0.7895716945996275.\n",
      "[I 2024-09-24 09:57:11,082] Trial 45 finished with value: 0.7877094972067038 and parameters: {'classifier': 'SVM', 'C': 0.10263944144354423, 'kernel': 'linear', 'gamma': 'auto'}. Best is trial 36 with value: 0.7895716945996275.\n",
      "[I 2024-09-24 09:57:11,148] Trial 46 finished with value: 0.7839851024208566 and parameters: {'classifier': 'SVM', 'C': 0.45604701833232325, 'kernel': 'linear', 'gamma': 'auto'}. Best is trial 36 with value: 0.7895716945996275.\n",
      "[I 2024-09-24 09:57:11,207] Trial 47 finished with value: 0.7858472998137803 and parameters: {'classifier': 'SVM', 'C': 0.21223334740824118, 'kernel': 'linear', 'gamma': 'auto'}. Best is trial 36 with value: 0.7895716945996275.\n",
      "[I 2024-09-24 09:57:11,307] Trial 48 finished with value: 0.7858472998137803 and parameters: {'classifier': 'SVM', 'C': 0.7922691668207824, 'kernel': 'linear', 'gamma': 'auto'}. Best is trial 36 with value: 0.7895716945996275.\n",
      "[I 2024-09-24 09:57:11,371] Trial 49 finished with value: 0.7877094972067038 and parameters: {'classifier': 'SVM', 'C': 0.10365571069500717, 'kernel': 'linear', 'gamma': 'auto'}. Best is trial 36 with value: 0.7895716945996275.\n",
      "[I 2024-09-24 09:57:11,435] Trial 50 finished with value: 0.7858472998137803 and parameters: {'classifier': 'SVM', 'C': 0.2017732907784689, 'kernel': 'linear', 'gamma': 'auto'}. Best is trial 36 with value: 0.7895716945996275.\n",
      "[I 2024-09-24 09:57:11,524] Trial 51 finished with value: 0.7877094972067038 and parameters: {'classifier': 'SVM', 'C': 0.10085709479448215, 'kernel': 'linear', 'gamma': 'auto'}. Best is trial 36 with value: 0.7895716945996275.\n",
      "[I 2024-09-24 09:57:11,602] Trial 52 finished with value: 0.7877094972067038 and parameters: {'classifier': 'SVM', 'C': 0.1799378703763273, 'kernel': 'linear', 'gamma': 'auto'}. Best is trial 36 with value: 0.7895716945996275.\n",
      "[I 2024-09-24 09:57:11,696] Trial 53 finished with value: 0.7895716945996275 and parameters: {'classifier': 'SVM', 'C': 0.11488350268233599, 'kernel': 'linear', 'gamma': 'auto'}. Best is trial 36 with value: 0.7895716945996275.\n",
      "[I 2024-09-24 09:57:11,804] Trial 54 finished with value: 0.7672253258845437 and parameters: {'classifier': 'SVM', 'C': 0.20556065948591723, 'kernel': 'rbf', 'gamma': 'auto'}. Best is trial 36 with value: 0.7895716945996275.\n",
      "[I 2024-09-24 09:57:11,879] Trial 55 finished with value: 0.7821229050279329 and parameters: {'classifier': 'SVM', 'C': 0.37682811836244995, 'kernel': 'linear', 'gamma': 'auto'}. Best is trial 36 with value: 0.7895716945996275.\n",
      "[I 2024-09-24 09:57:11,971] Trial 56 finished with value: 0.7877094972067038 and parameters: {'classifier': 'SVM', 'C': 0.17396661153396395, 'kernel': 'linear', 'gamma': 'auto'}. Best is trial 36 with value: 0.7895716945996275.\n",
      "[I 2024-09-24 09:57:12,030] Trial 57 finished with value: 0.7839851024208566 and parameters: {'classifier': 'SVM', 'C': 1.0014459883765303, 'kernel': 'linear', 'gamma': 'auto'}. Best is trial 36 with value: 0.7895716945996275.\n",
      "[I 2024-09-24 09:57:12,086] Trial 58 finished with value: 0.7877094972067038 and parameters: {'classifier': 'SVM', 'C': 0.15534316731799602, 'kernel': 'linear', 'gamma': 'auto'}. Best is trial 36 with value: 0.7895716945996275.\n",
      "[I 2024-09-24 09:57:12,251] Trial 59 finished with value: 0.7858472998137803 and parameters: {'classifier': 'SVM', 'C': 0.3295201154825074, 'kernel': 'linear', 'gamma': 'auto'}. Best is trial 36 with value: 0.7895716945996275.\n",
      "[I 2024-09-24 09:57:12,351] Trial 60 finished with value: 0.7895716945996275 and parameters: {'classifier': 'SVM', 'C': 0.13443735950531346, 'kernel': 'linear', 'gamma': 'auto'}. Best is trial 36 with value: 0.7895716945996275.\n",
      "[I 2024-09-24 09:57:12,450] Trial 61 finished with value: 0.7895716945996275 and parameters: {'classifier': 'SVM', 'C': 0.14379866290903218, 'kernel': 'linear', 'gamma': 'auto'}. Best is trial 36 with value: 0.7895716945996275.\n",
      "[I 2024-09-24 09:57:12,531] Trial 62 finished with value: 0.7895716945996275 and parameters: {'classifier': 'SVM', 'C': 0.15439523066238617, 'kernel': 'linear', 'gamma': 'auto'}. Best is trial 36 with value: 0.7895716945996275.\n",
      "[I 2024-09-24 09:57:20,465] Trial 63 finished with value: 0.7392923649906891 and parameters: {'classifier': 'GradientBoosting', 'n_estimators': 292, 'learning_rate': 0.045906539579769624, 'max_depth': 16, 'min_samples_split': 3, 'min_samples_leaf': 10}. Best is trial 36 with value: 0.7895716945996275.\n",
      "[I 2024-09-24 09:57:20,513] Trial 64 finished with value: 0.7858472998137803 and parameters: {'classifier': 'SVM', 'C': 0.30991857434875614, 'kernel': 'linear', 'gamma': 'auto'}. Best is trial 36 with value: 0.7895716945996275.\n",
      "[I 2024-09-24 09:57:20,563] Trial 65 finished with value: 0.7895716945996275 and parameters: {'classifier': 'SVM', 'C': 0.1420059574214891, 'kernel': 'linear', 'gamma': 'auto'}. Best is trial 36 with value: 0.7895716945996275.\n",
      "[I 2024-09-24 09:57:20,605] Trial 66 finished with value: 0.6983240223463687 and parameters: {'classifier': 'SVM', 'C': 12.03244534665471, 'kernel': 'sigmoid', 'gamma': 'auto'}. Best is trial 36 with value: 0.7895716945996275.\n",
      "[I 2024-09-24 09:57:20,651] Trial 67 finished with value: 0.7225325884543761 and parameters: {'classifier': 'SVM', 'C': 0.25897423300336225, 'kernel': 'poly', 'gamma': 'scale'}. Best is trial 36 with value: 0.7895716945996275.\n",
      "[I 2024-09-24 09:57:20,702] Trial 68 finished with value: 0.7728119180633147 and parameters: {'classifier': 'SVM', 'C': 0.14470478581195653, 'kernel': 'sigmoid', 'gamma': 'auto'}. Best is trial 36 with value: 0.7895716945996275.\n",
      "[I 2024-09-24 09:57:23,064] Trial 69 finished with value: 0.74487895716946 and parameters: {'classifier': 'GradientBoosting', 'n_estimators': 228, 'learning_rate': 0.2875643544614547, 'max_depth': 3, 'min_samples_split': 3, 'min_samples_leaf': 8}. Best is trial 36 with value: 0.7895716945996275.\n",
      "[I 2024-09-24 09:57:23,140] Trial 70 finished with value: 0.7709497206703911 and parameters: {'classifier': 'SVM', 'C': 1.5161524457045252, 'kernel': 'rbf', 'gamma': 'scale'}. Best is trial 36 with value: 0.7895716945996275.\n",
      "[I 2024-09-24 09:57:23,181] Trial 71 finished with value: 0.7895716945996275 and parameters: {'classifier': 'SVM', 'C': 0.1432438782090948, 'kernel': 'linear', 'gamma': 'auto'}. Best is trial 36 with value: 0.7895716945996275.\n",
      "[I 2024-09-24 09:57:23,223] Trial 72 finished with value: 0.7895716945996275 and parameters: {'classifier': 'SVM', 'C': 0.1511061926843058, 'kernel': 'linear', 'gamma': 'auto'}. Best is trial 36 with value: 0.7895716945996275.\n",
      "[I 2024-09-24 09:57:23,266] Trial 73 finished with value: 0.7858472998137803 and parameters: {'classifier': 'SVM', 'C': 0.2462256164049725, 'kernel': 'linear', 'gamma': 'auto'}. Best is trial 36 with value: 0.7895716945996275.\n",
      "[I 2024-09-24 09:57:23,312] Trial 74 finished with value: 0.7113594040968342 and parameters: {'classifier': 'SVM', 'C': 0.13932409478582958, 'kernel': 'poly', 'gamma': 'auto'}. Best is trial 36 with value: 0.7895716945996275.\n",
      "[I 2024-09-24 09:57:23,405] Trial 75 finished with value: 0.7858472998137801 and parameters: {'classifier': 'SVM', 'C': 9.893158230994326, 'kernel': 'linear', 'gamma': 'auto'}. Best is trial 36 with value: 0.7895716945996275.\n",
      "[I 2024-09-24 09:57:23,480] Trial 76 finished with value: 0.7858472998137801 and parameters: {'classifier': 'SVM', 'C': 3.4008524662067834, 'kernel': 'linear', 'gamma': 'scale'}. Best is trial 36 with value: 0.7895716945996275.\n",
      "[I 2024-09-24 09:57:23,522] Trial 77 finished with value: 0.7895716945996275 and parameters: {'classifier': 'SVM', 'C': 0.1389754317233838, 'kernel': 'linear', 'gamma': 'auto'}. Best is trial 36 with value: 0.7895716945996275.\n",
      "[I 2024-09-24 09:57:23,573] Trial 78 finished with value: 0.7579143389199254 and parameters: {'classifier': 'SVM', 'C': 0.4841437268254718, 'kernel': 'sigmoid', 'gamma': 'auto'}. Best is trial 36 with value: 0.7895716945996275.\n",
      "[I 2024-09-24 09:57:30,092] Trial 79 finished with value: 0.7430167597765364 and parameters: {'classifier': 'GradientBoosting', 'n_estimators': 228, 'learning_rate': 0.11924184728846866, 'max_depth': 18, 'min_samples_split': 4, 'min_samples_leaf': 7}. Best is trial 36 with value: 0.7895716945996275.\n",
      "[I 2024-09-24 09:57:30,204] Trial 80 finished with value: 0.7858472998137803 and parameters: {'classifier': 'SVM', 'C': 0.24667738965125385, 'kernel': 'linear', 'gamma': 'auto'}. Best is trial 36 with value: 0.7895716945996275.\n",
      "[I 2024-09-24 09:57:30,404] Trial 81 finished with value: 0.7895716945996275 and parameters: {'classifier': 'SVM', 'C': 0.12416669802021477, 'kernel': 'linear', 'gamma': 'auto'}. Best is trial 36 with value: 0.7895716945996275.\n",
      "[I 2024-09-24 09:57:30,670] Trial 82 finished with value: 0.7877094972067038 and parameters: {'classifier': 'SVM', 'C': 0.17624362833074714, 'kernel': 'linear', 'gamma': 'auto'}. Best is trial 36 with value: 0.7895716945996275.\n",
      "[I 2024-09-24 09:57:30,802] Trial 83 finished with value: 0.7877094972067038 and parameters: {'classifier': 'SVM', 'C': 0.10035505598277115, 'kernel': 'linear', 'gamma': 'auto'}. Best is trial 36 with value: 0.7895716945996275.\n",
      "[I 2024-09-24 09:57:30,906] Trial 84 finished with value: 0.7895716945996275 and parameters: {'classifier': 'SVM', 'C': 0.13198381323848557, 'kernel': 'linear', 'gamma': 'auto'}. Best is trial 36 with value: 0.7895716945996275.\n",
      "[I 2024-09-24 09:57:31,741] Trial 85 finished with value: 0.7858472998137801 and parameters: {'classifier': 'SVM', 'C': 94.49249220009193, 'kernel': 'linear', 'gamma': 'auto'}. Best is trial 36 with value: 0.7895716945996275.\n",
      "[I 2024-09-24 09:57:31,860] Trial 86 finished with value: 0.7635009310986964 and parameters: {'classifier': 'SVM', 'C': 0.20769366853179777, 'kernel': 'rbf', 'gamma': 'auto'}. Best is trial 36 with value: 0.7895716945996275.\n",
      "[I 2024-09-24 09:57:31,934] Trial 87 finished with value: 0.7895716945996275 and parameters: {'classifier': 'SVM', 'C': 0.12553282358976817, 'kernel': 'linear', 'gamma': 'auto'}. Best is trial 36 with value: 0.7895716945996275.\n",
      "[I 2024-09-24 09:57:32,214] Trial 88 finished with value: 0.7858472998137803 and parameters: {'classifier': 'SVM', 'C': 0.2674732659589019, 'kernel': 'linear', 'gamma': 'auto'}. Best is trial 36 with value: 0.7895716945996275.\n",
      "[I 2024-09-24 09:57:32,301] Trial 89 finished with value: 0.7057728119180634 and parameters: {'classifier': 'SVM', 'C': 0.10004291529276076, 'kernel': 'poly', 'gamma': 'scale'}. Best is trial 36 with value: 0.7895716945996275.\n",
      "[I 2024-09-24 09:57:32,369] Trial 90 finished with value: 0.7877094972067038 and parameters: {'classifier': 'SVM', 'C': 0.17529596916778217, 'kernel': 'linear', 'gamma': 'auto'}. Best is trial 36 with value: 0.7895716945996275.\n",
      "[I 2024-09-24 09:57:32,430] Trial 91 finished with value: 0.7895716945996275 and parameters: {'classifier': 'SVM', 'C': 0.13441242609248852, 'kernel': 'linear', 'gamma': 'auto'}. Best is trial 36 with value: 0.7895716945996275.\n",
      "[I 2024-09-24 09:57:32,573] Trial 92 finished with value: 0.7877094972067038 and parameters: {'classifier': 'SVM', 'C': 0.1666810255087183, 'kernel': 'linear', 'gamma': 'auto'}. Best is trial 36 with value: 0.7895716945996275.\n",
      "[I 2024-09-24 09:57:32,633] Trial 93 finished with value: 0.7895716945996275 and parameters: {'classifier': 'SVM', 'C': 0.12498419864372562, 'kernel': 'linear', 'gamma': 'auto'}. Best is trial 36 with value: 0.7895716945996275.\n",
      "[I 2024-09-24 09:57:32,684] Trial 94 finished with value: 0.7858472998137803 and parameters: {'classifier': 'SVM', 'C': 0.1996486017450363, 'kernel': 'linear', 'gamma': 'auto'}. Best is trial 36 with value: 0.7895716945996275.\n",
      "[I 2024-09-24 09:57:32,735] Trial 95 finished with value: 0.7895716945996275 and parameters: {'classifier': 'SVM', 'C': 0.1252386702096149, 'kernel': 'linear', 'gamma': 'auto'}. Best is trial 36 with value: 0.7895716945996275.\n",
      "[I 2024-09-24 09:57:32,782] Trial 96 finished with value: 0.7877094972067038 and parameters: {'classifier': 'SVM', 'C': 0.17046364546437442, 'kernel': 'linear', 'gamma': 'auto'}. Best is trial 36 with value: 0.7895716945996275.\n",
      "[I 2024-09-24 09:57:39,402] Trial 97 finished with value: 0.7430167597765364 and parameters: {'classifier': 'GradientBoosting', 'n_estimators': 277, 'learning_rate': 0.024553521889151563, 'max_depth': 18, 'min_samples_split': 2, 'min_samples_leaf': 9}. Best is trial 36 with value: 0.7895716945996275.\n",
      "[I 2024-09-24 09:57:39,465] Trial 98 finished with value: 0.7877094972067038 and parameters: {'classifier': 'SVM', 'C': 0.10220996669296248, 'kernel': 'linear', 'gamma': 'auto'}. Best is trial 36 with value: 0.7895716945996275.\n",
      "[I 2024-09-24 09:57:39,506] Trial 99 finished with value: 0.7858472998137803 and parameters: {'classifier': 'SVM', 'C': 0.2157075265473003, 'kernel': 'linear', 'gamma': 'auto'}. Best is trial 36 with value: 0.7895716945996275.\n"
     ]
    }
   ],
   "source": [
    "# Create a study and optimize it using CmaEsSampler\n",
    "study = optuna.create_study(direction='maximize')\n",
    "study.optimize(objective, n_trials=100)"
   ]
  },
  {
   "cell_type": "code",
   "execution_count": 50,
   "metadata": {},
   "outputs": [
    {
     "name": "stdout",
     "output_type": "stream",
     "text": [
      "Best trial parameters: {'classifier': 'SVM', 'C': 0.11079127824222741, 'kernel': 'linear', 'gamma': 'auto'}\n",
      "Best trial accuracy: 0.7895716945996275\n"
     ]
    }
   ],
   "source": [
    "# Retrieve the best trial\n",
    "best_trial = study.best_trial\n",
    "print(\"Best trial parameters:\", best_trial.params)\n",
    "print(\"Best trial accuracy:\", best_trial.value)"
   ]
  },
  {
   "cell_type": "code",
   "execution_count": 51,
   "metadata": {},
   "outputs": [
    {
     "data": {
      "text/html": [
       "<div>\n",
       "<style scoped>\n",
       "    .dataframe tbody tr th:only-of-type {\n",
       "        vertical-align: middle;\n",
       "    }\n",
       "\n",
       "    .dataframe tbody tr th {\n",
       "        vertical-align: top;\n",
       "    }\n",
       "\n",
       "    .dataframe thead th {\n",
       "        text-align: right;\n",
       "    }\n",
       "</style>\n",
       "<table border=\"1\" class=\"dataframe\">\n",
       "  <thead>\n",
       "    <tr style=\"text-align: right;\">\n",
       "      <th></th>\n",
       "      <th>number</th>\n",
       "      <th>value</th>\n",
       "      <th>datetime_start</th>\n",
       "      <th>datetime_complete</th>\n",
       "      <th>duration</th>\n",
       "      <th>params_C</th>\n",
       "      <th>params_bootstrap</th>\n",
       "      <th>params_classifier</th>\n",
       "      <th>params_gamma</th>\n",
       "      <th>params_kernel</th>\n",
       "      <th>params_learning_rate</th>\n",
       "      <th>params_max_depth</th>\n",
       "      <th>params_min_samples_leaf</th>\n",
       "      <th>params_min_samples_split</th>\n",
       "      <th>params_n_estimators</th>\n",
       "      <th>state</th>\n",
       "    </tr>\n",
       "  </thead>\n",
       "  <tbody>\n",
       "    <tr>\n",
       "      <th>0</th>\n",
       "      <td>0</td>\n",
       "      <td>0.698324</td>\n",
       "      <td>2024-09-24 09:56:16.517769</td>\n",
       "      <td>2024-09-24 09:56:16.571406</td>\n",
       "      <td>0 days 00:00:00.053637</td>\n",
       "      <td>27.669593</td>\n",
       "      <td>NaN</td>\n",
       "      <td>SVM</td>\n",
       "      <td>auto</td>\n",
       "      <td>sigmoid</td>\n",
       "      <td>NaN</td>\n",
       "      <td>NaN</td>\n",
       "      <td>NaN</td>\n",
       "      <td>NaN</td>\n",
       "      <td>NaN</td>\n",
       "      <td>COMPLETE</td>\n",
       "    </tr>\n",
       "    <tr>\n",
       "      <th>1</th>\n",
       "      <td>1</td>\n",
       "      <td>0.756052</td>\n",
       "      <td>2024-09-24 09:56:16.574656</td>\n",
       "      <td>2024-09-24 09:56:17.382018</td>\n",
       "      <td>0 days 00:00:00.807362</td>\n",
       "      <td>NaN</td>\n",
       "      <td>True</td>\n",
       "      <td>RandomForest</td>\n",
       "      <td>NaN</td>\n",
       "      <td>NaN</td>\n",
       "      <td>NaN</td>\n",
       "      <td>12.0</td>\n",
       "      <td>9.0</td>\n",
       "      <td>2.0</td>\n",
       "      <td>113.0</td>\n",
       "      <td>COMPLETE</td>\n",
       "    </tr>\n",
       "    <tr>\n",
       "      <th>2</th>\n",
       "      <td>2</td>\n",
       "      <td>0.696462</td>\n",
       "      <td>2024-09-24 09:56:17.385772</td>\n",
       "      <td>2024-09-24 09:56:17.418822</td>\n",
       "      <td>0 days 00:00:00.033050</td>\n",
       "      <td>8.755902</td>\n",
       "      <td>NaN</td>\n",
       "      <td>SVM</td>\n",
       "      <td>auto</td>\n",
       "      <td>sigmoid</td>\n",
       "      <td>NaN</td>\n",
       "      <td>NaN</td>\n",
       "      <td>NaN</td>\n",
       "      <td>NaN</td>\n",
       "      <td>NaN</td>\n",
       "      <td>COMPLETE</td>\n",
       "    </tr>\n",
       "    <tr>\n",
       "      <th>3</th>\n",
       "      <td>3</td>\n",
       "      <td>0.761639</td>\n",
       "      <td>2024-09-24 09:56:17.423355</td>\n",
       "      <td>2024-09-24 09:56:17.502205</td>\n",
       "      <td>0 days 00:00:00.078850</td>\n",
       "      <td>0.234622</td>\n",
       "      <td>NaN</td>\n",
       "      <td>SVM</td>\n",
       "      <td>scale</td>\n",
       "      <td>sigmoid</td>\n",
       "      <td>NaN</td>\n",
       "      <td>NaN</td>\n",
       "      <td>NaN</td>\n",
       "      <td>NaN</td>\n",
       "      <td>NaN</td>\n",
       "      <td>COMPLETE</td>\n",
       "    </tr>\n",
       "    <tr>\n",
       "      <th>4</th>\n",
       "      <td>4</td>\n",
       "      <td>0.759777</td>\n",
       "      <td>2024-09-24 09:56:17.504994</td>\n",
       "      <td>2024-09-24 09:56:19.609735</td>\n",
       "      <td>0 days 00:00:02.104741</td>\n",
       "      <td>NaN</td>\n",
       "      <td>True</td>\n",
       "      <td>RandomForest</td>\n",
       "      <td>NaN</td>\n",
       "      <td>NaN</td>\n",
       "      <td>NaN</td>\n",
       "      <td>6.0</td>\n",
       "      <td>8.0</td>\n",
       "      <td>3.0</td>\n",
       "      <td>280.0</td>\n",
       "      <td>COMPLETE</td>\n",
       "    </tr>\n",
       "    <tr>\n",
       "      <th>...</th>\n",
       "      <td>...</td>\n",
       "      <td>...</td>\n",
       "      <td>...</td>\n",
       "      <td>...</td>\n",
       "      <td>...</td>\n",
       "      <td>...</td>\n",
       "      <td>...</td>\n",
       "      <td>...</td>\n",
       "      <td>...</td>\n",
       "      <td>...</td>\n",
       "      <td>...</td>\n",
       "      <td>...</td>\n",
       "      <td>...</td>\n",
       "      <td>...</td>\n",
       "      <td>...</td>\n",
       "      <td>...</td>\n",
       "    </tr>\n",
       "    <tr>\n",
       "      <th>95</th>\n",
       "      <td>95</td>\n",
       "      <td>0.789572</td>\n",
       "      <td>2024-09-24 09:57:32.690233</td>\n",
       "      <td>2024-09-24 09:57:32.735532</td>\n",
       "      <td>0 days 00:00:00.045299</td>\n",
       "      <td>0.125239</td>\n",
       "      <td>NaN</td>\n",
       "      <td>SVM</td>\n",
       "      <td>auto</td>\n",
       "      <td>linear</td>\n",
       "      <td>NaN</td>\n",
       "      <td>NaN</td>\n",
       "      <td>NaN</td>\n",
       "      <td>NaN</td>\n",
       "      <td>NaN</td>\n",
       "      <td>COMPLETE</td>\n",
       "    </tr>\n",
       "    <tr>\n",
       "      <th>96</th>\n",
       "      <td>96</td>\n",
       "      <td>0.787709</td>\n",
       "      <td>2024-09-24 09:57:32.737768</td>\n",
       "      <td>2024-09-24 09:57:32.782920</td>\n",
       "      <td>0 days 00:00:00.045152</td>\n",
       "      <td>0.170464</td>\n",
       "      <td>NaN</td>\n",
       "      <td>SVM</td>\n",
       "      <td>auto</td>\n",
       "      <td>linear</td>\n",
       "      <td>NaN</td>\n",
       "      <td>NaN</td>\n",
       "      <td>NaN</td>\n",
       "      <td>NaN</td>\n",
       "      <td>NaN</td>\n",
       "      <td>COMPLETE</td>\n",
       "    </tr>\n",
       "    <tr>\n",
       "      <th>97</th>\n",
       "      <td>97</td>\n",
       "      <td>0.743017</td>\n",
       "      <td>2024-09-24 09:57:32.787370</td>\n",
       "      <td>2024-09-24 09:57:39.402555</td>\n",
       "      <td>0 days 00:00:06.615185</td>\n",
       "      <td>NaN</td>\n",
       "      <td>NaN</td>\n",
       "      <td>GradientBoosting</td>\n",
       "      <td>NaN</td>\n",
       "      <td>NaN</td>\n",
       "      <td>0.024554</td>\n",
       "      <td>18.0</td>\n",
       "      <td>9.0</td>\n",
       "      <td>2.0</td>\n",
       "      <td>277.0</td>\n",
       "      <td>COMPLETE</td>\n",
       "    </tr>\n",
       "    <tr>\n",
       "      <th>98</th>\n",
       "      <td>98</td>\n",
       "      <td>0.787709</td>\n",
       "      <td>2024-09-24 09:57:39.411693</td>\n",
       "      <td>2024-09-24 09:57:39.464119</td>\n",
       "      <td>0 days 00:00:00.052426</td>\n",
       "      <td>0.102210</td>\n",
       "      <td>NaN</td>\n",
       "      <td>SVM</td>\n",
       "      <td>auto</td>\n",
       "      <td>linear</td>\n",
       "      <td>NaN</td>\n",
       "      <td>NaN</td>\n",
       "      <td>NaN</td>\n",
       "      <td>NaN</td>\n",
       "      <td>NaN</td>\n",
       "      <td>COMPLETE</td>\n",
       "    </tr>\n",
       "    <tr>\n",
       "      <th>99</th>\n",
       "      <td>99</td>\n",
       "      <td>0.785847</td>\n",
       "      <td>2024-09-24 09:57:39.466628</td>\n",
       "      <td>2024-09-24 09:57:39.506465</td>\n",
       "      <td>0 days 00:00:00.039837</td>\n",
       "      <td>0.215708</td>\n",
       "      <td>NaN</td>\n",
       "      <td>SVM</td>\n",
       "      <td>auto</td>\n",
       "      <td>linear</td>\n",
       "      <td>NaN</td>\n",
       "      <td>NaN</td>\n",
       "      <td>NaN</td>\n",
       "      <td>NaN</td>\n",
       "      <td>NaN</td>\n",
       "      <td>COMPLETE</td>\n",
       "    </tr>\n",
       "  </tbody>\n",
       "</table>\n",
       "<p>100 rows × 16 columns</p>\n",
       "</div>"
      ],
      "text/plain": [
       "    number     value             datetime_start          datetime_complete  \\\n",
       "0        0  0.698324 2024-09-24 09:56:16.517769 2024-09-24 09:56:16.571406   \n",
       "1        1  0.756052 2024-09-24 09:56:16.574656 2024-09-24 09:56:17.382018   \n",
       "2        2  0.696462 2024-09-24 09:56:17.385772 2024-09-24 09:56:17.418822   \n",
       "3        3  0.761639 2024-09-24 09:56:17.423355 2024-09-24 09:56:17.502205   \n",
       "4        4  0.759777 2024-09-24 09:56:17.504994 2024-09-24 09:56:19.609735   \n",
       "..     ...       ...                        ...                        ...   \n",
       "95      95  0.789572 2024-09-24 09:57:32.690233 2024-09-24 09:57:32.735532   \n",
       "96      96  0.787709 2024-09-24 09:57:32.737768 2024-09-24 09:57:32.782920   \n",
       "97      97  0.743017 2024-09-24 09:57:32.787370 2024-09-24 09:57:39.402555   \n",
       "98      98  0.787709 2024-09-24 09:57:39.411693 2024-09-24 09:57:39.464119   \n",
       "99      99  0.785847 2024-09-24 09:57:39.466628 2024-09-24 09:57:39.506465   \n",
       "\n",
       "                 duration   params_C params_bootstrap params_classifier  \\\n",
       "0  0 days 00:00:00.053637  27.669593              NaN               SVM   \n",
       "1  0 days 00:00:00.807362        NaN             True      RandomForest   \n",
       "2  0 days 00:00:00.033050   8.755902              NaN               SVM   \n",
       "3  0 days 00:00:00.078850   0.234622              NaN               SVM   \n",
       "4  0 days 00:00:02.104741        NaN             True      RandomForest   \n",
       "..                    ...        ...              ...               ...   \n",
       "95 0 days 00:00:00.045299   0.125239              NaN               SVM   \n",
       "96 0 days 00:00:00.045152   0.170464              NaN               SVM   \n",
       "97 0 days 00:00:06.615185        NaN              NaN  GradientBoosting   \n",
       "98 0 days 00:00:00.052426   0.102210              NaN               SVM   \n",
       "99 0 days 00:00:00.039837   0.215708              NaN               SVM   \n",
       "\n",
       "   params_gamma params_kernel  params_learning_rate  params_max_depth  \\\n",
       "0          auto       sigmoid                   NaN               NaN   \n",
       "1           NaN           NaN                   NaN              12.0   \n",
       "2          auto       sigmoid                   NaN               NaN   \n",
       "3         scale       sigmoid                   NaN               NaN   \n",
       "4           NaN           NaN                   NaN               6.0   \n",
       "..          ...           ...                   ...               ...   \n",
       "95         auto        linear                   NaN               NaN   \n",
       "96         auto        linear                   NaN               NaN   \n",
       "97          NaN           NaN              0.024554              18.0   \n",
       "98         auto        linear                   NaN               NaN   \n",
       "99         auto        linear                   NaN               NaN   \n",
       "\n",
       "    params_min_samples_leaf  params_min_samples_split  params_n_estimators  \\\n",
       "0                       NaN                       NaN                  NaN   \n",
       "1                       9.0                       2.0                113.0   \n",
       "2                       NaN                       NaN                  NaN   \n",
       "3                       NaN                       NaN                  NaN   \n",
       "4                       8.0                       3.0                280.0   \n",
       "..                      ...                       ...                  ...   \n",
       "95                      NaN                       NaN                  NaN   \n",
       "96                      NaN                       NaN                  NaN   \n",
       "97                      9.0                       2.0                277.0   \n",
       "98                      NaN                       NaN                  NaN   \n",
       "99                      NaN                       NaN                  NaN   \n",
       "\n",
       "       state  \n",
       "0   COMPLETE  \n",
       "1   COMPLETE  \n",
       "2   COMPLETE  \n",
       "3   COMPLETE  \n",
       "4   COMPLETE  \n",
       "..       ...  \n",
       "95  COMPLETE  \n",
       "96  COMPLETE  \n",
       "97  COMPLETE  \n",
       "98  COMPLETE  \n",
       "99  COMPLETE  \n",
       "\n",
       "[100 rows x 16 columns]"
      ]
     },
     "execution_count": 51,
     "metadata": {},
     "output_type": "execute_result"
    }
   ],
   "source": [
    "study.trials_dataframe()"
   ]
  },
  {
   "cell_type": "code",
   "execution_count": 52,
   "metadata": {},
   "outputs": [
    {
     "data": {
      "text/plain": [
       "params_classifier\n",
       "SVM                 66\n",
       "RandomForest        25\n",
       "GradientBoosting     9\n",
       "Name: count, dtype: int64"
      ]
     },
     "execution_count": 52,
     "metadata": {},
     "output_type": "execute_result"
    }
   ],
   "source": [
    "study.trials_dataframe()['params_classifier'].value_counts()"
   ]
  },
  {
   "cell_type": "code",
   "execution_count": 53,
   "metadata": {},
   "outputs": [
    {
     "data": {
      "text/plain": [
       "params_classifier\n",
       "GradientBoosting    0.742603\n",
       "RandomForest        0.767821\n",
       "SVM                 0.775718\n",
       "Name: value, dtype: float64"
      ]
     },
     "execution_count": 53,
     "metadata": {},
     "output_type": "execute_result"
    }
   ],
   "source": [
    "study.trials_dataframe().groupby('params_classifier')['value'].mean()"
   ]
  },
  {
   "cell_type": "code",
   "execution_count": 54,
   "metadata": {},
   "outputs": [
    {
     "data": {
      "application/vnd.plotly.v1+json": {
       "config": {
        "plotlyServerURL": "https://plot.ly"
       },
       "data": [
        {
         "mode": "markers",
         "name": "Objective Value",
         "type": "scatter",
         "x": [
          0,
          1,
          2,
          3,
          4,
          5,
          6,
          7,
          8,
          9,
          10,
          11,
          12,
          13,
          14,
          15,
          16,
          17,
          18,
          19,
          20,
          21,
          22,
          23,
          24,
          25,
          26,
          27,
          28,
          29,
          30,
          31,
          32,
          33,
          34,
          35,
          36,
          37,
          38,
          39,
          40,
          41,
          42,
          43,
          44,
          45,
          46,
          47,
          48,
          49,
          50,
          51,
          52,
          53,
          54,
          55,
          56,
          57,
          58,
          59,
          60,
          61,
          62,
          63,
          64,
          65,
          66,
          67,
          68,
          69,
          70,
          71,
          72,
          73,
          74,
          75,
          76,
          77,
          78,
          79,
          80,
          81,
          82,
          83,
          84,
          85,
          86,
          87,
          88,
          89,
          90,
          91,
          92,
          93,
          94,
          95,
          96,
          97,
          98,
          99
         ],
         "y": [
          0.6983240223463687,
          0.7560521415270017,
          0.696461824953445,
          0.7616387337057727,
          0.7597765363128491,
          0.7635009310986964,
          0.7374301675977654,
          0.7653631284916201,
          0.7392923649906891,
          0.7355679702048418,
          0.7690875232774674,
          0.7709497206703911,
          0.7690875232774674,
          0.7690875232774674,
          0.7728119180633147,
          0.756052141527002,
          0.7765363128491621,
          0.7281191806331471,
          0.7802607076350093,
          0.7616387337057727,
          0.7448789571694601,
          0.74487895716946,
          0.7821229050279329,
          0.7783985102420857,
          0.7690875232774674,
          0.7709497206703911,
          0.7765363128491621,
          0.7653631284916201,
          0.7392923649906891,
          0.7709497206703911,
          0.7299813780260708,
          0.7690875232774674,
          0.7653631284916201,
          0.7616387337057727,
          0.7690875232774674,
          0.7653631284916201,
          0.7895716945996275,
          0.7895716945996275,
          0.7858472998137803,
          0.7877094972067038,
          0.7895716945996275,
          0.7877094972067038,
          0.7895716945996275,
          0.7877094972067038,
          0.7858472998137803,
          0.7877094972067038,
          0.7839851024208566,
          0.7858472998137803,
          0.7858472998137803,
          0.7877094972067038,
          0.7858472998137803,
          0.7877094972067038,
          0.7877094972067038,
          0.7895716945996275,
          0.7672253258845437,
          0.7821229050279329,
          0.7877094972067038,
          0.7839851024208566,
          0.7877094972067038,
          0.7858472998137803,
          0.7895716945996275,
          0.7895716945996275,
          0.7895716945996275,
          0.7392923649906891,
          0.7858472998137803,
          0.7895716945996275,
          0.6983240223463687,
          0.7225325884543761,
          0.7728119180633147,
          0.74487895716946,
          0.7709497206703911,
          0.7895716945996275,
          0.7895716945996275,
          0.7858472998137803,
          0.7113594040968342,
          0.7858472998137801,
          0.7858472998137801,
          0.7895716945996275,
          0.7579143389199254,
          0.7430167597765364,
          0.7858472998137803,
          0.7895716945996275,
          0.7877094972067038,
          0.7877094972067038,
          0.7895716945996275,
          0.7858472998137801,
          0.7635009310986964,
          0.7895716945996275,
          0.7858472998137803,
          0.7057728119180634,
          0.7877094972067038,
          0.7895716945996275,
          0.7877094972067038,
          0.7895716945996275,
          0.7858472998137803,
          0.7895716945996275,
          0.7877094972067038,
          0.7430167597765364,
          0.7877094972067038,
          0.7858472998137803
         ]
        },
        {
         "mode": "lines",
         "name": "Best Value",
         "type": "scatter",
         "x": [
          0,
          1,
          2,
          3,
          4,
          5,
          6,
          7,
          8,
          9,
          10,
          11,
          12,
          13,
          14,
          15,
          16,
          17,
          18,
          19,
          20,
          21,
          22,
          23,
          24,
          25,
          26,
          27,
          28,
          29,
          30,
          31,
          32,
          33,
          34,
          35,
          36,
          37,
          38,
          39,
          40,
          41,
          42,
          43,
          44,
          45,
          46,
          47,
          48,
          49,
          50,
          51,
          52,
          53,
          54,
          55,
          56,
          57,
          58,
          59,
          60,
          61,
          62,
          63,
          64,
          65,
          66,
          67,
          68,
          69,
          70,
          71,
          72,
          73,
          74,
          75,
          76,
          77,
          78,
          79,
          80,
          81,
          82,
          83,
          84,
          85,
          86,
          87,
          88,
          89,
          90,
          91,
          92,
          93,
          94,
          95,
          96,
          97,
          98,
          99
         ],
         "y": [
          0.6983240223463687,
          0.7560521415270017,
          0.7560521415270017,
          0.7616387337057727,
          0.7616387337057727,
          0.7635009310986964,
          0.7635009310986964,
          0.7653631284916201,
          0.7653631284916201,
          0.7653631284916201,
          0.7690875232774674,
          0.7709497206703911,
          0.7709497206703911,
          0.7709497206703911,
          0.7728119180633147,
          0.7728119180633147,
          0.7765363128491621,
          0.7765363128491621,
          0.7802607076350093,
          0.7802607076350093,
          0.7802607076350093,
          0.7802607076350093,
          0.7821229050279329,
          0.7821229050279329,
          0.7821229050279329,
          0.7821229050279329,
          0.7821229050279329,
          0.7821229050279329,
          0.7821229050279329,
          0.7821229050279329,
          0.7821229050279329,
          0.7821229050279329,
          0.7821229050279329,
          0.7821229050279329,
          0.7821229050279329,
          0.7821229050279329,
          0.7895716945996275,
          0.7895716945996275,
          0.7895716945996275,
          0.7895716945996275,
          0.7895716945996275,
          0.7895716945996275,
          0.7895716945996275,
          0.7895716945996275,
          0.7895716945996275,
          0.7895716945996275,
          0.7895716945996275,
          0.7895716945996275,
          0.7895716945996275,
          0.7895716945996275,
          0.7895716945996275,
          0.7895716945996275,
          0.7895716945996275,
          0.7895716945996275,
          0.7895716945996275,
          0.7895716945996275,
          0.7895716945996275,
          0.7895716945996275,
          0.7895716945996275,
          0.7895716945996275,
          0.7895716945996275,
          0.7895716945996275,
          0.7895716945996275,
          0.7895716945996275,
          0.7895716945996275,
          0.7895716945996275,
          0.7895716945996275,
          0.7895716945996275,
          0.7895716945996275,
          0.7895716945996275,
          0.7895716945996275,
          0.7895716945996275,
          0.7895716945996275,
          0.7895716945996275,
          0.7895716945996275,
          0.7895716945996275,
          0.7895716945996275,
          0.7895716945996275,
          0.7895716945996275,
          0.7895716945996275,
          0.7895716945996275,
          0.7895716945996275,
          0.7895716945996275,
          0.7895716945996275,
          0.7895716945996275,
          0.7895716945996275,
          0.7895716945996275,
          0.7895716945996275,
          0.7895716945996275,
          0.7895716945996275,
          0.7895716945996275,
          0.7895716945996275,
          0.7895716945996275,
          0.7895716945996275,
          0.7895716945996275,
          0.7895716945996275,
          0.7895716945996275,
          0.7895716945996275,
          0.7895716945996275,
          0.7895716945996275
         ]
        },
        {
         "marker": {
          "color": "#cccccc"
         },
         "mode": "markers",
         "name": "Infeasible Trial",
         "showlegend": false,
         "type": "scatter",
         "x": [],
         "y": []
        }
       ],
       "layout": {
        "template": {
         "data": {
          "bar": [
           {
            "error_x": {
             "color": "#2a3f5f"
            },
            "error_y": {
             "color": "#2a3f5f"
            },
            "marker": {
             "line": {
              "color": "#E5ECF6",
              "width": 0.5
             },
             "pattern": {
              "fillmode": "overlay",
              "size": 10,
              "solidity": 0.2
             }
            },
            "type": "bar"
           }
          ],
          "barpolar": [
           {
            "marker": {
             "line": {
              "color": "#E5ECF6",
              "width": 0.5
             },
             "pattern": {
              "fillmode": "overlay",
              "size": 10,
              "solidity": 0.2
             }
            },
            "type": "barpolar"
           }
          ],
          "carpet": [
           {
            "aaxis": {
             "endlinecolor": "#2a3f5f",
             "gridcolor": "white",
             "linecolor": "white",
             "minorgridcolor": "white",
             "startlinecolor": "#2a3f5f"
            },
            "baxis": {
             "endlinecolor": "#2a3f5f",
             "gridcolor": "white",
             "linecolor": "white",
             "minorgridcolor": "white",
             "startlinecolor": "#2a3f5f"
            },
            "type": "carpet"
           }
          ],
          "choropleth": [
           {
            "colorbar": {
             "outlinewidth": 0,
             "ticks": ""
            },
            "type": "choropleth"
           }
          ],
          "contour": [
           {
            "colorbar": {
             "outlinewidth": 0,
             "ticks": ""
            },
            "colorscale": [
             [
              0,
              "#0d0887"
             ],
             [
              0.1111111111111111,
              "#46039f"
             ],
             [
              0.2222222222222222,
              "#7201a8"
             ],
             [
              0.3333333333333333,
              "#9c179e"
             ],
             [
              0.4444444444444444,
              "#bd3786"
             ],
             [
              0.5555555555555556,
              "#d8576b"
             ],
             [
              0.6666666666666666,
              "#ed7953"
             ],
             [
              0.7777777777777778,
              "#fb9f3a"
             ],
             [
              0.8888888888888888,
              "#fdca26"
             ],
             [
              1,
              "#f0f921"
             ]
            ],
            "type": "contour"
           }
          ],
          "contourcarpet": [
           {
            "colorbar": {
             "outlinewidth": 0,
             "ticks": ""
            },
            "type": "contourcarpet"
           }
          ],
          "heatmap": [
           {
            "colorbar": {
             "outlinewidth": 0,
             "ticks": ""
            },
            "colorscale": [
             [
              0,
              "#0d0887"
             ],
             [
              0.1111111111111111,
              "#46039f"
             ],
             [
              0.2222222222222222,
              "#7201a8"
             ],
             [
              0.3333333333333333,
              "#9c179e"
             ],
             [
              0.4444444444444444,
              "#bd3786"
             ],
             [
              0.5555555555555556,
              "#d8576b"
             ],
             [
              0.6666666666666666,
              "#ed7953"
             ],
             [
              0.7777777777777778,
              "#fb9f3a"
             ],
             [
              0.8888888888888888,
              "#fdca26"
             ],
             [
              1,
              "#f0f921"
             ]
            ],
            "type": "heatmap"
           }
          ],
          "heatmapgl": [
           {
            "colorbar": {
             "outlinewidth": 0,
             "ticks": ""
            },
            "colorscale": [
             [
              0,
              "#0d0887"
             ],
             [
              0.1111111111111111,
              "#46039f"
             ],
             [
              0.2222222222222222,
              "#7201a8"
             ],
             [
              0.3333333333333333,
              "#9c179e"
             ],
             [
              0.4444444444444444,
              "#bd3786"
             ],
             [
              0.5555555555555556,
              "#d8576b"
             ],
             [
              0.6666666666666666,
              "#ed7953"
             ],
             [
              0.7777777777777778,
              "#fb9f3a"
             ],
             [
              0.8888888888888888,
              "#fdca26"
             ],
             [
              1,
              "#f0f921"
             ]
            ],
            "type": "heatmapgl"
           }
          ],
          "histogram": [
           {
            "marker": {
             "pattern": {
              "fillmode": "overlay",
              "size": 10,
              "solidity": 0.2
             }
            },
            "type": "histogram"
           }
          ],
          "histogram2d": [
           {
            "colorbar": {
             "outlinewidth": 0,
             "ticks": ""
            },
            "colorscale": [
             [
              0,
              "#0d0887"
             ],
             [
              0.1111111111111111,
              "#46039f"
             ],
             [
              0.2222222222222222,
              "#7201a8"
             ],
             [
              0.3333333333333333,
              "#9c179e"
             ],
             [
              0.4444444444444444,
              "#bd3786"
             ],
             [
              0.5555555555555556,
              "#d8576b"
             ],
             [
              0.6666666666666666,
              "#ed7953"
             ],
             [
              0.7777777777777778,
              "#fb9f3a"
             ],
             [
              0.8888888888888888,
              "#fdca26"
             ],
             [
              1,
              "#f0f921"
             ]
            ],
            "type": "histogram2d"
           }
          ],
          "histogram2dcontour": [
           {
            "colorbar": {
             "outlinewidth": 0,
             "ticks": ""
            },
            "colorscale": [
             [
              0,
              "#0d0887"
             ],
             [
              0.1111111111111111,
              "#46039f"
             ],
             [
              0.2222222222222222,
              "#7201a8"
             ],
             [
              0.3333333333333333,
              "#9c179e"
             ],
             [
              0.4444444444444444,
              "#bd3786"
             ],
             [
              0.5555555555555556,
              "#d8576b"
             ],
             [
              0.6666666666666666,
              "#ed7953"
             ],
             [
              0.7777777777777778,
              "#fb9f3a"
             ],
             [
              0.8888888888888888,
              "#fdca26"
             ],
             [
              1,
              "#f0f921"
             ]
            ],
            "type": "histogram2dcontour"
           }
          ],
          "mesh3d": [
           {
            "colorbar": {
             "outlinewidth": 0,
             "ticks": ""
            },
            "type": "mesh3d"
           }
          ],
          "parcoords": [
           {
            "line": {
             "colorbar": {
              "outlinewidth": 0,
              "ticks": ""
             }
            },
            "type": "parcoords"
           }
          ],
          "pie": [
           {
            "automargin": true,
            "type": "pie"
           }
          ],
          "scatter": [
           {
            "fillpattern": {
             "fillmode": "overlay",
             "size": 10,
             "solidity": 0.2
            },
            "type": "scatter"
           }
          ],
          "scatter3d": [
           {
            "line": {
             "colorbar": {
              "outlinewidth": 0,
              "ticks": ""
             }
            },
            "marker": {
             "colorbar": {
              "outlinewidth": 0,
              "ticks": ""
             }
            },
            "type": "scatter3d"
           }
          ],
          "scattercarpet": [
           {
            "marker": {
             "colorbar": {
              "outlinewidth": 0,
              "ticks": ""
             }
            },
            "type": "scattercarpet"
           }
          ],
          "scattergeo": [
           {
            "marker": {
             "colorbar": {
              "outlinewidth": 0,
              "ticks": ""
             }
            },
            "type": "scattergeo"
           }
          ],
          "scattergl": [
           {
            "marker": {
             "colorbar": {
              "outlinewidth": 0,
              "ticks": ""
             }
            },
            "type": "scattergl"
           }
          ],
          "scattermapbox": [
           {
            "marker": {
             "colorbar": {
              "outlinewidth": 0,
              "ticks": ""
             }
            },
            "type": "scattermapbox"
           }
          ],
          "scatterpolar": [
           {
            "marker": {
             "colorbar": {
              "outlinewidth": 0,
              "ticks": ""
             }
            },
            "type": "scatterpolar"
           }
          ],
          "scatterpolargl": [
           {
            "marker": {
             "colorbar": {
              "outlinewidth": 0,
              "ticks": ""
             }
            },
            "type": "scatterpolargl"
           }
          ],
          "scatterternary": [
           {
            "marker": {
             "colorbar": {
              "outlinewidth": 0,
              "ticks": ""
             }
            },
            "type": "scatterternary"
           }
          ],
          "surface": [
           {
            "colorbar": {
             "outlinewidth": 0,
             "ticks": ""
            },
            "colorscale": [
             [
              0,
              "#0d0887"
             ],
             [
              0.1111111111111111,
              "#46039f"
             ],
             [
              0.2222222222222222,
              "#7201a8"
             ],
             [
              0.3333333333333333,
              "#9c179e"
             ],
             [
              0.4444444444444444,
              "#bd3786"
             ],
             [
              0.5555555555555556,
              "#d8576b"
             ],
             [
              0.6666666666666666,
              "#ed7953"
             ],
             [
              0.7777777777777778,
              "#fb9f3a"
             ],
             [
              0.8888888888888888,
              "#fdca26"
             ],
             [
              1,
              "#f0f921"
             ]
            ],
            "type": "surface"
           }
          ],
          "table": [
           {
            "cells": {
             "fill": {
              "color": "#EBF0F8"
             },
             "line": {
              "color": "white"
             }
            },
            "header": {
             "fill": {
              "color": "#C8D4E3"
             },
             "line": {
              "color": "white"
             }
            },
            "type": "table"
           }
          ]
         },
         "layout": {
          "annotationdefaults": {
           "arrowcolor": "#2a3f5f",
           "arrowhead": 0,
           "arrowwidth": 1
          },
          "autotypenumbers": "strict",
          "coloraxis": {
           "colorbar": {
            "outlinewidth": 0,
            "ticks": ""
           }
          },
          "colorscale": {
           "diverging": [
            [
             0,
             "#8e0152"
            ],
            [
             0.1,
             "#c51b7d"
            ],
            [
             0.2,
             "#de77ae"
            ],
            [
             0.3,
             "#f1b6da"
            ],
            [
             0.4,
             "#fde0ef"
            ],
            [
             0.5,
             "#f7f7f7"
            ],
            [
             0.6,
             "#e6f5d0"
            ],
            [
             0.7,
             "#b8e186"
            ],
            [
             0.8,
             "#7fbc41"
            ],
            [
             0.9,
             "#4d9221"
            ],
            [
             1,
             "#276419"
            ]
           ],
           "sequential": [
            [
             0,
             "#0d0887"
            ],
            [
             0.1111111111111111,
             "#46039f"
            ],
            [
             0.2222222222222222,
             "#7201a8"
            ],
            [
             0.3333333333333333,
             "#9c179e"
            ],
            [
             0.4444444444444444,
             "#bd3786"
            ],
            [
             0.5555555555555556,
             "#d8576b"
            ],
            [
             0.6666666666666666,
             "#ed7953"
            ],
            [
             0.7777777777777778,
             "#fb9f3a"
            ],
            [
             0.8888888888888888,
             "#fdca26"
            ],
            [
             1,
             "#f0f921"
            ]
           ],
           "sequentialminus": [
            [
             0,
             "#0d0887"
            ],
            [
             0.1111111111111111,
             "#46039f"
            ],
            [
             0.2222222222222222,
             "#7201a8"
            ],
            [
             0.3333333333333333,
             "#9c179e"
            ],
            [
             0.4444444444444444,
             "#bd3786"
            ],
            [
             0.5555555555555556,
             "#d8576b"
            ],
            [
             0.6666666666666666,
             "#ed7953"
            ],
            [
             0.7777777777777778,
             "#fb9f3a"
            ],
            [
             0.8888888888888888,
             "#fdca26"
            ],
            [
             1,
             "#f0f921"
            ]
           ]
          },
          "colorway": [
           "#636efa",
           "#EF553B",
           "#00cc96",
           "#ab63fa",
           "#FFA15A",
           "#19d3f3",
           "#FF6692",
           "#B6E880",
           "#FF97FF",
           "#FECB52"
          ],
          "font": {
           "color": "#2a3f5f"
          },
          "geo": {
           "bgcolor": "white",
           "lakecolor": "white",
           "landcolor": "#E5ECF6",
           "showlakes": true,
           "showland": true,
           "subunitcolor": "white"
          },
          "hoverlabel": {
           "align": "left"
          },
          "hovermode": "closest",
          "mapbox": {
           "style": "light"
          },
          "paper_bgcolor": "white",
          "plot_bgcolor": "#E5ECF6",
          "polar": {
           "angularaxis": {
            "gridcolor": "white",
            "linecolor": "white",
            "ticks": ""
           },
           "bgcolor": "#E5ECF6",
           "radialaxis": {
            "gridcolor": "white",
            "linecolor": "white",
            "ticks": ""
           }
          },
          "scene": {
           "xaxis": {
            "backgroundcolor": "#E5ECF6",
            "gridcolor": "white",
            "gridwidth": 2,
            "linecolor": "white",
            "showbackground": true,
            "ticks": "",
            "zerolinecolor": "white"
           },
           "yaxis": {
            "backgroundcolor": "#E5ECF6",
            "gridcolor": "white",
            "gridwidth": 2,
            "linecolor": "white",
            "showbackground": true,
            "ticks": "",
            "zerolinecolor": "white"
           },
           "zaxis": {
            "backgroundcolor": "#E5ECF6",
            "gridcolor": "white",
            "gridwidth": 2,
            "linecolor": "white",
            "showbackground": true,
            "ticks": "",
            "zerolinecolor": "white"
           }
          },
          "shapedefaults": {
           "line": {
            "color": "#2a3f5f"
           }
          },
          "ternary": {
           "aaxis": {
            "gridcolor": "white",
            "linecolor": "white",
            "ticks": ""
           },
           "baxis": {
            "gridcolor": "white",
            "linecolor": "white",
            "ticks": ""
           },
           "bgcolor": "#E5ECF6",
           "caxis": {
            "gridcolor": "white",
            "linecolor": "white",
            "ticks": ""
           }
          },
          "title": {
           "x": 0.05
          },
          "xaxis": {
           "automargin": true,
           "gridcolor": "white",
           "linecolor": "white",
           "ticks": "",
           "title": {
            "standoff": 15
           },
           "zerolinecolor": "white",
           "zerolinewidth": 2
          },
          "yaxis": {
           "automargin": true,
           "gridcolor": "white",
           "linecolor": "white",
           "ticks": "",
           "title": {
            "standoff": 15
           },
           "zerolinecolor": "white",
           "zerolinewidth": 2
          }
         }
        },
        "title": {
         "text": "Optimization History Plot"
        },
        "xaxis": {
         "title": {
          "text": "Trial"
         }
        },
        "yaxis": {
         "title": {
          "text": "Objective Value"
         }
        }
       }
      }
     },
     "metadata": {},
     "output_type": "display_data"
    }
   ],
   "source": [
    "# 1. Optimization History\n",
    "plot_optimization_history(study).show()"
   ]
  },
  {
   "cell_type": "code",
   "execution_count": 55,
   "metadata": {},
   "outputs": [
    {
     "data": {
      "application/vnd.plotly.v1+json": {
       "config": {
        "plotlyServerURL": "https://plot.ly"
       },
       "data": [
        {
         "marker": {
          "color": [
           0,
           2,
           3,
           8,
           9,
           30,
           36,
           37,
           38,
           39,
           40,
           41,
           42,
           43,
           44,
           45,
           46,
           47,
           48,
           49,
           50,
           51,
           52,
           53,
           54,
           55,
           56,
           57,
           58,
           59,
           60,
           61,
           62,
           64,
           65,
           66,
           67,
           68,
           70,
           71,
           72,
           73,
           74,
           75,
           76,
           77,
           78,
           80,
           81,
           82,
           83,
           84,
           85,
           86,
           87,
           88,
           89,
           90,
           91,
           92,
           93,
           94,
           95,
           96,
           98,
           99
          ],
          "colorbar": {
           "title": {
            "text": "Trial"
           },
           "x": 1,
           "xpad": 40
          },
          "colorscale": [
           [
            0,
            "rgb(247,251,255)"
           ],
           [
            0.125,
            "rgb(222,235,247)"
           ],
           [
            0.25,
            "rgb(198,219,239)"
           ],
           [
            0.375,
            "rgb(158,202,225)"
           ],
           [
            0.5,
            "rgb(107,174,214)"
           ],
           [
            0.625,
            "rgb(66,146,198)"
           ],
           [
            0.75,
            "rgb(33,113,181)"
           ],
           [
            0.875,
            "rgb(8,81,156)"
           ],
           [
            1,
            "rgb(8,48,107)"
           ]
          ],
          "line": {
           "color": "Grey",
           "width": 0.5
          },
          "showscale": true
         },
         "mode": "markers",
         "name": "Feasible Trial",
         "showlegend": false,
         "type": "scatter",
         "x": [
          27.66959281030136,
          8.755902111270748,
          0.23462158572826997,
          0.6337296127765408,
          2.5441412765253673,
          38.159469172662334,
          0.11079127824222741,
          0.12521472603223793,
          0.18980420041659546,
          0.10239814051528667,
          0.11121237879087342,
          0.10333505036727829,
          0.11384013096939956,
          0.10826922554662943,
          0.3322129529770135,
          0.10263944144354423,
          0.45604701833232325,
          0.21223334740824118,
          0.7922691668207824,
          0.10365571069500717,
          0.2017732907784689,
          0.10085709479448215,
          0.1799378703763273,
          0.11488350268233599,
          0.20556065948591723,
          0.37682811836244995,
          0.17396661153396395,
          1.0014459883765303,
          0.15534316731799602,
          0.3295201154825074,
          0.13443735950531346,
          0.14379866290903218,
          0.15439523066238617,
          0.30991857434875614,
          0.1420059574214891,
          12.03244534665471,
          0.25897423300336225,
          0.14470478581195653,
          1.5161524457045252,
          0.1432438782090948,
          0.1511061926843058,
          0.2462256164049725,
          0.13932409478582958,
          9.893158230994326,
          3.4008524662067834,
          0.1389754317233838,
          0.4841437268254718,
          0.24667738965125385,
          0.12416669802021477,
          0.17624362833074714,
          0.10035505598277115,
          0.13198381323848557,
          94.49249220009193,
          0.20769366853179777,
          0.12553282358976817,
          0.2674732659589019,
          0.10004291529276076,
          0.17529596916778217,
          0.13441242609248852,
          0.1666810255087183,
          0.12498419864372562,
          0.1996486017450363,
          0.1252386702096149,
          0.17046364546437442,
          0.10220996669296248,
          0.2157075265473003
         ],
         "xaxis": "x",
         "y": [
          0.6983240223463687,
          0.696461824953445,
          0.7616387337057727,
          0.7392923649906891,
          0.7355679702048418,
          0.7299813780260708,
          0.7895716945996275,
          0.7895716945996275,
          0.7858472998137803,
          0.7877094972067038,
          0.7895716945996275,
          0.7877094972067038,
          0.7895716945996275,
          0.7877094972067038,
          0.7858472998137803,
          0.7877094972067038,
          0.7839851024208566,
          0.7858472998137803,
          0.7858472998137803,
          0.7877094972067038,
          0.7858472998137803,
          0.7877094972067038,
          0.7877094972067038,
          0.7895716945996275,
          0.7672253258845437,
          0.7821229050279329,
          0.7877094972067038,
          0.7839851024208566,
          0.7877094972067038,
          0.7858472998137803,
          0.7895716945996275,
          0.7895716945996275,
          0.7895716945996275,
          0.7858472998137803,
          0.7895716945996275,
          0.6983240223463687,
          0.7225325884543761,
          0.7728119180633147,
          0.7709497206703911,
          0.7895716945996275,
          0.7895716945996275,
          0.7858472998137803,
          0.7113594040968342,
          0.7858472998137801,
          0.7858472998137801,
          0.7895716945996275,
          0.7579143389199254,
          0.7858472998137803,
          0.7895716945996275,
          0.7877094972067038,
          0.7877094972067038,
          0.7895716945996275,
          0.7858472998137801,
          0.7635009310986964,
          0.7895716945996275,
          0.7858472998137803,
          0.7057728119180634,
          0.7877094972067038,
          0.7895716945996275,
          0.7877094972067038,
          0.7895716945996275,
          0.7858472998137803,
          0.7895716945996275,
          0.7877094972067038,
          0.7877094972067038,
          0.7858472998137803
         ],
         "yaxis": "y"
        },
        {
         "marker": {
          "color": [
           1,
           4,
           7,
           10,
           11,
           12,
           13,
           14,
           15,
           16,
           18,
           19,
           21,
           22,
           23,
           24,
           25,
           26,
           27,
           29,
           31,
           32,
           33,
           34,
           35
          ],
          "colorbar": {
           "title": {
            "text": "Trial"
           },
           "x": 1,
           "xpad": 40
          },
          "colorscale": [
           [
            0,
            "rgb(247,251,255)"
           ],
           [
            0.125,
            "rgb(222,235,247)"
           ],
           [
            0.25,
            "rgb(198,219,239)"
           ],
           [
            0.375,
            "rgb(158,202,225)"
           ],
           [
            0.5,
            "rgb(107,174,214)"
           ],
           [
            0.625,
            "rgb(66,146,198)"
           ],
           [
            0.75,
            "rgb(33,113,181)"
           ],
           [
            0.875,
            "rgb(8,81,156)"
           ],
           [
            1,
            "rgb(8,48,107)"
           ]
          ],
          "line": {
           "color": "Grey",
           "width": 0.5
          },
          "showscale": false
         },
         "mode": "markers",
         "name": "Feasible Trial",
         "showlegend": false,
         "type": "scatter",
         "x": [
          true,
          true,
          false,
          false,
          false,
          false,
          false,
          false,
          false,
          false,
          false,
          true,
          false,
          false,
          false,
          false,
          false,
          false,
          true,
          false,
          false,
          false,
          false,
          false,
          false
         ],
         "xaxis": "x2",
         "y": [
          0.7560521415270017,
          0.7597765363128491,
          0.7653631284916201,
          0.7690875232774674,
          0.7709497206703911,
          0.7690875232774674,
          0.7690875232774674,
          0.7728119180633147,
          0.756052141527002,
          0.7765363128491621,
          0.7802607076350093,
          0.7616387337057727,
          0.74487895716946,
          0.7821229050279329,
          0.7783985102420857,
          0.7690875232774674,
          0.7709497206703911,
          0.7765363128491621,
          0.7653631284916201,
          0.7709497206703911,
          0.7690875232774674,
          0.7653631284916201,
          0.7616387337057727,
          0.7690875232774674,
          0.7653631284916201
         ],
         "yaxis": "y2"
        },
        {
         "marker": {
          "color": [
           0,
           1,
           2,
           3,
           4,
           5,
           6,
           7,
           8,
           9,
           10,
           11,
           12,
           13,
           14,
           15,
           16,
           17,
           18,
           19,
           20,
           21,
           22,
           23,
           24,
           25,
           26,
           27,
           28,
           29,
           30,
           31,
           32,
           33,
           34,
           35,
           36,
           37,
           38,
           39,
           40,
           41,
           42,
           43,
           44,
           45,
           46,
           47,
           48,
           49,
           50,
           51,
           52,
           53,
           54,
           55,
           56,
           57,
           58,
           59,
           60,
           61,
           62,
           63,
           64,
           65,
           66,
           67,
           68,
           69,
           70,
           71,
           72,
           73,
           74,
           75,
           76,
           77,
           78,
           79,
           80,
           81,
           82,
           83,
           84,
           85,
           86,
           87,
           88,
           89,
           90,
           91,
           92,
           93,
           94,
           95,
           96,
           97,
           98,
           99
          ],
          "colorbar": {
           "title": {
            "text": "Trial"
           },
           "x": 1,
           "xpad": 40
          },
          "colorscale": [
           [
            0,
            "rgb(247,251,255)"
           ],
           [
            0.125,
            "rgb(222,235,247)"
           ],
           [
            0.25,
            "rgb(198,219,239)"
           ],
           [
            0.375,
            "rgb(158,202,225)"
           ],
           [
            0.5,
            "rgb(107,174,214)"
           ],
           [
            0.625,
            "rgb(66,146,198)"
           ],
           [
            0.75,
            "rgb(33,113,181)"
           ],
           [
            0.875,
            "rgb(8,81,156)"
           ],
           [
            1,
            "rgb(8,48,107)"
           ]
          ],
          "line": {
           "color": "Grey",
           "width": 0.5
          },
          "showscale": false
         },
         "mode": "markers",
         "name": "Feasible Trial",
         "showlegend": false,
         "type": "scatter",
         "x": [
          "SVM",
          "RandomForest",
          "SVM",
          "SVM",
          "RandomForest",
          "GradientBoosting",
          "GradientBoosting",
          "RandomForest",
          "SVM",
          "SVM",
          "RandomForest",
          "RandomForest",
          "RandomForest",
          "RandomForest",
          "RandomForest",
          "RandomForest",
          "RandomForest",
          "GradientBoosting",
          "RandomForest",
          "RandomForest",
          "GradientBoosting",
          "RandomForest",
          "RandomForest",
          "RandomForest",
          "RandomForest",
          "RandomForest",
          "RandomForest",
          "RandomForest",
          "GradientBoosting",
          "RandomForest",
          "SVM",
          "RandomForest",
          "RandomForest",
          "RandomForest",
          "RandomForest",
          "RandomForest",
          "SVM",
          "SVM",
          "SVM",
          "SVM",
          "SVM",
          "SVM",
          "SVM",
          "SVM",
          "SVM",
          "SVM",
          "SVM",
          "SVM",
          "SVM",
          "SVM",
          "SVM",
          "SVM",
          "SVM",
          "SVM",
          "SVM",
          "SVM",
          "SVM",
          "SVM",
          "SVM",
          "SVM",
          "SVM",
          "SVM",
          "SVM",
          "GradientBoosting",
          "SVM",
          "SVM",
          "SVM",
          "SVM",
          "SVM",
          "GradientBoosting",
          "SVM",
          "SVM",
          "SVM",
          "SVM",
          "SVM",
          "SVM",
          "SVM",
          "SVM",
          "SVM",
          "GradientBoosting",
          "SVM",
          "SVM",
          "SVM",
          "SVM",
          "SVM",
          "SVM",
          "SVM",
          "SVM",
          "SVM",
          "SVM",
          "SVM",
          "SVM",
          "SVM",
          "SVM",
          "SVM",
          "SVM",
          "SVM",
          "GradientBoosting",
          "SVM",
          "SVM"
         ],
         "xaxis": "x3",
         "y": [
          0.6983240223463687,
          0.7560521415270017,
          0.696461824953445,
          0.7616387337057727,
          0.7597765363128491,
          0.7635009310986964,
          0.7374301675977654,
          0.7653631284916201,
          0.7392923649906891,
          0.7355679702048418,
          0.7690875232774674,
          0.7709497206703911,
          0.7690875232774674,
          0.7690875232774674,
          0.7728119180633147,
          0.756052141527002,
          0.7765363128491621,
          0.7281191806331471,
          0.7802607076350093,
          0.7616387337057727,
          0.7448789571694601,
          0.74487895716946,
          0.7821229050279329,
          0.7783985102420857,
          0.7690875232774674,
          0.7709497206703911,
          0.7765363128491621,
          0.7653631284916201,
          0.7392923649906891,
          0.7709497206703911,
          0.7299813780260708,
          0.7690875232774674,
          0.7653631284916201,
          0.7616387337057727,
          0.7690875232774674,
          0.7653631284916201,
          0.7895716945996275,
          0.7895716945996275,
          0.7858472998137803,
          0.7877094972067038,
          0.7895716945996275,
          0.7877094972067038,
          0.7895716945996275,
          0.7877094972067038,
          0.7858472998137803,
          0.7877094972067038,
          0.7839851024208566,
          0.7858472998137803,
          0.7858472998137803,
          0.7877094972067038,
          0.7858472998137803,
          0.7877094972067038,
          0.7877094972067038,
          0.7895716945996275,
          0.7672253258845437,
          0.7821229050279329,
          0.7877094972067038,
          0.7839851024208566,
          0.7877094972067038,
          0.7858472998137803,
          0.7895716945996275,
          0.7895716945996275,
          0.7895716945996275,
          0.7392923649906891,
          0.7858472998137803,
          0.7895716945996275,
          0.6983240223463687,
          0.7225325884543761,
          0.7728119180633147,
          0.74487895716946,
          0.7709497206703911,
          0.7895716945996275,
          0.7895716945996275,
          0.7858472998137803,
          0.7113594040968342,
          0.7858472998137801,
          0.7858472998137801,
          0.7895716945996275,
          0.7579143389199254,
          0.7430167597765364,
          0.7858472998137803,
          0.7895716945996275,
          0.7877094972067038,
          0.7877094972067038,
          0.7895716945996275,
          0.7858472998137801,
          0.7635009310986964,
          0.7895716945996275,
          0.7858472998137803,
          0.7057728119180634,
          0.7877094972067038,
          0.7895716945996275,
          0.7877094972067038,
          0.7895716945996275,
          0.7858472998137803,
          0.7895716945996275,
          0.7877094972067038,
          0.7430167597765364,
          0.7877094972067038,
          0.7858472998137803
         ],
         "yaxis": "y3"
        },
        {
         "marker": {
          "color": [
           0,
           2,
           3,
           8,
           9,
           30,
           36,
           37,
           38,
           39,
           40,
           41,
           42,
           43,
           44,
           45,
           46,
           47,
           48,
           49,
           50,
           51,
           52,
           53,
           54,
           55,
           56,
           57,
           58,
           59,
           60,
           61,
           62,
           64,
           65,
           66,
           67,
           68,
           70,
           71,
           72,
           73,
           74,
           75,
           76,
           77,
           78,
           80,
           81,
           82,
           83,
           84,
           85,
           86,
           87,
           88,
           89,
           90,
           91,
           92,
           93,
           94,
           95,
           96,
           98,
           99
          ],
          "colorbar": {
           "title": {
            "text": "Trial"
           },
           "x": 1,
           "xpad": 40
          },
          "colorscale": [
           [
            0,
            "rgb(247,251,255)"
           ],
           [
            0.125,
            "rgb(222,235,247)"
           ],
           [
            0.25,
            "rgb(198,219,239)"
           ],
           [
            0.375,
            "rgb(158,202,225)"
           ],
           [
            0.5,
            "rgb(107,174,214)"
           ],
           [
            0.625,
            "rgb(66,146,198)"
           ],
           [
            0.75,
            "rgb(33,113,181)"
           ],
           [
            0.875,
            "rgb(8,81,156)"
           ],
           [
            1,
            "rgb(8,48,107)"
           ]
          ],
          "line": {
           "color": "Grey",
           "width": 0.5
          },
          "showscale": false
         },
         "mode": "markers",
         "name": "Feasible Trial",
         "showlegend": false,
         "type": "scatter",
         "x": [
          "auto",
          "auto",
          "scale",
          "scale",
          "auto",
          "scale",
          "auto",
          "auto",
          "auto",
          "auto",
          "auto",
          "auto",
          "auto",
          "auto",
          "auto",
          "auto",
          "auto",
          "auto",
          "auto",
          "auto",
          "auto",
          "auto",
          "auto",
          "auto",
          "auto",
          "auto",
          "auto",
          "auto",
          "auto",
          "auto",
          "auto",
          "auto",
          "auto",
          "auto",
          "auto",
          "auto",
          "scale",
          "auto",
          "scale",
          "auto",
          "auto",
          "auto",
          "auto",
          "auto",
          "scale",
          "auto",
          "auto",
          "auto",
          "auto",
          "auto",
          "auto",
          "auto",
          "auto",
          "auto",
          "auto",
          "auto",
          "scale",
          "auto",
          "auto",
          "auto",
          "auto",
          "auto",
          "auto",
          "auto",
          "auto",
          "auto"
         ],
         "xaxis": "x4",
         "y": [
          0.6983240223463687,
          0.696461824953445,
          0.7616387337057727,
          0.7392923649906891,
          0.7355679702048418,
          0.7299813780260708,
          0.7895716945996275,
          0.7895716945996275,
          0.7858472998137803,
          0.7877094972067038,
          0.7895716945996275,
          0.7877094972067038,
          0.7895716945996275,
          0.7877094972067038,
          0.7858472998137803,
          0.7877094972067038,
          0.7839851024208566,
          0.7858472998137803,
          0.7858472998137803,
          0.7877094972067038,
          0.7858472998137803,
          0.7877094972067038,
          0.7877094972067038,
          0.7895716945996275,
          0.7672253258845437,
          0.7821229050279329,
          0.7877094972067038,
          0.7839851024208566,
          0.7877094972067038,
          0.7858472998137803,
          0.7895716945996275,
          0.7895716945996275,
          0.7895716945996275,
          0.7858472998137803,
          0.7895716945996275,
          0.6983240223463687,
          0.7225325884543761,
          0.7728119180633147,
          0.7709497206703911,
          0.7895716945996275,
          0.7895716945996275,
          0.7858472998137803,
          0.7113594040968342,
          0.7858472998137801,
          0.7858472998137801,
          0.7895716945996275,
          0.7579143389199254,
          0.7858472998137803,
          0.7895716945996275,
          0.7877094972067038,
          0.7877094972067038,
          0.7895716945996275,
          0.7858472998137801,
          0.7635009310986964,
          0.7895716945996275,
          0.7858472998137803,
          0.7057728119180634,
          0.7877094972067038,
          0.7895716945996275,
          0.7877094972067038,
          0.7895716945996275,
          0.7858472998137803,
          0.7895716945996275,
          0.7877094972067038,
          0.7877094972067038,
          0.7858472998137803
         ],
         "yaxis": "y4"
        },
        {
         "marker": {
          "color": [
           0,
           2,
           3,
           8,
           9,
           30,
           36,
           37,
           38,
           39,
           40,
           41,
           42,
           43,
           44,
           45,
           46,
           47,
           48,
           49,
           50,
           51,
           52,
           53,
           54,
           55,
           56,
           57,
           58,
           59,
           60,
           61,
           62,
           64,
           65,
           66,
           67,
           68,
           70,
           71,
           72,
           73,
           74,
           75,
           76,
           77,
           78,
           80,
           81,
           82,
           83,
           84,
           85,
           86,
           87,
           88,
           89,
           90,
           91,
           92,
           93,
           94,
           95,
           96,
           98,
           99
          ],
          "colorbar": {
           "title": {
            "text": "Trial"
           },
           "x": 1,
           "xpad": 40
          },
          "colorscale": [
           [
            0,
            "rgb(247,251,255)"
           ],
           [
            0.125,
            "rgb(222,235,247)"
           ],
           [
            0.25,
            "rgb(198,219,239)"
           ],
           [
            0.375,
            "rgb(158,202,225)"
           ],
           [
            0.5,
            "rgb(107,174,214)"
           ],
           [
            0.625,
            "rgb(66,146,198)"
           ],
           [
            0.75,
            "rgb(33,113,181)"
           ],
           [
            0.875,
            "rgb(8,81,156)"
           ],
           [
            1,
            "rgb(8,48,107)"
           ]
          ],
          "line": {
           "color": "Grey",
           "width": 0.5
          },
          "showscale": false
         },
         "mode": "markers",
         "name": "Feasible Trial",
         "showlegend": false,
         "type": "scatter",
         "x": [
          "sigmoid",
          "sigmoid",
          "sigmoid",
          "poly",
          "poly",
          "rbf",
          "linear",
          "linear",
          "linear",
          "linear",
          "linear",
          "linear",
          "linear",
          "linear",
          "linear",
          "linear",
          "linear",
          "linear",
          "linear",
          "linear",
          "linear",
          "linear",
          "linear",
          "linear",
          "rbf",
          "linear",
          "linear",
          "linear",
          "linear",
          "linear",
          "linear",
          "linear",
          "linear",
          "linear",
          "linear",
          "sigmoid",
          "poly",
          "sigmoid",
          "rbf",
          "linear",
          "linear",
          "linear",
          "poly",
          "linear",
          "linear",
          "linear",
          "sigmoid",
          "linear",
          "linear",
          "linear",
          "linear",
          "linear",
          "linear",
          "rbf",
          "linear",
          "linear",
          "poly",
          "linear",
          "linear",
          "linear",
          "linear",
          "linear",
          "linear",
          "linear",
          "linear",
          "linear"
         ],
         "xaxis": "x5",
         "y": [
          0.6983240223463687,
          0.696461824953445,
          0.7616387337057727,
          0.7392923649906891,
          0.7355679702048418,
          0.7299813780260708,
          0.7895716945996275,
          0.7895716945996275,
          0.7858472998137803,
          0.7877094972067038,
          0.7895716945996275,
          0.7877094972067038,
          0.7895716945996275,
          0.7877094972067038,
          0.7858472998137803,
          0.7877094972067038,
          0.7839851024208566,
          0.7858472998137803,
          0.7858472998137803,
          0.7877094972067038,
          0.7858472998137803,
          0.7877094972067038,
          0.7877094972067038,
          0.7895716945996275,
          0.7672253258845437,
          0.7821229050279329,
          0.7877094972067038,
          0.7839851024208566,
          0.7877094972067038,
          0.7858472998137803,
          0.7895716945996275,
          0.7895716945996275,
          0.7895716945996275,
          0.7858472998137803,
          0.7895716945996275,
          0.6983240223463687,
          0.7225325884543761,
          0.7728119180633147,
          0.7709497206703911,
          0.7895716945996275,
          0.7895716945996275,
          0.7858472998137803,
          0.7113594040968342,
          0.7858472998137801,
          0.7858472998137801,
          0.7895716945996275,
          0.7579143389199254,
          0.7858472998137803,
          0.7895716945996275,
          0.7877094972067038,
          0.7877094972067038,
          0.7895716945996275,
          0.7858472998137801,
          0.7635009310986964,
          0.7895716945996275,
          0.7858472998137803,
          0.7057728119180634,
          0.7877094972067038,
          0.7895716945996275,
          0.7877094972067038,
          0.7895716945996275,
          0.7858472998137803,
          0.7895716945996275,
          0.7877094972067038,
          0.7877094972067038,
          0.7858472998137803
         ],
         "yaxis": "y5"
        },
        {
         "marker": {
          "color": [
           5,
           6,
           17,
           20,
           28,
           63,
           69,
           79,
           97
          ],
          "colorbar": {
           "title": {
            "text": "Trial"
           },
           "x": 1,
           "xpad": 40
          },
          "colorscale": [
           [
            0,
            "rgb(247,251,255)"
           ],
           [
            0.125,
            "rgb(222,235,247)"
           ],
           [
            0.25,
            "rgb(198,219,239)"
           ],
           [
            0.375,
            "rgb(158,202,225)"
           ],
           [
            0.5,
            "rgb(107,174,214)"
           ],
           [
            0.625,
            "rgb(66,146,198)"
           ],
           [
            0.75,
            "rgb(33,113,181)"
           ],
           [
            0.875,
            "rgb(8,81,156)"
           ],
           [
            1,
            "rgb(8,48,107)"
           ]
          ],
          "line": {
           "color": "Grey",
           "width": 0.5
          },
          "showscale": false
         },
         "mode": "markers",
         "name": "Feasible Trial",
         "showlegend": false,
         "type": "scatter",
         "x": [
          0.1096815776834484,
          0.25051711236748025,
          0.010068841032299965,
          0.01735305158501954,
          0.04283580072241744,
          0.045906539579769624,
          0.2875643544614547,
          0.11924184728846866,
          0.024553521889151563
         ],
         "xaxis": "x6",
         "y": [
          0.7635009310986964,
          0.7374301675977654,
          0.7281191806331471,
          0.7448789571694601,
          0.7392923649906891,
          0.7392923649906891,
          0.74487895716946,
          0.7430167597765364,
          0.7430167597765364
         ],
         "yaxis": "y6"
        },
        {
         "marker": {
          "color": [
           1,
           4,
           5,
           6,
           7,
           10,
           11,
           12,
           13,
           14,
           15,
           16,
           17,
           18,
           19,
           20,
           21,
           22,
           23,
           24,
           25,
           26,
           27,
           28,
           29,
           31,
           32,
           33,
           34,
           35,
           63,
           69,
           79,
           97
          ],
          "colorbar": {
           "title": {
            "text": "Trial"
           },
           "x": 1,
           "xpad": 40
          },
          "colorscale": [
           [
            0,
            "rgb(247,251,255)"
           ],
           [
            0.125,
            "rgb(222,235,247)"
           ],
           [
            0.25,
            "rgb(198,219,239)"
           ],
           [
            0.375,
            "rgb(158,202,225)"
           ],
           [
            0.5,
            "rgb(107,174,214)"
           ],
           [
            0.625,
            "rgb(66,146,198)"
           ],
           [
            0.75,
            "rgb(33,113,181)"
           ],
           [
            0.875,
            "rgb(8,81,156)"
           ],
           [
            1,
            "rgb(8,48,107)"
           ]
          ],
          "line": {
           "color": "Grey",
           "width": 0.5
          },
          "showscale": false
         },
         "mode": "markers",
         "name": "Feasible Trial",
         "showlegend": false,
         "type": "scatter",
         "x": [
          12,
          6,
          5,
          18,
          17,
          20,
          20,
          20,
          15,
          20,
          13,
          9,
          9,
          9,
          9,
          8,
          3,
          10,
          10,
          11,
          11,
          7,
          14,
          10,
          5,
          9,
          7,
          10,
          12,
          8,
          16,
          3,
          18,
          18
         ],
         "xaxis": "x7",
         "y": [
          0.7560521415270017,
          0.7597765363128491,
          0.7635009310986964,
          0.7374301675977654,
          0.7653631284916201,
          0.7690875232774674,
          0.7709497206703911,
          0.7690875232774674,
          0.7690875232774674,
          0.7728119180633147,
          0.756052141527002,
          0.7765363128491621,
          0.7281191806331471,
          0.7802607076350093,
          0.7616387337057727,
          0.7448789571694601,
          0.74487895716946,
          0.7821229050279329,
          0.7783985102420857,
          0.7690875232774674,
          0.7709497206703911,
          0.7765363128491621,
          0.7653631284916201,
          0.7392923649906891,
          0.7709497206703911,
          0.7690875232774674,
          0.7653631284916201,
          0.7616387337057727,
          0.7690875232774674,
          0.7653631284916201,
          0.7392923649906891,
          0.74487895716946,
          0.7430167597765364,
          0.7430167597765364
         ],
         "yaxis": "y7"
        },
        {
         "marker": {
          "color": [
           1,
           4,
           5,
           6,
           7,
           10,
           11,
           12,
           13,
           14,
           15,
           16,
           17,
           18,
           19,
           20,
           21,
           22,
           23,
           24,
           25,
           26,
           27,
           28,
           29,
           31,
           32,
           33,
           34,
           35,
           63,
           69,
           79,
           97
          ],
          "colorbar": {
           "title": {
            "text": "Trial"
           },
           "x": 1,
           "xpad": 40
          },
          "colorscale": [
           [
            0,
            "rgb(247,251,255)"
           ],
           [
            0.125,
            "rgb(222,235,247)"
           ],
           [
            0.25,
            "rgb(198,219,239)"
           ],
           [
            0.375,
            "rgb(158,202,225)"
           ],
           [
            0.5,
            "rgb(107,174,214)"
           ],
           [
            0.625,
            "rgb(66,146,198)"
           ],
           [
            0.75,
            "rgb(33,113,181)"
           ],
           [
            0.875,
            "rgb(8,81,156)"
           ],
           [
            1,
            "rgb(8,48,107)"
           ]
          ],
          "line": {
           "color": "Grey",
           "width": 0.5
          },
          "showscale": false
         },
         "mode": "markers",
         "name": "Feasible Trial",
         "showlegend": false,
         "type": "scatter",
         "x": [
          9,
          8,
          6,
          4,
          5,
          1,
          1,
          1,
          1,
          3,
          3,
          3,
          3,
          3,
          6,
          4,
          3,
          3,
          2,
          2,
          5,
          2,
          4,
          2,
          2,
          4,
          3,
          2,
          5,
          4,
          10,
          8,
          7,
          9
         ],
         "xaxis": "x8",
         "y": [
          0.7560521415270017,
          0.7597765363128491,
          0.7635009310986964,
          0.7374301675977654,
          0.7653631284916201,
          0.7690875232774674,
          0.7709497206703911,
          0.7690875232774674,
          0.7690875232774674,
          0.7728119180633147,
          0.756052141527002,
          0.7765363128491621,
          0.7281191806331471,
          0.7802607076350093,
          0.7616387337057727,
          0.7448789571694601,
          0.74487895716946,
          0.7821229050279329,
          0.7783985102420857,
          0.7690875232774674,
          0.7709497206703911,
          0.7765363128491621,
          0.7653631284916201,
          0.7392923649906891,
          0.7709497206703911,
          0.7690875232774674,
          0.7653631284916201,
          0.7616387337057727,
          0.7690875232774674,
          0.7653631284916201,
          0.7392923649906891,
          0.74487895716946,
          0.7430167597765364,
          0.7430167597765364
         ],
         "yaxis": "y8"
        },
        {
         "marker": {
          "color": [
           1,
           4,
           5,
           6,
           7,
           10,
           11,
           12,
           13,
           14,
           15,
           16,
           17,
           18,
           19,
           20,
           21,
           22,
           23,
           24,
           25,
           26,
           27,
           28,
           29,
           31,
           32,
           33,
           34,
           35,
           63,
           69,
           79,
           97
          ],
          "colorbar": {
           "title": {
            "text": "Trial"
           },
           "x": 1,
           "xpad": 40
          },
          "colorscale": [
           [
            0,
            "rgb(247,251,255)"
           ],
           [
            0.125,
            "rgb(222,235,247)"
           ],
           [
            0.25,
            "rgb(198,219,239)"
           ],
           [
            0.375,
            "rgb(158,202,225)"
           ],
           [
            0.5,
            "rgb(107,174,214)"
           ],
           [
            0.625,
            "rgb(66,146,198)"
           ],
           [
            0.75,
            "rgb(33,113,181)"
           ],
           [
            0.875,
            "rgb(8,81,156)"
           ],
           [
            1,
            "rgb(8,48,107)"
           ]
          ],
          "line": {
           "color": "Grey",
           "width": 0.5
          },
          "showscale": false
         },
         "mode": "markers",
         "name": "Feasible Trial",
         "showlegend": false,
         "type": "scatter",
         "x": [
          2,
          3,
          2,
          2,
          8,
          10,
          10,
          10,
          10,
          7,
          6,
          7,
          6,
          8,
          8,
          5,
          8,
          7,
          7,
          5,
          7,
          9,
          5,
          9,
          7,
          7,
          8,
          6,
          9,
          7,
          3,
          3,
          4,
          2
         ],
         "xaxis": "x9",
         "y": [
          0.7560521415270017,
          0.7597765363128491,
          0.7635009310986964,
          0.7374301675977654,
          0.7653631284916201,
          0.7690875232774674,
          0.7709497206703911,
          0.7690875232774674,
          0.7690875232774674,
          0.7728119180633147,
          0.756052141527002,
          0.7765363128491621,
          0.7281191806331471,
          0.7802607076350093,
          0.7616387337057727,
          0.7448789571694601,
          0.74487895716946,
          0.7821229050279329,
          0.7783985102420857,
          0.7690875232774674,
          0.7709497206703911,
          0.7765363128491621,
          0.7653631284916201,
          0.7392923649906891,
          0.7709497206703911,
          0.7690875232774674,
          0.7653631284916201,
          0.7616387337057727,
          0.7690875232774674,
          0.7653631284916201,
          0.7392923649906891,
          0.74487895716946,
          0.7430167597765364,
          0.7430167597765364
         ],
         "yaxis": "y9"
        },
        {
         "marker": {
          "color": [
           1,
           4,
           5,
           6,
           7,
           10,
           11,
           12,
           13,
           14,
           15,
           16,
           17,
           18,
           19,
           20,
           21,
           22,
           23,
           24,
           25,
           26,
           27,
           28,
           29,
           31,
           32,
           33,
           34,
           35,
           63,
           69,
           79,
           97
          ],
          "colorbar": {
           "title": {
            "text": "Trial"
           },
           "x": 1,
           "xpad": 40
          },
          "colorscale": [
           [
            0,
            "rgb(247,251,255)"
           ],
           [
            0.125,
            "rgb(222,235,247)"
           ],
           [
            0.25,
            "rgb(198,219,239)"
           ],
           [
            0.375,
            "rgb(158,202,225)"
           ],
           [
            0.5,
            "rgb(107,174,214)"
           ],
           [
            0.625,
            "rgb(66,146,198)"
           ],
           [
            0.75,
            "rgb(33,113,181)"
           ],
           [
            0.875,
            "rgb(8,81,156)"
           ],
           [
            1,
            "rgb(8,48,107)"
           ]
          ],
          "line": {
           "color": "Grey",
           "width": 0.5
          },
          "showscale": false
         },
         "mode": "markers",
         "name": "Feasible Trial",
         "showlegend": false,
         "type": "scatter",
         "x": [
          113,
          280,
          253,
          255,
          263,
          171,
          166,
          157,
          171,
          61,
          52,
          54,
          51,
          103,
          113,
          97,
          76,
          82,
          136,
          129,
          201,
          138,
          205,
          90,
          133,
          83,
          102,
          73,
          116,
          68,
          292,
          228,
          228,
          277
         ],
         "xaxis": "x10",
         "y": [
          0.7560521415270017,
          0.7597765363128491,
          0.7635009310986964,
          0.7374301675977654,
          0.7653631284916201,
          0.7690875232774674,
          0.7709497206703911,
          0.7690875232774674,
          0.7690875232774674,
          0.7728119180633147,
          0.756052141527002,
          0.7765363128491621,
          0.7281191806331471,
          0.7802607076350093,
          0.7616387337057727,
          0.7448789571694601,
          0.74487895716946,
          0.7821229050279329,
          0.7783985102420857,
          0.7690875232774674,
          0.7709497206703911,
          0.7765363128491621,
          0.7653631284916201,
          0.7392923649906891,
          0.7709497206703911,
          0.7690875232774674,
          0.7653631284916201,
          0.7616387337057727,
          0.7690875232774674,
          0.7653631284916201,
          0.7392923649906891,
          0.74487895716946,
          0.7430167597765364,
          0.7430167597765364
         ],
         "yaxis": "y10"
        }
       ],
       "layout": {
        "template": {
         "data": {
          "bar": [
           {
            "error_x": {
             "color": "#2a3f5f"
            },
            "error_y": {
             "color": "#2a3f5f"
            },
            "marker": {
             "line": {
              "color": "#E5ECF6",
              "width": 0.5
             },
             "pattern": {
              "fillmode": "overlay",
              "size": 10,
              "solidity": 0.2
             }
            },
            "type": "bar"
           }
          ],
          "barpolar": [
           {
            "marker": {
             "line": {
              "color": "#E5ECF6",
              "width": 0.5
             },
             "pattern": {
              "fillmode": "overlay",
              "size": 10,
              "solidity": 0.2
             }
            },
            "type": "barpolar"
           }
          ],
          "carpet": [
           {
            "aaxis": {
             "endlinecolor": "#2a3f5f",
             "gridcolor": "white",
             "linecolor": "white",
             "minorgridcolor": "white",
             "startlinecolor": "#2a3f5f"
            },
            "baxis": {
             "endlinecolor": "#2a3f5f",
             "gridcolor": "white",
             "linecolor": "white",
             "minorgridcolor": "white",
             "startlinecolor": "#2a3f5f"
            },
            "type": "carpet"
           }
          ],
          "choropleth": [
           {
            "colorbar": {
             "outlinewidth": 0,
             "ticks": ""
            },
            "type": "choropleth"
           }
          ],
          "contour": [
           {
            "colorbar": {
             "outlinewidth": 0,
             "ticks": ""
            },
            "colorscale": [
             [
              0,
              "#0d0887"
             ],
             [
              0.1111111111111111,
              "#46039f"
             ],
             [
              0.2222222222222222,
              "#7201a8"
             ],
             [
              0.3333333333333333,
              "#9c179e"
             ],
             [
              0.4444444444444444,
              "#bd3786"
             ],
             [
              0.5555555555555556,
              "#d8576b"
             ],
             [
              0.6666666666666666,
              "#ed7953"
             ],
             [
              0.7777777777777778,
              "#fb9f3a"
             ],
             [
              0.8888888888888888,
              "#fdca26"
             ],
             [
              1,
              "#f0f921"
             ]
            ],
            "type": "contour"
           }
          ],
          "contourcarpet": [
           {
            "colorbar": {
             "outlinewidth": 0,
             "ticks": ""
            },
            "type": "contourcarpet"
           }
          ],
          "heatmap": [
           {
            "colorbar": {
             "outlinewidth": 0,
             "ticks": ""
            },
            "colorscale": [
             [
              0,
              "#0d0887"
             ],
             [
              0.1111111111111111,
              "#46039f"
             ],
             [
              0.2222222222222222,
              "#7201a8"
             ],
             [
              0.3333333333333333,
              "#9c179e"
             ],
             [
              0.4444444444444444,
              "#bd3786"
             ],
             [
              0.5555555555555556,
              "#d8576b"
             ],
             [
              0.6666666666666666,
              "#ed7953"
             ],
             [
              0.7777777777777778,
              "#fb9f3a"
             ],
             [
              0.8888888888888888,
              "#fdca26"
             ],
             [
              1,
              "#f0f921"
             ]
            ],
            "type": "heatmap"
           }
          ],
          "heatmapgl": [
           {
            "colorbar": {
             "outlinewidth": 0,
             "ticks": ""
            },
            "colorscale": [
             [
              0,
              "#0d0887"
             ],
             [
              0.1111111111111111,
              "#46039f"
             ],
             [
              0.2222222222222222,
              "#7201a8"
             ],
             [
              0.3333333333333333,
              "#9c179e"
             ],
             [
              0.4444444444444444,
              "#bd3786"
             ],
             [
              0.5555555555555556,
              "#d8576b"
             ],
             [
              0.6666666666666666,
              "#ed7953"
             ],
             [
              0.7777777777777778,
              "#fb9f3a"
             ],
             [
              0.8888888888888888,
              "#fdca26"
             ],
             [
              1,
              "#f0f921"
             ]
            ],
            "type": "heatmapgl"
           }
          ],
          "histogram": [
           {
            "marker": {
             "pattern": {
              "fillmode": "overlay",
              "size": 10,
              "solidity": 0.2
             }
            },
            "type": "histogram"
           }
          ],
          "histogram2d": [
           {
            "colorbar": {
             "outlinewidth": 0,
             "ticks": ""
            },
            "colorscale": [
             [
              0,
              "#0d0887"
             ],
             [
              0.1111111111111111,
              "#46039f"
             ],
             [
              0.2222222222222222,
              "#7201a8"
             ],
             [
              0.3333333333333333,
              "#9c179e"
             ],
             [
              0.4444444444444444,
              "#bd3786"
             ],
             [
              0.5555555555555556,
              "#d8576b"
             ],
             [
              0.6666666666666666,
              "#ed7953"
             ],
             [
              0.7777777777777778,
              "#fb9f3a"
             ],
             [
              0.8888888888888888,
              "#fdca26"
             ],
             [
              1,
              "#f0f921"
             ]
            ],
            "type": "histogram2d"
           }
          ],
          "histogram2dcontour": [
           {
            "colorbar": {
             "outlinewidth": 0,
             "ticks": ""
            },
            "colorscale": [
             [
              0,
              "#0d0887"
             ],
             [
              0.1111111111111111,
              "#46039f"
             ],
             [
              0.2222222222222222,
              "#7201a8"
             ],
             [
              0.3333333333333333,
              "#9c179e"
             ],
             [
              0.4444444444444444,
              "#bd3786"
             ],
             [
              0.5555555555555556,
              "#d8576b"
             ],
             [
              0.6666666666666666,
              "#ed7953"
             ],
             [
              0.7777777777777778,
              "#fb9f3a"
             ],
             [
              0.8888888888888888,
              "#fdca26"
             ],
             [
              1,
              "#f0f921"
             ]
            ],
            "type": "histogram2dcontour"
           }
          ],
          "mesh3d": [
           {
            "colorbar": {
             "outlinewidth": 0,
             "ticks": ""
            },
            "type": "mesh3d"
           }
          ],
          "parcoords": [
           {
            "line": {
             "colorbar": {
              "outlinewidth": 0,
              "ticks": ""
             }
            },
            "type": "parcoords"
           }
          ],
          "pie": [
           {
            "automargin": true,
            "type": "pie"
           }
          ],
          "scatter": [
           {
            "fillpattern": {
             "fillmode": "overlay",
             "size": 10,
             "solidity": 0.2
            },
            "type": "scatter"
           }
          ],
          "scatter3d": [
           {
            "line": {
             "colorbar": {
              "outlinewidth": 0,
              "ticks": ""
             }
            },
            "marker": {
             "colorbar": {
              "outlinewidth": 0,
              "ticks": ""
             }
            },
            "type": "scatter3d"
           }
          ],
          "scattercarpet": [
           {
            "marker": {
             "colorbar": {
              "outlinewidth": 0,
              "ticks": ""
             }
            },
            "type": "scattercarpet"
           }
          ],
          "scattergeo": [
           {
            "marker": {
             "colorbar": {
              "outlinewidth": 0,
              "ticks": ""
             }
            },
            "type": "scattergeo"
           }
          ],
          "scattergl": [
           {
            "marker": {
             "colorbar": {
              "outlinewidth": 0,
              "ticks": ""
             }
            },
            "type": "scattergl"
           }
          ],
          "scattermapbox": [
           {
            "marker": {
             "colorbar": {
              "outlinewidth": 0,
              "ticks": ""
             }
            },
            "type": "scattermapbox"
           }
          ],
          "scatterpolar": [
           {
            "marker": {
             "colorbar": {
              "outlinewidth": 0,
              "ticks": ""
             }
            },
            "type": "scatterpolar"
           }
          ],
          "scatterpolargl": [
           {
            "marker": {
             "colorbar": {
              "outlinewidth": 0,
              "ticks": ""
             }
            },
            "type": "scatterpolargl"
           }
          ],
          "scatterternary": [
           {
            "marker": {
             "colorbar": {
              "outlinewidth": 0,
              "ticks": ""
             }
            },
            "type": "scatterternary"
           }
          ],
          "surface": [
           {
            "colorbar": {
             "outlinewidth": 0,
             "ticks": ""
            },
            "colorscale": [
             [
              0,
              "#0d0887"
             ],
             [
              0.1111111111111111,
              "#46039f"
             ],
             [
              0.2222222222222222,
              "#7201a8"
             ],
             [
              0.3333333333333333,
              "#9c179e"
             ],
             [
              0.4444444444444444,
              "#bd3786"
             ],
             [
              0.5555555555555556,
              "#d8576b"
             ],
             [
              0.6666666666666666,
              "#ed7953"
             ],
             [
              0.7777777777777778,
              "#fb9f3a"
             ],
             [
              0.8888888888888888,
              "#fdca26"
             ],
             [
              1,
              "#f0f921"
             ]
            ],
            "type": "surface"
           }
          ],
          "table": [
           {
            "cells": {
             "fill": {
              "color": "#EBF0F8"
             },
             "line": {
              "color": "white"
             }
            },
            "header": {
             "fill": {
              "color": "#C8D4E3"
             },
             "line": {
              "color": "white"
             }
            },
            "type": "table"
           }
          ]
         },
         "layout": {
          "annotationdefaults": {
           "arrowcolor": "#2a3f5f",
           "arrowhead": 0,
           "arrowwidth": 1
          },
          "autotypenumbers": "strict",
          "coloraxis": {
           "colorbar": {
            "outlinewidth": 0,
            "ticks": ""
           }
          },
          "colorscale": {
           "diverging": [
            [
             0,
             "#8e0152"
            ],
            [
             0.1,
             "#c51b7d"
            ],
            [
             0.2,
             "#de77ae"
            ],
            [
             0.3,
             "#f1b6da"
            ],
            [
             0.4,
             "#fde0ef"
            ],
            [
             0.5,
             "#f7f7f7"
            ],
            [
             0.6,
             "#e6f5d0"
            ],
            [
             0.7,
             "#b8e186"
            ],
            [
             0.8,
             "#7fbc41"
            ],
            [
             0.9,
             "#4d9221"
            ],
            [
             1,
             "#276419"
            ]
           ],
           "sequential": [
            [
             0,
             "#0d0887"
            ],
            [
             0.1111111111111111,
             "#46039f"
            ],
            [
             0.2222222222222222,
             "#7201a8"
            ],
            [
             0.3333333333333333,
             "#9c179e"
            ],
            [
             0.4444444444444444,
             "#bd3786"
            ],
            [
             0.5555555555555556,
             "#d8576b"
            ],
            [
             0.6666666666666666,
             "#ed7953"
            ],
            [
             0.7777777777777778,
             "#fb9f3a"
            ],
            [
             0.8888888888888888,
             "#fdca26"
            ],
            [
             1,
             "#f0f921"
            ]
           ],
           "sequentialminus": [
            [
             0,
             "#0d0887"
            ],
            [
             0.1111111111111111,
             "#46039f"
            ],
            [
             0.2222222222222222,
             "#7201a8"
            ],
            [
             0.3333333333333333,
             "#9c179e"
            ],
            [
             0.4444444444444444,
             "#bd3786"
            ],
            [
             0.5555555555555556,
             "#d8576b"
            ],
            [
             0.6666666666666666,
             "#ed7953"
            ],
            [
             0.7777777777777778,
             "#fb9f3a"
            ],
            [
             0.8888888888888888,
             "#fdca26"
            ],
            [
             1,
             "#f0f921"
            ]
           ]
          },
          "colorway": [
           "#636efa",
           "#EF553B",
           "#00cc96",
           "#ab63fa",
           "#FFA15A",
           "#19d3f3",
           "#FF6692",
           "#B6E880",
           "#FF97FF",
           "#FECB52"
          ],
          "font": {
           "color": "#2a3f5f"
          },
          "geo": {
           "bgcolor": "white",
           "lakecolor": "white",
           "landcolor": "#E5ECF6",
           "showlakes": true,
           "showland": true,
           "subunitcolor": "white"
          },
          "hoverlabel": {
           "align": "left"
          },
          "hovermode": "closest",
          "mapbox": {
           "style": "light"
          },
          "paper_bgcolor": "white",
          "plot_bgcolor": "#E5ECF6",
          "polar": {
           "angularaxis": {
            "gridcolor": "white",
            "linecolor": "white",
            "ticks": ""
           },
           "bgcolor": "#E5ECF6",
           "radialaxis": {
            "gridcolor": "white",
            "linecolor": "white",
            "ticks": ""
           }
          },
          "scene": {
           "xaxis": {
            "backgroundcolor": "#E5ECF6",
            "gridcolor": "white",
            "gridwidth": 2,
            "linecolor": "white",
            "showbackground": true,
            "ticks": "",
            "zerolinecolor": "white"
           },
           "yaxis": {
            "backgroundcolor": "#E5ECF6",
            "gridcolor": "white",
            "gridwidth": 2,
            "linecolor": "white",
            "showbackground": true,
            "ticks": "",
            "zerolinecolor": "white"
           },
           "zaxis": {
            "backgroundcolor": "#E5ECF6",
            "gridcolor": "white",
            "gridwidth": 2,
            "linecolor": "white",
            "showbackground": true,
            "ticks": "",
            "zerolinecolor": "white"
           }
          },
          "shapedefaults": {
           "line": {
            "color": "#2a3f5f"
           }
          },
          "ternary": {
           "aaxis": {
            "gridcolor": "white",
            "linecolor": "white",
            "ticks": ""
           },
           "baxis": {
            "gridcolor": "white",
            "linecolor": "white",
            "ticks": ""
           },
           "bgcolor": "#E5ECF6",
           "caxis": {
            "gridcolor": "white",
            "linecolor": "white",
            "ticks": ""
           }
          },
          "title": {
           "x": 0.05
          },
          "xaxis": {
           "automargin": true,
           "gridcolor": "white",
           "linecolor": "white",
           "ticks": "",
           "title": {
            "standoff": 15
           },
           "zerolinecolor": "white",
           "zerolinewidth": 2
          },
          "yaxis": {
           "automargin": true,
           "gridcolor": "white",
           "linecolor": "white",
           "ticks": "",
           "title": {
            "standoff": 15
           },
           "zerolinecolor": "white",
           "zerolinewidth": 2
          }
         }
        },
        "title": {
         "text": "Slice Plot"
        },
        "width": 3000,
        "xaxis": {
         "anchor": "y",
         "domain": [
          0,
          0.082
         ],
         "title": {
          "text": "C"
         },
         "type": "log"
        },
        "xaxis10": {
         "anchor": "y10",
         "domain": [
          0.9179999999999999,
          0.9999999999999999
         ],
         "title": {
          "text": "n_estimators"
         }
        },
        "xaxis2": {
         "anchor": "y2",
         "categoryarray": [
          true,
          false
         ],
         "categoryorder": "array",
         "domain": [
          0.10200000000000001,
          0.184
         ],
         "title": {
          "text": "bootstrap"
         },
         "type": "category"
        },
        "xaxis3": {
         "anchor": "y3",
         "categoryarray": [
          "SVM",
          "RandomForest",
          "GradientBoosting"
         ],
         "categoryorder": "array",
         "domain": [
          0.20400000000000001,
          0.28600000000000003
         ],
         "title": {
          "text": "classifier"
         },
         "type": "category"
        },
        "xaxis4": {
         "anchor": "y4",
         "categoryarray": [
          "scale",
          "auto"
         ],
         "categoryorder": "array",
         "domain": [
          0.306,
          0.388
         ],
         "title": {
          "text": "gamma"
         },
         "type": "category"
        },
        "xaxis5": {
         "anchor": "y5",
         "categoryarray": [
          "linear",
          "rbf",
          "poly",
          "sigmoid"
         ],
         "categoryorder": "array",
         "domain": [
          0.40800000000000003,
          0.49000000000000005
         ],
         "title": {
          "text": "kernel"
         },
         "type": "category"
        },
        "xaxis6": {
         "anchor": "y6",
         "domain": [
          0.51,
          0.592
         ],
         "title": {
          "text": "learning_rate"
         },
         "type": "log"
        },
        "xaxis7": {
         "anchor": "y7",
         "domain": [
          0.6120000000000001,
          0.6940000000000001
         ],
         "title": {
          "text": "max_depth"
         }
        },
        "xaxis8": {
         "anchor": "y8",
         "domain": [
          0.7140000000000001,
          0.796
         ],
         "title": {
          "text": "min_samples_leaf"
         }
        },
        "xaxis9": {
         "anchor": "y9",
         "domain": [
          0.8160000000000001,
          0.898
         ],
         "title": {
          "text": "min_samples_split"
         }
        },
        "yaxis": {
         "anchor": "x",
         "domain": [
          0,
          1
         ],
         "title": {
          "text": "Objective Value"
         }
        },
        "yaxis10": {
         "anchor": "x10",
         "domain": [
          0,
          1
         ],
         "matches": "y",
         "showticklabels": false
        },
        "yaxis2": {
         "anchor": "x2",
         "domain": [
          0,
          1
         ],
         "matches": "y",
         "showticklabels": false
        },
        "yaxis3": {
         "anchor": "x3",
         "domain": [
          0,
          1
         ],
         "matches": "y",
         "showticklabels": false
        },
        "yaxis4": {
         "anchor": "x4",
         "domain": [
          0,
          1
         ],
         "matches": "y",
         "showticklabels": false
        },
        "yaxis5": {
         "anchor": "x5",
         "domain": [
          0,
          1
         ],
         "matches": "y",
         "showticklabels": false
        },
        "yaxis6": {
         "anchor": "x6",
         "domain": [
          0,
          1
         ],
         "matches": "y",
         "showticklabels": false
        },
        "yaxis7": {
         "anchor": "x7",
         "domain": [
          0,
          1
         ],
         "matches": "y",
         "showticklabels": false
        },
        "yaxis8": {
         "anchor": "x8",
         "domain": [
          0,
          1
         ],
         "matches": "y",
         "showticklabels": false
        },
        "yaxis9": {
         "anchor": "x9",
         "domain": [
          0,
          1
         ],
         "matches": "y",
         "showticklabels": false
        }
       }
      }
     },
     "metadata": {},
     "output_type": "display_data"
    }
   ],
   "source": [
    "# 3. Slice Plot\n",
    "plot_slice(study).show()"
   ]
  },
  {
   "cell_type": "code",
   "execution_count": 56,
   "metadata": {},
   "outputs": [
    {
     "data": {
      "application/vnd.plotly.v1+json": {
       "config": {
        "plotlyServerURL": "https://plot.ly"
       },
       "data": [
        {
         "cliponaxis": false,
         "hovertemplate": [
          "classifier (CategoricalDistribution): 1.0<extra></extra>"
         ],
         "name": "Objective Value",
         "orientation": "h",
         "text": [
          "1.00"
         ],
         "textposition": "outside",
         "type": "bar",
         "x": [
          1
         ],
         "y": [
          "classifier"
         ]
        }
       ],
       "layout": {
        "template": {
         "data": {
          "bar": [
           {
            "error_x": {
             "color": "#2a3f5f"
            },
            "error_y": {
             "color": "#2a3f5f"
            },
            "marker": {
             "line": {
              "color": "#E5ECF6",
              "width": 0.5
             },
             "pattern": {
              "fillmode": "overlay",
              "size": 10,
              "solidity": 0.2
             }
            },
            "type": "bar"
           }
          ],
          "barpolar": [
           {
            "marker": {
             "line": {
              "color": "#E5ECF6",
              "width": 0.5
             },
             "pattern": {
              "fillmode": "overlay",
              "size": 10,
              "solidity": 0.2
             }
            },
            "type": "barpolar"
           }
          ],
          "carpet": [
           {
            "aaxis": {
             "endlinecolor": "#2a3f5f",
             "gridcolor": "white",
             "linecolor": "white",
             "minorgridcolor": "white",
             "startlinecolor": "#2a3f5f"
            },
            "baxis": {
             "endlinecolor": "#2a3f5f",
             "gridcolor": "white",
             "linecolor": "white",
             "minorgridcolor": "white",
             "startlinecolor": "#2a3f5f"
            },
            "type": "carpet"
           }
          ],
          "choropleth": [
           {
            "colorbar": {
             "outlinewidth": 0,
             "ticks": ""
            },
            "type": "choropleth"
           }
          ],
          "contour": [
           {
            "colorbar": {
             "outlinewidth": 0,
             "ticks": ""
            },
            "colorscale": [
             [
              0,
              "#0d0887"
             ],
             [
              0.1111111111111111,
              "#46039f"
             ],
             [
              0.2222222222222222,
              "#7201a8"
             ],
             [
              0.3333333333333333,
              "#9c179e"
             ],
             [
              0.4444444444444444,
              "#bd3786"
             ],
             [
              0.5555555555555556,
              "#d8576b"
             ],
             [
              0.6666666666666666,
              "#ed7953"
             ],
             [
              0.7777777777777778,
              "#fb9f3a"
             ],
             [
              0.8888888888888888,
              "#fdca26"
             ],
             [
              1,
              "#f0f921"
             ]
            ],
            "type": "contour"
           }
          ],
          "contourcarpet": [
           {
            "colorbar": {
             "outlinewidth": 0,
             "ticks": ""
            },
            "type": "contourcarpet"
           }
          ],
          "heatmap": [
           {
            "colorbar": {
             "outlinewidth": 0,
             "ticks": ""
            },
            "colorscale": [
             [
              0,
              "#0d0887"
             ],
             [
              0.1111111111111111,
              "#46039f"
             ],
             [
              0.2222222222222222,
              "#7201a8"
             ],
             [
              0.3333333333333333,
              "#9c179e"
             ],
             [
              0.4444444444444444,
              "#bd3786"
             ],
             [
              0.5555555555555556,
              "#d8576b"
             ],
             [
              0.6666666666666666,
              "#ed7953"
             ],
             [
              0.7777777777777778,
              "#fb9f3a"
             ],
             [
              0.8888888888888888,
              "#fdca26"
             ],
             [
              1,
              "#f0f921"
             ]
            ],
            "type": "heatmap"
           }
          ],
          "heatmapgl": [
           {
            "colorbar": {
             "outlinewidth": 0,
             "ticks": ""
            },
            "colorscale": [
             [
              0,
              "#0d0887"
             ],
             [
              0.1111111111111111,
              "#46039f"
             ],
             [
              0.2222222222222222,
              "#7201a8"
             ],
             [
              0.3333333333333333,
              "#9c179e"
             ],
             [
              0.4444444444444444,
              "#bd3786"
             ],
             [
              0.5555555555555556,
              "#d8576b"
             ],
             [
              0.6666666666666666,
              "#ed7953"
             ],
             [
              0.7777777777777778,
              "#fb9f3a"
             ],
             [
              0.8888888888888888,
              "#fdca26"
             ],
             [
              1,
              "#f0f921"
             ]
            ],
            "type": "heatmapgl"
           }
          ],
          "histogram": [
           {
            "marker": {
             "pattern": {
              "fillmode": "overlay",
              "size": 10,
              "solidity": 0.2
             }
            },
            "type": "histogram"
           }
          ],
          "histogram2d": [
           {
            "colorbar": {
             "outlinewidth": 0,
             "ticks": ""
            },
            "colorscale": [
             [
              0,
              "#0d0887"
             ],
             [
              0.1111111111111111,
              "#46039f"
             ],
             [
              0.2222222222222222,
              "#7201a8"
             ],
             [
              0.3333333333333333,
              "#9c179e"
             ],
             [
              0.4444444444444444,
              "#bd3786"
             ],
             [
              0.5555555555555556,
              "#d8576b"
             ],
             [
              0.6666666666666666,
              "#ed7953"
             ],
             [
              0.7777777777777778,
              "#fb9f3a"
             ],
             [
              0.8888888888888888,
              "#fdca26"
             ],
             [
              1,
              "#f0f921"
             ]
            ],
            "type": "histogram2d"
           }
          ],
          "histogram2dcontour": [
           {
            "colorbar": {
             "outlinewidth": 0,
             "ticks": ""
            },
            "colorscale": [
             [
              0,
              "#0d0887"
             ],
             [
              0.1111111111111111,
              "#46039f"
             ],
             [
              0.2222222222222222,
              "#7201a8"
             ],
             [
              0.3333333333333333,
              "#9c179e"
             ],
             [
              0.4444444444444444,
              "#bd3786"
             ],
             [
              0.5555555555555556,
              "#d8576b"
             ],
             [
              0.6666666666666666,
              "#ed7953"
             ],
             [
              0.7777777777777778,
              "#fb9f3a"
             ],
             [
              0.8888888888888888,
              "#fdca26"
             ],
             [
              1,
              "#f0f921"
             ]
            ],
            "type": "histogram2dcontour"
           }
          ],
          "mesh3d": [
           {
            "colorbar": {
             "outlinewidth": 0,
             "ticks": ""
            },
            "type": "mesh3d"
           }
          ],
          "parcoords": [
           {
            "line": {
             "colorbar": {
              "outlinewidth": 0,
              "ticks": ""
             }
            },
            "type": "parcoords"
           }
          ],
          "pie": [
           {
            "automargin": true,
            "type": "pie"
           }
          ],
          "scatter": [
           {
            "fillpattern": {
             "fillmode": "overlay",
             "size": 10,
             "solidity": 0.2
            },
            "type": "scatter"
           }
          ],
          "scatter3d": [
           {
            "line": {
             "colorbar": {
              "outlinewidth": 0,
              "ticks": ""
             }
            },
            "marker": {
             "colorbar": {
              "outlinewidth": 0,
              "ticks": ""
             }
            },
            "type": "scatter3d"
           }
          ],
          "scattercarpet": [
           {
            "marker": {
             "colorbar": {
              "outlinewidth": 0,
              "ticks": ""
             }
            },
            "type": "scattercarpet"
           }
          ],
          "scattergeo": [
           {
            "marker": {
             "colorbar": {
              "outlinewidth": 0,
              "ticks": ""
             }
            },
            "type": "scattergeo"
           }
          ],
          "scattergl": [
           {
            "marker": {
             "colorbar": {
              "outlinewidth": 0,
              "ticks": ""
             }
            },
            "type": "scattergl"
           }
          ],
          "scattermapbox": [
           {
            "marker": {
             "colorbar": {
              "outlinewidth": 0,
              "ticks": ""
             }
            },
            "type": "scattermapbox"
           }
          ],
          "scatterpolar": [
           {
            "marker": {
             "colorbar": {
              "outlinewidth": 0,
              "ticks": ""
             }
            },
            "type": "scatterpolar"
           }
          ],
          "scatterpolargl": [
           {
            "marker": {
             "colorbar": {
              "outlinewidth": 0,
              "ticks": ""
             }
            },
            "type": "scatterpolargl"
           }
          ],
          "scatterternary": [
           {
            "marker": {
             "colorbar": {
              "outlinewidth": 0,
              "ticks": ""
             }
            },
            "type": "scatterternary"
           }
          ],
          "surface": [
           {
            "colorbar": {
             "outlinewidth": 0,
             "ticks": ""
            },
            "colorscale": [
             [
              0,
              "#0d0887"
             ],
             [
              0.1111111111111111,
              "#46039f"
             ],
             [
              0.2222222222222222,
              "#7201a8"
             ],
             [
              0.3333333333333333,
              "#9c179e"
             ],
             [
              0.4444444444444444,
              "#bd3786"
             ],
             [
              0.5555555555555556,
              "#d8576b"
             ],
             [
              0.6666666666666666,
              "#ed7953"
             ],
             [
              0.7777777777777778,
              "#fb9f3a"
             ],
             [
              0.8888888888888888,
              "#fdca26"
             ],
             [
              1,
              "#f0f921"
             ]
            ],
            "type": "surface"
           }
          ],
          "table": [
           {
            "cells": {
             "fill": {
              "color": "#EBF0F8"
             },
             "line": {
              "color": "white"
             }
            },
            "header": {
             "fill": {
              "color": "#C8D4E3"
             },
             "line": {
              "color": "white"
             }
            },
            "type": "table"
           }
          ]
         },
         "layout": {
          "annotationdefaults": {
           "arrowcolor": "#2a3f5f",
           "arrowhead": 0,
           "arrowwidth": 1
          },
          "autotypenumbers": "strict",
          "coloraxis": {
           "colorbar": {
            "outlinewidth": 0,
            "ticks": ""
           }
          },
          "colorscale": {
           "diverging": [
            [
             0,
             "#8e0152"
            ],
            [
             0.1,
             "#c51b7d"
            ],
            [
             0.2,
             "#de77ae"
            ],
            [
             0.3,
             "#f1b6da"
            ],
            [
             0.4,
             "#fde0ef"
            ],
            [
             0.5,
             "#f7f7f7"
            ],
            [
             0.6,
             "#e6f5d0"
            ],
            [
             0.7,
             "#b8e186"
            ],
            [
             0.8,
             "#7fbc41"
            ],
            [
             0.9,
             "#4d9221"
            ],
            [
             1,
             "#276419"
            ]
           ],
           "sequential": [
            [
             0,
             "#0d0887"
            ],
            [
             0.1111111111111111,
             "#46039f"
            ],
            [
             0.2222222222222222,
             "#7201a8"
            ],
            [
             0.3333333333333333,
             "#9c179e"
            ],
            [
             0.4444444444444444,
             "#bd3786"
            ],
            [
             0.5555555555555556,
             "#d8576b"
            ],
            [
             0.6666666666666666,
             "#ed7953"
            ],
            [
             0.7777777777777778,
             "#fb9f3a"
            ],
            [
             0.8888888888888888,
             "#fdca26"
            ],
            [
             1,
             "#f0f921"
            ]
           ],
           "sequentialminus": [
            [
             0,
             "#0d0887"
            ],
            [
             0.1111111111111111,
             "#46039f"
            ],
            [
             0.2222222222222222,
             "#7201a8"
            ],
            [
             0.3333333333333333,
             "#9c179e"
            ],
            [
             0.4444444444444444,
             "#bd3786"
            ],
            [
             0.5555555555555556,
             "#d8576b"
            ],
            [
             0.6666666666666666,
             "#ed7953"
            ],
            [
             0.7777777777777778,
             "#fb9f3a"
            ],
            [
             0.8888888888888888,
             "#fdca26"
            ],
            [
             1,
             "#f0f921"
            ]
           ]
          },
          "colorway": [
           "#636efa",
           "#EF553B",
           "#00cc96",
           "#ab63fa",
           "#FFA15A",
           "#19d3f3",
           "#FF6692",
           "#B6E880",
           "#FF97FF",
           "#FECB52"
          ],
          "font": {
           "color": "#2a3f5f"
          },
          "geo": {
           "bgcolor": "white",
           "lakecolor": "white",
           "landcolor": "#E5ECF6",
           "showlakes": true,
           "showland": true,
           "subunitcolor": "white"
          },
          "hoverlabel": {
           "align": "left"
          },
          "hovermode": "closest",
          "mapbox": {
           "style": "light"
          },
          "paper_bgcolor": "white",
          "plot_bgcolor": "#E5ECF6",
          "polar": {
           "angularaxis": {
            "gridcolor": "white",
            "linecolor": "white",
            "ticks": ""
           },
           "bgcolor": "#E5ECF6",
           "radialaxis": {
            "gridcolor": "white",
            "linecolor": "white",
            "ticks": ""
           }
          },
          "scene": {
           "xaxis": {
            "backgroundcolor": "#E5ECF6",
            "gridcolor": "white",
            "gridwidth": 2,
            "linecolor": "white",
            "showbackground": true,
            "ticks": "",
            "zerolinecolor": "white"
           },
           "yaxis": {
            "backgroundcolor": "#E5ECF6",
            "gridcolor": "white",
            "gridwidth": 2,
            "linecolor": "white",
            "showbackground": true,
            "ticks": "",
            "zerolinecolor": "white"
           },
           "zaxis": {
            "backgroundcolor": "#E5ECF6",
            "gridcolor": "white",
            "gridwidth": 2,
            "linecolor": "white",
            "showbackground": true,
            "ticks": "",
            "zerolinecolor": "white"
           }
          },
          "shapedefaults": {
           "line": {
            "color": "#2a3f5f"
           }
          },
          "ternary": {
           "aaxis": {
            "gridcolor": "white",
            "linecolor": "white",
            "ticks": ""
           },
           "baxis": {
            "gridcolor": "white",
            "linecolor": "white",
            "ticks": ""
           },
           "bgcolor": "#E5ECF6",
           "caxis": {
            "gridcolor": "white",
            "linecolor": "white",
            "ticks": ""
           }
          },
          "title": {
           "x": 0.05
          },
          "xaxis": {
           "automargin": true,
           "gridcolor": "white",
           "linecolor": "white",
           "ticks": "",
           "title": {
            "standoff": 15
           },
           "zerolinecolor": "white",
           "zerolinewidth": 2
          },
          "yaxis": {
           "automargin": true,
           "gridcolor": "white",
           "linecolor": "white",
           "ticks": "",
           "title": {
            "standoff": 15
           },
           "zerolinecolor": "white",
           "zerolinewidth": 2
          }
         }
        },
        "title": {
         "text": "Hyperparameter Importances"
        },
        "xaxis": {
         "title": {
          "text": "Hyperparameter Importance"
         }
        },
        "yaxis": {
         "title": {
          "text": "Hyperparameter"
         }
        }
       }
      }
     },
     "metadata": {},
     "output_type": "display_data"
    }
   ],
   "source": [
    "# 5. Hyperparameter Importance\n",
    "plot_param_importances(study).show()"
   ]
  },
  {
   "cell_type": "code",
   "execution_count": null,
   "metadata": {},
   "outputs": [],
   "source": []
  },
  {
   "cell_type": "code",
   "execution_count": null,
   "metadata": {},
   "outputs": [],
   "source": []
  },
  {
   "cell_type": "code",
   "execution_count": null,
   "metadata": {},
   "outputs": [],
   "source": []
  }
 ],
 "metadata": {
  "kernelspec": {
   "display_name": ".venv",
   "language": "python",
   "name": "python3"
  },
  "language_info": {
   "codemirror_mode": {
    "name": "ipython",
    "version": 3
   },
   "file_extension": ".py",
   "mimetype": "text/x-python",
   "name": "python",
   "nbconvert_exporter": "python",
   "pygments_lexer": "ipython3",
   "version": "3.11.1"
  }
 },
 "nbformat": 4,
 "nbformat_minor": 2
}
